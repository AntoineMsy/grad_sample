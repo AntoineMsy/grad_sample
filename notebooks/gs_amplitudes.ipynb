{
 "cells": [
  {
   "cell_type": "code",
   "execution_count": 1,
   "metadata": {},
   "outputs": [],
   "source": [
    "import jax.numpy as jnp\n",
    "# import netket_pro as nkp\n",
    "import matplotlib.pyplot as plt\n",
    "import os\n",
    "import netket as nk\n",
    "os.environ[\"CUDA_VISIBLE_DEVICES\"] = \"6\"\n",
    "from scipy.sparse.linalg import eigsh\n",
    "from grad_sample.models.system.system import Square_Heisenberg\n",
    "from grad_sample.models.heisenberg import XXZ\n",
    "from grad_sample.utils.plotting_setup import *"
   ]
  },
  {
   "cell_type": "code",
   "execution_count": 2,
   "metadata": {},
   "outputs": [],
   "source": [
    "H_heisenberg = Square_Heisenberg(J = [1.0],\n",
    "L=4,\n",
    "sign_rule=[0.0]).hamiltonian.to_sparse()\n",
    "\n",
    "H_j1j2 = lambda j2 : Square_Heisenberg(J = [1.0, j2],\n",
    "L=4,\n",
    "sign_rule=[0.0, 0.0]).hamiltonian.to_sparse()"
   ]
  },
  {
   "cell_type": "code",
   "execution_count": 3,
   "metadata": {},
   "outputs": [
    {
     "name": "stdout",
     "output_type": "stream",
     "text": [
      "converged SCF energy = -107.498967544584\n",
      "Hartree-Fock Energy: -107.498968 Ha\n",
      "FCI Ground State Energy: -107.660206 Ha\n"
     ]
    }
   ],
   "source": [
    "import pubchempy as pcp\n",
    "from pyscf import gto, scf, fci, cc, mcscf\n",
    "\n",
    "# 1. Load the N2 molecule from PubChem (3D structure)\n",
    "cid = 947  # N2 molecule\n",
    "compound = pcp.get_compounds(cid, \"cid\", record_type=\"3d\")[0]\n",
    "\n",
    "# 2. Extract atomic coordinates\n",
    "geometry = []\n",
    "for atom in compound.atoms:\n",
    "    symbol = atom.element\n",
    "    x, y, z = atom.x, atom.y, atom.z\n",
    "    geometry.append(f\"{symbol} {x} {y} {z}\")\n",
    "\n",
    "# Convert to PySCF format\n",
    "mol_geometry = \"\\n\".join(geometry)\n",
    "\n",
    "# 3. Define the molecule in PySCF\n",
    "mol = gto.Mole()\n",
    "mol.atom = mol_geometry\n",
    "mol.basis = \"STO-3G\"  # Choose a reasonable basis set\n",
    "mol.unit = \"angstrom\"  # Coordinates are in Ångströms\n",
    "mol.spin = 0  # N2 is a singlet\n",
    "mol.charge = 0\n",
    "mol.build()\n",
    "\n",
    "# 4. Run Hartree-Fock calculation\n",
    "mf = scf.RHF(mol)\n",
    "mf.kernel()\n",
    "\n",
    "# 5. Compute Full Configuration Interaction (FCI) energy\n",
    "cisolver = fci.FCI(mol, mf.mo_coeff)\n",
    "E0 = cisolver.kernel()[0]\n",
    "\n",
    "# Print results\n",
    "print(f\"Hartree-Fock Energy: {mf.e_tot:.6f} Ha\")\n",
    "print(f\"FCI Ground State Energy: {E0:.6f} Ha\")"
   ]
  },
  {
   "cell_type": "code",
   "execution_count": 4,
   "metadata": {},
   "outputs": [
    {
     "name": "stdout",
     "output_type": "stream",
     "text": [
      "converged SCF energy = -107.498967544584\n",
      "E(CCSD) = -107.6560799973304  E_corr = -0.1571124527464685\n"
     ]
    }
   ],
   "source": [
    "import netket.experimental as nkx\n",
    "from netket_pro.operator import ParticleNumberConservingFermioperator2ndSpinJax\n",
    "mf = scf.RHF(mol).run()  \n",
    "ccsd = cc.ccsd.CCSD(mf).run()\n",
    "nat_orbs = mcscf.addons.make_natural_orbitals(ccsd)\n",
    "# use the boys orbitals to construct the netket hamiltonian\n",
    "# natorbital hamiltonian\n",
    "ha_pyscf = nkx.operator.from_pyscf_molecule(mol, mo_coeff=nat_orbs[1]).to_jax_operator()\n",
    "ha_natorb = ParticleNumberConservingFermioperator2ndSpinJax.from_fermiop(ha_pyscf)\n",
    "# E0, gs = nk.exact.lanczos_ed(ha_def, compute_eigenvectors=True)"
   ]
  },
  {
   "cell_type": "code",
   "execution_count": 5,
   "metadata": {},
   "outputs": [],
   "source": [
    "# from functools import lru_cache\n",
    "# from functools import cache\n",
    "# ha_pyscf = nkx.operator.from_pyscf_molecule(mol, mo_coeff=nat_orbs[1]).to_jax_operator()\n",
    "# ha_natorb = ParticleNumberConservingFermioperator2ndSpinJax.from_fermiop(ha_pyscf)\n",
    "\n",
    "# @lru_cache(5)\n",
    "# def sparsify(Ô):\n",
    "#     \"\"\"\n",
    "#     Converts to sparse but also cache the sparsificated result to speed up.\n",
    "#     \"\"\"\n",
    "#     return Ô.to_sparse()\n",
    "\n",
    "# sparsify(ha_natorb)\n"
   ]
  },
  {
   "cell_type": "code",
   "execution_count": 6,
   "metadata": {},
   "outputs": [],
   "source": [
    "def ipr(gs):\n",
    "    return jnp.sum(gs**4)"
   ]
  },
  {
   "cell_type": "code",
   "execution_count": 7,
   "metadata": {},
   "outputs": [],
   "source": [
    "from flax import nnx\n",
    "from netket.utils.types import NNInitFunc\n",
    "from netket.nn.masked_linear import default_kernel_init\n",
    "from typing import Any, Callable, Sequence\n",
    "from functools import partial\n",
    "import jax\n",
    "DType = Any\n",
    "\n",
    "class LogNeuralJastrowSlater(nnx.Module):\n",
    "    hilbert: nk.hilbert.SpinOrbitalFermions\n",
    "\n",
    "    def __init__(self, hilbert, jastrow_hidden_units: int=64, kernel_init=default_kernel_init, param_dtype=float, *, rngs: nnx.Rngs):\n",
    "        self.hilbert = hilbert\n",
    "        # To generate random numbers we need to extract the key from the `rngs` object.\n",
    "        key = rngs.params()\n",
    "\n",
    "        # the N x Nf matrix of the orbitals\n",
    "        self.M = nnx.Param(kernel_init(key, (2*self.hilbert.n_orbitals, self.hilbert.n_fermions,), param_dtype))\n",
    "\n",
    "        # The Neural Jastrow wf\n",
    "        self.jastrow_linear = nnx.Linear(in_features=2*self.hilbert.n_orbitals, out_features=jastrow_hidden_units, param_dtype=param_dtype, rngs=rngs)\n",
    "        # self.jastrow_hidden = nnx.Linear(in_features=jastrow_hidden_units, out_features=jastrow_hidden_units, param_dtype=param_dtype, rngs=rngs)\n",
    "        \n",
    "    def __call__(self, n: jax.Array) -> jax.Array:\n",
    "        # For simplicity, we write a function that operates on a single configuration of size (N,)\n",
    "        # and we vectorize it using `jnp.vectorize` with the signature='(n)->()' argument, which specifies\n",
    "        # that the function is defined to operate on arrays of shape (n,) and return scalars.\n",
    "        @partial(jnp.vectorize, signature='(n)->()')\n",
    "        def log_sd(n):\n",
    "            #Construct the Neural Jastrow\n",
    "            J = self.jastrow_linear(n)\n",
    "            J = jax.nn.tanh(J)\n",
    "            # J = self.jastrow_hidden(J)\n",
    "            # J = jax.nn.relu(J)\n",
    "            J = J.sum()\n",
    "\n",
    "            # Construct the slater determinant \n",
    "            R = n.nonzero(size=self.hilbert.n_fermions)[0]\n",
    "            # Extract from the (N, Nf) matrix the (Nf, Nf) submatrix of M corresponding to the occupied orbitals.\n",
    "            A = self.M[R]\n",
    "            log_slater = nk.jax.logdet_cmplx(A)\n",
    "\n",
    "            # Multiply log slater with the jastrow (and since we are working in log space, this becomes a sum)\n",
    "            return log_slater + J\n",
    "\n",
    "        return log_sd(n)"
   ]
  },
  {
   "cell_type": "code",
   "execution_count": 8,
   "metadata": {},
   "outputs": [],
   "source": [
    "class LogNeuralBackflow(nnx.Module):\n",
    "    hilbert: nk.hilbert.SpinOrbitalFermions\n",
    "\n",
    "    def __init__(self, hilbert, hidden_units: int, kernel_init=default_kernel_init, param_dtype=float, *, rngs: nnx.Rngs):\n",
    "        self.hilbert = hilbert\n",
    "\n",
    "        # To generate random numbers we need to extract the key from the `rngs` object.\n",
    "        key = rngs.params()\n",
    "\n",
    "        # the N x Nf matrix of the orbitals\n",
    "        self.M = nnx.Param(kernel_init(key, (2*self.hilbert.n_orbitals, self.hilbert.n_fermions,), param_dtype))\n",
    "\n",
    "        # Construct the Backflow. Takes as input strings of $N$ occupation numbers, outputs an $N x Nf$ matrix\n",
    "        # that modifies the bare orbitals.\n",
    "        self.backflow = nnx.Sequential(\n",
    "            # First layer, input (..., N,) output (..., hidden_units)\n",
    "            nnx.Linear(in_features=hilbert.size, out_features=hidden_units, param_dtype=param_dtype, rngs=rngs),\n",
    "            nnx.tanh,\n",
    "            # Two hidden layers like original paper\n",
    "            # nnx.Linear(in_features=hidden_units, out_features=hidden_units, param_dtype=param_dtype, rngs=rngs),\n",
    "            # nnx.relu,\n",
    "            # nnx.Linear(in_features=hidden_units, out_features=hidden_units, param_dtype=param_dtype, rngs=rngs),\n",
    "            # nnx.relu,\n",
    "\n",
    "            # Last layer, input (..., hidden_units,) output (..., N x Nf)\n",
    "            nnx.Linear(in_features=hidden_units, out_features=2*hilbert.n_orbitals*hilbert.n_fermions, param_dtype=param_dtype, rngs=rngs),\n",
    "            # Reshape into the orbital shape, (..., N, Nf)\n",
    "            lambda x: x.reshape(x.shape[:-1] + (2 * hilbert.n_orbitals, hilbert.n_fermions))\n",
    "        )\n",
    "\n",
    "    def __call__(self, n: jax.Array) -> jax.Array:\n",
    "        # For simplicity, we write a function that operates on a single configuration of size (N,)\n",
    "        # and we vectorize it using `jnp.vectorize` with the signature='(n)->()' argument, which specifies\n",
    "        # that the function is defined to operate on arrays of shape (n,) and return scalars.\n",
    "        @partial(jnp.vectorize, signature='(n)->()')\n",
    "        def log_sd(n):\n",
    "            # Construct the Backflow. Takes as input strings of $N$ occupation numbers, outputs an $N x Nf$ matrix\n",
    "            # that modifies the bare orbitals.\n",
    "            F = self.backflow(n)\n",
    "            # Add the backflow correction to the bare orbitals\n",
    "            M = self.M + F\n",
    "            \n",
    "            # Find the positions of the occupied, backflow-modified orbitals\n",
    "            R = n.nonzero(size=self.hilbert.n_fermions)[0]\n",
    "            A = M[R]\n",
    "            return nk.jax.logdet_cmplx(A)\n",
    "\n",
    "        return log_sd(n)"
   ]
  },
  {
   "cell_type": "code",
   "execution_count": 9,
   "metadata": {},
   "outputs": [],
   "source": [
    "import flax.linen as nn\n",
    "import netket as nk\n",
    "import jax.numpy as jnp\n",
    "from netket.nn.masked_linear import default_kernel_init\n",
    "from typing import Any\n",
    "import jax\n",
    "\n",
    "DType = Any\n",
    "\n",
    "class LogNeuralBackflow(nn.Module):\n",
    "    hilbert: nk.hilbert.SpinOrbitalFermions\n",
    "    hidden_units: int\n",
    "    kernel_init: Any = default_kernel_init\n",
    "    param_dtype: Any = jnp.float32\n",
    "\n",
    "    def setup(self):\n",
    "        \"\"\"Initialize model parameters.\"\"\"\n",
    "        # The N x Nf matrix of the orbitals\n",
    "        self.M = self.param(\n",
    "            \"M\", self.kernel_init, \n",
    "            (2 * self.hilbert.n_orbitals, self.hilbert.n_fermions), \n",
    "            self.param_dtype\n",
    "        )\n",
    "\n",
    "        # Construct the Backflow: Takes (N,) occupation numbers -> (N, Nf) orbital transformation matrix\n",
    "        self.backflow = nn.Sequential([\n",
    "            nn.Dense(features=self.hidden_units, param_dtype=self.param_dtype),\n",
    "            nn.tanh,\n",
    "            nn.Dense(features=2 * self.hilbert.n_orbitals * self.hilbert.n_fermions, param_dtype=self.param_dtype),\n",
    "            lambda x: x.reshape(x.shape[:-1] + (2 * self.hilbert.n_orbitals, self.hilbert.n_fermions))\n",
    "        ])\n",
    "\n",
    "    def log_sd(self, n: jax.Array) -> jax.Array:\n",
    "        \"\"\"Compute the log of the Slater determinant with backflow for a single input sample.\"\"\"\n",
    "        # Compute backflow correction\n",
    "        F = self.backflow(n)\n",
    "        M = self.M + F\n",
    "\n",
    "        # Find occupied orbitals\n",
    "        R = n.nonzero(size=self.hilbert.n_fermions)[0]\n",
    "        A = M[R]\n",
    "        return nk.jax.logdet_cmplx(A)\n",
    "\n",
    "    def __call__(self, n: jax.Array) -> jax.Array:\n",
    "        \"\"\"Vectorized computation over batches.\"\"\"\n",
    "        return jax.vmap(self.log_sd)(n)"
   ]
  },
  {
   "cell_type": "code",
   "execution_count": 10,
   "metadata": {},
   "outputs": [],
   "source": [
    "# Number of spatial orbitals\n",
    "N_orbitals = ha_natorb.hilbert.n_orbitals # Assume hilbert.size counts spin-orbitals\n",
    "\n",
    "# Total number of nodes (each orbital has two spin states)\n",
    "N_sites = N_orbitals  \n",
    "\n",
    "edges = []\n",
    "\n",
    "# Add horizontal edges (ladder rungs connecting spin-up and spin-down of same orbital)\n",
    "for i in range(N_orbitals):\n",
    "    edges.append((i, i + N_orbitals))  # Connect spin-up (i) to spin-down (i + N_orbitals)\n",
    "\n",
    "# Add vertical edges (along spin-up and spin-down chains separately)\n",
    "for i in range(N_orbitals - 1):\n",
    "    edges.append((i, i + 1))  # Spin-up chain\n",
    "    edges.append((i + N_orbitals, i + 1 + N_orbitals))  # Spin-down chain\n",
    "\n",
    "# Create a ladder graph\n",
    "graph = nk.graph.Graph(edges=edges)\n",
    "g = nk.graph.Chain(ha_natorb.hilbert.n_orbitals, pbc=False)\n",
    "exchange_graph = nk.graph.disjoint_union(g, g)"
   ]
  },
  {
   "cell_type": "code",
   "execution_count": 11,
   "metadata": {},
   "outputs": [
    {
     "data": {
      "text/plain": [
       "14400"
      ]
     },
     "execution_count": 11,
     "metadata": {},
     "output_type": "execute_result"
    }
   ],
   "source": [
    "ha_natorb.hilbert.n_states"
   ]
  },
  {
   "cell_type": "code",
   "execution_count": 12,
   "metadata": {},
   "outputs": [],
   "source": [
    "from netket.vqs import FullSumState\n",
    "import copy\n",
    "import netket.jax as nkjax\n",
    "def compute_snr_callback(step, logdata, driver, fs_state:FullSumState):\n",
    "    # estimate local grad\n",
    "    if step % 10 == 0:\n",
    "        # fs_state = FullSumState(hilbert = driver.state.hilbert, model = driver.state.model, chunk_size=None, seed=0)\n",
    "        fs_state.variables = copy.deepcopy(driver.state.variables)\n",
    "        pdf = fs_state.probability_distribution()\n",
    "        vstate_arr = fs_state.to_array()\n",
    "        H_sp = driver._ham.to_sparse()\n",
    "        Hloc = H_sp @ vstate_arr / vstate_arr\n",
    "        Hloc_c = (Hloc - jnp.sum(Hloc*pdf))\n",
    "        mode = \"complex\"\n",
    "        # uncentered jacobian\n",
    "        jacobian_orig = nkjax.jacobian(\n",
    "            fs_state._apply_fun,\n",
    "            fs_state.parameters,\n",
    "            fs_state.hilbert.all_states(), #in MC state, this is vstate.samples\n",
    "            fs_state.model_state,\n",
    "            pdf=pdf,\n",
    "            mode=mode,\n",
    "            dense=True,\n",
    "            center=False,\n",
    "            chunk_size=10,\n",
    "            _sqrt_rescale=False, #(not) rescaled by sqrt[π(x)], but in MC this rescales by 1/sqrt[N_mc]\n",
    "        )\n",
    "\n",
    "        # (#ns, 2) -> (#ns*2)\n",
    "        Hloc_2 = jnp.stack([jnp.real(Hloc_c), jnp.imag(Hloc_c)], axis=-1)\n",
    "        Hloc_c = jax.lax.collapse(Hloc_2, 0, 2)\n",
    "        jacobian_orig_c = jacobian_orig - jnp.sum(jacobian_orig*jnp.expand_dims(pdf, range(len(jacobian_orig.shape))[1:]),axis=0)\n",
    "        jacobian_orig_c = jax.lax.collapse(jacobian_orig_c, 0, 2)\n",
    "        loc_grad_v = jacobian_orig_c.T * Hloc_c\n",
    "        loc_grad_v = loc_grad_v[:, ::2] + loc_grad_v[:, 1::2]\n",
    "        \n",
    "        # print(loc_grad_v.shape)\n",
    "        # n_p = loc_grad_v.shape[0]//2\n",
    "        # print(loc_grad_v_holo - (loc_grad_v[:n_p,:] + 1j* loc_grad_v[n_p:,:]))\n",
    "\n",
    "\n",
    "        mean_grad_unc = jnp.sum(jnp.abs(pdf * loc_grad_v), axis=0) / jnp.sum(jnp.abs(pdf * loc_grad_v))\n",
    "        \n",
    "        def unnorm_pdf(alpha):\n",
    "            return (jnp.abs(vstate_arr)**alpha)\n",
    "        \n",
    "        def compute_snr(q):\n",
    "            q_pdf = q / jnp.sum(q)\n",
    "            w_mean = jnp.sum(q_pdf * unnorm_pdf(2.0)/q)**2\n",
    "            v = jnp.sum(q_pdf * (unnorm_pdf(2.0)/q)**2 * jnp.abs(loc_grad_v - jnp.sum(pdf * loc_grad_v, axis=1)[:, None])**2, axis=1)/w_mean\n",
    "            return jnp.mean(jnp.abs(jnp.sum(pdf * loc_grad_v, axis = 1)) / jnp.sqrt(v))\n",
    "        \n",
    "        a_vals = jnp.linspace(0,2,50)\n",
    "        snr_a = jnp.array([compute_snr(unnorm_pdf(a)) for a in a_vals])\n",
    "        argmax_index = jnp.argmax(snr_a)\n",
    "        argmax_a = a_vals[argmax_index]\n",
    "        # print(jnp.mean(unnorm_pdf(2.0) * jnp.abs(loc_grad_v), axis=0).shape)\n",
    "        snr_grad = compute_snr(jnp.mean(unnorm_pdf(2.0) * jnp.abs(loc_grad_v), axis=0))\n",
    "        \n",
    "        logdata['snr_a'] = snr_a\n",
    "        logdata['snr_grad'] = snr_grad\n",
    "        logdata['max_snr_a'] = max(snr_a)\n",
    "        logdata['argmax_snr_a'] = argmax_a\n",
    "        logdata['snr_psi_sq'] = compute_snr(unnorm_pdf(2.0))\n",
    "        # logdata['snr_hpsi'] = compute_snr(jnp.abs(driver._ham @ vstate_arr))\n",
    "        logdata['grad_mag'] = jnp.mean(jnp.abs(loc_grad_v), axis=0)\n",
    "    return True\n",
    "        "
   ]
  },
  {
   "cell_type": "code",
   "execution_count": null,
   "metadata": {},
   "outputs": [
    {
     "name": "stderr",
     "output_type": "stream",
     "text": [
      "/scratch/.amisery/netket2/lib/python3.11/site-packages/netket/vqs/full_summ/state.py:261: UserWarning: For performance reasons, we suggest to use a power-of-two chunk size.\n",
      "  warnings.warn(\n"
     ]
    }
   ],
   "source": [
    "# Create a Neural Jastrow Slater wave function \n",
    "import auto_importance as advd\n",
    "import optax\n",
    "from grad_sample.utils.utils import save_rel_err_fs\n",
    "from functools import partial\n",
    "model = LogNeuralBackflow(ha_natorb.hilbert, hidden_units=16)\n",
    "\n",
    "# Define a Metropolis exchange sampler\n",
    "sa = nk.sampler.MetropolisFermionHop(ha_natorb.hilbert, graph=exchange_graph)\n",
    "lr_schedule = optax.cosine_decay_schedule(\n",
    "                                        init_value=0.1,\n",
    "                                        decay_steps=300,\n",
    "                                        alpha=0.1\n",
    "                                        )\n",
    "opt = nk.optimizer.Sgd(learning_rate=0.022 )\n",
    "# Create a variational state\n",
    "sa_exact = nk.sampler.ExactSampler(ha_natorb.hilbert)\n",
    "vstate = nk.vqs.MCState(sa_exact, model, n_samples=2**9, chunk_size=2**12)\n",
    "is_distrib = advd.driver.overdispersed_distribution(0.75)\n",
    "\n",
    "gs = advd.driver.VMC_NG(ha_natorb.to_jax_operator(),\n",
    "            opt,\n",
    "            sampling_distribution=is_distrib,\n",
    "            variational_state=vstate,\n",
    "            diag_shift=1e-4,\n",
    "            auto_is=False,\n",
    "            use_ntk=True,\n",
    "            on_the_fly=False)\n",
    "\n",
    "diag_shift_sch = optax.linear_schedule(\n",
    "                                    init_value=1e-4,\n",
    "                                    transition_steps=400,\n",
    "                                    end_value=1e-6\n",
    "                                    )\n",
    "\n",
    "sr = nk.optimizer.SR(qgt=nk.optimizer.qgt.QGTJacobianDense, \n",
    "                            solver=nk.optimizer.solver.cholesky, \n",
    "                            diag_shift=diag_shift_sch, \n",
    "                            holomorphic = False,\n",
    "                            )\n",
    "\n",
    "vstate_fs = nk.vqs.FullSumState(hilbert = ha_natorb.hilbert, model=model, chunk_size=600)\n",
    "\n",
    "save_rel_err_cb = partial(save_rel_err_fs, \n",
    "                                           e_gs = E0, \n",
    "                                           fs_state = vstate_fs, \n",
    "                                           save_every=10, \n",
    "                            )\n",
    "snr_cb = partial(compute_snr_callback, fs_state=vstate_fs)\n",
    "\n",
    "gs_fs = nk.driver.VMC(ha_pyscf.to_jax_operator(),\n",
    "                      opt,\n",
    "                      variational_state=vstate_fs,\n",
    "                      preconditioner=sr)\n",
    "# Construct the logger to visualize the data later on\n",
    "nj_log_adapt=nk.logging.RuntimeLog()\n",
    "\n",
    "# Run the optimization for 500 iterations\n",
    "# gs_fs.run(n_iter=300, out=nj_log_adapt, \n",
    "#           callback = (snr_cb,)\n",
    "#           )\n",
    "# gs.run(n_iter=500, out=nj_log_adapt, \n",
    "#     #    callback = (snr_cb, save_rel_err_cb)\n",
    "#        )"
   ]
  },
  {
   "cell_type": "code",
   "execution_count": 14,
   "metadata": {},
   "outputs": [
    {
     "name": "stderr",
     "output_type": "stream",
     "text": [
      "100%|██████████| 500/500 [03:34<00:00,  2.33it/s, Energy=-107.7-0.0j ± 11.2 [σ²=88942.9]] \n"
     ]
    },
    {
     "data": {
      "text/plain": [
       "(RuntimeLog():\n",
       "  keys = ['Energy'],)"
      ]
     },
     "execution_count": 14,
     "metadata": {},
     "output_type": "execute_result"
    }
   ],
   "source": [
    "gs.run(n_iter=500, out=nj_log_adapt, \n",
    "    #    callback = (snr_cb, save_rel_err_cb)\n",
    "       )"
   ]
  },
  {
   "cell_type": "code",
   "execution_count": 15,
   "metadata": {},
   "outputs": [
    {
     "name": "stdout",
     "output_type": "stream",
     "text": [
      "-107.65912637817843\n"
     ]
    },
    {
     "data": {
      "image/png": "[encoded data removed]",
      "text/plain": [
       "<Figure size 1000x600 with 1 Axes>"
      ]
     },
     "metadata": {},
     "output_type": "display_data"
    }
   ],
   "source": [
    "# plt.plot(out['rel_err']['value'])\n",
    "print(min(nj_log_adapt['Energy']['Mean'].real))\n",
    "plt.plot(nj_log_adapt['Energy']['Mean'].real - E0)\n",
    "plt.ylabel(r'$E_{MC} - E_{FCI}$')\n",
    "plt.xlabel(r'iteration')\n",
    "plt.yscale('log')"
   ]
  },
  {
   "cell_type": "code",
   "execution_count": 16,
   "metadata": {},
   "outputs": [
    {
     "ename": "KeyError",
     "evalue": "'argmax_snr_a'",
     "output_type": "error",
     "traceback": [
      "\u001b[0;31m---------------------------------------------------------------------------\u001b[0m",
      "\u001b[0;31mKeyError\u001b[0m                                  Traceback (most recent call last)",
      "Cell \u001b[0;32mIn[16], line 3\u001b[0m\n\u001b[1;32m      1\u001b[0m fig, ax \u001b[38;5;241m=\u001b[39m plt\u001b[38;5;241m.\u001b[39msubplots()\n\u001b[1;32m      2\u001b[0m out \u001b[38;5;241m=\u001b[39m nj_log_adapt\n\u001b[0;32m----> 3\u001b[0m rel_err_vals \u001b[38;5;241m=\u001b[39m jnp\u001b[38;5;241m.\u001b[39marray(jnp\u001b[38;5;241m.\u001b[39mabs(nj_log_adapt[\u001b[38;5;124m'\u001b[39m\u001b[38;5;124mEnergy\u001b[39m\u001b[38;5;124m'\u001b[39m][\u001b[38;5;124m'\u001b[39m\u001b[38;5;124mMean\u001b[39m\u001b[38;5;124m'\u001b[39m]\u001b[38;5;241m.\u001b[39mreal \u001b[38;5;241m-\u001b[39mE0)\u001b[38;5;241m/\u001b[39mjnp\u001b[38;5;241m.\u001b[39mabs(E0))[\u001b[43mnj_log_adapt\u001b[49m\u001b[43m[\u001b[49m\u001b[38;5;124;43m'\u001b[39;49m\u001b[38;5;124;43margmax_snr_a\u001b[39;49m\u001b[38;5;124;43m'\u001b[39;49m\u001b[43m]\u001b[49m[\u001b[38;5;124m'\u001b[39m\u001b[38;5;124miters\u001b[39m\u001b[38;5;124m'\u001b[39m]]\n\u001b[1;32m      4\u001b[0m rel_err_vals \u001b[38;5;241m=\u001b[39m out[\u001b[38;5;124m'\u001b[39m\u001b[38;5;124mrel_err\u001b[39m\u001b[38;5;124m'\u001b[39m][\u001b[38;5;124m'\u001b[39m\u001b[38;5;124mvalue\u001b[39m\u001b[38;5;124m'\u001b[39m]\n\u001b[1;32m      5\u001b[0m idx_sort \u001b[38;5;241m=\u001b[39m jnp\u001b[38;5;241m.\u001b[39mflip(jnp\u001b[38;5;241m.\u001b[39margsort(rel_err_vals))\n",
      "File \u001b[0;32m/scratch/.amisery/netket2/lib/python3.11/site-packages/netket/logging/runtime_log.py:67\u001b[0m, in \u001b[0;36mRuntimeLog.__getitem__\u001b[0;34m(self, key)\u001b[0m\n\u001b[1;32m     66\u001b[0m \u001b[38;5;28;01mdef\u001b[39;00m\u001b[38;5;250m \u001b[39m\u001b[38;5;21m__getitem__\u001b[39m(\u001b[38;5;28mself\u001b[39m, key: \u001b[38;5;28mstr\u001b[39m) \u001b[38;5;241m-\u001b[39m\u001b[38;5;241m>\u001b[39m Any:\n\u001b[0;32m---> 67\u001b[0m     \u001b[38;5;28;01mreturn\u001b[39;00m \u001b[38;5;28;43mself\u001b[39;49m\u001b[38;5;241;43m.\u001b[39;49m\u001b[43mdata\u001b[49m\u001b[43m[\u001b[49m\u001b[43mkey\u001b[49m\u001b[43m]\u001b[49m\n",
      "File \u001b[0;32m/scratch/.amisery/netket2/lib/python3.11/site-packages/netket/utils/history/history_dict.py:72\u001b[0m, in \u001b[0;36mHistoryDict.__getitem__\u001b[0;34m(self, key, wrap_dicts)\u001b[0m\n\u001b[1;32m     71\u001b[0m \u001b[38;5;28;01mdef\u001b[39;00m\u001b[38;5;250m \u001b[39m\u001b[38;5;21m__getitem__\u001b[39m(\u001b[38;5;28mself\u001b[39m, key: \u001b[38;5;28mstr\u001b[39m, \u001b[38;5;241m*\u001b[39m, wrap_dicts\u001b[38;5;241m=\u001b[39m\u001b[38;5;28;01mTrue\u001b[39;00m) \u001b[38;5;241m-\u001b[39m\u001b[38;5;241m>\u001b[39m History \u001b[38;5;241m|\u001b[39m Self:\n\u001b[0;32m---> 72\u001b[0m     val \u001b[38;5;241m=\u001b[39m \u001b[38;5;28;43mself\u001b[39;49m\u001b[38;5;241;43m.\u001b[39;49m\u001b[43m_data\u001b[49m\u001b[43m[\u001b[49m\u001b[43mkey\u001b[49m\u001b[43m]\u001b[49m\n\u001b[1;32m     73\u001b[0m     \u001b[38;5;28;01mif\u001b[39;00m wrap_dicts \u001b[38;5;129;01mand\u001b[39;00m \u001b[38;5;28misinstance\u001b[39m(val, \u001b[38;5;28mdict\u001b[39m):\n\u001b[1;32m     74\u001b[0m         \u001b[38;5;28;01mreturn\u001b[39;00m HistoryDict(val)\n",
      "\u001b[0;31mKeyError\u001b[0m: 'argmax_snr_a'"
     ]
    },
    {
     "data": {
      "image/png": "[encoded data removed]",
      "text/plain": [
       "<Figure size 1000x600 with 1 Axes>"
      ]
     },
     "metadata": {},
     "output_type": "display_data"
    }
   ],
   "source": [
    "fig, ax = plt.subplots()\n",
    "out = nj_log_adapt\n",
    "rel_err_vals = jnp.array(jnp.abs(nj_log_adapt['Energy']['Mean'].real -E0)/jnp.abs(E0))[nj_log_adapt['argmax_snr_a']['iters']]\n",
    "rel_err_vals = out['rel_err']['value']\n",
    "idx_sort = jnp.flip(jnp.argsort(rel_err_vals))\n",
    "\n",
    "rel_err_vals_s = rel_err_vals[idx_sort]\n",
    "# ax.plot(rel_err_vals_s, jnp.array(out['snr_grad']['value'])[idx_sort], label=r'gradient SNR with $\\frac{1}{N_p}\\sum_i p(x)|F_i^{loc}(x)|$')\n",
    "ax.plot(rel_err_vals_s, jnp.array(out['max_snr_a']['value'])[idx_sort], label='SNR with best overdispersed coeff.')\n",
    "ax.plot(rel_err_vals_s, jnp.array(out['snr_psi_sq']['value'])[idx_sort], label=r'SNR, $|\\psi|^2$')\n",
    "# ax.plot(rel_err_vals_s, jnp.array(out['snr_hpsi']['value'])[idx_sort], label=r'SNR, $|\\bra{x}H\\ket{\\psi}|$')\n",
    "# ax.plot(rel_err_vals_s, jnp.array(out['info']['snr']['value'])[good_vals][idx_sort], label='SNR with best overdispersed coeff.')\n",
    "ax1 = ax.twinx()\n",
    "\n",
    "ax1.plot(rel_err_vals_s, jnp.array(out['argmax_snr_a']['value'])[idx_sort], color='black', label=r\"optimal $\\alpha$ throughout training\")\n",
    "# ax1.plot(rel_err_vals_s, jnp.array(out['alpha']['value'])[good_vals][idx_sort], color='red', label=r'automatically tuned $\\alpha$')\n",
    "ax1.set_xscale('log')\n",
    "ax.set_xlabel(\"Relative error to exact ground state\")\n",
    "ax.set_ylabel('SNR')\n",
    "ax1.set_ylabel(r\"$\\alpha$\")\n",
    "ax.set_yscale('log')\n",
    "ax.set_xscale('log')\n",
    "# Retrieve and combine legends\n",
    "handles_ax, labels_ax = ax.get_legend_handles_labels()\n",
    "handles_ax1, labels_ax1 = ax1.get_legend_handles_labels()\n",
    "ax.legend(handles_ax + handles_ax1, labels_ax + labels_ax1, bbox_to_anchor=(1.1, 1))\n",
    "# plt.legend()\n",
    "plt.title(r\"SNR and optimal overdispersion coefficient over training on the $N_2$ molecule, NNBF\")"
   ]
  },
  {
   "cell_type": "code",
   "execution_count": 27,
   "metadata": {},
   "outputs": [
    {
     "data": {
      "text/plain": [
       "HistoryDict with 8 elements:\n",
       "\t'Energy' -> History(keys=['Mean', 'Variance', 'Sigma', 'R_hat', 'TauCorr'], n_iters=500)\n",
       "\t'argmax_snr_a' -> History(keys=['value'], n_iters=50)\n",
       "\t'grad_mag' -> History(keys=['value'], n_iters=50)\n",
       "\t'max_snr_a' -> History(keys=['value'], n_iters=50)\n",
       "\t'rel_err' -> History(keys=['value'], n_iters=50)\n",
       "\t'snr_a' -> History(keys=['value'], n_iters=50)\n",
       "\t'snr_grad' -> History(keys=['value'], n_iters=50)\n",
       "\t'snr_psi_sq' -> History(keys=['value'], n_iters=50)"
      ]
     },
     "execution_count": 27,
     "metadata": {},
     "output_type": "execute_result"
    }
   ],
   "source": [
    "nj_log_adapt.data"
   ]
  },
  {
   "cell_type": "code",
   "execution_count": 28,
   "metadata": {},
   "outputs": [
    {
     "ename": "AttributeError",
     "evalue": "module 'netket.utils' has no attribute 'HistoryDict'",
     "output_type": "error",
     "traceback": [
      "\u001b[0;31m---------------------------------------------------------------------------\u001b[0m",
      "\u001b[0;31mAttributeError\u001b[0m                            Traceback (most recent call last)",
      "Cell \u001b[0;32mIn[28], line 18\u001b[0m\n\u001b[1;32m     16\u001b[0m \u001b[38;5;66;03m# Convert and save to JSON\u001b[39;00m\n\u001b[1;32m     17\u001b[0m \u001b[38;5;28;01mwith\u001b[39;00m \u001b[38;5;28mopen\u001b[39m(\u001b[38;5;124m\"\u001b[39m\u001b[38;5;124mruntime_log.json\u001b[39m\u001b[38;5;124m\"\u001b[39m, \u001b[38;5;124m\"\u001b[39m\u001b[38;5;124mw\u001b[39m\u001b[38;5;124m\"\u001b[39m) \u001b[38;5;28;01mas\u001b[39;00m f:\n\u001b[0;32m---> 18\u001b[0m     json\u001b[38;5;241m.\u001b[39mdump(\u001b[43mconvert_to_serializable\u001b[49m\u001b[43m(\u001b[49m\u001b[43mnj_log_adapt\u001b[49m\u001b[38;5;241;43m.\u001b[39;49m\u001b[43mdata\u001b[49m\u001b[43m)\u001b[49m, f, indent\u001b[38;5;241m=\u001b[39m\u001b[38;5;241m4\u001b[39m)\n",
      "Cell \u001b[0;32mIn[28], line 5\u001b[0m, in \u001b[0;36mconvert_to_serializable\u001b[0;34m(obj)\u001b[0m\n\u001b[1;32m      3\u001b[0m \u001b[38;5;28;01mdef\u001b[39;00m\u001b[38;5;250m \u001b[39m\u001b[38;5;21mconvert_to_serializable\u001b[39m(obj):\n\u001b[1;32m      4\u001b[0m \u001b[38;5;250m    \u001b[39m\u001b[38;5;124;03m\"\"\"Recursively converts HistoryDict or numpy objects into JSON serializable formats.\"\"\"\u001b[39;00m\n\u001b[0;32m----> 5\u001b[0m     \u001b[38;5;28;01mif\u001b[39;00m \u001b[38;5;28misinstance\u001b[39m(obj, \u001b[43mnk\u001b[49m\u001b[38;5;241;43m.\u001b[39;49m\u001b[43mutils\u001b[49m\u001b[38;5;241;43m.\u001b[39;49m\u001b[43mHistoryDict\u001b[49m):\n\u001b[1;32m      6\u001b[0m         \u001b[38;5;28;01mreturn\u001b[39;00m {k: convert_to_serializable(v) \u001b[38;5;28;01mfor\u001b[39;00m k, v \u001b[38;5;129;01min\u001b[39;00m obj\u001b[38;5;241m.\u001b[39mitems()}\n\u001b[1;32m      7\u001b[0m     \u001b[38;5;28;01melif\u001b[39;00m \u001b[38;5;28misinstance\u001b[39m(obj, \u001b[38;5;28mdict\u001b[39m):\n",
      "\u001b[0;31mAttributeError\u001b[0m: module 'netket.utils' has no attribute 'HistoryDict'"
     ]
    }
   ],
   "source": [
    "import json\n",
    "# Convert HistoryDict to a serializable format\n",
    "def convert_to_serializable(obj):\n",
    "    \"\"\"Recursively converts HistoryDict or numpy objects into JSON serializable formats.\"\"\"\n",
    "    if isinstance(obj, nk.utils.HistoryDict):\n",
    "        return {k: convert_to_serializable(v) for k, v in obj.items()}\n",
    "    elif isinstance(obj, dict):\n",
    "        return {k: convert_to_serializable(v) for k, v in obj.items()}\n",
    "    elif isinstance(obj, list):\n",
    "        return [convert_to_serializable(v) for v in obj]\n",
    "    elif hasattr(obj, \"tolist\"):  # Convert numpy arrays to lists\n",
    "        return obj.tolist()\n",
    "    else:\n",
    "        return obj  # Assume it's already serializable\n",
    "\n",
    "# Convert and save to JSON\n",
    "with open(\"runtime_log.json\", \"w\") as f:\n",
    "    json.dump(convert_to_serializable(nj_log_adapt.data), f, indent=4)"
   ]
  },
  {
   "cell_type": "code",
   "execution_count": 1,
   "metadata": {},
   "outputs": [
    {
     "ename": "NameError",
     "evalue": "name 'jnp' is not defined",
     "output_type": "error",
     "traceback": [
      "\u001b[0;31m---------------------------------------------------------------------------\u001b[0m",
      "\u001b[0;31mNameError\u001b[0m                                 Traceback (most recent call last)",
      "Cell \u001b[0;32mIn[1], line 1\u001b[0m\n\u001b[0;32m----> 1\u001b[0m \u001b[43mjnp\u001b[49m\u001b[38;5;241m.\u001b[39msavez(\u001b[38;5;124m\"\u001b[39m\u001b[38;5;124mlog_nnbf_snr.npz\u001b[39m\u001b[38;5;124m\"\u001b[39m, nj_log_adapt\u001b[38;5;241m.\u001b[39mdata)\n",
      "\u001b[0;31mNameError\u001b[0m: name 'jnp' is not defined"
     ]
    }
   ],
   "source": [
    "jnp.savez(\"log_nnbf_snr.npz\", nj_log_adapt.data)"
   ]
  },
  {
   "cell_type": "code",
   "execution_count": 44,
   "metadata": {},
   "outputs": [
    {
     "data": {
      "text/plain": [
       "array(['Energy', 'snr_a', 'snr_grad', 'max_snr_a', 'argmax_snr_a',\n",
       "       'snr_psi_sq', 'grad_mag', 'rel_err'], dtype='<U12')"
      ]
     },
     "execution_count": 44,
     "metadata": {},
     "output_type": "execute_result"
    }
   ],
   "source": [
    "jnp.load(\"log_nnbf_snr.npz\", allow_pickle=True)['arr_0']"
   ]
  },
  {
   "cell_type": "code",
   "execution_count": 23,
   "metadata": {},
   "outputs": [
    {
     "ename": "TypeError",
     "evalue": "'VMC_NG' object is not subscriptable",
     "output_type": "error",
     "traceback": [
      "\u001b[0;31m---------------------------------------------------------------------------\u001b[0m",
      "\u001b[0;31mTypeError\u001b[0m                                 Traceback (most recent call last)",
      "Cell \u001b[0;32mIn[23], line 2\u001b[0m\n\u001b[1;32m      1\u001b[0m fig, axes \u001b[38;5;241m=\u001b[39m plt\u001b[38;5;241m.\u001b[39msubplots(\u001b[38;5;241m1\u001b[39m,\u001b[38;5;241m2\u001b[39m)\n\u001b[0;32m----> 2\u001b[0m sorted_gs \u001b[38;5;241m=\u001b[39m \u001b[38;5;28msorted\u001b[39m(jnp\u001b[38;5;241m.\u001b[39mabs(\u001b[43mgs\u001b[49m\u001b[43m[\u001b[49m\u001b[43m:\u001b[49m\u001b[43m,\u001b[49m\u001b[38;5;241;43m0\u001b[39;49m\u001b[43m]\u001b[49m))[::\u001b[38;5;241m-\u001b[39m\u001b[38;5;241m1\u001b[39m]\n\u001b[1;32m      3\u001b[0m sorted_gs \u001b[38;5;241m=\u001b[39m jnp\u001b[38;5;241m.\u001b[39marray(sorted_gs)\n\u001b[1;32m      4\u001b[0m ipr(sorted_gs)\n",
      "\u001b[0;31mTypeError\u001b[0m: 'VMC_NG' object is not subscriptable"
     ]
    },
    {
     "data": {
      "image/png": "[encoded data removed]",
      "text/plain": [
       "<Figure size 1000x600 with 2 Axes>"
      ]
     },
     "metadata": {},
     "output_type": "display_data"
    },
    {
     "ename": "",
     "evalue": "",
     "output_type": "error",
     "traceback": [
      "\u001b[1;31mnotebook controller is DISPOSED. \n",
      "\u001b[1;31mView Jupyter <a href='command:jupyter.viewOutput'>log</a> for further details."
     ]
    },
    {
     "ename": "",
     "evalue": "",
     "output_type": "error",
     "traceback": [
      "\u001b[1;31mnotebook controller is DISPOSED. \n",
      "\u001b[1;31mView Jupyter <a href='command:jupyter.viewOutput'>log</a> for further details."
     ]
    },
    {
     "ename": "",
     "evalue": "",
     "output_type": "error",
     "traceback": [
      "\u001b[1;31mnotebook controller is DISPOSED. \n",
      "\u001b[1;31mView Jupyter <a href='command:jupyter.viewOutput'>log</a> for further details."
     ]
    },
    {
     "ename": "",
     "evalue": "",
     "output_type": "error",
     "traceback": [
      "\u001b[1;31mnotebook controller is DISPOSED. \n",
      "\u001b[1;31mView Jupyter <a href='command:jupyter.viewOutput'>log</a> for further details."
     ]
    }
   ],
   "source": [
    "fig, axes = plt.subplots(1,2)\n",
    "sorted_gs = sorted(jnp.abs(gs[:,0]))[::-1]\n",
    "sorted_gs = jnp.array(sorted_gs)\n",
    "ipr(sorted_gs)\n",
    "axes[0].plot(sorted_gs)\n",
    "sorted_gs_nat = sorted(jnp.abs(gsnat[:,0]))[::-1]\n",
    "sorted_gs = jnp.array(sorted_gs)\n",
    "ipr(sorted_gs)\n",
    "axes[1].plot(sorted_gs_nat)\n",
    "plt.yscale('log')"
   ]
  },
  {
   "cell_type": "code",
   "execution_count": null,
   "metadata": {},
   "outputs": [
    {
     "ename": "",
     "evalue": "",
     "output_type": "error",
     "traceback": [
      "\u001b[1;31mnotebook controller is DISPOSED. \n",
      "\u001b[1;31mView Jupyter <a href='command:jupyter.viewOutput'>log</a> for further details."
     ]
    },
    {
     "ename": "",
     "evalue": "",
     "output_type": "error",
     "traceback": [
      "\u001b[1;31mnotebook controller is DISPOSED. \n",
      "\u001b[1;31mView Jupyter <a href='command:jupyter.viewOutput'>log</a> for further details."
     ]
    },
    {
     "ename": "",
     "evalue": "",
     "output_type": "error",
     "traceback": [
      "\u001b[1;31mnotebook controller is DISPOSED. \n",
      "\u001b[1;31mView Jupyter <a href='command:jupyter.viewOutput'>log</a> for further details."
     ]
    },
    {
     "ename": "",
     "evalue": "",
     "output_type": "error",
     "traceback": [
      "\u001b[1;31mnotebook controller is DISPOSED. \n",
      "\u001b[1;31mView Jupyter <a href='command:jupyter.viewOutput'>log</a> for further details."
     ]
    },
    {
     "ename": "",
     "evalue": "",
     "output_type": "error",
     "traceback": [
      "\u001b[1;31mnotebook controller is DISPOSED. \n",
      "\u001b[1;31mView Jupyter <a href='command:jupyter.viewOutput'>log</a> for further details."
     ]
    },
    {
     "ename": "",
     "evalue": "",
     "output_type": "error",
     "traceback": [
      "\u001b[1;31mnotebook controller is DISPOSED. \n",
      "\u001b[1;31mView Jupyter <a href='command:jupyter.viewOutput'>log</a> for further details."
     ]
    }
   ],
   "source": [
    "# from matplotlib.cm import viridis, seismic, coolwarm, Spectral\n",
    "\n",
    "# colors = viridis(jnp.linspace(0, 1,10))\n",
    "# for idx, alpha in enumerate(jnp.linspace(0.1,1,10)):\n",
    "#     plt.plot(sorted_gs**alpha/jnp.sum(sorted_gs**alpha), label=r\"$\\alpha=%.2f$\"%alpha, color=colors[idx])\n",
    "# plt.legend()\n",
    "# plt.plot(sorted_gs**2)\n",
    "# plt.yscale('log')\n",
    "# plt.ylim(bottom=1e-10)\n",
    "# plt.yscale('log')\n",
    "# plt.ylim(bottom=1e-10)"
   ]
  },
  {
   "cell_type": "code",
   "execution_count": 3,
   "metadata": {},
   "outputs": [
    {
     "ename": "",
     "evalue": "",
     "output_type": "error",
     "traceback": [
      "\u001b[1;31mnotebook controller is DISPOSED. \n",
      "\u001b[1;31mView Jupyter <a href='command:jupyter.viewOutput'>log</a> for further details."
     ]
    },
    {
     "ename": "",
     "evalue": "",
     "output_type": "error",
     "traceback": [
      "\u001b[1;31mnotebook controller is DISPOSED. \n",
      "\u001b[1;31mView Jupyter <a href='command:jupyter.viewOutput'>log</a> for further details."
     ]
    },
    {
     "ename": "",
     "evalue": "",
     "output_type": "error",
     "traceback": [
      "\u001b[1;31mnotebook controller is DISPOSED. \n",
      "\u001b[1;31mView Jupyter <a href='command:jupyter.viewOutput'>log</a> for further details."
     ]
    },
    {
     "ename": "",
     "evalue": "",
     "output_type": "error",
     "traceback": [
      "\u001b[1;31mnotebook controller is DISPOSED. \n",
      "\u001b[1;31mView Jupyter <a href='command:jupyter.viewOutput'>log</a> for further details."
     ]
    }
   ],
   "source": [
    "H_xxz_l = [XXZ(L=16, J=h).hamiltonian.to_sparse() for h in [4,5,6,7,8]]\n",
    "H_xxz = XXZ(L=16)"
   ]
  },
  {
   "cell_type": "code",
   "execution_count": 4,
   "metadata": {},
   "outputs": [
    {
     "ename": "",
     "evalue": "",
     "output_type": "error",
     "traceback": [
      "\u001b[1;31mnotebook controller is DISPOSED. \n",
      "\u001b[1;31mView Jupyter <a href='command:jupyter.viewOutput'>log</a> for further details."
     ]
    },
    {
     "ename": "",
     "evalue": "",
     "output_type": "error",
     "traceback": [
      "\u001b[1;31mnotebook controller is DISPOSED. \n",
      "\u001b[1;31mView Jupyter <a href='command:jupyter.viewOutput'>log</a> for further details."
     ]
    },
    {
     "ename": "",
     "evalue": "",
     "output_type": "error",
     "traceback": [
      "\u001b[1;31mnotebook controller is DISPOSED. \n",
      "\u001b[1;31mView Jupyter <a href='command:jupyter.viewOutput'>log</a> for further details."
     ]
    },
    {
     "ename": "",
     "evalue": "",
     "output_type": "error",
     "traceback": [
      "\u001b[1;31mnotebook controller is DISPOSED. \n",
      "\u001b[1;31mView Jupyter <a href='command:jupyter.viewOutput'>log</a> for further details."
     ]
    }
   ],
   "source": [
    "def get_gs(H_sp):\n",
    "    eig_vals, eig_vecs = eigsh(\n",
    "            H_sp, k=2, which=\"SA\"\n",
    "        )  # k is the number of eigenvalues desired,\n",
    "    E_gs = eig_vals[0]  # \"SA\" selects the ones with smallest absolute value\n",
    "    gs = eig_vecs[:,0]\n",
    "    return jnp.sort(jnp.abs(jnp.array(gs)))"
   ]
  },
  {
   "cell_type": "code",
   "execution_count": 12,
   "metadata": {},
   "outputs": [
    {
     "ename": "",
     "evalue": "",
     "output_type": "error",
     "traceback": [
      "\u001b[1;31mnotebook controller is DISPOSED. \n",
      "\u001b[1;31mView Jupyter <a href='command:jupyter.viewOutput'>log</a> for further details."
     ]
    },
    {
     "ename": "",
     "evalue": "",
     "output_type": "error",
     "traceback": [
      "\u001b[1;31mnotebook controller is DISPOSED. \n",
      "\u001b[1;31mView Jupyter <a href='command:jupyter.viewOutput'>log</a> for further details."
     ]
    },
    {
     "ename": "",
     "evalue": "",
     "output_type": "error",
     "traceback": [
      "\u001b[1;31mnotebook controller is DISPOSED. \n",
      "\u001b[1;31mView Jupyter <a href='command:jupyter.viewOutput'>log</a> for further details."
     ]
    },
    {
     "ename": "",
     "evalue": "",
     "output_type": "error",
     "traceback": [
      "\u001b[1;31mnotebook controller is DISPOSED. \n",
      "\u001b[1;31mView Jupyter <a href='command:jupyter.viewOutput'>log</a> for further details."
     ]
    },
    {
     "ename": "",
     "evalue": "",
     "output_type": "error",
     "traceback": [
      "\u001b[1;31mnotebook controller is DISPOSED. \n",
      "\u001b[1;31mView Jupyter <a href='command:jupyter.viewOutput'>log</a> for further details."
     ]
    },
    {
     "ename": "",
     "evalue": "",
     "output_type": "error",
     "traceback": [
      "\u001b[1;31mnotebook controller is DISPOSED. \n",
      "\u001b[1;31mView Jupyter <a href='command:jupyter.viewOutput'>log</a> for further details."
     ]
    }
   ],
   "source": [
    "heisenberg_gs = get_gs(H_heisenberg)"
   ]
  },
  {
   "cell_type": "code",
   "execution_count": 13,
   "metadata": {},
   "outputs": [
    {
     "ename": "",
     "evalue": "",
     "output_type": "error",
     "traceback": [
      "\u001b[1;31mnotebook controller is DISPOSED. \n",
      "\u001b[1;31mView Jupyter <a href='command:jupyter.viewOutput'>log</a> for further details."
     ]
    },
    {
     "ename": "",
     "evalue": "",
     "output_type": "error",
     "traceback": [
      "\u001b[1;31mnotebook controller is DISPOSED. \n",
      "\u001b[1;31mView Jupyter <a href='command:jupyter.viewOutput'>log</a> for further details."
     ]
    },
    {
     "ename": "",
     "evalue": "",
     "output_type": "error",
     "traceback": [
      "\u001b[1;31mnotebook controller is DISPOSED. \n",
      "\u001b[1;31mView Jupyter <a href='command:jupyter.viewOutput'>log</a> for further details."
     ]
    },
    {
     "ename": "",
     "evalue": "",
     "output_type": "error",
     "traceback": [
      "\u001b[1;31mnotebook controller is DISPOSED. \n",
      "\u001b[1;31mView Jupyter <a href='command:jupyter.viewOutput'>log</a> for further details."
     ]
    },
    {
     "ename": "",
     "evalue": "",
     "output_type": "error",
     "traceback": [
      "\u001b[1;31mnotebook controller is DISPOSED. \n",
      "\u001b[1;31mView Jupyter <a href='command:jupyter.viewOutput'>log</a> for further details."
     ]
    },
    {
     "ename": "",
     "evalue": "",
     "output_type": "error",
     "traceback": [
      "\u001b[1;31mnotebook controller is DISPOSED. \n",
      "\u001b[1;31mView Jupyter <a href='command:jupyter.viewOutput'>log</a> for further details."
     ]
    }
   ],
   "source": [
    "gs_j1j2 = get_gs(H_j1j2(0.5))"
   ]
  },
  {
   "cell_type": "code",
   "execution_count": 14,
   "metadata": {},
   "outputs": [
    {
     "ename": "",
     "evalue": "",
     "output_type": "error",
     "traceback": [
      "\u001b[1;31mnotebook controller is DISPOSED. \n",
      "\u001b[1;31mView Jupyter <a href='command:jupyter.viewOutput'>log</a> for further details."
     ]
    },
    {
     "ename": "",
     "evalue": "",
     "output_type": "error",
     "traceback": [
      "\u001b[1;31mnotebook controller is DISPOSED. \n",
      "\u001b[1;31mView Jupyter <a href='command:jupyter.viewOutput'>log</a> for further details."
     ]
    },
    {
     "ename": "",
     "evalue": "",
     "output_type": "error",
     "traceback": [
      "\u001b[1;31mnotebook controller is DISPOSED. \n",
      "\u001b[1;31mView Jupyter <a href='command:jupyter.viewOutput'>log</a> for further details."
     ]
    },
    {
     "ename": "",
     "evalue": "",
     "output_type": "error",
     "traceback": [
      "\u001b[1;31mnotebook controller is DISPOSED. \n",
      "\u001b[1;31mView Jupyter <a href='command:jupyter.viewOutput'>log</a> for further details."
     ]
    },
    {
     "ename": "",
     "evalue": "",
     "output_type": "error",
     "traceback": [
      "\u001b[1;31mnotebook controller is DISPOSED. \n",
      "\u001b[1;31mView Jupyter <a href='command:jupyter.viewOutput'>log</a> for further details."
     ]
    },
    {
     "ename": "",
     "evalue": "",
     "output_type": "error",
     "traceback": [
      "\u001b[1;31mnotebook controller is DISPOSED. \n",
      "\u001b[1;31mView Jupyter <a href='command:jupyter.viewOutput'>log</a> for further details."
     ]
    }
   ],
   "source": [
    "gs_j1j2_1 = get_gs(H_j1j2(1.0))"
   ]
  },
  {
   "cell_type": "code",
   "execution_count": 15,
   "metadata": {},
   "outputs": [
    {
     "ename": "",
     "evalue": "",
     "output_type": "error",
     "traceback": [
      "\u001b[1;31mnotebook controller is DISPOSED. \n",
      "\u001b[1;31mView Jupyter <a href='command:jupyter.viewOutput'>log</a> for further details."
     ]
    },
    {
     "ename": "",
     "evalue": "",
     "output_type": "error",
     "traceback": [
      "\u001b[1;31mnotebook controller is DISPOSED. \n",
      "\u001b[1;31mView Jupyter <a href='command:jupyter.viewOutput'>log</a> for further details."
     ]
    },
    {
     "ename": "",
     "evalue": "",
     "output_type": "error",
     "traceback": [
      "\u001b[1;31mnotebook controller is DISPOSED. \n",
      "\u001b[1;31mView Jupyter <a href='command:jupyter.viewOutput'>log</a> for further details."
     ]
    },
    {
     "ename": "",
     "evalue": "",
     "output_type": "error",
     "traceback": [
      "\u001b[1;31mnotebook controller is DISPOSED. \n",
      "\u001b[1;31mView Jupyter <a href='command:jupyter.viewOutput'>log</a> for further details."
     ]
    },
    {
     "ename": "",
     "evalue": "",
     "output_type": "error",
     "traceback": [
      "\u001b[1;31mnotebook controller is DISPOSED. \n",
      "\u001b[1;31mView Jupyter <a href='command:jupyter.viewOutput'>log</a> for further details."
     ]
    },
    {
     "ename": "",
     "evalue": "",
     "output_type": "error",
     "traceback": [
      "\u001b[1;31mnotebook controller is DISPOSED. \n",
      "\u001b[1;31mView Jupyter <a href='command:jupyter.viewOutput'>log</a> for further details."
     ]
    }
   ],
   "source": [
    "gs_xxz = get_gs(H_xxz)"
   ]
  },
  {
   "cell_type": "code",
   "execution_count": 5,
   "metadata": {},
   "outputs": [
    {
     "ename": "",
     "evalue": "",
     "output_type": "error",
     "traceback": [
      "\u001b[1;31mnotebook controller is DISPOSED. \n",
      "\u001b[1;31mView Jupyter <a href='command:jupyter.viewOutput'>log</a> for further details."
     ]
    },
    {
     "ename": "",
     "evalue": "",
     "output_type": "error",
     "traceback": [
      "\u001b[1;31mnotebook controller is DISPOSED. \n",
      "\u001b[1;31mView Jupyter <a href='command:jupyter.viewOutput'>log</a> for further details."
     ]
    },
    {
     "ename": "",
     "evalue": "",
     "output_type": "error",
     "traceback": [
      "\u001b[1;31mnotebook controller is DISPOSED. \n",
      "\u001b[1;31mView Jupyter <a href='command:jupyter.viewOutput'>log</a> for further details."
     ]
    },
    {
     "ename": "",
     "evalue": "",
     "output_type": "error",
     "traceback": [
      "\u001b[1;31mnotebook controller is DISPOSED. \n",
      "\u001b[1;31mView Jupyter <a href='command:jupyter.viewOutput'>log</a> for further details."
     ]
    }
   ],
   "source": [
    "gs_xxz_l = [get_gs(H) for H in H_xxz_l]"
   ]
  },
  {
   "cell_type": "code",
   "execution_count": 6,
   "metadata": {},
   "outputs": [
    {
     "data": {
      "text/plain": [
       "[<matplotlib.lines.Line2D at 0x7ffaa4159590>]"
      ]
     },
     "execution_count": 6,
     "metadata": {},
     "output_type": "execute_result"
    },
    {
     "data": {
      "image/png": "[encoded data removed]",
      "text/plain": [
       "<Figure size 1000x600 with 1 Axes>"
      ]
     },
     "metadata": {},
     "output_type": "display_data"
    },
    {
     "ename": "",
     "evalue": "",
     "output_type": "error",
     "traceback": [
      "\u001b[1;31mnotebook controller is DISPOSED. \n",
      "\u001b[1;31mView Jupyter <a href='command:jupyter.viewOutput'>log</a> for further details."
     ]
    },
    {
     "ename": "",
     "evalue": "",
     "output_type": "error",
     "traceback": [
      "\u001b[1;31mnotebook controller is DISPOSED. \n",
      "\u001b[1;31mView Jupyter <a href='command:jupyter.viewOutput'>log</a> for further details."
     ]
    },
    {
     "ename": "",
     "evalue": "",
     "output_type": "error",
     "traceback": [
      "\u001b[1;31mnotebook controller is DISPOSED. \n",
      "\u001b[1;31mView Jupyter <a href='command:jupyter.viewOutput'>log</a> for further details."
     ]
    },
    {
     "ename": "",
     "evalue": "",
     "output_type": "error",
     "traceback": [
      "\u001b[1;31mnotebook controller is DISPOSED. \n",
      "\u001b[1;31mView Jupyter <a href='command:jupyter.viewOutput'>log</a> for further details."
     ]
    }
   ],
   "source": [
    "plt.plot([jnp.sum(gs**4) for gs in gs_xxz_l])"
   ]
  },
  {
   "cell_type": "code",
   "execution_count": 8,
   "metadata": {},
   "outputs": [
    {
     "data": {
      "text/plain": [
       "(1e-10, np.float64(35.98191461101676))"
      ]
     },
     "execution_count": 8,
     "metadata": {},
     "output_type": "execute_result"
    },
    {
     "data": {
      "image/png": "[encoded data removed]",
      "text/plain": [
       "<Figure size 1000x600 with 1 Axes>"
      ]
     },
     "metadata": {},
     "output_type": "display_data"
    },
    {
     "ename": "",
     "evalue": "",
     "output_type": "error",
     "traceback": [
      "\u001b[1;31mnotebook controller is DISPOSED. \n",
      "\u001b[1;31mView Jupyter <a href='command:jupyter.viewOutput'>log</a> for further details."
     ]
    },
    {
     "ename": "",
     "evalue": "",
     "output_type": "error",
     "traceback": [
      "\u001b[1;31mnotebook controller is DISPOSED. \n",
      "\u001b[1;31mView Jupyter <a href='command:jupyter.viewOutput'>log</a> for further details."
     ]
    },
    {
     "ename": "",
     "evalue": "",
     "output_type": "error",
     "traceback": [
      "\u001b[1;31mnotebook controller is DISPOSED. \n",
      "\u001b[1;31mView Jupyter <a href='command:jupyter.viewOutput'>log</a> for further details."
     ]
    },
    {
     "ename": "",
     "evalue": "",
     "output_type": "error",
     "traceback": [
      "\u001b[1;31mnotebook controller is DISPOSED. \n",
      "\u001b[1;31mView Jupyter <a href='command:jupyter.viewOutput'>log</a> for further details."
     ]
    }
   ],
   "source": [
    "plt.plot(jnp.array(gs_xxz_l).T**2, label = [4,5,6,7,8])\n",
    "plt.yscale('log')\n",
    "plt.legend()\n",
    "plt.ylim(bottom=1e-10)"
   ]
  },
  {
   "cell_type": "code",
   "execution_count": 19,
   "metadata": {},
   "outputs": [
    {
     "name": "stdout",
     "output_type": "stream",
     "text": [
      "0.020238550527017514\n",
      "0.0030399735148109105\n",
      "0.007497759747610655\n",
      "0.014529147808521615\n"
     ]
    },
    {
     "ename": "",
     "evalue": "",
     "output_type": "error",
     "traceback": [
      "\u001b[1;31mnotebook controller is DISPOSED. \n",
      "\u001b[1;31mView Jupyter <a href='command:jupyter.viewOutput'>log</a> for further details."
     ]
    },
    {
     "ename": "",
     "evalue": "",
     "output_type": "error",
     "traceback": [
      "\u001b[1;31mnotebook controller is DISPOSED. \n",
      "\u001b[1;31mView Jupyter <a href='command:jupyter.viewOutput'>log</a> for further details."
     ]
    },
    {
     "ename": "",
     "evalue": "",
     "output_type": "error",
     "traceback": [
      "\u001b[1;31mnotebook controller is DISPOSED. \n",
      "\u001b[1;31mView Jupyter <a href='command:jupyter.viewOutput'>log</a> for further details."
     ]
    },
    {
     "ename": "",
     "evalue": "",
     "output_type": "error",
     "traceback": [
      "\u001b[1;31mnotebook controller is DISPOSED. \n",
      "\u001b[1;31mView Jupyter <a href='command:jupyter.viewOutput'>log</a> for further details."
     ]
    },
    {
     "ename": "",
     "evalue": "",
     "output_type": "error",
     "traceback": [
      "\u001b[1;31mnotebook controller is DISPOSED. \n",
      "\u001b[1;31mView Jupyter <a href='command:jupyter.viewOutput'>log</a> for further details."
     ]
    },
    {
     "ename": "",
     "evalue": "",
     "output_type": "error",
     "traceback": [
      "\u001b[1;31mnotebook controller is DISPOSED. \n",
      "\u001b[1;31mView Jupyter <a href='command:jupyter.viewOutput'>log</a> for further details."
     ]
    }
   ],
   "source": [
    "print(ipr(gs_xxz))\n",
    "print(ipr(gs_j1j2))\n",
    "print(ipr(gs_j1j2_1))\n",
    "print(ipr(heisenberg_gs))"
   ]
  },
  {
   "cell_type": "code",
   "execution_count": 27,
   "metadata": {},
   "outputs": [
    {
     "data": {
      "text/plain": [
       "(1e-11, np.float64(0.7518266873768118))"
      ]
     },
     "execution_count": 27,
     "metadata": {},
     "output_type": "execute_result"
    },
    {
     "data": {
      "image/png": "[encoded data removed]",
      "text/plain": [
       "<Figure size 1000x600 with 1 Axes>"
      ]
     },
     "metadata": {},
     "output_type": "display_data"
    },
    {
     "ename": "",
     "evalue": "",
     "output_type": "error",
     "traceback": [
      "\u001b[1;31mnotebook controller is DISPOSED. \n",
      "\u001b[1;31mView Jupyter <a href='command:jupyter.viewOutput'>log</a> for further details."
     ]
    },
    {
     "ename": "",
     "evalue": "",
     "output_type": "error",
     "traceback": [
      "\u001b[1;31mnotebook controller is DISPOSED. \n",
      "\u001b[1;31mView Jupyter <a href='command:jupyter.viewOutput'>log</a> for further details."
     ]
    },
    {
     "ename": "",
     "evalue": "",
     "output_type": "error",
     "traceback": [
      "\u001b[1;31mnotebook controller is DISPOSED. \n",
      "\u001b[1;31mView Jupyter <a href='command:jupyter.viewOutput'>log</a> for further details."
     ]
    },
    {
     "ename": "",
     "evalue": "",
     "output_type": "error",
     "traceback": [
      "\u001b[1;31mnotebook controller is DISPOSED. \n",
      "\u001b[1;31mView Jupyter <a href='command:jupyter.viewOutput'>log</a> for further details."
     ]
    },
    {
     "ename": "",
     "evalue": "",
     "output_type": "error",
     "traceback": [
      "\u001b[1;31mnotebook controller is DISPOSED. \n",
      "\u001b[1;31mView Jupyter <a href='command:jupyter.viewOutput'>log</a> for further details."
     ]
    },
    {
     "ename": "",
     "evalue": "",
     "output_type": "error",
     "traceback": [
      "\u001b[1;31mnotebook controller is DISPOSED. \n",
      "\u001b[1;31mView Jupyter <a href='command:jupyter.viewOutput'>log</a> for further details."
     ]
    }
   ],
   "source": [
    "plt.plot(heisenberg_gs[::-1]**2, label= r\"4x4 Heisenberg\")\n",
    "plt.plot(gs_j1j2[::-1]**2, label = r\"4x4 $J1$-$J2$, $J2=0.5$\")\n",
    "plt.plot(gs_j1j2_1[::-1]**2, label = r\"4x4 $J1$-$J2$, $J2=1.0$\")\n",
    "plt.plot(gs_xxz[::-1]**2, label= 'XXZ chain')\n",
    "plt.legend()\n",
    "plt.title('Exact ground state amplitudes for several models')\n",
    "plt.xlabel('Basis configuration index')\n",
    "plt.ylabel(\"Ground state Born Amplitude\")\n",
    "plt.yscale('log')\n",
    "plt.ylim(bottom=1e-11)"
   ]
  },
  {
   "cell_type": "code",
   "execution_count": 55,
   "metadata": {},
   "outputs": [
    {
     "data": {
      "text/plain": [
       "(1e-11, np.float64(0.17136710302684224))"
      ]
     },
     "execution_count": 55,
     "metadata": {},
     "output_type": "execute_result"
    },
    {
     "data": {
      "image/png": "[encoded data removed]",
      "text/plain": [
       "<Figure size 1000x600 with 1 Axes>"
      ]
     },
     "metadata": {},
     "output_type": "display_data"
    },
    {
     "ename": "",
     "evalue": "",
     "output_type": "error",
     "traceback": [
      "\u001b[1;31mnotebook controller is DISPOSED. \n",
      "\u001b[1;31mView Jupyter <a href='command:jupyter.viewOutput'>log</a> for further details."
     ]
    },
    {
     "ename": "",
     "evalue": "",
     "output_type": "error",
     "traceback": [
      "\u001b[1;31mnotebook controller is DISPOSED. \n",
      "\u001b[1;31mView Jupyter <a href='command:jupyter.viewOutput'>log</a> for further details."
     ]
    },
    {
     "ename": "",
     "evalue": "",
     "output_type": "error",
     "traceback": [
      "\u001b[1;31mnotebook controller is DISPOSED. \n",
      "\u001b[1;31mView Jupyter <a href='command:jupyter.viewOutput'>log</a> for further details."
     ]
    },
    {
     "ename": "",
     "evalue": "",
     "output_type": "error",
     "traceback": [
      "\u001b[1;31mnotebook controller is DISPOSED. \n",
      "\u001b[1;31mView Jupyter <a href='command:jupyter.viewOutput'>log</a> for further details."
     ]
    },
    {
     "ename": "",
     "evalue": "",
     "output_type": "error",
     "traceback": [
      "\u001b[1;31mnotebook controller is DISPOSED. \n",
      "\u001b[1;31mView Jupyter <a href='command:jupyter.viewOutput'>log</a> for further details."
     ]
    },
    {
     "ename": "",
     "evalue": "",
     "output_type": "error",
     "traceback": [
      "\u001b[1;31mnotebook controller is DISPOSED. \n",
      "\u001b[1;31mView Jupyter <a href='command:jupyter.viewOutput'>log</a> for further details."
     ]
    }
   ],
   "source": [
    "plt.plot(jnp.array(heisenberg_gs[::-1])**1.9/jnp.sum(jnp.array(heisenberg_gs[::-1])**1.9), label= r\"$|\\psi|^{1.9}$, 4x4 Heisenberg\")\n",
    "plt.plot(jnp.array(gs_j1j2[::-1])/jnp.sum(jnp.array(gs_j1j2[::-1])), label = r\"$|\\psi|$, 4x4 $J_1$-$J_2$, $J_2=0.5$\")\n",
    "plt.plot(jnp.array(gs_j1j2_1[::-1])**1.9/jnp.sum(jnp.array(gs_j1j2_1[::-1])**1.9), label = r\"$|\\psi|^{1.9}$, 4x4 $J_1$-$J_2$, $J_2=1.0$\")\n",
    "plt.plot(jnp.array(gs_xxz[::-1])**0.8/jnp.sum(jnp.array(gs_xxz[::-1])**0.8), label= r'$|\\psi|^{0.8}$, XXZ chain')\n",
    "plt.legend()\n",
    "plt.title('Near-optimal IS distribution for several models')\n",
    "plt.xlabel('Basis configuration index')\n",
    "plt.ylabel(\"Normalized IS amplitude\")\n",
    "plt.yscale('log')\n",
    "plt.ylim(bottom=1e-11)"
   ]
  }
 ],
 "metadata": {
  "kernelspec": {
   "display_name": "netket2_kernel",
   "language": "python",
   "name": "netket2_kernel"
  },
  "language_info": {
   "codemirror_mode": {
    "name": "ipython",
    "version": 3
   },
   "file_extension": ".py",
   "mimetype": "text/x-python",
   "name": "python",
   "nbconvert_exporter": "python",
   "pygments_lexer": "ipython3",
   "version": "3.11.2"
  }
 },
 "nbformat": 4,
 "nbformat_minor": 2
}
