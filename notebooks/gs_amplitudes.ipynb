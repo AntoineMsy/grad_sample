{
 "cells": [
  {
   "cell_type": "code",
   "execution_count": 1,
   "metadata": {},
   "outputs": [],
   "source": [
    "import jax.numpy as jnp\n",
    "# import netket_pro as nkp\n",
    "import matplotlib.pyplot as plt\n",
    "import os\n",
    "import netket as nk\n",
    "from scipy.sparse.linalg import eigsh\n",
    "from grad_sample.models.system.system import Square_Heisenberg\n",
    "from grad_sample.models.heisenberg import XXZ"
   ]
  },
  {
   "cell_type": "code",
   "execution_count": 2,
   "metadata": {},
   "outputs": [
    {
     "ename": "KeyboardInterrupt",
     "evalue": "",
     "output_type": "error",
     "traceback": [
      "\u001b[0;31m---------------------------------------------------------------------------\u001b[0m",
      "\u001b[0;31mKeyboardInterrupt\u001b[0m                         Traceback (most recent call last)",
      "Cell \u001b[0;32mIn[2], line 3\u001b[0m\n\u001b[1;32m      1\u001b[0m H_heisenberg \u001b[38;5;241m=\u001b[39m \u001b[43mSquare_Heisenberg\u001b[49m\u001b[43m(\u001b[49m\u001b[43mJ\u001b[49m\u001b[43m \u001b[49m\u001b[38;5;241;43m=\u001b[39;49m\u001b[43m \u001b[49m\u001b[43m[\u001b[49m\u001b[38;5;241;43m1.0\u001b[39;49m\u001b[43m]\u001b[49m\u001b[43m,\u001b[49m\n\u001b[1;32m      2\u001b[0m \u001b[43mL\u001b[49m\u001b[38;5;241;43m=\u001b[39;49m\u001b[38;5;241;43m4\u001b[39;49m\u001b[43m,\u001b[49m\n\u001b[0;32m----> 3\u001b[0m \u001b[43msign_rule\u001b[49m\u001b[38;5;241;43m=\u001b[39;49m\u001b[43m[\u001b[49m\u001b[38;5;241;43m0.0\u001b[39;49m\u001b[43m]\u001b[49m\u001b[43m)\u001b[49m\u001b[38;5;241;43m.\u001b[39;49m\u001b[43mhamiltonian\u001b[49m\u001b[38;5;241;43m.\u001b[39;49m\u001b[43mto_sparse\u001b[49m\u001b[43m(\u001b[49m\u001b[43m)\u001b[49m\n\u001b[1;32m      5\u001b[0m H_j1j2 \u001b[38;5;241m=\u001b[39m \u001b[38;5;28;01mlambda\u001b[39;00m j2 : Square_Heisenberg(J \u001b[38;5;241m=\u001b[39m [\u001b[38;5;241m1.0\u001b[39m, j2],\n\u001b[1;32m      6\u001b[0m L\u001b[38;5;241m=\u001b[39m\u001b[38;5;241m4\u001b[39m,\n\u001b[1;32m      7\u001b[0m sign_rule\u001b[38;5;241m=\u001b[39m[\u001b[38;5;241m0.0\u001b[39m, \u001b[38;5;241m0.0\u001b[39m])\u001b[38;5;241m.\u001b[39mhamiltonian\u001b[38;5;241m.\u001b[39mto_sparse()\n",
      "File \u001b[0;32m/mnt/beegfs/workdir/antoine.misery/mambaforge/envs/netket/lib/python3.11/site-packages/netket/operator/_discrete_operator.py:206\u001b[0m, in \u001b[0;36mDiscreteOperator.to_sparse\u001b[0;34m(self)\u001b[0m\n\u001b[1;32m    203\u001b[0m concrete_op \u001b[38;5;241m=\u001b[39m \u001b[38;5;28mself\u001b[39m\u001b[38;5;241m.\u001b[39mcollect()\n\u001b[1;32m    204\u001b[0m hilb \u001b[38;5;241m=\u001b[39m \u001b[38;5;28mself\u001b[39m\u001b[38;5;241m.\u001b[39mhilbert\n\u001b[0;32m--> 206\u001b[0m x \u001b[38;5;241m=\u001b[39m \u001b[43mhilb\u001b[49m\u001b[38;5;241;43m.\u001b[39;49m\u001b[43mall_states\u001b[49m\u001b[43m(\u001b[49m\u001b[43m)\u001b[49m\n\u001b[1;32m    208\u001b[0m sections \u001b[38;5;241m=\u001b[39m np\u001b[38;5;241m.\u001b[39mempty(x\u001b[38;5;241m.\u001b[39mshape[\u001b[38;5;241m0\u001b[39m], dtype\u001b[38;5;241m=\u001b[39mnp\u001b[38;5;241m.\u001b[39mint32)\n\u001b[1;32m    209\u001b[0m x_prime, mels \u001b[38;5;241m=\u001b[39m concrete_op\u001b[38;5;241m.\u001b[39mget_conn_flattened(x, sections)\n",
      "File \u001b[0;32m/mnt/beegfs/workdir/antoine.misery/mambaforge/envs/netket/lib/python3.11/site-packages/netket/hilbert/homogeneous.py:296\u001b[0m, in \u001b[0;36mHomogeneousHilbert.all_states\u001b[0;34m(self)\u001b[0m\n\u001b[1;32m    293\u001b[0m \u001b[38;5;28;01mif\u001b[39;00m \u001b[38;5;129;01mnot\u001b[39;00m \u001b[38;5;28mself\u001b[39m\u001b[38;5;241m.\u001b[39mis_indexable:  \u001b[38;5;66;03m# includes call to _setup\u001b[39;00m\n\u001b[1;32m    294\u001b[0m     \u001b[38;5;28;01mraise\u001b[39;00m \u001b[38;5;167;01mRuntimeError\u001b[39;00m(\u001b[38;5;124m\"\u001b[39m\u001b[38;5;124mThe hilbert space is too large to be indexed.\u001b[39m\u001b[38;5;124m\"\u001b[39m)\n\u001b[0;32m--> 296\u001b[0m \u001b[38;5;28;01mreturn\u001b[39;00m \u001b[38;5;28;43mself\u001b[39;49m\u001b[38;5;241;43m.\u001b[39;49m\u001b[43m_hilbert_index\u001b[49m\u001b[38;5;241;43m.\u001b[39;49m\u001b[43mall_states\u001b[49m\u001b[43m(\u001b[49m\u001b[43m)\u001b[49m\n",
      "File \u001b[0;32m/mnt/beegfs/workdir/antoine.misery/mambaforge/envs/netket/lib/python3.11/site-packages/netket/hilbert/index/constrained_sum.py:76\u001b[0m, in \u001b[0;36mSumConstrainedHilbertIndex.all_states\u001b[0;34m(self)\u001b[0m\n\u001b[1;32m     75\u001b[0m \u001b[38;5;28;01mdef\u001b[39;00m \u001b[38;5;21mall_states\u001b[39m(\u001b[38;5;28mself\u001b[39m):\n\u001b[0;32m---> 76\u001b[0m     \u001b[38;5;28;01mreturn\u001b[39;00m \u001b[38;5;28;43mself\u001b[39;49m\u001b[38;5;241;43m.\u001b[39;49m\u001b[43m_lookup_table\u001b[49m\u001b[38;5;241m.\u001b[39mall_states()\n",
      "File \u001b[0;32m<string>:4\u001b[0m, in \u001b[0;36m_lookup_table\u001b[0;34m(self)\u001b[0m\n",
      "File \u001b[0;32m/mnt/beegfs/workdir/antoine.misery/mambaforge/envs/netket/lib/python3.11/site-packages/netket/hilbert/index/constrained_sum.py:100\u001b[0m, in \u001b[0;36mSumConstrainedHilbertIndex._lookup_table\u001b[0;34m(self)\u001b[0m\n\u001b[1;32m     97\u001b[0m \u001b[38;5;129m@struct\u001b[39m\u001b[38;5;241m.\u001b[39mproperty_cached(pytree_node\u001b[38;5;241m=\u001b[39m\u001b[38;5;28;01mTrue\u001b[39;00m)\n\u001b[1;32m     98\u001b[0m \u001b[38;5;28;01mdef\u001b[39;00m \u001b[38;5;21m_lookup_table\u001b[39m(\u001b[38;5;28mself\u001b[39m) \u001b[38;5;241m-\u001b[39m\u001b[38;5;241m>\u001b[39m LookupTableHilbertIndex:\n\u001b[1;32m     99\u001b[0m     \u001b[38;5;28;01mwith\u001b[39;00m jax\u001b[38;5;241m.\u001b[39mensure_compile_time_eval():\n\u001b[0;32m--> 100\u001b[0m         all_states \u001b[38;5;241m=\u001b[39m \u001b[38;5;28;43mself\u001b[39;49m\u001b[38;5;241;43m.\u001b[39;49m\u001b[43m_compute_all_states\u001b[49m\u001b[43m(\u001b[49m\u001b[43m)\u001b[49m\n\u001b[1;32m    101\u001b[0m     \u001b[38;5;28;01mreturn\u001b[39;00m LookupTableHilbertIndex(all_states)\n",
      "    \u001b[0;31m[... skipping hidden 1 frame]\u001b[0m\n",
      "File \u001b[0;32m/mnt/beegfs/workdir/antoine.misery/mambaforge/envs/netket/lib/python3.11/site-packages/jax/_src/pjit.py:337\u001b[0m, in \u001b[0;36m_cpp_pjit.<locals>.cache_miss\u001b[0;34m(*args, **kwargs)\u001b[0m\n\u001b[1;32m    332\u001b[0m \u001b[38;5;28;01mif\u001b[39;00m config\u001b[38;5;241m.\u001b[39mno_tracing\u001b[38;5;241m.\u001b[39mvalue:\n\u001b[1;32m    333\u001b[0m   \u001b[38;5;28;01mraise\u001b[39;00m \u001b[38;5;167;01mRuntimeError\u001b[39;00m(\u001b[38;5;124mf\u001b[39m\u001b[38;5;124m\"\u001b[39m\u001b[38;5;124mre-tracing function \u001b[39m\u001b[38;5;132;01m{\u001b[39;00mjit_info\u001b[38;5;241m.\u001b[39mfun_sourceinfo\u001b[38;5;132;01m}\u001b[39;00m\u001b[38;5;124m for \u001b[39m\u001b[38;5;124m\"\u001b[39m\n\u001b[1;32m    334\u001b[0m                      \u001b[38;5;124m\"\u001b[39m\u001b[38;5;124m`jit`, but \u001b[39m\u001b[38;5;124m'\u001b[39m\u001b[38;5;124mno_tracing\u001b[39m\u001b[38;5;124m'\u001b[39m\u001b[38;5;124m is set\u001b[39m\u001b[38;5;124m\"\u001b[39m)\n\u001b[1;32m    336\u001b[0m (outs, out_flat, out_tree, args_flat, jaxpr, attrs_tracked, executable,\n\u001b[0;32m--> 337\u001b[0m  pgle_profiler) \u001b[38;5;241m=\u001b[39m \u001b[43m_python_pjit_helper\u001b[49m\u001b[43m(\u001b[49m\u001b[43mfun\u001b[49m\u001b[43m,\u001b[49m\u001b[43m \u001b[49m\u001b[43mjit_info\u001b[49m\u001b[43m,\u001b[49m\u001b[43m \u001b[49m\u001b[38;5;241;43m*\u001b[39;49m\u001b[43margs\u001b[49m\u001b[43m,\u001b[49m\u001b[43m \u001b[49m\u001b[38;5;241;43m*\u001b[39;49m\u001b[38;5;241;43m*\u001b[39;49m\u001b[43mkwargs\u001b[49m\u001b[43m)\u001b[49m\n\u001b[1;32m    339\u001b[0m maybe_fastpath_data \u001b[38;5;241m=\u001b[39m _get_fastpath_data(\n\u001b[1;32m    340\u001b[0m     executable, out_tree, args_flat, out_flat, attrs_tracked, jaxpr\u001b[38;5;241m.\u001b[39meffects,\n\u001b[1;32m    341\u001b[0m     jaxpr\u001b[38;5;241m.\u001b[39mconsts, jit_info\u001b[38;5;241m.\u001b[39mabstracted_axes,\n\u001b[1;32m    342\u001b[0m     pgle_profiler)\n\u001b[1;32m    344\u001b[0m \u001b[38;5;28;01mreturn\u001b[39;00m outs, maybe_fastpath_data, _need_to_rebuild_with_fdo(pgle_profiler)\n",
      "File \u001b[0;32m/mnt/beegfs/workdir/antoine.misery/mambaforge/envs/netket/lib/python3.11/site-packages/jax/_src/pjit.py:177\u001b[0m, in \u001b[0;36m_python_pjit_helper\u001b[0;34m(fun, jit_info, *args, **kwargs)\u001b[0m\n\u001b[1;32m    176\u001b[0m \u001b[38;5;28;01mdef\u001b[39;00m \u001b[38;5;21m_python_pjit_helper\u001b[39m(fun, jit_info, \u001b[38;5;241m*\u001b[39margs, \u001b[38;5;241m*\u001b[39m\u001b[38;5;241m*\u001b[39mkwargs):\n\u001b[0;32m--> 177\u001b[0m   p, args_flat \u001b[38;5;241m=\u001b[39m \u001b[43m_infer_params\u001b[49m\u001b[43m(\u001b[49m\u001b[43mfun\u001b[49m\u001b[43m,\u001b[49m\u001b[43m \u001b[49m\u001b[43mjit_info\u001b[49m\u001b[43m,\u001b[49m\u001b[43m \u001b[49m\u001b[43margs\u001b[49m\u001b[43m,\u001b[49m\u001b[43m \u001b[49m\u001b[43mkwargs\u001b[49m\u001b[43m)\u001b[49m\n\u001b[1;32m    179\u001b[0m   \u001b[38;5;28;01mfor\u001b[39;00m arg \u001b[38;5;129;01min\u001b[39;00m args_flat:\n\u001b[1;32m    180\u001b[0m     dispatch\u001b[38;5;241m.\u001b[39mcheck_arg(arg)\n",
      "File \u001b[0;32m/mnt/beegfs/workdir/antoine.misery/mambaforge/envs/netket/lib/python3.11/site-packages/jax/_src/pjit.py:769\u001b[0m, in \u001b[0;36m_infer_params\u001b[0;34m(fun, ji, args, kwargs)\u001b[0m\n\u001b[1;32m    766\u001b[0m entry \u001b[38;5;241m=\u001b[39m _infer_params_cached(\n\u001b[1;32m    767\u001b[0m     fun, ji, signature, avals, pjit_mesh, resource_env)\n\u001b[1;32m    768\u001b[0m \u001b[38;5;28;01mif\u001b[39;00m entry\u001b[38;5;241m.\u001b[39mpjit_params \u001b[38;5;129;01mis\u001b[39;00m \u001b[38;5;28;01mNone\u001b[39;00m:\n\u001b[0;32m--> 769\u001b[0m   p, args_flat \u001b[38;5;241m=\u001b[39m \u001b[43m_infer_params_impl\u001b[49m\u001b[43m(\u001b[49m\n\u001b[1;32m    770\u001b[0m \u001b[43m      \u001b[49m\u001b[43mfun\u001b[49m\u001b[43m,\u001b[49m\u001b[43m \u001b[49m\u001b[43mji\u001b[49m\u001b[43m,\u001b[49m\u001b[43m \u001b[49m\u001b[43mpjit_mesh\u001b[49m\u001b[43m,\u001b[49m\u001b[43m \u001b[49m\u001b[43mresource_env\u001b[49m\u001b[43m,\u001b[49m\u001b[43m \u001b[49m\u001b[43margs\u001b[49m\u001b[43m,\u001b[49m\u001b[43m \u001b[49m\u001b[43mkwargs\u001b[49m\u001b[43m,\u001b[49m\u001b[43m \u001b[49m\u001b[43min_avals\u001b[49m\u001b[38;5;241;43m=\u001b[39;49m\u001b[43mavals\u001b[49m\u001b[43m)\u001b[49m\n\u001b[1;32m    771\u001b[0m   \u001b[38;5;28;01mif\u001b[39;00m p\u001b[38;5;241m.\u001b[39mattrs_tracked:\n\u001b[1;32m    772\u001b[0m     \u001b[38;5;66;03m# If there are attrs_tracked, don't use the cache.\u001b[39;00m\n\u001b[1;32m    773\u001b[0m     \u001b[38;5;28;01mreturn\u001b[39;00m p, p\u001b[38;5;241m.\u001b[39mconsts \u001b[38;5;241m+\u001b[39m args_flat\n",
      "File \u001b[0;32m/mnt/beegfs/workdir/antoine.misery/mambaforge/envs/netket/lib/python3.11/site-packages/jax/_src/pjit.py:651\u001b[0m, in \u001b[0;36m_infer_params_impl\u001b[0;34m(***failed resolving arguments***)\u001b[0m\n\u001b[1;32m    647\u001b[0m abstract_mesh \u001b[38;5;241m=\u001b[39m (\n\u001b[1;32m    648\u001b[0m     get_abstract_mesh_from_avals(in_type)\n\u001b[1;32m    649\u001b[0m     \u001b[38;5;28;01mif\u001b[39;00m \u001b[38;5;129;01mnot\u001b[39;00m mesh_lib\u001b[38;5;241m.\u001b[39mget_abstract_mesh() \u001b[38;5;28;01melse\u001b[39;00m mesh_lib\u001b[38;5;241m.\u001b[39mget_abstract_mesh())\n\u001b[1;32m    650\u001b[0m \u001b[38;5;28;01mwith\u001b[39;00m mesh_lib\u001b[38;5;241m.\u001b[39mset_abstract_mesh(abstract_mesh):\n\u001b[0;32m--> 651\u001b[0m   jaxpr, consts, out_avals, attrs_tracked \u001b[38;5;241m=\u001b[39m \u001b[43m_create_pjit_jaxpr\u001b[49m\u001b[43m(\u001b[49m\n\u001b[1;32m    652\u001b[0m \u001b[43m      \u001b[49m\u001b[43mflat_fun\u001b[49m\u001b[43m,\u001b[49m\u001b[43m \u001b[49m\u001b[43min_type\u001b[49m\u001b[43m,\u001b[49m\u001b[43m \u001b[49m\u001b[43mattr_token\u001b[49m\u001b[43m,\u001b[49m\u001b[43m \u001b[49m\u001b[43mdbg\u001b[49m\u001b[43m,\u001b[49m\n\u001b[1;32m    653\u001b[0m \u001b[43m      \u001b[49m\u001b[43mHashableFunction\u001b[49m\u001b[43m(\u001b[49m\u001b[43mres_paths\u001b[49m\u001b[43m,\u001b[49m\u001b[43m \u001b[49m\u001b[43mclosure\u001b[49m\u001b[38;5;241;43m=\u001b[39;49m\u001b[43m(\u001b[49m\u001b[43m)\u001b[49m\u001b[43m)\u001b[49m\u001b[43m,\u001b[49m\n\u001b[1;32m    654\u001b[0m \u001b[43m      \u001b[49m\u001b[43mIgnoreKey\u001b[49m\u001b[43m(\u001b[49m\u001b[43mji\u001b[49m\u001b[38;5;241;43m.\u001b[39;49m\u001b[43minline\u001b[49m\u001b[43m)\u001b[49m\u001b[43m)\u001b[49m\n\u001b[1;32m    655\u001b[0m _attr_update(flat_fun, in_type, attr_token, attrs_tracked)\n\u001b[1;32m    657\u001b[0m out_shardings_flat, out_layouts_flat \u001b[38;5;241m=\u001b[39m _check_and_canonicalize_out_shardings(\n\u001b[1;32m    658\u001b[0m     out_shardings_treedef, out_shardings_leaves, ji\u001b[38;5;241m.\u001b[39mout_layouts_treedef,\n\u001b[1;32m    659\u001b[0m     ji\u001b[38;5;241m.\u001b[39mout_layouts_leaves, HashableFunction(out_tree, closure\u001b[38;5;241m=\u001b[39m()),\n\u001b[1;32m    660\u001b[0m     \u001b[38;5;28mtuple\u001b[39m(out_avals), jaxpr\u001b[38;5;241m.\u001b[39mjaxpr\u001b[38;5;241m.\u001b[39mdebug_info, device_or_backend_set)\n",
      "File \u001b[0;32m/mnt/beegfs/workdir/antoine.misery/mambaforge/envs/netket/lib/python3.11/site-packages/jax/_src/linear_util.py:335\u001b[0m, in \u001b[0;36mcache.<locals>.memoized_fun\u001b[0;34m(fun, *args)\u001b[0m\n\u001b[1;32m    333\u001b[0m   fun\u001b[38;5;241m.\u001b[39mpopulate_stores(stores)\n\u001b[1;32m    334\u001b[0m \u001b[38;5;28;01melse\u001b[39;00m:\n\u001b[0;32m--> 335\u001b[0m   ans \u001b[38;5;241m=\u001b[39m \u001b[43mcall\u001b[49m\u001b[43m(\u001b[49m\u001b[43mfun\u001b[49m\u001b[43m,\u001b[49m\u001b[43m \u001b[49m\u001b[38;5;241;43m*\u001b[39;49m\u001b[43margs\u001b[49m\u001b[43m)\u001b[49m\n\u001b[1;32m    336\u001b[0m   \u001b[38;5;28;01mif\u001b[39;00m explain \u001b[38;5;129;01mand\u001b[39;00m config\u001b[38;5;241m.\u001b[39mexplain_cache_misses\u001b[38;5;241m.\u001b[39mvalue:\n\u001b[1;32m    337\u001b[0m     explain(fun\u001b[38;5;241m.\u001b[39mf, cache \u001b[38;5;129;01mis\u001b[39;00m new_cache, cache, key)\n",
      "File \u001b[0;32m/mnt/beegfs/workdir/antoine.misery/mambaforge/envs/netket/lib/python3.11/site-packages/jax/_src/pjit.py:1315\u001b[0m, in \u001b[0;36m_create_pjit_jaxpr\u001b[0;34m(***failed resolving arguments***)\u001b[0m\n\u001b[1;32m   1313\u001b[0m     attrs_tracked \u001b[38;5;241m=\u001b[39m []\n\u001b[1;32m   1314\u001b[0m   \u001b[38;5;28;01melse\u001b[39;00m:\n\u001b[0;32m-> 1315\u001b[0m     jaxpr, global_out_avals, consts, attrs_tracked \u001b[38;5;241m=\u001b[39m \u001b[43mpe\u001b[49m\u001b[38;5;241;43m.\u001b[39;49m\u001b[43mtrace_to_jaxpr_dynamic\u001b[49m\u001b[43m(\u001b[49m\n\u001b[1;32m   1316\u001b[0m \u001b[43m        \u001b[49m\u001b[43mfun\u001b[49m\u001b[43m,\u001b[49m\u001b[43m \u001b[49m\u001b[43min_type\u001b[49m\u001b[43m,\u001b[49m\u001b[43m \u001b[49m\u001b[43mdebug_info\u001b[49m\u001b[38;5;241;43m=\u001b[39;49m\u001b[43mpe_debug\u001b[49m\u001b[43m)\u001b[49m\n\u001b[1;32m   1317\u001b[0m     \u001b[38;5;66;03m# assert attr_data is sentinel or attr_data matches attrs_tracked\u001b[39;00m\n\u001b[1;32m   1318\u001b[0m \n\u001b[1;32m   1319\u001b[0m \u001b[38;5;66;03m# TODO(dougalm,mattjj): enable debug info with attrs_tracked\u001b[39;00m\n\u001b[1;32m   1320\u001b[0m \u001b[38;5;28;01mif\u001b[39;00m \u001b[38;5;129;01mnot\u001b[39;00m config\u001b[38;5;241m.\u001b[39mdynamic_shapes\u001b[38;5;241m.\u001b[39mvalue \u001b[38;5;129;01mand\u001b[39;00m \u001b[38;5;129;01mnot\u001b[39;00m attrs_tracked:\n",
      "File \u001b[0;32m/mnt/beegfs/workdir/antoine.misery/mambaforge/envs/netket/lib/python3.11/site-packages/jax/_src/profiler.py:333\u001b[0m, in \u001b[0;36mannotate_function.<locals>.wrapper\u001b[0;34m(*args, **kwargs)\u001b[0m\n\u001b[1;32m    330\u001b[0m \u001b[38;5;129m@wraps\u001b[39m(func)\n\u001b[1;32m    331\u001b[0m \u001b[38;5;28;01mdef\u001b[39;00m \u001b[38;5;21mwrapper\u001b[39m(\u001b[38;5;241m*\u001b[39margs, \u001b[38;5;241m*\u001b[39m\u001b[38;5;241m*\u001b[39mkwargs):\n\u001b[1;32m    332\u001b[0m   \u001b[38;5;28;01mwith\u001b[39;00m TraceAnnotation(name, \u001b[38;5;241m*\u001b[39m\u001b[38;5;241m*\u001b[39mdecorator_kwargs):\n\u001b[0;32m--> 333\u001b[0m     \u001b[38;5;28;01mreturn\u001b[39;00m \u001b[43mfunc\u001b[49m\u001b[43m(\u001b[49m\u001b[38;5;241;43m*\u001b[39;49m\u001b[43margs\u001b[49m\u001b[43m,\u001b[49m\u001b[43m \u001b[49m\u001b[38;5;241;43m*\u001b[39;49m\u001b[38;5;241;43m*\u001b[39;49m\u001b[43mkwargs\u001b[49m\u001b[43m)\u001b[49m\n\u001b[1;32m    334\u001b[0m   \u001b[38;5;28;01mreturn\u001b[39;00m wrapper\n",
      "File \u001b[0;32m/mnt/beegfs/workdir/antoine.misery/mambaforge/envs/netket/lib/python3.11/site-packages/jax/_src/interpreters/partial_eval.py:2189\u001b[0m, in \u001b[0;36mtrace_to_jaxpr_dynamic\u001b[0;34m(fun, in_avals, debug_info, keep_inputs)\u001b[0m\n\u001b[1;32m   2187\u001b[0m in_tracers \u001b[38;5;241m=\u001b[39m [t \u001b[38;5;28;01mfor\u001b[39;00m t, keep \u001b[38;5;129;01min\u001b[39;00m \u001b[38;5;28mzip\u001b[39m(in_tracers, keep_inputs) \u001b[38;5;28;01mif\u001b[39;00m keep]\n\u001b[1;32m   2188\u001b[0m \u001b[38;5;28;01mwith\u001b[39;00m core\u001b[38;5;241m.\u001b[39mset_current_trace(trace):\n\u001b[0;32m-> 2189\u001b[0m   ans \u001b[38;5;241m=\u001b[39m \u001b[43mfun\u001b[49m\u001b[38;5;241;43m.\u001b[39;49m\u001b[43mcall_wrapped\u001b[49m\u001b[43m(\u001b[49m\u001b[38;5;241;43m*\u001b[39;49m\u001b[43min_tracers\u001b[49m\u001b[43m)\u001b[49m\n\u001b[1;32m   2191\u001b[0m out_tracers \u001b[38;5;241m=\u001b[39m \u001b[38;5;28mmap\u001b[39m(trace\u001b[38;5;241m.\u001b[39mto_jaxpr_tracer, ans)\n\u001b[1;32m   2192\u001b[0m jaxpr, consts, attrs_tracked \u001b[38;5;241m=\u001b[39m trace\u001b[38;5;241m.\u001b[39mto_jaxpr(out_tracers)\n",
      "File \u001b[0;32m/mnt/beegfs/workdir/antoine.misery/mambaforge/envs/netket/lib/python3.11/site-packages/jax/_src/linear_util.py:187\u001b[0m, in \u001b[0;36mWrappedFun.call_wrapped\u001b[0;34m(self, *args, **kwargs)\u001b[0m\n\u001b[1;32m    185\u001b[0m \u001b[38;5;28;01mdef\u001b[39;00m \u001b[38;5;21mcall_wrapped\u001b[39m(\u001b[38;5;28mself\u001b[39m, \u001b[38;5;241m*\u001b[39margs, \u001b[38;5;241m*\u001b[39m\u001b[38;5;241m*\u001b[39mkwargs):\n\u001b[1;32m    186\u001b[0m \u001b[38;5;250m  \u001b[39m\u001b[38;5;124;03m\"\"\"Calls the transformed function\"\"\"\u001b[39;00m\n\u001b[0;32m--> 187\u001b[0m   \u001b[38;5;28;01mreturn\u001b[39;00m \u001b[38;5;28;43mself\u001b[39;49m\u001b[38;5;241;43m.\u001b[39;49m\u001b[43mf_transformed\u001b[49m\u001b[43m(\u001b[49m\u001b[38;5;241;43m*\u001b[39;49m\u001b[43margs\u001b[49m\u001b[43m,\u001b[49m\u001b[43m \u001b[49m\u001b[38;5;241;43m*\u001b[39;49m\u001b[38;5;241;43m*\u001b[39;49m\u001b[43mkwargs\u001b[49m\u001b[43m)\u001b[49m\n",
      "File \u001b[0;32m/mnt/beegfs/workdir/antoine.misery/mambaforge/envs/netket/lib/python3.11/site-packages/jax/_src/api_util.py:294\u001b[0m, in \u001b[0;36m_argnums_partial\u001b[0;34m(_fun, _dyn_argnums, _fixed_args, *dyn_args, **kwargs)\u001b[0m\n\u001b[1;32m    292\u001b[0m args \u001b[38;5;241m=\u001b[39m [\u001b[38;5;28mnext\u001b[39m(fixed_args_)\u001b[38;5;241m.\u001b[39mval \u001b[38;5;28;01mif\u001b[39;00m x \u001b[38;5;129;01mis\u001b[39;00m sentinel \u001b[38;5;28;01melse\u001b[39;00m x \u001b[38;5;28;01mfor\u001b[39;00m x \u001b[38;5;129;01min\u001b[39;00m args]\n\u001b[1;32m    293\u001b[0m \u001b[38;5;28;01massert\u001b[39;00m \u001b[38;5;28mnext\u001b[39m(fixed_args_, sentinel) \u001b[38;5;129;01mis\u001b[39;00m sentinel\n\u001b[0;32m--> 294\u001b[0m \u001b[38;5;28;01mreturn\u001b[39;00m \u001b[43m_fun\u001b[49m\u001b[43m(\u001b[49m\u001b[38;5;241;43m*\u001b[39;49m\u001b[43margs\u001b[49m\u001b[43m,\u001b[49m\u001b[43m \u001b[49m\u001b[38;5;241;43m*\u001b[39;49m\u001b[38;5;241;43m*\u001b[39;49m\u001b[43mkwargs\u001b[49m\u001b[43m)\u001b[49m\n",
      "File \u001b[0;32m/mnt/beegfs/workdir/antoine.misery/mambaforge/envs/netket/lib/python3.11/site-packages/jax/_src/api_util.py:74\u001b[0m, in \u001b[0;36mflatten_fun\u001b[0;34m(f, store, in_tree, *args_flat)\u001b[0m\n\u001b[1;32m     71\u001b[0m \u001b[38;5;129m@lu\u001b[39m\u001b[38;5;241m.\u001b[39mtransformation_with_aux2\n\u001b[1;32m     72\u001b[0m \u001b[38;5;28;01mdef\u001b[39;00m \u001b[38;5;21mflatten_fun\u001b[39m(f, store, in_tree, \u001b[38;5;241m*\u001b[39margs_flat):\n\u001b[1;32m     73\u001b[0m   py_args, py_kwargs \u001b[38;5;241m=\u001b[39m tree_unflatten(in_tree, args_flat)\n\u001b[0;32m---> 74\u001b[0m   ans \u001b[38;5;241m=\u001b[39m \u001b[43mf\u001b[49m\u001b[43m(\u001b[49m\u001b[38;5;241;43m*\u001b[39;49m\u001b[43mpy_args\u001b[49m\u001b[43m,\u001b[49m\u001b[43m \u001b[49m\u001b[38;5;241;43m*\u001b[39;49m\u001b[38;5;241;43m*\u001b[39;49m\u001b[43mpy_kwargs\u001b[49m\u001b[43m)\u001b[49m\n\u001b[1;32m     75\u001b[0m   ans, out_tree \u001b[38;5;241m=\u001b[39m tree_flatten(ans)\n\u001b[1;32m     76\u001b[0m   store\u001b[38;5;241m.\u001b[39mstore(out_tree)\n",
      "File \u001b[0;32m/mnt/beegfs/workdir/antoine.misery/mambaforge/envs/netket/lib/python3.11/site-packages/jax/_src/api_util.py:691\u001b[0m, in \u001b[0;36mresult_paths\u001b[0;34m(_fun, _store, *args, **kwargs)\u001b[0m\n\u001b[1;32m    688\u001b[0m \u001b[38;5;129m@lu\u001b[39m\u001b[38;5;241m.\u001b[39mtransformation_with_aux2\n\u001b[1;32m    689\u001b[0m \u001b[38;5;28;01mdef\u001b[39;00m \u001b[38;5;21mresult_paths\u001b[39m(_fun, _store, \u001b[38;5;241m*\u001b[39margs, \u001b[38;5;241m*\u001b[39m\u001b[38;5;241m*\u001b[39mkwargs):\n\u001b[1;32m    690\u001b[0m   \u001b[38;5;124m\"\u001b[39m\u001b[38;5;124mlinear_util transform to get output pytree paths of pre-flattened function.\u001b[39m\u001b[38;5;124m\"\u001b[39m\n\u001b[0;32m--> 691\u001b[0m   ans \u001b[38;5;241m=\u001b[39m \u001b[43m_fun\u001b[49m\u001b[43m(\u001b[49m\u001b[38;5;241;43m*\u001b[39;49m\u001b[43margs\u001b[49m\u001b[43m,\u001b[49m\u001b[43m \u001b[49m\u001b[38;5;241;43m*\u001b[39;49m\u001b[38;5;241;43m*\u001b[39;49m\u001b[43mkwargs\u001b[49m\u001b[43m)\u001b[49m\n\u001b[1;32m    692\u001b[0m   _store\u001b[38;5;241m.\u001b[39mstore([keystr(path) \u001b[38;5;28;01mfor\u001b[39;00m path, _ \u001b[38;5;129;01min\u001b[39;00m generate_key_paths(ans)])\n\u001b[1;32m    693\u001b[0m   \u001b[38;5;28;01mreturn\u001b[39;00m ans\n",
      "File \u001b[0;32m/mnt/beegfs/workdir/antoine.misery/mambaforge/envs/netket/lib/python3.11/site-packages/netket/hilbert/index/constrained_sum.py:84\u001b[0m, in \u001b[0;36mSumConstrainedHilbertIndex._compute_all_states\u001b[0;34m(self)\u001b[0m\n\u001b[1;32m     81\u001b[0m     \u001b[38;5;28;01mreturn\u001b[39;00m jnp\u001b[38;5;241m.\u001b[39mzeros((\u001b[38;5;241m1\u001b[39m, \u001b[38;5;28mself\u001b[39m\u001b[38;5;241m.\u001b[39msize), dtype\u001b[38;5;241m=\u001b[39m\u001b[38;5;28mself\u001b[39m\u001b[38;5;241m.\u001b[39mrange\u001b[38;5;241m.\u001b[39mdtype)\n\u001b[1;32m     82\u001b[0m \u001b[38;5;28;01mwith\u001b[39;00m jax\u001b[38;5;241m.\u001b[39mensure_compile_time_eval():\n\u001b[1;32m     83\u001b[0m     c \u001b[38;5;241m=\u001b[39m jnp\u001b[38;5;241m.\u001b[39mrepeat(\n\u001b[0;32m---> 84\u001b[0m         \u001b[43mjnp\u001b[49m\u001b[38;5;241;43m.\u001b[39;49m\u001b[43meye\u001b[49m\u001b[43m(\u001b[49m\u001b[38;5;28;43mself\u001b[39;49m\u001b[38;5;241;43m.\u001b[39;49m\u001b[43msize\u001b[49m\u001b[43m,\u001b[49m\u001b[43m \u001b[49m\u001b[43mdtype\u001b[49m\u001b[38;5;241;43m=\u001b[39;49m\u001b[38;5;28;43mself\u001b[39;49m\u001b[38;5;241;43m.\u001b[39;49m\u001b[43mrange\u001b[49m\u001b[38;5;241;43m.\u001b[39;49m\u001b[43mdtype\u001b[49m\u001b[43m)\u001b[49m,\n\u001b[1;32m     85\u001b[0m         np\u001b[38;5;241m.\u001b[39marray(\u001b[38;5;28mself\u001b[39m\u001b[38;5;241m.\u001b[39mshape) \u001b[38;5;241m-\u001b[39m \u001b[38;5;241m1\u001b[39m,\n\u001b[1;32m     86\u001b[0m         axis\u001b[38;5;241m=\u001b[39m\u001b[38;5;241m0\u001b[39m,\n\u001b[1;32m     87\u001b[0m     )\n\u001b[1;32m     88\u001b[0m     combs \u001b[38;5;241m=\u001b[39m jnp\u001b[38;5;241m.\u001b[39marray(\n\u001b[1;32m     89\u001b[0m         \u001b[38;5;28mlist\u001b[39m(itertools\u001b[38;5;241m.\u001b[39mcombinations(np\u001b[38;5;241m.\u001b[39marange(\u001b[38;5;28mlen\u001b[39m(c)), \u001b[38;5;28mself\u001b[39m\u001b[38;5;241m.\u001b[39mn_particles))\n\u001b[1;32m     90\u001b[0m     )\n\u001b[1;32m     91\u001b[0m     all_states \u001b[38;5;241m=\u001b[39m c[combs]\u001b[38;5;241m.\u001b[39msum(axis\u001b[38;5;241m=\u001b[39m\u001b[38;5;241m1\u001b[39m, dtype\u001b[38;5;241m=\u001b[39m\u001b[38;5;28mself\u001b[39m\u001b[38;5;241m.\u001b[39mrange\u001b[38;5;241m.\u001b[39mdtype)\n",
      "File \u001b[0;32m/mnt/beegfs/workdir/antoine.misery/mambaforge/envs/netket/lib/python3.11/site-packages/jax/_src/numpy/lax_numpy.py:6633\u001b[0m, in \u001b[0;36meye\u001b[0;34m(N, M, k, dtype, device)\u001b[0m\n\u001b[1;32m   6584\u001b[0m \u001b[38;5;250m\u001b[39m\u001b[38;5;124;03m\"\"\"Create a square or rectangular identity matrix\u001b[39;00m\n\u001b[1;32m   6585\u001b[0m \n\u001b[1;32m   6586\u001b[0m \u001b[38;5;124;03mJAX implementation of :func:`numpy.eye`.\u001b[39;00m\n\u001b[0;32m   (...)\u001b[0m\n\u001b[1;32m   6629\u001b[0m \u001b[38;5;124;03m         [0., 0., 0., 1., 0.]], dtype=float32)\u001b[39;00m\n\u001b[1;32m   6630\u001b[0m \u001b[38;5;124;03m\"\"\"\u001b[39;00m\n\u001b[1;32m   6631\u001b[0m \u001b[38;5;66;03m# TODO(vfdev-5): optimize putting the array directly on the device specified\u001b[39;00m\n\u001b[1;32m   6632\u001b[0m \u001b[38;5;66;03m# instead of putting it on default device and then on the specific device\u001b[39;00m\n\u001b[0;32m-> 6633\u001b[0m output \u001b[38;5;241m=\u001b[39m \u001b[43m_eye\u001b[49m\u001b[43m(\u001b[49m\u001b[43mN\u001b[49m\u001b[43m,\u001b[49m\u001b[43m \u001b[49m\u001b[43mM\u001b[49m\u001b[38;5;241;43m=\u001b[39;49m\u001b[43mM\u001b[49m\u001b[43m,\u001b[49m\u001b[43m \u001b[49m\u001b[43mk\u001b[49m\u001b[38;5;241;43m=\u001b[39;49m\u001b[43mk\u001b[49m\u001b[43m,\u001b[49m\u001b[43m \u001b[49m\u001b[43mdtype\u001b[49m\u001b[38;5;241;43m=\u001b[39;49m\u001b[43mdtype\u001b[49m\u001b[43m)\u001b[49m\n\u001b[1;32m   6634\u001b[0m \u001b[38;5;28;01mif\u001b[39;00m device \u001b[38;5;129;01mis\u001b[39;00m \u001b[38;5;129;01mnot\u001b[39;00m \u001b[38;5;28;01mNone\u001b[39;00m:\n\u001b[1;32m   6635\u001b[0m   \u001b[38;5;28;01mreturn\u001b[39;00m jax\u001b[38;5;241m.\u001b[39mdevice_put(output, device\u001b[38;5;241m=\u001b[39mdevice)\n",
      "File \u001b[0;32m/mnt/beegfs/workdir/antoine.misery/mambaforge/envs/netket/lib/python3.11/site-packages/jax/_src/numpy/lax_numpy.py:6647\u001b[0m, in \u001b[0;36m_eye\u001b[0;34m(N, M, k, dtype)\u001b[0m\n\u001b[1;32m   6644\u001b[0m   k \u001b[38;5;241m=\u001b[39m lax_internal\u001b[38;5;241m.\u001b[39m_clip_int_to_valid_range(k, np\u001b[38;5;241m.\u001b[39mint32,\n\u001b[1;32m   6645\u001b[0m                                             \u001b[38;5;124m\"\u001b[39m\u001b[38;5;124m`argument `k` of jax.numpy.eye\u001b[39m\u001b[38;5;124m\"\u001b[39m)\n\u001b[1;32m   6646\u001b[0m util\u001b[38;5;241m.\u001b[39mcheck_arraylike(\u001b[38;5;124m\"\u001b[39m\u001b[38;5;124meye\u001b[39m\u001b[38;5;124m\"\u001b[39m, k)\n\u001b[0;32m-> 6647\u001b[0m offset \u001b[38;5;241m=\u001b[39m \u001b[43masarray\u001b[49m\u001b[43m(\u001b[49m\u001b[43mk\u001b[49m\u001b[43m)\u001b[49m\n\u001b[1;32m   6648\u001b[0m \u001b[38;5;28;01mif\u001b[39;00m \u001b[38;5;129;01mnot\u001b[39;00m (offset\u001b[38;5;241m.\u001b[39mshape \u001b[38;5;241m==\u001b[39m () \u001b[38;5;129;01mand\u001b[39;00m dtypes\u001b[38;5;241m.\u001b[39missubdtype(offset\u001b[38;5;241m.\u001b[39mdtype, np\u001b[38;5;241m.\u001b[39minteger)):\n\u001b[1;32m   6649\u001b[0m   \u001b[38;5;28;01mraise\u001b[39;00m \u001b[38;5;167;01mValueError\u001b[39;00m(\u001b[38;5;124mf\u001b[39m\u001b[38;5;124m\"\u001b[39m\u001b[38;5;124mk must be a scalar integer; got \u001b[39m\u001b[38;5;132;01m{\u001b[39;00mk\u001b[38;5;132;01m}\u001b[39;00m\u001b[38;5;124m\"\u001b[39m)\n",
      "File \u001b[0;32m/mnt/beegfs/workdir/antoine.misery/mambaforge/envs/netket/lib/python3.11/site-packages/jax/_src/numpy/lax_numpy.py:5821\u001b[0m, in \u001b[0;36masarray\u001b[0;34m(a, dtype, order, copy, device)\u001b[0m\n\u001b[1;32m   5819\u001b[0m \u001b[38;5;28;01mif\u001b[39;00m dtype \u001b[38;5;129;01mis\u001b[39;00m \u001b[38;5;129;01mnot\u001b[39;00m \u001b[38;5;28;01mNone\u001b[39;00m:\n\u001b[1;32m   5820\u001b[0m   dtype \u001b[38;5;241m=\u001b[39m dtypes\u001b[38;5;241m.\u001b[39mcanonicalize_dtype(dtype, allow_extended_dtype\u001b[38;5;241m=\u001b[39m\u001b[38;5;28;01mTrue\u001b[39;00m)  \u001b[38;5;66;03m# type: ignore[assignment]\u001b[39;00m\n\u001b[0;32m-> 5821\u001b[0m \u001b[38;5;28;01mreturn\u001b[39;00m \u001b[43marray\u001b[49m\u001b[43m(\u001b[49m\u001b[43ma\u001b[49m\u001b[43m,\u001b[49m\u001b[43m \u001b[49m\u001b[43mdtype\u001b[49m\u001b[38;5;241;43m=\u001b[39;49m\u001b[43mdtype\u001b[49m\u001b[43m,\u001b[49m\u001b[43m \u001b[49m\u001b[43mcopy\u001b[49m\u001b[38;5;241;43m=\u001b[39;49m\u001b[38;5;28;43mbool\u001b[39;49m\u001b[43m(\u001b[49m\u001b[43mcopy\u001b[49m\u001b[43m)\u001b[49m\u001b[43m,\u001b[49m\u001b[43m \u001b[49m\u001b[43morder\u001b[49m\u001b[38;5;241;43m=\u001b[39;49m\u001b[43morder\u001b[49m\u001b[43m,\u001b[49m\u001b[43m \u001b[49m\u001b[43mdevice\u001b[49m\u001b[38;5;241;43m=\u001b[39;49m\u001b[43mdevice\u001b[49m\u001b[43m)\u001b[49m\n",
      "File \u001b[0;32m/mnt/beegfs/workdir/antoine.misery/mambaforge/envs/netket/lib/python3.11/site-packages/jax/_src/numpy/lax_numpy.py:5653\u001b[0m, in \u001b[0;36marray\u001b[0;34m(object, dtype, copy, order, ndmin, device)\u001b[0m\n\u001b[1;32m   5651\u001b[0m \u001b[38;5;28;01melse\u001b[39;00m:\n\u001b[1;32m   5652\u001b[0m   \u001b[38;5;28;01mraise\u001b[39;00m \u001b[38;5;167;01mTypeError\u001b[39;00m(\u001b[38;5;124mf\u001b[39m\u001b[38;5;124m\"\u001b[39m\u001b[38;5;124mUnexpected input type for array: \u001b[39m\u001b[38;5;132;01m{\u001b[39;00m\u001b[38;5;28mtype\u001b[39m(\u001b[38;5;28mobject\u001b[39m)\u001b[38;5;132;01m}\u001b[39;00m\u001b[38;5;124m\"\u001b[39m)\n\u001b[0;32m-> 5653\u001b[0m out_array: Array \u001b[38;5;241m=\u001b[39m \u001b[43mlax_internal\u001b[49m\u001b[38;5;241;43m.\u001b[39;49m\u001b[43m_convert_element_type\u001b[49m\u001b[43m(\u001b[49m\n\u001b[1;32m   5654\u001b[0m \u001b[43m    \u001b[49m\u001b[43mout\u001b[49m\u001b[43m,\u001b[49m\u001b[43m \u001b[49m\u001b[43mdtype\u001b[49m\u001b[43m,\u001b[49m\u001b[43m \u001b[49m\u001b[43mweak_type\u001b[49m\u001b[38;5;241;43m=\u001b[39;49m\u001b[43mweak_type\u001b[49m\u001b[43m,\u001b[49m\u001b[43m \u001b[49m\u001b[43msharding\u001b[49m\u001b[38;5;241;43m=\u001b[39;49m\u001b[43msharding\u001b[49m\u001b[43m)\u001b[49m\n\u001b[1;32m   5655\u001b[0m \u001b[38;5;28;01mif\u001b[39;00m ndmin \u001b[38;5;241m>\u001b[39m ndim(out_array):\n\u001b[1;32m   5656\u001b[0m   out_array \u001b[38;5;241m=\u001b[39m lax\u001b[38;5;241m.\u001b[39mexpand_dims(out_array, \u001b[38;5;28mrange\u001b[39m(ndmin \u001b[38;5;241m-\u001b[39m ndim(out_array)))\n",
      "File \u001b[0;32m/mnt/beegfs/workdir/antoine.misery/mambaforge/envs/netket/lib/python3.11/site-packages/jax/_src/lax/lax.py:608\u001b[0m, in \u001b[0;36m_convert_element_type\u001b[0;34m(operand, new_dtype, weak_type, sharding)\u001b[0m\n\u001b[1;32m    606\u001b[0m   \u001b[38;5;28;01mreturn\u001b[39;00m operand\n\u001b[1;32m    607\u001b[0m \u001b[38;5;28;01melse\u001b[39;00m:\n\u001b[0;32m--> 608\u001b[0m   \u001b[38;5;28;01mreturn\u001b[39;00m \u001b[43mconvert_element_type_p\u001b[49m\u001b[38;5;241;43m.\u001b[39;49m\u001b[43mbind\u001b[49m\u001b[43m(\u001b[49m\n\u001b[1;32m    609\u001b[0m \u001b[43m      \u001b[49m\u001b[43moperand\u001b[49m\u001b[43m,\u001b[49m\u001b[43m \u001b[49m\u001b[43mnew_dtype\u001b[49m\u001b[38;5;241;43m=\u001b[39;49m\u001b[43mnew_dtype\u001b[49m\u001b[43m,\u001b[49m\u001b[43m \u001b[49m\u001b[43mweak_type\u001b[49m\u001b[38;5;241;43m=\u001b[39;49m\u001b[38;5;28;43mbool\u001b[39;49m\u001b[43m(\u001b[49m\u001b[43mweak_type\u001b[49m\u001b[43m)\u001b[49m\u001b[43m,\u001b[49m\n\u001b[1;32m    610\u001b[0m \u001b[43m      \u001b[49m\u001b[43msharding\u001b[49m\u001b[38;5;241;43m=\u001b[39;49m\u001b[43msharding\u001b[49m\u001b[43m)\u001b[49m\n",
      "File \u001b[0;32m/mnt/beegfs/workdir/antoine.misery/mambaforge/envs/netket/lib/python3.11/site-packages/jax/_src/core.py:463\u001b[0m, in \u001b[0;36mPrimitive.bind\u001b[0;34m(self, *args, **params)\u001b[0m\n\u001b[1;32m    461\u001b[0m trace_ctx\u001b[38;5;241m.\u001b[39mset_trace(eval_trace)\n\u001b[1;32m    462\u001b[0m \u001b[38;5;28;01mtry\u001b[39;00m:\n\u001b[0;32m--> 463\u001b[0m   \u001b[38;5;28;01mreturn\u001b[39;00m \u001b[38;5;28;43mself\u001b[39;49m\u001b[38;5;241;43m.\u001b[39;49m\u001b[43mbind_with_trace\u001b[49m\u001b[43m(\u001b[49m\u001b[43mprev_trace\u001b[49m\u001b[43m,\u001b[49m\u001b[43m \u001b[49m\u001b[43margs\u001b[49m\u001b[43m,\u001b[49m\u001b[43m \u001b[49m\u001b[43mparams\u001b[49m\u001b[43m)\u001b[49m\n\u001b[1;32m    464\u001b[0m \u001b[38;5;28;01mfinally\u001b[39;00m:\n\u001b[1;32m    465\u001b[0m   trace_ctx\u001b[38;5;241m.\u001b[39mset_trace(prev_trace)\n",
      "File \u001b[0;32m/mnt/beegfs/workdir/antoine.misery/mambaforge/envs/netket/lib/python3.11/site-packages/jax/_src/lax/lax.py:3081\u001b[0m, in \u001b[0;36m_convert_element_type_bind_with_trace\u001b[0;34m(trace, args, params)\u001b[0m\n\u001b[1;32m   3079\u001b[0m \u001b[38;5;28;01mdef\u001b[39;00m \u001b[38;5;21m_convert_element_type_bind_with_trace\u001b[39m(trace, args, params):\n\u001b[1;32m   3080\u001b[0m   sharding \u001b[38;5;241m=\u001b[39m params[\u001b[38;5;124m'\u001b[39m\u001b[38;5;124msharding\u001b[39m\u001b[38;5;124m'\u001b[39m]\n\u001b[0;32m-> 3081\u001b[0m   operand \u001b[38;5;241m=\u001b[39m \u001b[43mcore\u001b[49m\u001b[38;5;241;43m.\u001b[39;49m\u001b[43mPrimitive\u001b[49m\u001b[38;5;241;43m.\u001b[39;49m\u001b[43mbind_with_trace\u001b[49m\u001b[43m(\u001b[49m\u001b[43mconvert_element_type_p\u001b[49m\u001b[43m,\u001b[49m\u001b[43m \u001b[49m\u001b[43mtrace\u001b[49m\u001b[43m,\u001b[49m\u001b[43m \u001b[49m\u001b[43margs\u001b[49m\u001b[43m,\u001b[49m\u001b[43m \u001b[49m\u001b[43mparams\u001b[49m\u001b[43m)\u001b[49m\n\u001b[1;32m   3082\u001b[0m   \u001b[38;5;28;01mif\u001b[39;00m sharding \u001b[38;5;129;01mis\u001b[39;00m \u001b[38;5;129;01mnot\u001b[39;00m \u001b[38;5;28;01mNone\u001b[39;00m \u001b[38;5;129;01mand\u001b[39;00m \u001b[38;5;129;01mnot\u001b[39;00m config\u001b[38;5;241m.\u001b[39msharding_in_types\u001b[38;5;241m.\u001b[39mvalue:\n\u001b[1;32m   3083\u001b[0m     \u001b[38;5;28;01mwith\u001b[39;00m core\u001b[38;5;241m.\u001b[39mset_current_trace(trace):\n",
      "File \u001b[0;32m/mnt/beegfs/workdir/antoine.misery/mambaforge/envs/netket/lib/python3.11/site-packages/jax/_src/core.py:468\u001b[0m, in \u001b[0;36mPrimitive.bind_with_trace\u001b[0;34m(self, trace, args, params)\u001b[0m\n\u001b[1;32m    467\u001b[0m \u001b[38;5;28;01mdef\u001b[39;00m \u001b[38;5;21mbind_with_trace\u001b[39m(\u001b[38;5;28mself\u001b[39m, trace, args, params):\n\u001b[0;32m--> 468\u001b[0m   \u001b[38;5;28;01mreturn\u001b[39;00m \u001b[43mtrace\u001b[49m\u001b[38;5;241;43m.\u001b[39;49m\u001b[43mprocess_primitive\u001b[49m\u001b[43m(\u001b[49m\u001b[38;5;28;43mself\u001b[39;49m\u001b[43m,\u001b[49m\u001b[43m \u001b[49m\u001b[43margs\u001b[49m\u001b[43m,\u001b[49m\u001b[43m \u001b[49m\u001b[43mparams\u001b[49m\u001b[43m)\u001b[49m\n",
      "File \u001b[0;32m/mnt/beegfs/workdir/antoine.misery/mambaforge/envs/netket/lib/python3.11/site-packages/jax/_src/interpreters/partial_eval.py:1893\u001b[0m, in \u001b[0;36mDynamicJaxprTrace.process_primitive\u001b[0;34m(self, primitive, tracers, params)\u001b[0m\n\u001b[1;32m   1891\u001b[0m \u001b[38;5;28;01mdef\u001b[39;00m \u001b[38;5;21mprocess_primitive\u001b[39m(\u001b[38;5;28mself\u001b[39m, primitive, tracers, params):\n\u001b[1;32m   1892\u001b[0m   \u001b[38;5;28;01mif\u001b[39;00m (config\u001b[38;5;241m.\u001b[39meager_constant_folding\u001b[38;5;241m.\u001b[39mvalue \u001b[38;5;129;01mand\u001b[39;00m \u001b[38;5;28mall\u001b[39m(\u001b[38;5;28mmap\u001b[39m(\u001b[38;5;28mself\u001b[39m\u001b[38;5;241m.\u001b[39mis_const, tracers))):\n\u001b[0;32m-> 1893\u001b[0m     \u001b[38;5;28;01mreturn\u001b[39;00m \u001b[43mprimitive\u001b[49m\u001b[38;5;241;43m.\u001b[39;49m\u001b[43mbind_with_trace\u001b[49m\u001b[43m(\u001b[49m\u001b[43mcore\u001b[49m\u001b[38;5;241;43m.\u001b[39;49m\u001b[43meval_trace\u001b[49m\u001b[43m,\u001b[49m\u001b[43m \u001b[49m\u001b[43mtracers\u001b[49m\u001b[43m,\u001b[49m\u001b[43m \u001b[49m\u001b[43mparams\u001b[49m\u001b[43m)\u001b[49m\n\u001b[1;32m   1894\u001b[0m   jaxpr_tracers \u001b[38;5;241m=\u001b[39m \u001b[38;5;28mmap\u001b[39m(\u001b[38;5;28mself\u001b[39m\u001b[38;5;241m.\u001b[39mto_jaxpr_tracer, tracers)\n\u001b[1;32m   1895\u001b[0m   \u001b[38;5;28;01mif\u001b[39;00m primitive \u001b[38;5;129;01min\u001b[39;00m custom_staging_rules:\n",
      "File \u001b[0;32m/mnt/beegfs/workdir/antoine.misery/mambaforge/envs/netket/lib/python3.11/site-packages/jax/_src/lax/lax.py:3081\u001b[0m, in \u001b[0;36m_convert_element_type_bind_with_trace\u001b[0;34m(trace, args, params)\u001b[0m\n\u001b[1;32m   3079\u001b[0m \u001b[38;5;28;01mdef\u001b[39;00m \u001b[38;5;21m_convert_element_type_bind_with_trace\u001b[39m(trace, args, params):\n\u001b[1;32m   3080\u001b[0m   sharding \u001b[38;5;241m=\u001b[39m params[\u001b[38;5;124m'\u001b[39m\u001b[38;5;124msharding\u001b[39m\u001b[38;5;124m'\u001b[39m]\n\u001b[0;32m-> 3081\u001b[0m   operand \u001b[38;5;241m=\u001b[39m \u001b[43mcore\u001b[49m\u001b[38;5;241;43m.\u001b[39;49m\u001b[43mPrimitive\u001b[49m\u001b[38;5;241;43m.\u001b[39;49m\u001b[43mbind_with_trace\u001b[49m\u001b[43m(\u001b[49m\u001b[43mconvert_element_type_p\u001b[49m\u001b[43m,\u001b[49m\u001b[43m \u001b[49m\u001b[43mtrace\u001b[49m\u001b[43m,\u001b[49m\u001b[43m \u001b[49m\u001b[43margs\u001b[49m\u001b[43m,\u001b[49m\u001b[43m \u001b[49m\u001b[43mparams\u001b[49m\u001b[43m)\u001b[49m\n\u001b[1;32m   3082\u001b[0m   \u001b[38;5;28;01mif\u001b[39;00m sharding \u001b[38;5;129;01mis\u001b[39;00m \u001b[38;5;129;01mnot\u001b[39;00m \u001b[38;5;28;01mNone\u001b[39;00m \u001b[38;5;129;01mand\u001b[39;00m \u001b[38;5;129;01mnot\u001b[39;00m config\u001b[38;5;241m.\u001b[39msharding_in_types\u001b[38;5;241m.\u001b[39mvalue:\n\u001b[1;32m   3083\u001b[0m     \u001b[38;5;28;01mwith\u001b[39;00m core\u001b[38;5;241m.\u001b[39mset_current_trace(trace):\n",
      "File \u001b[0;32m/mnt/beegfs/workdir/antoine.misery/mambaforge/envs/netket/lib/python3.11/site-packages/jax/_src/core.py:468\u001b[0m, in \u001b[0;36mPrimitive.bind_with_trace\u001b[0;34m(self, trace, args, params)\u001b[0m\n\u001b[1;32m    467\u001b[0m \u001b[38;5;28;01mdef\u001b[39;00m \u001b[38;5;21mbind_with_trace\u001b[39m(\u001b[38;5;28mself\u001b[39m, trace, args, params):\n\u001b[0;32m--> 468\u001b[0m   \u001b[38;5;28;01mreturn\u001b[39;00m \u001b[43mtrace\u001b[49m\u001b[38;5;241;43m.\u001b[39;49m\u001b[43mprocess_primitive\u001b[49m\u001b[43m(\u001b[49m\u001b[38;5;28;43mself\u001b[39;49m\u001b[43m,\u001b[49m\u001b[43m \u001b[49m\u001b[43margs\u001b[49m\u001b[43m,\u001b[49m\u001b[43m \u001b[49m\u001b[43mparams\u001b[49m\u001b[43m)\u001b[49m\n",
      "File \u001b[0;32m/mnt/beegfs/workdir/antoine.misery/mambaforge/envs/netket/lib/python3.11/site-packages/jax/_src/core.py:941\u001b[0m, in \u001b[0;36mEvalTrace.process_primitive\u001b[0;34m(self, primitive, args, params)\u001b[0m\n\u001b[1;32m    939\u001b[0m       \u001b[38;5;28;01mreturn\u001b[39;00m primitive\u001b[38;5;241m.\u001b[39mbind_with_trace(arg\u001b[38;5;241m.\u001b[39m_trace, args, params)\n\u001b[1;32m    940\u001b[0m check_eval_args(args)\n\u001b[0;32m--> 941\u001b[0m \u001b[38;5;28;01mreturn\u001b[39;00m \u001b[43mprimitive\u001b[49m\u001b[38;5;241;43m.\u001b[39;49m\u001b[43mimpl\u001b[49m\u001b[43m(\u001b[49m\u001b[38;5;241;43m*\u001b[39;49m\u001b[43margs\u001b[49m\u001b[43m,\u001b[49m\u001b[43m \u001b[49m\u001b[38;5;241;43m*\u001b[39;49m\u001b[38;5;241;43m*\u001b[39;49m\u001b[43mparams\u001b[49m\u001b[43m)\u001b[49m\n",
      "File \u001b[0;32m/mnt/beegfs/workdir/antoine.misery/mambaforge/envs/netket/lib/python3.11/site-packages/jax/_src/dispatch.py:90\u001b[0m, in \u001b[0;36mapply_primitive\u001b[0;34m(prim, *args, **params)\u001b[0m\n\u001b[1;32m     88\u001b[0m prev \u001b[38;5;241m=\u001b[39m lib\u001b[38;5;241m.\u001b[39mjax_jit\u001b[38;5;241m.\u001b[39mswap_thread_local_state_disable_jit(\u001b[38;5;28;01mFalse\u001b[39;00m)\n\u001b[1;32m     89\u001b[0m \u001b[38;5;28;01mtry\u001b[39;00m:\n\u001b[0;32m---> 90\u001b[0m   outs \u001b[38;5;241m=\u001b[39m \u001b[43mfun\u001b[49m\u001b[43m(\u001b[49m\u001b[38;5;241;43m*\u001b[39;49m\u001b[43margs\u001b[49m\u001b[43m)\u001b[49m\n\u001b[1;32m     91\u001b[0m \u001b[38;5;28;01mfinally\u001b[39;00m:\n\u001b[1;32m     92\u001b[0m   lib\u001b[38;5;241m.\u001b[39mjax_jit\u001b[38;5;241m.\u001b[39mswap_thread_local_state_disable_jit(prev)\n",
      "    \u001b[0;31m[... skipping hidden 1 frame]\u001b[0m\n",
      "File \u001b[0;32m/mnt/beegfs/workdir/antoine.misery/mambaforge/envs/netket/lib/python3.11/site-packages/jax/_src/pjit.py:337\u001b[0m, in \u001b[0;36m_cpp_pjit.<locals>.cache_miss\u001b[0;34m(*args, **kwargs)\u001b[0m\n\u001b[1;32m    332\u001b[0m \u001b[38;5;28;01mif\u001b[39;00m config\u001b[38;5;241m.\u001b[39mno_tracing\u001b[38;5;241m.\u001b[39mvalue:\n\u001b[1;32m    333\u001b[0m   \u001b[38;5;28;01mraise\u001b[39;00m \u001b[38;5;167;01mRuntimeError\u001b[39;00m(\u001b[38;5;124mf\u001b[39m\u001b[38;5;124m\"\u001b[39m\u001b[38;5;124mre-tracing function \u001b[39m\u001b[38;5;132;01m{\u001b[39;00mjit_info\u001b[38;5;241m.\u001b[39mfun_sourceinfo\u001b[38;5;132;01m}\u001b[39;00m\u001b[38;5;124m for \u001b[39m\u001b[38;5;124m\"\u001b[39m\n\u001b[1;32m    334\u001b[0m                      \u001b[38;5;124m\"\u001b[39m\u001b[38;5;124m`jit`, but \u001b[39m\u001b[38;5;124m'\u001b[39m\u001b[38;5;124mno_tracing\u001b[39m\u001b[38;5;124m'\u001b[39m\u001b[38;5;124m is set\u001b[39m\u001b[38;5;124m\"\u001b[39m)\n\u001b[1;32m    336\u001b[0m (outs, out_flat, out_tree, args_flat, jaxpr, attrs_tracked, executable,\n\u001b[0;32m--> 337\u001b[0m  pgle_profiler) \u001b[38;5;241m=\u001b[39m \u001b[43m_python_pjit_helper\u001b[49m\u001b[43m(\u001b[49m\u001b[43mfun\u001b[49m\u001b[43m,\u001b[49m\u001b[43m \u001b[49m\u001b[43mjit_info\u001b[49m\u001b[43m,\u001b[49m\u001b[43m \u001b[49m\u001b[38;5;241;43m*\u001b[39;49m\u001b[43margs\u001b[49m\u001b[43m,\u001b[49m\u001b[43m \u001b[49m\u001b[38;5;241;43m*\u001b[39;49m\u001b[38;5;241;43m*\u001b[39;49m\u001b[43mkwargs\u001b[49m\u001b[43m)\u001b[49m\n\u001b[1;32m    339\u001b[0m maybe_fastpath_data \u001b[38;5;241m=\u001b[39m _get_fastpath_data(\n\u001b[1;32m    340\u001b[0m     executable, out_tree, args_flat, out_flat, attrs_tracked, jaxpr\u001b[38;5;241m.\u001b[39meffects,\n\u001b[1;32m    341\u001b[0m     jaxpr\u001b[38;5;241m.\u001b[39mconsts, jit_info\u001b[38;5;241m.\u001b[39mabstracted_axes,\n\u001b[1;32m    342\u001b[0m     pgle_profiler)\n\u001b[1;32m    344\u001b[0m \u001b[38;5;28;01mreturn\u001b[39;00m outs, maybe_fastpath_data, _need_to_rebuild_with_fdo(pgle_profiler)\n",
      "File \u001b[0;32m/mnt/beegfs/workdir/antoine.misery/mambaforge/envs/netket/lib/python3.11/site-packages/jax/_src/pjit.py:195\u001b[0m, in \u001b[0;36m_python_pjit_helper\u001b[0;34m(fun, jit_info, *args, **kwargs)\u001b[0m\n\u001b[1;32m    193\u001b[0m   args_flat \u001b[38;5;241m=\u001b[39m \u001b[38;5;28mmap\u001b[39m(core\u001b[38;5;241m.\u001b[39mfull_lower, args_flat)\n\u001b[1;32m    194\u001b[0m   core\u001b[38;5;241m.\u001b[39mcheck_eval_args(args_flat)\n\u001b[0;32m--> 195\u001b[0m   out_flat, compiled, profiler \u001b[38;5;241m=\u001b[39m \u001b[43m_pjit_call_impl_python\u001b[49m\u001b[43m(\u001b[49m\u001b[38;5;241;43m*\u001b[39;49m\u001b[43margs_flat\u001b[49m\u001b[43m,\u001b[49m\u001b[43m \u001b[49m\u001b[38;5;241;43m*\u001b[39;49m\u001b[38;5;241;43m*\u001b[39;49m\u001b[43mp\u001b[49m\u001b[38;5;241;43m.\u001b[39;49m\u001b[43mparams\u001b[49m\u001b[43m)\u001b[49m\n\u001b[1;32m    196\u001b[0m \u001b[38;5;28;01melse\u001b[39;00m:\n\u001b[1;32m    197\u001b[0m   out_flat \u001b[38;5;241m=\u001b[39m pjit_p\u001b[38;5;241m.\u001b[39mbind(\u001b[38;5;241m*\u001b[39margs_flat, \u001b[38;5;241m*\u001b[39m\u001b[38;5;241m*\u001b[39mp\u001b[38;5;241m.\u001b[39mparams)\n",
      "File \u001b[0;32m/mnt/beegfs/workdir/antoine.misery/mambaforge/envs/netket/lib/python3.11/site-packages/jax/_src/pjit.py:1672\u001b[0m, in \u001b[0;36m_pjit_call_impl_python\u001b[0;34m(jaxpr, in_shardings, out_shardings, in_layouts, out_layouts, resource_env, donated_invars, name, keep_unused, inline, compiler_options_kvs, *args)\u001b[0m\n\u001b[1;32m   1660\u001b[0m compiler_options_kvs \u001b[38;5;241m=\u001b[39m compiler_options_kvs \u001b[38;5;241m+\u001b[39m \u001b[38;5;28mtuple\u001b[39m(pgle_compile_options\u001b[38;5;241m.\u001b[39mitems())\n\u001b[1;32m   1661\u001b[0m \u001b[38;5;66;03m# Passing mutable PGLE profile here since it should be extracted by JAXPR to\u001b[39;00m\n\u001b[1;32m   1662\u001b[0m \u001b[38;5;66;03m# initialize the fdo_profile compile option.\u001b[39;00m\n\u001b[1;32m   1663\u001b[0m compiled \u001b[38;5;241m=\u001b[39m \u001b[43m_resolve_and_lower\u001b[49m\u001b[43m(\u001b[49m\n\u001b[1;32m   1664\u001b[0m \u001b[43m    \u001b[49m\u001b[43margs\u001b[49m\u001b[43m,\u001b[49m\u001b[43m \u001b[49m\u001b[43mjaxpr\u001b[49m\u001b[38;5;241;43m=\u001b[39;49m\u001b[43mjaxpr\u001b[49m\u001b[43m,\u001b[49m\u001b[43m \u001b[49m\u001b[43min_shardings\u001b[49m\u001b[38;5;241;43m=\u001b[39;49m\u001b[43min_shardings\u001b[49m\u001b[43m,\u001b[49m\n\u001b[1;32m   1665\u001b[0m \u001b[43m    \u001b[49m\u001b[43mout_shardings\u001b[49m\u001b[38;5;241;43m=\u001b[39;49m\u001b[43mout_shardings\u001b[49m\u001b[43m,\u001b[49m\u001b[43m \u001b[49m\u001b[43min_layouts\u001b[49m\u001b[38;5;241;43m=\u001b[39;49m\u001b[43min_layouts\u001b[49m\u001b[43m,\u001b[49m\n\u001b[1;32m   1666\u001b[0m \u001b[43m    \u001b[49m\u001b[43mout_layouts\u001b[49m\u001b[38;5;241;43m=\u001b[39;49m\u001b[43mout_layouts\u001b[49m\u001b[43m,\u001b[49m\u001b[43m \u001b[49m\u001b[43mresource_env\u001b[49m\u001b[38;5;241;43m=\u001b[39;49m\u001b[43mresource_env\u001b[49m\u001b[43m,\u001b[49m\n\u001b[1;32m   1667\u001b[0m \u001b[43m    \u001b[49m\u001b[43mdonated_invars\u001b[49m\u001b[38;5;241;43m=\u001b[39;49m\u001b[43mdonated_invars\u001b[49m\u001b[43m,\u001b[49m\u001b[43m \u001b[49m\u001b[43mname\u001b[49m\u001b[38;5;241;43m=\u001b[39;49m\u001b[43mname\u001b[49m\u001b[43m,\u001b[49m\u001b[43m \u001b[49m\u001b[43mkeep_unused\u001b[49m\u001b[38;5;241;43m=\u001b[39;49m\u001b[43mkeep_unused\u001b[49m\u001b[43m,\u001b[49m\n\u001b[1;32m   1668\u001b[0m \u001b[43m    \u001b[49m\u001b[43minline\u001b[49m\u001b[38;5;241;43m=\u001b[39;49m\u001b[43minline\u001b[49m\u001b[43m,\u001b[49m\u001b[43m \u001b[49m\u001b[43mlowering_platforms\u001b[49m\u001b[38;5;241;43m=\u001b[39;49m\u001b[38;5;28;43;01mNone\u001b[39;49;00m\u001b[43m,\u001b[49m\n\u001b[1;32m   1669\u001b[0m \u001b[43m    \u001b[49m\u001b[43mlowering_parameters\u001b[49m\u001b[38;5;241;43m=\u001b[39;49m\u001b[43mmlir\u001b[49m\u001b[38;5;241;43m.\u001b[39;49m\u001b[43mLoweringParameters\u001b[49m\u001b[43m(\u001b[49m\u001b[43m)\u001b[49m\u001b[43m,\u001b[49m\n\u001b[1;32m   1670\u001b[0m \u001b[43m    \u001b[49m\u001b[43mpgle_profiler\u001b[49m\u001b[38;5;241;43m=\u001b[39;49m\u001b[43mpgle_profiler\u001b[49m\u001b[43m,\u001b[49m\n\u001b[1;32m   1671\u001b[0m \u001b[43m    \u001b[49m\u001b[43mcompiler_options_kvs\u001b[49m\u001b[38;5;241;43m=\u001b[39;49m\u001b[43mcompiler_options_kvs\u001b[49m\u001b[43m,\u001b[49m\n\u001b[0;32m-> 1672\u001b[0m \u001b[43m\u001b[49m\u001b[43m)\u001b[49m\u001b[38;5;241;43m.\u001b[39;49m\u001b[43mcompile\u001b[49m\u001b[43m(\u001b[49m\u001b[43m)\u001b[49m\n\u001b[1;32m   1674\u001b[0m \u001b[38;5;66;03m# This check is expensive so only do it if enable_checks is on.\u001b[39;00m\n\u001b[1;32m   1675\u001b[0m \u001b[38;5;28;01mif\u001b[39;00m compiled\u001b[38;5;241m.\u001b[39m_auto_spmd_lowering \u001b[38;5;129;01mand\u001b[39;00m config\u001b[38;5;241m.\u001b[39menable_checks\u001b[38;5;241m.\u001b[39mvalue:\n",
      "File \u001b[0;32m/mnt/beegfs/workdir/antoine.misery/mambaforge/envs/netket/lib/python3.11/site-packages/jax/_src/interpreters/pxla.py:2415\u001b[0m, in \u001b[0;36mMeshComputation.compile\u001b[0;34m(self, compiler_options)\u001b[0m\n\u001b[1;32m   2413\u001b[0m compiler_options_kvs \u001b[38;5;241m=\u001b[39m \u001b[38;5;28mself\u001b[39m\u001b[38;5;241m.\u001b[39m_compiler_options_kvs \u001b[38;5;241m+\u001b[39m t_compiler_options\n\u001b[1;32m   2414\u001b[0m \u001b[38;5;28;01mif\u001b[39;00m \u001b[38;5;28mself\u001b[39m\u001b[38;5;241m.\u001b[39m_executable \u001b[38;5;129;01mis\u001b[39;00m \u001b[38;5;28;01mNone\u001b[39;00m \u001b[38;5;129;01mor\u001b[39;00m compiler_options_kvs:\n\u001b[0;32m-> 2415\u001b[0m   executable \u001b[38;5;241m=\u001b[39m \u001b[43mUnloadedMeshExecutable\u001b[49m\u001b[38;5;241;43m.\u001b[39;49m\u001b[43mfrom_hlo\u001b[49m\u001b[43m(\u001b[49m\n\u001b[1;32m   2416\u001b[0m \u001b[43m      \u001b[49m\u001b[38;5;28;43mself\u001b[39;49m\u001b[38;5;241;43m.\u001b[39;49m\u001b[43m_name\u001b[49m\u001b[43m,\u001b[49m\u001b[43m \u001b[49m\u001b[38;5;28;43mself\u001b[39;49m\u001b[38;5;241;43m.\u001b[39;49m\u001b[43m_hlo\u001b[49m\u001b[43m,\u001b[49m\u001b[43m \u001b[49m\u001b[38;5;241;43m*\u001b[39;49m\u001b[38;5;241;43m*\u001b[39;49m\u001b[38;5;28;43mself\u001b[39;49m\u001b[38;5;241;43m.\u001b[39;49m\u001b[43mcompile_args\u001b[49m\u001b[43m,\u001b[49m\n\u001b[1;32m   2417\u001b[0m \u001b[43m      \u001b[49m\u001b[43mcompiler_options_kvs\u001b[49m\u001b[38;5;241;43m=\u001b[39;49m\u001b[43mcompiler_options_kvs\u001b[49m\u001b[43m)\u001b[49m\n\u001b[1;32m   2418\u001b[0m   \u001b[38;5;28;01mif\u001b[39;00m \u001b[38;5;129;01mnot\u001b[39;00m compiler_options_kvs:\n\u001b[1;32m   2419\u001b[0m     \u001b[38;5;28mself\u001b[39m\u001b[38;5;241m.\u001b[39m_executable \u001b[38;5;241m=\u001b[39m executable\n",
      "File \u001b[0;32m/mnt/beegfs/workdir/antoine.misery/mambaforge/envs/netket/lib/python3.11/site-packages/jax/_src/interpreters/pxla.py:2923\u001b[0m, in \u001b[0;36mUnloadedMeshExecutable.from_hlo\u001b[0;34m(***failed resolving arguments***)\u001b[0m\n\u001b[1;32m   2920\u001b[0m       \u001b[38;5;28;01mbreak\u001b[39;00m\n\u001b[1;32m   2922\u001b[0m util\u001b[38;5;241m.\u001b[39mtest_event(\u001b[38;5;124m\"\u001b[39m\u001b[38;5;124mpxla_cached_compilation\u001b[39m\u001b[38;5;124m\"\u001b[39m)\n\u001b[0;32m-> 2923\u001b[0m xla_executable \u001b[38;5;241m=\u001b[39m \u001b[43m_cached_compilation\u001b[49m\u001b[43m(\u001b[49m\n\u001b[1;32m   2924\u001b[0m \u001b[43m    \u001b[49m\u001b[43mhlo\u001b[49m\u001b[43m,\u001b[49m\u001b[43m \u001b[49m\u001b[43mname\u001b[49m\u001b[43m,\u001b[49m\u001b[43m \u001b[49m\u001b[43mmesh\u001b[49m\u001b[43m,\u001b[49m\u001b[43m \u001b[49m\u001b[43mspmd_lowering\u001b[49m\u001b[43m,\u001b[49m\n\u001b[1;32m   2925\u001b[0m \u001b[43m    \u001b[49m\u001b[43mtuple_args\u001b[49m\u001b[43m,\u001b[49m\u001b[43m \u001b[49m\u001b[43mauto_spmd_lowering\u001b[49m\u001b[43m,\u001b[49m\u001b[43m \u001b[49m\u001b[43mallow_prop_to_inputs\u001b[49m\u001b[43m,\u001b[49m\n\u001b[1;32m   2926\u001b[0m \u001b[43m    \u001b[49m\u001b[43mallow_prop_to_outputs\u001b[49m\u001b[43m,\u001b[49m\u001b[43m \u001b[49m\u001b[38;5;28;43mtuple\u001b[39;49m\u001b[43m(\u001b[49m\u001b[43mhost_callbacks\u001b[49m\u001b[43m)\u001b[49m\u001b[43m,\u001b[49m\u001b[43m \u001b[49m\u001b[43mbackend\u001b[49m\u001b[43m,\u001b[49m\u001b[43m \u001b[49m\u001b[43mda\u001b[49m\u001b[43m,\u001b[49m\u001b[43m \u001b[49m\u001b[43mpmap_nreps\u001b[49m\u001b[43m,\u001b[49m\n\u001b[1;32m   2927\u001b[0m \u001b[43m    \u001b[49m\u001b[43mcompiler_options_kvs\u001b[49m\u001b[43m,\u001b[49m\u001b[43m \u001b[49m\u001b[43mpgle_profiler\u001b[49m\u001b[43m)\u001b[49m\n\u001b[1;32m   2929\u001b[0m \u001b[38;5;28;01mif\u001b[39;00m auto_spmd_lowering:\n\u001b[1;32m   2930\u001b[0m   \u001b[38;5;28;01massert\u001b[39;00m mesh \u001b[38;5;129;01mis\u001b[39;00m \u001b[38;5;129;01mnot\u001b[39;00m \u001b[38;5;28;01mNone\u001b[39;00m\n",
      "File \u001b[0;32m/mnt/beegfs/workdir/antoine.misery/mambaforge/envs/netket/lib/python3.11/site-packages/jax/_src/interpreters/pxla.py:2729\u001b[0m, in \u001b[0;36m_cached_compilation\u001b[0;34m(computation, name, mesh, spmd_lowering, tuple_args, auto_spmd_lowering, allow_prop_to_inputs, allow_prop_to_outputs, host_callbacks, backend, da, pmap_nreps, compiler_options_kvs, pgle_profiler)\u001b[0m\n\u001b[1;32m   2721\u001b[0m compile_options \u001b[38;5;241m=\u001b[39m create_compile_options(\n\u001b[1;32m   2722\u001b[0m     computation, mesh, spmd_lowering, tuple_args, auto_spmd_lowering,\n\u001b[1;32m   2723\u001b[0m     allow_prop_to_inputs, allow_prop_to_outputs, backend,\n\u001b[1;32m   2724\u001b[0m     dev, pmap_nreps, compiler_options)\n\u001b[1;32m   2726\u001b[0m \u001b[38;5;28;01mwith\u001b[39;00m dispatch\u001b[38;5;241m.\u001b[39mlog_elapsed_time(\n\u001b[1;32m   2727\u001b[0m     \u001b[38;5;124m\"\u001b[39m\u001b[38;5;124mFinished XLA compilation of \u001b[39m\u001b[38;5;132;01m{fun_name}\u001b[39;00m\u001b[38;5;124m in \u001b[39m\u001b[38;5;132;01m{elapsed_time:.9f}\u001b[39;00m\u001b[38;5;124m sec\u001b[39m\u001b[38;5;124m\"\u001b[39m,\n\u001b[1;32m   2728\u001b[0m     fun_name\u001b[38;5;241m=\u001b[39mname, event\u001b[38;5;241m=\u001b[39mdispatch\u001b[38;5;241m.\u001b[39mBACKEND_COMPILE_EVENT):\n\u001b[0;32m-> 2729\u001b[0m   xla_executable \u001b[38;5;241m=\u001b[39m \u001b[43mcompiler\u001b[49m\u001b[38;5;241;43m.\u001b[39;49m\u001b[43mcompile_or_get_cached\u001b[49m\u001b[43m(\u001b[49m\n\u001b[1;32m   2730\u001b[0m \u001b[43m      \u001b[49m\u001b[43mbackend\u001b[49m\u001b[43m,\u001b[49m\u001b[43m \u001b[49m\u001b[43mcomputation\u001b[49m\u001b[43m,\u001b[49m\u001b[43m \u001b[49m\u001b[43mdev\u001b[49m\u001b[43m,\u001b[49m\u001b[43m \u001b[49m\u001b[43mcompile_options\u001b[49m\u001b[43m,\u001b[49m\u001b[43m \u001b[49m\u001b[43mhost_callbacks\u001b[49m\u001b[43m,\u001b[49m\n\u001b[1;32m   2731\u001b[0m \u001b[43m      \u001b[49m\u001b[43mpgle_profiler\u001b[49m\u001b[43m)\u001b[49m\n\u001b[1;32m   2732\u001b[0m \u001b[38;5;28;01mreturn\u001b[39;00m xla_executable\n",
      "File \u001b[0;32m/mnt/beegfs/workdir/antoine.misery/mambaforge/envs/netket/lib/python3.11/site-packages/jax/_src/compiler.py:452\u001b[0m, in \u001b[0;36mcompile_or_get_cached\u001b[0;34m(backend, computation, devices, compile_options, host_callbacks, pgle_profiler)\u001b[0m\n\u001b[1;32m    450\u001b[0m \u001b[38;5;28;01melse\u001b[39;00m:\n\u001b[1;32m    451\u001b[0m   log_persistent_cache_miss(module_name, cache_key)\n\u001b[0;32m--> 452\u001b[0m   \u001b[38;5;28;01mreturn\u001b[39;00m \u001b[43m_compile_and_write_cache\u001b[49m\u001b[43m(\u001b[49m\n\u001b[1;32m    453\u001b[0m \u001b[43m      \u001b[49m\u001b[43mbackend\u001b[49m\u001b[43m,\u001b[49m\n\u001b[1;32m    454\u001b[0m \u001b[43m      \u001b[49m\u001b[43mcomputation\u001b[49m\u001b[43m,\u001b[49m\n\u001b[1;32m    455\u001b[0m \u001b[43m      \u001b[49m\u001b[43mcompile_options\u001b[49m\u001b[43m,\u001b[49m\n\u001b[1;32m    456\u001b[0m \u001b[43m      \u001b[49m\u001b[43mhost_callbacks\u001b[49m\u001b[43m,\u001b[49m\n\u001b[1;32m    457\u001b[0m \u001b[43m      \u001b[49m\u001b[43mmodule_name\u001b[49m\u001b[43m,\u001b[49m\n\u001b[1;32m    458\u001b[0m \u001b[43m      \u001b[49m\u001b[43mcache_key\u001b[49m\u001b[43m,\u001b[49m\n\u001b[1;32m    459\u001b[0m \u001b[43m  \u001b[49m\u001b[43m)\u001b[49m\n",
      "File \u001b[0;32m/mnt/beegfs/workdir/antoine.misery/mambaforge/envs/netket/lib/python3.11/site-packages/jax/_src/compiler.py:653\u001b[0m, in \u001b[0;36m_compile_and_write_cache\u001b[0;34m(backend, computation, compile_options, host_callbacks, module_name, cache_key)\u001b[0m\n\u001b[1;32m    644\u001b[0m \u001b[38;5;28;01mdef\u001b[39;00m \u001b[38;5;21m_compile_and_write_cache\u001b[39m(\n\u001b[1;32m    645\u001b[0m     backend: xc\u001b[38;5;241m.\u001b[39mClient,\n\u001b[1;32m    646\u001b[0m     computation: ir\u001b[38;5;241m.\u001b[39mModule,\n\u001b[0;32m   (...)\u001b[0m\n\u001b[1;32m    650\u001b[0m     cache_key: \u001b[38;5;28mstr\u001b[39m,\n\u001b[1;32m    651\u001b[0m ) \u001b[38;5;241m-\u001b[39m\u001b[38;5;241m>\u001b[39m xc\u001b[38;5;241m.\u001b[39mLoadedExecutable:\n\u001b[1;32m    652\u001b[0m   start_time \u001b[38;5;241m=\u001b[39m time\u001b[38;5;241m.\u001b[39mmonotonic()\n\u001b[0;32m--> 653\u001b[0m   executable \u001b[38;5;241m=\u001b[39m \u001b[43mbackend_compile\u001b[49m\u001b[43m(\u001b[49m\n\u001b[1;32m    654\u001b[0m \u001b[43m      \u001b[49m\u001b[43mbackend\u001b[49m\u001b[43m,\u001b[49m\u001b[43m \u001b[49m\u001b[43mcomputation\u001b[49m\u001b[43m,\u001b[49m\u001b[43m \u001b[49m\u001b[43mcompile_options\u001b[49m\u001b[43m,\u001b[49m\u001b[43m \u001b[49m\u001b[43mhost_callbacks\u001b[49m\n\u001b[1;32m    655\u001b[0m \u001b[43m  \u001b[49m\u001b[43m)\u001b[49m\n\u001b[1;32m    656\u001b[0m   compile_time \u001b[38;5;241m=\u001b[39m time\u001b[38;5;241m.\u001b[39mmonotonic() \u001b[38;5;241m-\u001b[39m start_time\n\u001b[1;32m    657\u001b[0m   _cache_write(\n\u001b[1;32m    658\u001b[0m       cache_key, compile_time, module_name, backend, executable, host_callbacks\n\u001b[1;32m    659\u001b[0m   )\n",
      "File \u001b[0;32m/mnt/beegfs/workdir/antoine.misery/mambaforge/envs/netket/lib/python3.11/site-packages/jax/_src/profiler.py:333\u001b[0m, in \u001b[0;36mannotate_function.<locals>.wrapper\u001b[0;34m(*args, **kwargs)\u001b[0m\n\u001b[1;32m    330\u001b[0m \u001b[38;5;129m@wraps\u001b[39m(func)\n\u001b[1;32m    331\u001b[0m \u001b[38;5;28;01mdef\u001b[39;00m \u001b[38;5;21mwrapper\u001b[39m(\u001b[38;5;241m*\u001b[39margs, \u001b[38;5;241m*\u001b[39m\u001b[38;5;241m*\u001b[39mkwargs):\n\u001b[1;32m    332\u001b[0m   \u001b[38;5;28;01mwith\u001b[39;00m TraceAnnotation(name, \u001b[38;5;241m*\u001b[39m\u001b[38;5;241m*\u001b[39mdecorator_kwargs):\n\u001b[0;32m--> 333\u001b[0m     \u001b[38;5;28;01mreturn\u001b[39;00m \u001b[43mfunc\u001b[49m\u001b[43m(\u001b[49m\u001b[38;5;241;43m*\u001b[39;49m\u001b[43margs\u001b[49m\u001b[43m,\u001b[49m\u001b[43m \u001b[49m\u001b[38;5;241;43m*\u001b[39;49m\u001b[38;5;241;43m*\u001b[39;49m\u001b[43mkwargs\u001b[49m\u001b[43m)\u001b[49m\n\u001b[1;32m    334\u001b[0m   \u001b[38;5;28;01mreturn\u001b[39;00m wrapper\n",
      "File \u001b[0;32m/mnt/beegfs/workdir/antoine.misery/mambaforge/envs/netket/lib/python3.11/site-packages/jax/_src/compiler.py:303\u001b[0m, in \u001b[0;36mbackend_compile\u001b[0;34m(backend, module, options, host_callbacks)\u001b[0m\n\u001b[1;32m    297\u001b[0m     \u001b[38;5;28;01mreturn\u001b[39;00m backend\u001b[38;5;241m.\u001b[39mcompile(\n\u001b[1;32m    298\u001b[0m         built_c, compile_options\u001b[38;5;241m=\u001b[39moptions, host_callbacks\u001b[38;5;241m=\u001b[39mhost_callbacks\n\u001b[1;32m    299\u001b[0m     )\n\u001b[1;32m    300\u001b[0m   \u001b[38;5;66;03m# Some backends don't have `host_callbacks` option yet\u001b[39;00m\n\u001b[1;32m    301\u001b[0m   \u001b[38;5;66;03m# TODO(sharadmv): remove this fallback when all backends allow `compile`\u001b[39;00m\n\u001b[1;32m    302\u001b[0m   \u001b[38;5;66;03m# to take in `host_callbacks`\u001b[39;00m\n\u001b[0;32m--> 303\u001b[0m   \u001b[38;5;28;01mreturn\u001b[39;00m \u001b[43mbackend\u001b[49m\u001b[38;5;241;43m.\u001b[39;49m\u001b[43mcompile\u001b[49m\u001b[43m(\u001b[49m\u001b[43mbuilt_c\u001b[49m\u001b[43m,\u001b[49m\u001b[43m \u001b[49m\u001b[43mcompile_options\u001b[49m\u001b[38;5;241;43m=\u001b[39;49m\u001b[43moptions\u001b[49m\u001b[43m)\u001b[49m\n\u001b[1;32m    304\u001b[0m \u001b[38;5;28;01mexcept\u001b[39;00m xc\u001b[38;5;241m.\u001b[39mXlaRuntimeError \u001b[38;5;28;01mas\u001b[39;00m e:\n\u001b[1;32m    305\u001b[0m   \u001b[38;5;28;01mfor\u001b[39;00m error_handler \u001b[38;5;129;01min\u001b[39;00m _XLA_RUNTIME_ERROR_HANDLERS:\n",
      "\u001b[0;31mKeyboardInterrupt\u001b[0m: "
     ]
    }
   ],
   "source": [
    "H_heisenberg = Square_Heisenberg(J = [1.0],\n",
    "L=4,\n",
    "sign_rule=[0.0]).hamiltonian.to_sparse()\n",
    "\n",
    "H_j1j2 = lambda j2 : Square_Heisenberg(J = [1.0, j2],\n",
    "L=4,\n",
    "sign_rule=[0.0, 0.0]).hamiltonian.to_sparse()"
   ]
  },
  {
   "cell_type": "code",
   "execution_count": 2,
   "metadata": {},
   "outputs": [
    {
     "name": "stdout",
     "output_type": "stream",
     "text": [
      "converged SCF energy = -107.498967544584\n",
      "E(RCISD) = -107.6470818557239  E_corr = -0.1481143111399849\n",
      "[ 9.64315286e-01  2.64616613e-17 -4.36615096e-18 -4.17279256e-16\n",
      " -2.66794449e-17  6.00564096e-18  6.44630492e-05 -9.48233738e-17\n",
      "  1.32609909e-16  1.42905166e-15 -2.61173968e-16  1.98166801e-16\n",
      " -8.85733179e-03  1.68343369e-15 -1.28567858e-16  6.00783369e-17\n",
      "  2.88216557e-15 -1.86012724e-15 -1.26486046e-16 -3.80487437e-17\n",
      "  3.89359959e-16 -3.00994794e-15 -3.04860677e-04  2.75837599e-20\n",
      "  9.79684755e-21  1.46798014e-21 -3.04860677e-04  5.72664014e-20\n",
      "  9.79684755e-21  5.72664014e-20 -9.46011830e-04  1.30046826e-16\n",
      "  1.32872759e-19  3.58009344e-20  1.18202872e-19  1.30158424e-16\n",
      "  1.32881983e-21 -3.73277825e-20 -5.75737099e-20  1.90613480e-16\n",
      " -6.52867342e-04  1.86926791e-10  1.84540619e-20 -1.86926791e-10\n",
      " -6.52867342e-04 -8.03734205e-19  2.15182958e-19 -5.32763662e-19\n",
      " -4.26174778e-04 -4.90128099e-15 -3.32220856e-19  1.06956222e-19\n",
      " -3.63367718e-19 -4.90148506e-15  3.80244347e-19  6.93625832e-20\n",
      " -3.80690500e-20 -3.79773630e-15  2.73504228e-18  3.39333546e-20\n",
      " -4.97064326e-04 -1.14445788e-18 -4.04823247e-19 -3.98173557e-04\n",
      "  1.91381392e-04  1.53306696e-04  1.05688847e-18  2.71220621e-18\n",
      " -1.30895199e-18 -3.98173557e-04 -1.83209889e-18  3.82272005e-18\n",
      "  4.97064326e-04  1.53306696e-04 -1.91381392e-04  1.36882395e-18\n",
      "  3.83403077e-04  1.23607429e-11  2.86395377e-18 -1.23607429e-11\n",
      "  3.83403077e-04 -8.34028909e-19 -1.02997641e-18  4.86923200e-20\n",
      "  3.53102574e-04  1.30079539e-16  1.26385768e-19 -3.73277825e-20\n",
      "  1.14290333e-19  1.30150465e-16 -5.75737099e-20  3.58009344e-20\n",
      "  1.32881983e-21  1.90678066e-16 -3.29292409e-04  3.50857628e-20\n",
      "  2.67001722e-20  1.77572633e-20 -3.29292409e-04  8.27891624e-20\n",
      "  2.67001722e-20  8.27891624e-20 -9.81664591e-04 -3.44605097e-15\n",
      "  4.68175701e-19 -1.74396938e-19  4.04435966e-19 -3.44561911e-15\n",
      "  8.20958333e-19 -2.32957170e-19  5.06052188e-19 -2.25016351e-15\n",
      "  9.27555103e-04 -2.62058915e-11  1.41980050e-19  2.62058913e-11\n",
      "  9.27555103e-04 -8.82976717e-20 -1.68484356e-19 -2.60135056e-20\n",
      "  7.18956734e-04 -1.26454132e-18 -6.45735491e-20 -2.62555781e-15\n",
      "  1.20627973e-18  2.27923236e-18 -2.10329881e-15  1.01062158e-15\n",
      "  8.09514731e-16  4.05143481e-19 -2.01500722e-18  1.58339753e-18\n",
      " -2.10308321e-15  1.95874857e-18 -3.15844639e-18  2.62540919e-15\n",
      "  8.09520544e-16 -1.01039987e-15 -5.24753913e-19  2.03504250e-15\n",
      " -1.38729420e-19 -4.04391517e-19 -1.08671740e-19  2.03502794e-15\n",
      "  8.26597512e-19 -2.87658603e-20  6.45650335e-21  1.87603917e-15\n",
      " -6.52867342e-04 -1.86926791e-10  2.15182958e-19  1.86926791e-10\n",
      " -6.52867342e-04 -5.32763662e-19  1.84540619e-20 -8.03734205e-19\n",
      " -4.26174778e-04 -3.44605725e-15  4.47051687e-19 -2.32957170e-19\n",
      "  4.33495976e-19 -3.44558267e-15  5.06052188e-19 -1.74396938e-19\n",
      "  8.20958333e-19 -2.25015226e-15 -1.09866112e-02 -1.39986097e-18\n",
      " -5.97689727e-18 -1.74825064e-18 -1.09866112e-02  4.79201460e-18\n",
      " -5.97689727e-18  4.79201460e-18 -2.28030319e-02 -3.12192337e-16\n",
      " -2.49641198e-17  3.10472413e-18 -2.68452196e-17 -3.44773770e-16\n",
      "  8.26583377e-18  5.97031456e-18  1.64182426e-17  8.81981462e-17\n",
      "  1.44420600e-17 -5.35189129e-19 -1.37787049e-02  1.15005473e-18\n",
      "  3.79805470e-17 -1.10374406e-02 -2.21368996e-02 -1.77327840e-02\n",
      " -5.28445934e-17  9.99185413e-18  1.20220213e-17 -1.10374406e-02\n",
      "  1.14054687e-17  9.35964258e-18  1.37787049e-02 -1.77327840e-02\n",
      "  2.21368996e-02 -3.09388179e-17  8.42335073e-03 -7.52299023e-09\n",
      "  7.40578654e-17  7.52299023e-09  8.42335073e-03  2.82599738e-18\n",
      "  1.20306103e-16  2.61985650e-18 -1.45113773e-02 -4.90128115e-15\n",
      " -3.15830737e-19  6.93625832e-20 -3.87690981e-19 -4.90149340e-15\n",
      " -3.80690500e-20  1.06956222e-19  3.80244347e-19 -3.79782082e-15\n",
      "  9.27555103e-04  2.62058913e-11 -1.68484356e-19 -2.62058915e-11\n",
      "  9.27555103e-04 -2.60135056e-20  1.41980050e-19 -8.82976717e-20\n",
      "  7.18956734e-04 -3.12264427e-16 -2.70024402e-17  5.97031456e-18\n",
      " -2.47659898e-17 -3.44755511e-16  1.64182426e-17  3.10472413e-18\n",
      "  8.26583377e-18  9.00133414e-17 -4.86423076e-02  1.36990006e-17\n",
      " -1.43359985e-18  1.36038622e-17 -4.86423076e-02 -5.98876538e-18\n",
      " -1.43359985e-18 -5.98876538e-18 -1.27327693e-02  3.65817936e-18\n",
      "  2.06368023e-17 -3.54448240e-17  3.96680695e-17  2.11849552e-17\n",
      " -3.31567907e-17  1.52932657e-16  1.20298050e-16  2.55774900e-19\n",
      "  2.53972146e-17 -6.60607101e-18 -2.56241780e-17  2.46438709e-17\n",
      " -3.44148507e-17  3.81728351e-17  1.23281696e-16 -1.41247598e-16\n",
      "  1.56214800e-18 -4.46699686e-17  5.64705938e-17  1.28386548e-17\n",
      "  5.60500033e-17  3.01112952e-17  1.36875480e-17  4.07318165e-18\n",
      " -4.91926612e-18  1.26683775e-16  2.73504228e-18 -1.14445788e-18\n",
      "  1.91381392e-04  3.39333546e-20 -4.04823247e-19  1.53306696e-04\n",
      " -4.97064326e-04 -3.98173557e-04  1.05688847e-18 -1.26454132e-18\n",
      "  1.20627973e-18  1.01030609e-15 -6.45735491e-20  2.27923236e-18\n",
      "  8.09222897e-16 -2.62533066e-15 -2.10301862e-15  4.05143481e-19\n",
      "  1.44420600e-17  1.15005473e-18 -2.21368996e-02 -5.35189129e-19\n",
      "  3.79805470e-17 -1.77327840e-02 -1.37787049e-02 -1.10374406e-02\n",
      " -5.28445934e-17  3.65817936e-18  3.96680695e-17  1.56654034e-16\n",
      "  2.06368023e-17  2.11849552e-17  1.21879231e-16 -3.73521723e-17\n",
      " -3.44702091e-17  2.55774900e-19 -8.21571266e-02 -5.45267600e-02\n",
      " -8.04898901e-17 -5.45267600e-02 -5.77667639e-02 -6.62834266e-17\n",
      " -8.04898901e-17 -6.62834266e-17 -1.17474640e-02 -5.45267729e-02\n",
      "  3.36266298e-02 -4.98771743e-17 -9.23665175e-03  5.45267729e-02\n",
      " -3.99499912e-17 -5.80314688e-17  8.67321219e-17  1.92866554e-18\n",
      "  3.49817402e-16  1.04378525e-16 -2.25018271e-02  1.99220952e-16\n",
      " -1.79004023e-17 -1.80251091e-02  3.96044431e-04  3.17237113e-04\n",
      " -5.20818255e-17  2.71220621e-18 -1.83209889e-18  1.53306696e-04\n",
      " -1.30895199e-18  3.82272005e-18 -1.91381392e-04 -3.98173557e-04\n",
      "  4.97064326e-04  1.36882395e-18 -2.01500722e-18  1.95874857e-18\n",
      "  8.09124236e-16  1.58339753e-18 -3.15844639e-18 -1.00992512e-15\n",
      " -2.10282704e-15  2.62508397e-15 -5.24753913e-19  9.99185413e-18\n",
      "  1.14054687e-17 -1.77327840e-02  1.20220213e-17  9.35964258e-18\n",
      "  2.21368996e-02 -1.10374406e-02  1.37787049e-02 -3.09388179e-17\n",
      "  2.53972146e-17  2.46438709e-17  1.29533893e-16 -6.60607101e-18\n",
      " -3.44148507e-17 -1.41819021e-16 -2.85968237e-17  3.85026500e-17\n",
      "  1.56214800e-18 -5.45267729e-02 -9.23665175e-03 -5.80314688e-17\n",
      "  3.36266298e-02  5.45267729e-02  8.67321219e-17 -4.98771743e-17\n",
      " -3.99499912e-17  1.84180570e-18 -5.77667639e-02  5.45267600e-02\n",
      " -3.37146848e-17  5.45267600e-02 -8.21571266e-02  4.16272720e-17\n",
      " -3.37146848e-17  4.16272720e-17 -1.17474640e-02  2.82735585e-16\n",
      " -1.12753026e-16 -1.80251091e-02 -2.54281085e-16 -2.08093582e-17\n",
      "  2.25018271e-02  3.17237113e-04 -3.96044431e-04 -3.21060439e-17\n",
      "  3.83403077e-04 -1.23607429e-11 -1.02997641e-18  1.23607429e-11\n",
      "  3.83403077e-04  4.86923200e-20  2.86395377e-18 -8.34028909e-19\n",
      "  3.53102574e-04  2.03503611e-15 -1.30995825e-19 -2.87658603e-20\n",
      " -1.25222006e-19  2.03498643e-15  6.45650335e-21 -4.04391517e-19\n",
      "  8.26597512e-19  1.87576879e-15  8.42335073e-03  7.52299023e-09\n",
      "  1.20306103e-16 -7.52299023e-09  8.42335073e-03  2.61985650e-18\n",
      "  7.40578654e-17  2.82599738e-18 -1.45113773e-02 -4.50244652e-17\n",
      "  5.63045633e-17  4.07318165e-18  5.63771667e-17  3.01822890e-17\n",
      " -4.91926612e-18  1.28386548e-17  1.36875480e-17  1.23584929e-16\n",
      "  3.49817402e-16  1.99220952e-16  3.96044431e-04  1.04378525e-16\n",
      " -1.79004023e-17  3.17237113e-04 -2.25018271e-02 -1.80251091e-02\n",
      " -5.20818255e-17  2.82735585e-16 -2.54281085e-16  3.17237113e-04\n",
      " -1.12753026e-16 -2.08093582e-17 -3.96044431e-04 -1.80251091e-02\n",
      "  2.25018271e-02 -3.21060439e-17 -2.06363777e-02  1.22343017e-17\n",
      "  1.19524677e-16  1.24904851e-17 -2.06363777e-02  5.70381385e-19\n",
      "  1.19524677e-16  5.70381385e-19 -2.60408523e-02]\n",
      "Hartree-Fock Energy: -107.498968 Ha\n",
      "FCI Ground State Energy: -107.660206 Ha\n"
     ]
    }
   ],
   "source": [
    "import pubchempy as pcp\n",
    "from pyscf import gto, scf, fci, cc, mcscf\n",
    "\n",
    "# 1. Load the N2 molecule from PubChem (3D structure)\n",
    "cid = 947  # N2 molecule\n",
    "compound = pcp.get_compounds(cid, \"cid\", record_type=\"3d\")[0]\n",
    "\n",
    "# 2. Extract atomic coordinates\n",
    "geometry = []\n",
    "for atom in compound.atoms:\n",
    "    symbol = atom.element\n",
    "    x, y, z = atom.x, atom.y, atom.z\n",
    "    geometry.append(f\"{symbol} {x} {y} {z}\")\n",
    "\n",
    "# Convert to PySCF format\n",
    "mol_geometry = \"\\n\".join(geometry)\n",
    "\n",
    "# 3. Define the molecule in PySCF\n",
    "mol = gto.Mole()\n",
    "mol.atom = mol_geometry\n",
    "mol.basis = \"STO-3G\"  # Choose a reasonable basis set\n",
    "mol.unit = \"angstrom\"  # Coordinates are in Ångströms\n",
    "mol.spin = 0  # N2 is a singlet\n",
    "mol.charge = 0\n",
    "mol.build()\n",
    "\n",
    "# 4. Run Hartree-Fock calculation\n",
    "mf = scf.RHF(mol)\n",
    "mf.kernel()\n",
    "mycc = mf.CISD().run()\n",
    "print(mycc.ci)\n",
    "# 5. Compute Full Configuration Interaction (FCI) energy\n",
    "cisolver = fci.FCI(mol, mf.mo_coeff)\n",
    "E0 = cisolver.kernel()[0]\n",
    "\n",
    "# Print results\n",
    "print(f\"Hartree-Fock Energy: {mf.e_tot:.6f} Ha\")\n",
    "print(f\"FCI Ground State Energy: {E0:.6f} Ha\")"
   ]
  },
  {
   "cell_type": "code",
   "execution_count": 33,
   "metadata": {},
   "outputs": [
    {
     "name": "stdout",
     "output_type": "stream",
     "text": [
      "['O 2.866 -0.25 0.0', 'Li 3.732 0.25 0.0', 'Li 2 0.25 0.0']\n",
      "converged SCF energy = -87.7955672142264\n"
     ]
    },
    {
     "data": {
      "text/plain": [
       "np.float64(-87.79556721422637)"
      ]
     },
     "execution_count": 33,
     "metadata": {},
     "output_type": "execute_result"
    }
   ],
   "source": [
    "import pubchempy as pcp\n",
    "import numpy as np\n",
    "from pyscf import gto, scf, fci, ci\n",
    "import netket as nk\n",
    "from netket.experimental.operator import from_pyscf_molecule\n",
    "\n",
    "# --- Step 1: Load N2 molecule ---\n",
    "cid = 166630  # N2 molecule\n",
    "\n",
    "try:\n",
    "    compound = pcp.get_compounds(cid, \"cid\", record_type='3d')[0]\n",
    "    geom = '3d'\n",
    "except : \n",
    "    compound = pcp.get_compounds(cid, \"cid\", record_type='2d')[0]\n",
    "    geom = '2d'\n",
    "name = cid\n",
    "# 2. Extract atomic coordinates\n",
    "geometry = []\n",
    "\n",
    "for atom in compound.atoms:\n",
    "    symbol = atom.element\n",
    "    if geom == '3d':\n",
    "        x, y, z  = atom.x, atom.y, atom.z\n",
    "    elif geom == '2d':\n",
    "        x, y, z  = atom.x, atom.y, 0.0\n",
    "    geometry.append(f\"{symbol} {x} {y} {z}\")\n",
    "\n",
    "print(geometry)\n",
    "# Convert to PySCF format\n",
    "mol_geometry = \"\\n\".join(geometry)\n",
    "\n",
    "# 3. Define the molecule in PySCF\n",
    "mol = gto.Mole()\n",
    "mol.atom = mol_geometry\n",
    "mol.basis = \"STO-3G\"  # Choose a reasonable basis set\n",
    "mol.unit = \"angstrom\"  # Coordinates are in Ångströms\n",
    "mol.spin = 0  # N2 is a singlet\n",
    "mol.charge = 0\n",
    "mol.build()\n",
    "\n",
    "# --- Step 3: Perform Hartree-Fock Calculation ---\n",
    "mf = scf.RHF(mol)\n",
    "mf.kernel()\n",
    "\n",
    "# # --- Step 5: Compute FCI Energy for Comparison ---\n",
    "# cisolver = fci.FCI(mol, mf.mo_coeff)\n",
    "# e_fci, fci_vec = cisolver.kernel()\n",
    "# jnp.sum(fci_vec**4)"
   ]
  },
  {
   "cell_type": "code",
   "execution_count": 12,
   "metadata": {},
   "outputs": [
    {
     "name": "stdout",
     "output_type": "stream",
     "text": [
      "converged SCF energy = -107.498967544584\n",
      "E(RCISD) = -107.6470818557089  E_corr = -0.1481143111250729\n",
      "converged SCF energy = -107.498967544584\n"
     ]
    }
   ],
   "source": [
    "import pubchempy as pcp\n",
    "import numpy as np\n",
    "from pyscf import gto, scf, fci, ci\n",
    "import netket as nk\n",
    "from netket.experimental.operator import from_pyscf_molecule\n",
    "\n",
    "# --- Step 1: Load N2 molecule ---\n",
    "cid = 947  # N2 molecule\n",
    "compound = pcp.get_compounds(cid, \"cid\", record_type=\"3d\")[0]\n",
    "\n",
    "# Extract atomic coordinates\n",
    "geometry = []\n",
    "for atom in compound.atoms:\n",
    "    symbol = atom.element\n",
    "    x, y, z = atom.x, atom.y, atom.z\n",
    "    geometry.append(f\"{symbol} {x} {y} {z}\")\n",
    "\n",
    "# Convert to PySCF format\n",
    "mol_geometry = \"\\n\".join(geometry)\n",
    "\n",
    "# --- Step 2: Define the molecule in PySCF ---\n",
    "mol = gto.Mole()\n",
    "mol.atom = mol_geometry\n",
    "mol.basis = \"STO-3G\"  # Choose a reasonable basis set\n",
    "mol.unit = \"angstrom\"  # Coordinates are in Ångströms\n",
    "mol.spin = 0  # N2 is a singlet\n",
    "mol.charge = 0\n",
    "mol.build()\n",
    "\n",
    "# --- Step 3: Perform Hartree-Fock Calculation ---\n",
    "mf = scf.RHF(mol)\n",
    "mf.kernel()\n",
    "\n",
    "# --- Step 4: Perform CISD Calculation ---\n",
    "cisd = ci.CISD(mf, mo_coeff=mf.mo_coeff)\n",
    "cisd.kernel()\n",
    "cisd_energy = cisd.e_tot\n",
    "cisd_amplitudes = cisd.ci  # These are the amplitudes we want to use in NetKet\n",
    "\n",
    "# --- Step 5: Compute FCI Energy for Comparison ---\n",
    "cisolver = fci.FCI(mol, mf.mo_coeff)\n",
    "E_fci = cisolver.kernel()[0]\n",
    "\n",
    "# --- Step 6: Define NetKet Hamiltonian ---\n",
    "H = from_pyscf_molecule(mol)\n",
    "\n",
    "# --- Step 7: Convert CISD amplitudes into a NetKet Log State Vector ---\n",
    "log_state_vector = np.zeros(H.hilbert.n_states, dtype=np.complex128)\n",
    "log_state_vector[: len(cisd_amplitudes)] = cisd_amplitudes.flatten()\n",
    "\n",
    "# Normalize the state vector\n",
    "log_state_vector /= np.linalg.norm(log_state_vector)"
   ]
  },
  {
   "cell_type": "code",
   "execution_count": 22,
   "metadata": {},
   "outputs": [
    {
     "name": "stderr",
     "output_type": "stream",
     "text": [
      "/tmp/ipykernel_151638/1089864976.py:4: RuntimeWarning: divide by zero encountered in divide\n",
      "  hloc = (H @ ci_vec)/ ci_vec\n",
      "/tmp/ipykernel_151638/1089864976.py:4: RuntimeWarning: invalid value encountered in divide\n",
      "  hloc = (H @ ci_vec)/ ci_vec\n"
     ]
    },
    {
     "data": {
      "text/plain": [
       "Array(nan, dtype=float64)"
      ]
     },
     "execution_count": 22,
     "metadata": {},
     "output_type": "execute_result"
    }
   ],
   "source": [
    "import jax.numpy as jnp\n",
    "ci_vec  = cisd.to_fcivec(cisd.ci).flatten()\n",
    "pdf = ci_vec**2 / jnp.sum(ci_vec**2)\n",
    "hloc = (H @ ci_vec) / ci_vec\n",
    "jnp.sum(pdf*hloc)"
   ]
  },
  {
   "cell_type": "code",
   "execution_count": 10,
   "metadata": {},
   "outputs": [],
   "source": [
    "H = from_pyscf_molecule(mol, mo_coeff=mf.mo_coeff).to_jax_operator()\n",
    "E0, gs = nk.exact.lanczos_ed(H, compute_eigenvectors=True)"
   ]
  },
  {
   "cell_type": "code",
   "execution_count": 1,
   "metadata": {},
   "outputs": [
    {
     "name": "stdout",
     "output_type": "stream",
     "text": [
      "{'_target_': 'grad_sample.tasks.fullsum_train.Trainer'}\n",
      "converged SCF energy = -87.7955672142263\n",
      "E(RCISD) = -87.88373963576564  E_corr = -0.08817242153935208\n",
      "E(CCSD) = -87.88551420645555  E_corr = -0.08994699222927166\n",
      "converged SCF energy = -87.7955672142264\n",
      "scratch folder not specified in env variables\n",
      "Nparams = 7440\n",
      "MC state loaded, num samples 512\n",
      "/mnt/beegfs/workdir/antoine.misery/qchem_comp//166630_0/L30/NNBF/256/MC_9_[1.]/schedule_schedule/run_1\n",
      "creating driver\n",
      "finished creating driver\n",
      "41409225\n"
     ]
    }
   ],
   "source": [
    "from hydra import compose, initialize\n",
    "from omegaconf import OmegaConf\n",
    "from hydra.core.global_hydra import GlobalHydra\n",
    "from hydra.utils import instantiate\n",
    "from grad_sample.tasks.fullsum_train import Trainer\n",
    "if GlobalHydra().is_initialized():\n",
    "    GlobalHydra().clear()\n",
    "with initialize(version_base=None, config_path=\"./grad_sample/conf\"):\n",
    "    cfg = compose(config_name=\"qchem\")\n",
    "    OmegaConf.set_struct(cfg, True)\n",
    "    print(cfg.task)\n",
    "    # cfg = OmegaConf.to_yaml(cfg)\n",
    "    # take any task from cfg and run it\n",
    "# analysis = FullSumPruning(cfg)\n",
    "trainer = Trainer(cfg)"
   ]
  },
  {
   "cell_type": "code",
   "execution_count": 2,
   "metadata": {},
   "outputs": [
    {
     "name": "stdout",
     "output_type": "stream",
     "text": [
      "{'distributed': -1, 'log_prob': array([-1.61546037, -0.78271593,  8.00636265, ...,  5.28750628,\n",
      "       -1.96115719,  3.51418235]), 'n_accepted_proc': array([188, 188,  14, ..., 240, 363, 146]), 'n_steps_proc': array(4055040), 'rng': array([2418867773, 4144608235], dtype=uint32), 'rule_state': None, 'σ': array([[1, 1, 1, ..., 0, 0, 0],\n",
      "       [1, 1, 1, ..., 0, 0, 1],\n",
      "       [1, 1, 1, ..., 0, 0, 0],\n",
      "       ...,\n",
      "       [1, 1, 1, ..., 0, 0, 0],\n",
      "       [1, 0, 1, ..., 0, 1, 0],\n",
      "       [1, 1, 1, ..., 1, 0, 0]], dtype=int8)}\n"
     ]
    }
   ],
   "source": [
    "from netket.vqs import FullSumState\n",
    "import netket as nk\n",
    "import flax\n",
    "from netket_checkpoint._src.serializers.metropolis import serialize_MetropolisSamplerState, deserialize_MetropolisSamplerState\n",
    "n_s = 2**12\n",
    "sampler = instantiate(cfg.sampler, hilbert=trainer.model.hilbert_space, \n",
    "                                                             graph=trainer.model.graph, \n",
    "                                                             sweep_size=2*trainer.model.hilbert_space.size, \n",
    "                                                             n_chains_per_rank=n_s//2,\n",
    "                                                             )\n",
    "vstate = nk.vqs.MCState(sampler= sampler, \n",
    "                                model=trainer.ansatz, \n",
    "                                chunk_size= trainer.chunk_size, \n",
    "                                n_samples= n_s,\n",
    "                                n_discard_per_chain = 2**12\n",
    "                            #  seed=0\n",
    "                            )\n",
    "\n",
    "ckpt = '/mnt/beegfs/home/CPHT/antoine.misery/workdir_link/qchem_comp/166630_0/L30/NNBF/256/MC_12_isauto/schedule_schedule/run_0.mpack'\n",
    "ckpt_sampler =  '/mnt/beegfs/home/CPHT/antoine.misery/workdir_link/qchem_comp/166630_0/L30/NNBF/256/MC_12_isauto/schedule_schedule/run_0/sampler_state_overdispersed.mpack'  \n",
    "with open(ckpt, 'rb') as f:\n",
    "    vars = nk.experimental.vqs.variables_from_file(ckpt,\n",
    "                                                   vstate.variables)\n",
    "    # update the variables of vstate with the loaded data.\n",
    "    vstate.variables = vars\n",
    "with open(ckpt_sampler, 'rb') as f:\n",
    "    state_dict = flax.serialization.msgpack_restore(f.read())\n",
    "print(state_dict)\n",
    "vstate.sampler_state = deserialize_MetropolisSamplerState(vstate.sampler_state, state_dict)"
   ]
  },
  {
   "cell_type": "code",
   "execution_count": 3,
   "metadata": {},
   "outputs": [
    {
     "name": "stderr",
     "output_type": "stream",
     "text": [
      "/tmp/ipykernel_90525/3119054274.py:1: UserWarning: Deserializing a MetropolisSamplerState with sharding, but the current setup is not sharded. This might lead to unexpected behavior.\n",
      "  vstate.sampler_states['overdispersed'] = deserialize_MetropolisSamplerState(vstate.sampler_state, state_dict)\n"
     ]
    }
   ],
   "source": [
    "vstate.sampler_states['overdispersed'] = deserialize_MetropolisSamplerState(vstate.sampler_state, state_dict)"
   ]
  },
  {
   "cell_type": "code",
   "execution_count": 10,
   "metadata": {},
   "outputs": [
    {
     "data": {
      "text/plain": [
       "-87.025-0.000j ± 0.039 [σ²=3.074, R̂=1.2247]"
      ]
     },
     "execution_count": 10,
     "metadata": {},
     "output_type": "execute_result"
    }
   ],
   "source": [
    "vstate.expect(trainer.model.hamiltonian)"
   ]
  },
  {
   "cell_type": "code",
   "execution_count": 59,
   "metadata": {},
   "outputs": [],
   "source": [
    "state_dict = serialize_MetropolisSamplerState(vstate.sampler_state)"
   ]
  },
  {
   "cell_type": "code",
   "execution_count": 62,
   "metadata": {},
   "outputs": [],
   "source": [
    "import flax"
   ]
  },
  {
   "cell_type": "code",
   "execution_count": 64,
   "metadata": {},
   "outputs": [],
   "source": [
    "import flax.serialization\n",
    "\n",
    "\n",
    "binary_data = flax.serialization.msgpack_serialize(state_dict)\n",
    "with open(\"sampler.mpack\", \"wb\") as outfile:\n",
    "    outfile.write(binary_data)"
   ]
  },
  {
   "cell_type": "code",
   "execution_count": 61,
   "metadata": {},
   "outputs": [
    {
     "name": "stderr",
     "output_type": "stream",
     "text": [
      "/tmp/ipykernel_25600/4148633462.py:1: UserWarning: Deserializing a MetropolisSamplerState with sharding, but the current setup is not sharded. This might lead to unexpected behavior.\n",
      "  vstate.sampler_state = deserialize_MetropolisSamplerState(vstate.sampler_state, state_dict)\n"
     ]
    }
   ],
   "source": []
  },
  {
   "cell_type": "code",
   "execution_count": 55,
   "metadata": {},
   "outputs": [
    {
     "data": {
      "text/plain": [
       "MetropolisSamplerState(# accepted = 1757065/503562240 (0.3489270760253986%), rng state=[2834672788 4293407411])"
      ]
     },
     "execution_count": 55,
     "metadata": {},
     "output_type": "execute_result"
    }
   ],
   "source": [
    "vstate.sampler_state"
   ]
  },
  {
   "cell_type": "code",
   "execution_count": null,
   "metadata": {},
   "outputs": [],
   "source": [
    "vstate.expect(trainer.model.hamiltonian)"
   ]
  },
  {
   "cell_type": "code",
   "execution_count": 8,
   "metadata": {},
   "outputs": [],
   "source": [
    "trainer.gs.state.n_samples = 2**12\n",
    "trainer.vstate = vstate\n",
    "local_grad, local_loss, weights = trainer.gs.local_estimators()"
   ]
  },
  {
   "cell_type": "code",
   "execution_count": 9,
   "metadata": {},
   "outputs": [
    {
     "data": {
      "text/plain": [
       "Array(-57.92845267+2.86386849e-18j, dtype=complex128)"
      ]
     },
     "execution_count": 9,
     "metadata": {},
     "output_type": "execute_result"
    }
   ],
   "source": [
    "import numpy as np\n",
    "np.mean(local_loss*weights)"
   ]
  },
  {
   "cell_type": "code",
   "execution_count": 30,
   "metadata": {},
   "outputs": [
    {
     "name": "stdout",
     "output_type": "stream",
     "text": [
      "{'params': {'logstate': Array([1.+0.j, 1.+0.j, 1.+0.j, ..., 1.+0.j, 1.+0.j, 1.+0.j], dtype=complex128)}}\n",
      "{'params': {'logstate': Array([ 2.25195339e-08+0.j, -1.38843155e-17+0.j, -3.17557092e-17+0.j, ...,\n",
      "        5.00370052e-15+0.j, -2.67754987e-16+0.j, -9.55955488e-01+0.j],      dtype=complex128)}}\n",
      "{'logstate': Array([ 2.25195339e-08+0.j, -1.38843155e-17+0.j, -3.17557092e-17+0.j, ...,\n",
      "        5.00370052e-15+0.j, -2.67754987e-16+0.j, -9.55955488e-01+0.j],      dtype=complex128)}\n",
      "-8.589e+01+0.000e+00j ± 0.000e+00 [σ²=1.911e+02]\n",
      "Hartree-Fock Energy: -107.498968 Ha\n",
      "CISD Energy: -107.647082 Ha\n",
      "FCI Energy: -107.660206 Ha\n"
     ]
    }
   ],
   "source": [
    "import jax.numpy as jnp\n",
    "# Define the variational state in NetKet\n",
    "vs = nk.vqs.FullSumState(hilbert=H.hilbert, model= nk.models.LogStateVector(hilbert=H.hilbert))\n",
    "print(vs.variables)\n",
    "vs.variables = {'params': {'logstate' : jnp.array(gs.squeeze(1), dtype=jnp.complex128)}}\n",
    "print(vs.variables)\n",
    "# --- Step 8: Compute Energy in NetKet ---\n",
    "energy_netket = vs.expect(H)\n",
    "print(energy_netket)\n",
    "# --- Step 9: Print Results ---\n",
    "print(f\"Hartree-Fock Energy: {mf.e_tot:.6f} Ha\")\n",
    "print(f\"CISD Energy: {cisd_energy:.6f} Ha\")\n",
    "print(f\"FCI Energy: {E_fci:.6f} Ha\")"
   ]
  },
  {
   "cell_type": "code",
   "execution_count": 27,
   "metadata": {},
   "outputs": [
    {
     "data": {
      "text/plain": [
       "<bound method Stats.real of -8.610e+01+0.000e+00j ± 0.000e+00 [σ²=1.870e+02]>"
      ]
     },
     "execution_count": 27,
     "metadata": {},
     "output_type": "execute_result"
    }
   ],
   "source": [
    "energy_netket"
   ]
  },
  {
   "cell_type": "code",
   "execution_count": 9,
   "metadata": {},
   "outputs": [
    {
     "data": {
      "text/plain": [
       "14400"
      ]
     },
     "execution_count": 9,
     "metadata": {},
     "output_type": "execute_result"
    }
   ],
   "source": [
    "cisolver.ci.size"
   ]
  },
  {
   "cell_type": "code",
   "execution_count": 10,
   "metadata": {},
   "outputs": [
    {
     "name": "stdout",
     "output_type": "stream",
     "text": [
      "[ 9.64315178e-01 -1.46969154e-17  4.49969096e-17  1.09478909e-16\n",
      " -1.29524476e-17  4.22167877e-17 -6.44863743e-05 -3.61768002e-17\n",
      "  4.28652125e-17 -1.02441963e-15 -3.64598313e-17 -1.65067840e-16\n",
      "  8.85814354e-03  9.05107052e-16 -5.43008272e-16  1.40427381e-17\n",
      "  4.13144812e-16 -1.02189506e-15  7.39872660e-17  1.69377494e-16\n",
      " -6.27169841e-17  1.08332080e-15 -3.04861183e-04 -2.99739932e-20\n",
      "  5.51747310e-20 -2.91279170e-20 -3.04861183e-04  5.44679620e-20\n",
      "  5.51747310e-20  5.44679620e-20 -9.46007292e-04  5.07063918e-17\n",
      " -7.00391349e-20 -1.01682589e-21 -6.52488972e-20  5.10423153e-17\n",
      "  6.76469680e-20  1.14879000e-20  5.40631790e-20  7.27025060e-17\n",
      " -6.52875207e-04 -1.05187192e-11 -1.16044784e-18  1.05187191e-11\n",
      " -6.52875207e-04 -8.84824024e-19 -8.15618782e-19 -6.13161598e-19\n",
      " -4.26174967e-04 -1.92439322e-15  1.97065510e-19 -1.05859735e-18\n",
      "  1.94252947e-19 -1.92546169e-15  1.89092093e-19  3.37196246e-19\n",
      " -1.56559739e-19 -1.49127960e-15  7.16382370e-18  1.15952529e-18\n",
      "  6.36877945e-04  2.88183242e-18  2.09969061e-18 -3.33891041e-06\n",
      " -2.45226220e-04  1.28556200e-06  1.83443706e-18 -3.57180349e-18\n",
      " -3.48611394e-18 -3.33891041e-06 -1.57707387e-18 -7.61390649e-18\n",
      " -6.36877945e-04  1.28556200e-06  2.45226220e-04 -3.13467038e-18\n",
      " -3.83409086e-04  1.19162887e-11  3.48142709e-18 -1.19162888e-11\n",
      " -3.83409086e-04  5.69980080e-18 -8.63839785e-19 -1.81998026e-18\n",
      " -3.53077270e-04  5.06988541e-17 -6.67583818e-20  1.14879000e-20\n",
      " -6.70114140e-20  5.10452100e-17  5.40631790e-20 -1.01682589e-21\n",
      "  6.76469680e-20  7.26974023e-17 -3.29292461e-04 -3.85667977e-20\n",
      "  7.18156523e-20 -3.76963805e-20 -3.29292461e-04  6.86417542e-20\n",
      "  7.18156523e-20  6.86417542e-20 -9.81660654e-04 -1.34381972e-15\n",
      " -1.63649535e-19 -1.12798958e-18 -1.81539569e-19 -1.34276156e-15\n",
      " -7.28030498e-19 -6.98784047e-19 -4.32031473e-19 -8.77824602e-16\n",
      "  9.27553406e-04  2.05365197e-12 -5.74810686e-20 -2.05365180e-12\n",
      "  9.27553406e-04  3.70884142e-19  4.01297381e-20  5.32543889e-20\n",
      "  7.18959013e-04  6.89545923e-18  1.30591679e-18  1.31414625e-15\n",
      "  2.90642344e-18  1.95914144e-18 -7.05607627e-18 -5.09987335e-16\n",
      "  2.76850774e-18  1.49322508e-18 -8.21237460e-19 -3.35272719e-18\n",
      " -6.76035667e-18 -1.58303902e-18 -5.03445121e-18 -1.31408848e-15\n",
      "  2.57609383e-18  5.10349032e-16 -4.56498094e-19 -8.12183532e-16\n",
      " -8.20307869e-20  1.35593529e-18 -8.84887924e-20 -8.11962620e-16\n",
      "  1.12270523e-18 -6.31465349e-21  3.08875825e-20 -7.45514788e-16\n",
      " -6.52875207e-04  1.05187191e-11 -8.15618782e-19 -1.05187192e-11\n",
      " -6.52875207e-04 -6.13161598e-19 -1.16044784e-18 -8.84824024e-19\n",
      " -4.26174967e-04 -1.34381758e-15 -1.72259725e-19 -6.98784047e-19\n",
      " -1.71639572e-19 -1.34278222e-15 -4.32031473e-19 -1.12798958e-18\n",
      " -7.28030498e-19 -8.77872980e-16 -1.09865855e-02 -5.44170502e-20\n",
      "  4.42336494e-18  3.33979256e-20 -1.09865855e-02  5.32753777e-18\n",
      "  4.42336494e-18  5.32753777e-18 -2.28026616e-02 -3.43378157e-16\n",
      "  2.08066053e-18 -2.64007419e-17  1.92975376e-18 -3.80429684e-16\n",
      " -4.06694107e-18 -4.00243632e-17 -4.80539157e-18  3.82920547e-16\n",
      "  1.78840478e-17 -7.29300274e-18  1.76538789e-02 -1.00424729e-17\n",
      "  3.07126313e-17 -9.25524090e-05  2.83627576e-02 -1.48693681e-04\n",
      " -4.91277214e-17 -6.38559269e-17  8.17664260e-18 -9.25524090e-05\n",
      "  4.64921939e-18 -4.65099007e-17 -1.76538789e-02 -1.48693681e-04\n",
      " -2.83627576e-02  1.05729471e-16 -8.42350917e-03  2.25461115e-10\n",
      "  5.96637645e-17 -2.25461116e-10 -8.42350917e-03  1.28159456e-16\n",
      "  9.89060612e-17  2.08093526e-16  1.45111861e-02 -1.92441365e-15\n",
      "  1.89756787e-19  3.37196246e-19  2.06639590e-19 -1.92551915e-15\n",
      " -1.56559739e-19 -1.05859735e-18  1.89092093e-19 -1.49136530e-15\n",
      "  9.27553406e-04 -2.05365181e-12  4.01297381e-20  2.05365198e-12\n",
      "  9.27553406e-04  5.32543889e-20 -5.74810686e-20  3.70884142e-19\n",
      "  7.18959013e-04 -3.43743948e-16  1.83004185e-18 -4.00243632e-17\n",
      "  2.14302822e-18 -3.80254274e-16 -4.80539157e-18 -2.64007419e-17\n",
      " -4.06694107e-18  3.83957802e-16 -4.86432069e-02 -9.00742680e-18\n",
      " -3.66808935e-18 -8.65474993e-18 -4.86432069e-02 -2.72600625e-18\n",
      " -3.66808935e-18 -2.72600625e-18 -1.27324319e-02  1.05177082e-16\n",
      "  5.93867661e-18 -4.35974176e-17  1.24347944e-17 -5.10631058e-17\n",
      "  6.24187521e-18 -7.67177320e-16  4.49280869e-18 -1.44443849e-18\n",
      "  9.69248681e-18 -1.05320176e-16 -3.97636598e-18 -5.08228797e-17\n",
      " -8.66785116e-18  4.50106968e-17  4.32534090e-18  7.58024284e-16\n",
      "  2.17222790e-18  6.27520267e-16 -6.24685181e-18  3.54908332e-17\n",
      " -6.20827446e-18  5.77438710e-16 -5.14700508e-18 -3.44329780e-18\n",
      " -7.70193199e-18 -3.60012836e-16  7.16382370e-18  2.88183242e-18\n",
      " -2.45226220e-04  1.15952529e-18  2.09969061e-18  1.28556200e-06\n",
      "  6.36877945e-04 -3.33891041e-06  1.83443706e-18  6.89545923e-18\n",
      "  2.90642344e-18 -5.09965011e-16  1.30591679e-18  1.95914144e-18\n",
      "  2.79820296e-18  1.31420777e-15 -7.07829183e-18  1.49322508e-18\n",
      "  1.78840478e-17 -1.00424729e-17  2.83627576e-02 -7.29300274e-18\n",
      "  3.07126313e-17 -1.48693681e-04  1.76538789e-02 -9.25524090e-05\n",
      " -4.91277214e-17  1.05177082e-16  1.24347944e-17 -7.73285393e-16\n",
      "  5.93867661e-18 -5.10631058e-17  4.50062467e-18 -3.97819509e-17\n",
      "  6.18204961e-18 -1.44443849e-18 -1.25833051e-01  5.85829707e-04\n",
      "  9.24704990e-17  5.85829707e-04 -1.40909146e-02 -6.87116098e-19\n",
      "  9.24704990e-17 -6.87116098e-19 -1.17472803e-02  5.85829876e-04\n",
      "  7.73027786e-02 -2.11314884e-16  3.44391314e-02 -5.85829876e-04\n",
      "  7.06857590e-18  8.73969579e-18 -9.82027619e-17  2.10118963e-18\n",
      " -3.79462936e-16 -5.72427469e-16 -2.88304684e-02 -2.63708749e-16\n",
      "  2.79334859e-17  1.51143877e-04  5.07739472e-04 -2.66208133e-06\n",
      "  5.16120393e-17 -3.57180349e-18 -1.57707387e-18  1.28556200e-06\n",
      " -3.48611394e-18 -7.61390649e-18  2.45226220e-04 -3.33891041e-06\n",
      " -6.36877945e-04 -3.13467038e-18 -8.21237460e-19 -1.58303902e-18\n",
      "  2.54877943e-18 -3.35272719e-18 -5.03445121e-18  5.10583194e-16\n",
      " -6.74618516e-18 -1.31432843e-15 -4.56498094e-19 -6.38559269e-17\n",
      "  4.64921939e-18 -1.48693681e-04  8.17664260e-18 -4.65099007e-17\n",
      " -2.83627576e-02 -9.25524090e-05 -1.76538789e-02  1.05729471e-16\n",
      "  9.69248681e-18 -5.08228797e-17  4.41334682e-18 -1.05320176e-16\n",
      " -8.66785116e-18  7.64132205e-16 -4.08291682e-18  4.12559735e-17\n",
      "  2.17222790e-18  5.85829876e-04  3.44391314e-02  8.73969579e-18\n",
      "  7.73027786e-02 -5.85829876e-04 -9.82027619e-17 -2.11314884e-16\n",
      "  7.06857590e-18  2.11011933e-18 -1.40909146e-02 -5.85829707e-04\n",
      "  1.33848308e-18 -5.85829707e-04 -1.25833051e-01  2.01883225e-16\n",
      "  1.33848308e-18  2.01883225e-16 -1.17472803e-02 -4.67754214e-17\n",
      "  1.30523102e-16  1.51143877e-04  2.76844214e-16  7.89429576e-16\n",
      "  2.88304684e-02 -2.66208133e-06 -5.07739472e-04 -1.08724138e-16\n",
      " -3.83409086e-04 -1.19162888e-11 -8.63839785e-19  1.19162887e-11\n",
      " -3.83409086e-04 -1.81998026e-18  3.48142709e-18  5.69980080e-18\n",
      " -3.53077270e-04 -8.12188874e-16 -8.38374091e-20 -6.31465349e-21\n",
      " -8.53611986e-20 -8.11987209e-16  3.08875825e-20  1.35593529e-18\n",
      "  1.12270523e-18 -7.45460937e-16 -8.42350917e-03 -2.25461116e-10\n",
      "  9.89060612e-17  2.25461115e-10 -8.42350917e-03  2.08093526e-16\n",
      "  5.96637645e-17  1.28159456e-16  1.45111861e-02  6.27498888e-16\n",
      " -6.32802321e-18 -3.44329780e-18 -6.07837963e-18  5.76526761e-16\n",
      " -7.70193199e-18  3.54908332e-17 -5.14700508e-18 -3.63616253e-16\n",
      " -3.79462936e-16 -2.63708749e-16  5.07739472e-04 -5.72427469e-16\n",
      "  2.79334859e-17 -2.66208133e-06 -2.88304684e-02  1.51143877e-04\n",
      "  5.16120393e-17 -4.67754214e-17  2.76844214e-16 -2.66208133e-06\n",
      "  1.30523102e-16  7.89429576e-16 -5.07739472e-04  1.51143877e-04\n",
      "  2.88304684e-02 -1.08724138e-16 -2.06355464e-02 -3.12337669e-18\n",
      " -9.93379783e-17 -3.04960412e-18 -2.06355464e-02 -2.09268459e-16\n",
      " -9.93379783e-17 -2.09268459e-16 -2.60413413e-02]\n"
     ]
    }
   ],
   "source": [
    "print(mycc.ci)"
   ]
  },
  {
   "cell_type": "code",
   "execution_count": 4,
   "metadata": {},
   "outputs": [
    {
     "name": "stdout",
     "output_type": "stream",
     "text": [
      "converged SCF energy = -107.498967544584\n",
      "E(CCSD) = -107.6560799971636  E_corr = -0.1571124525798184\n"
     ]
    }
   ],
   "source": [
    "import netket.experimental as nkx\n",
    "from netket_pro.operator import ParticleNumberConservingFermioperator2ndSpinJax\n",
    "mf = scf.RHF(mol).run()  \n",
    "ccsd = cc.ccsd.CCSD(mf).run()\n",
    "nat_orbs = mcscf.addons.make_natural_orbitals(ccsd)\n",
    "# use the boys orbitals to construct the netket hamiltonian\n",
    "# natorbital hamiltonian\n",
    "ha_pyscf = nkx.operator.from_pyscf_molecule(mol, mo_coeff=nat_orbs[1]).to_jax_operator()\n",
    "# ha_natorb = ParticleNumberConservingFermioperator2ndSpinJax.from_fermiop(ha_pyscf)\n",
    "ha_natorb = ha_pyscf\n",
    "# E0, gs = nk.exact.lanczos_ed(ha_def, compute_eigenvectors=True)"
   ]
  },
  {
   "cell_type": "code",
   "execution_count": 5,
   "metadata": {},
   "outputs": [],
   "source": [
    "# from functools import lru_cache\n",
    "# from functools import cache\n",
    "# ha_pyscf = nkx.operator.from_pyscf_molecule(mol, mo_coeff=nat_orbs[1]).to_jax_operator()\n",
    "# ha_natorb = ParticleNumberConservingFermioperator2ndSpinJax.from_fermiop(ha_pyscf)\n",
    "\n",
    "# @lru_cache(5)\n",
    "# def sparsify(Ô):\n",
    "#     \"\"\"\n",
    "#     Converts to sparse but also cache the sparsificated result to speed up.\n",
    "#     \"\"\"\n",
    "#     return Ô.to_sparse()\n",
    "\n",
    "# sparsify(ha_natorb)\n"
   ]
  },
  {
   "cell_type": "code",
   "execution_count": 6,
   "metadata": {},
   "outputs": [],
   "source": [
    "def ipr(gs):\n",
    "    return jnp.sum(gs**4)"
   ]
  },
  {
   "cell_type": "code",
   "execution_count": 7,
   "metadata": {},
   "outputs": [],
   "source": [
    "from flax import nnx\n",
    "from netket.utils.types import NNInitFunc\n",
    "from netket.nn.masked_linear import default_kernel_init\n",
    "from typing import Any, Callable, Sequence\n",
    "from functools import partial\n",
    "import jax\n",
    "DType = Any\n",
    "\n",
    "class LogNeuralJastrowSlater(nnx.Module):\n",
    "    hilbert: nk.hilbert.SpinOrbitalFermions\n",
    "\n",
    "    def __init__(self, hilbert, jastrow_hidden_units: int=64, kernel_init=default_kernel_init, param_dtype=float, *, rngs: nnx.Rngs):\n",
    "        self.hilbert = hilbert\n",
    "        # To generate random numbers we need to extract the key from the `rngs` object.\n",
    "        key = rngs.params()\n",
    "\n",
    "        # the N x Nf matrix of the orbitals\n",
    "        self.M = nnx.Param(kernel_init(key, (2*self.hilbert.n_orbitals, self.hilbert.n_fermions,), param_dtype))\n",
    "\n",
    "        # The Neural Jastrow wf\n",
    "        self.jastrow_linear = nnx.Linear(in_features=2*self.hilbert.n_orbitals, out_features=jastrow_hidden_units, param_dtype=param_dtype, rngs=rngs)\n",
    "        # self.jastrow_hidden = nnx.Linear(in_features=jastrow_hidden_units, out_features=jastrow_hidden_units, param_dtype=param_dtype, rngs=rngs)\n",
    "        \n",
    "    def __call__(self, n: jax.Array) -> jax.Array:\n",
    "        # For simplicity, we write a function that operates on a single configuration of size (N,)\n",
    "        # and we vectorize it using `jnp.vectorize` with the signature='(n)->()' argument, which specifies\n",
    "        # that the function is defined to operate on arrays of shape (n,) and return scalars.\n",
    "        @partial(jnp.vectorize, signature='(n)->()')\n",
    "        def log_sd(n):\n",
    "            #Construct the Neural Jastrow\n",
    "            J = self.jastrow_linear(n)\n",
    "            J = jax.nn.tanh(J)\n",
    "            # J = self.jastrow_hidden(J)\n",
    "            # J = jax.nn.relu(J)\n",
    "            J = J.sum()\n",
    "\n",
    "            # Construct the slater determinant \n",
    "            R = n.nonzero(size=self.hilbert.n_fermions)[0]\n",
    "            # Extract from the (N, Nf) matrix the (Nf, Nf) submatrix of M corresponding to the occupied orbitals.\n",
    "            A = self.M[R]\n",
    "            log_slater = nk.jax.logdet_cmplx(A)\n",
    "\n",
    "            # Multiply log slater with the jastrow (and since we are working in log space, this becomes a sum)\n",
    "            return log_slater + J\n",
    "\n",
    "        return log_sd(n)"
   ]
  },
  {
   "cell_type": "code",
   "execution_count": 8,
   "metadata": {},
   "outputs": [],
   "source": [
    "class LogNeuralBackflow(nnx.Module):\n",
    "    hilbert: nk.hilbert.SpinOrbitalFermions\n",
    "\n",
    "    def __init__(self, hilbert, hidden_units: int, kernel_init=default_kernel_init, param_dtype=float, *, rngs: nnx.Rngs):\n",
    "        self.hilbert = hilbert\n",
    "\n",
    "        # To generate random numbers we need to extract the key from the `rngs` object.\n",
    "        key = rngs.params()\n",
    "\n",
    "        # the N x Nf matrix of the orbitals\n",
    "        self.M = nnx.Param(kernel_init(key, (2*self.hilbert.n_orbitals, self.hilbert.n_fermions,), param_dtype))\n",
    "\n",
    "        # Construct the Backflow. Takes as input strings of $N$ occupation numbers, outputs an $N x Nf$ matrix\n",
    "        # that modifies the bare orbitals.\n",
    "        self.backflow = nnx.Sequential(\n",
    "            # First layer, input (..., N,) output (..., hidden_units)\n",
    "            nnx.Linear(in_features=hilbert.size, out_features=hidden_units, param_dtype=param_dtype, rngs=rngs),\n",
    "            nnx.tanh,\n",
    "            # Two hidden layers like original paper\n",
    "            # nnx.Linear(in_features=hidden_units, out_features=hidden_units, param_dtype=param_dtype, rngs=rngs),\n",
    "            # nnx.relu,\n",
    "            # nnx.Linear(in_features=hidden_units, out_features=hidden_units, param_dtype=param_dtype, rngs=rngs),\n",
    "            # nnx.relu,\n",
    "\n",
    "            # Last layer, input (..., hidden_units,) output (..., N x Nf)\n",
    "            nnx.Linear(in_features=hidden_units, out_features=2*hilbert.n_orbitals*hilbert.n_fermions, param_dtype=param_dtype, rngs=rngs),\n",
    "            # Reshape into the orbital shape, (..., N, Nf)\n",
    "            lambda x: x.reshape(x.shape[:-1] + (2 * hilbert.n_orbitals, hilbert.n_fermions))\n",
    "        )\n",
    "\n",
    "    def __call__(self, n: jax.Array) -> jax.Array:\n",
    "        # For simplicity, we write a function that operates on a single configuration of size (N,)\n",
    "        # and we vectorize it using `jnp.vectorize` with the signature='(n)->()' argument, which specifies\n",
    "        # that the function is defined to operate on arrays of shape (n,) and return scalars.\n",
    "        @partial(jnp.vectorize, signature='(n)->()')\n",
    "        def log_sd(n):\n",
    "            # Construct the Backflow. Takes as input strings of $N$ occupation numbers, outputs an $N x Nf$ matrix\n",
    "            # that modifies the bare orbitals.\n",
    "            F = self.backflow(n)\n",
    "            # Add the backflow correction to the bare orbitals\n",
    "            M = self.M + F\n",
    "            \n",
    "            # Find the positions of the occupied, backflow-modified orbitals\n",
    "            R = n.nonzero(size=self.hilbert.n_fermions)[0]\n",
    "            A = M[R]\n",
    "            return nk.jax.logdet_cmplx(A)\n",
    "\n",
    "        return log_sd(n)"
   ]
  },
  {
   "cell_type": "code",
   "execution_count": 9,
   "metadata": {},
   "outputs": [],
   "source": [
    "import flax.linen as nn\n",
    "import netket as nk\n",
    "import jax.numpy as jnp\n",
    "from netket.nn.masked_linear import default_kernel_init\n",
    "from typing import Any\n",
    "import jax\n",
    "\n",
    "DType = Any\n",
    "\n",
    "class LogNeuralBackflow(nn.Module):\n",
    "    hilbert: nk.hilbert.SpinOrbitalFermions\n",
    "    hidden_units: int\n",
    "    kernel_init: Any = default_kernel_init\n",
    "    param_dtype: Any = jnp.float32\n",
    "\n",
    "    def setup(self):\n",
    "        \"\"\"Initialize model parameters.\"\"\"\n",
    "        # The N x Nf matrix of the orbitals\n",
    "        self.M = self.param(\n",
    "            \"M\", self.kernel_init, \n",
    "            (2 * self.hilbert.n_orbitals, self.hilbert.n_fermions), \n",
    "            self.param_dtype\n",
    "        )\n",
    "\n",
    "        # Construct the Backflow: Takes (N,) occupation numbers -> (N, Nf) orbital transformation matrix\n",
    "        self.backflow = nn.Sequential([\n",
    "            nn.Dense(features=self.hidden_units, param_dtype=self.param_dtype),\n",
    "            nn.tanh,\n",
    "            nn.Dense(features=2 * self.hilbert.n_orbitals * self.hilbert.n_fermions, param_dtype=self.param_dtype),\n",
    "            lambda x: x.reshape(x.shape[:-1] + (2 * self.hilbert.n_orbitals, self.hilbert.n_fermions))\n",
    "        ])\n",
    "\n",
    "    def log_sd(self, n: jax.Array) -> jax.Array:\n",
    "        \"\"\"Compute the log of the Slater determinant with backflow for a single input sample.\"\"\"\n",
    "        # Compute backflow correction\n",
    "        F = self.backflow(n)\n",
    "        M = self.M + F\n",
    "\n",
    "        # Find occupied orbitals\n",
    "        R = n.nonzero(size=self.hilbert.n_fermions)[0]\n",
    "        A = M[R]\n",
    "        return nk.jax.logdet_cmplx(A)\n",
    "\n",
    "    def __call__(self, n: jax.Array) -> jax.Array:\n",
    "        \"\"\"Vectorized computation over batches.\"\"\"\n",
    "        return jax.vmap(self.log_sd)(n)"
   ]
  },
  {
   "cell_type": "code",
   "execution_count": 10,
   "metadata": {},
   "outputs": [],
   "source": [
    "# Number of spatial orbitals\n",
    "N_orbitals = ha_natorb.hilbert.n_orbitals # Assume hilbert.size counts spin-orbitals\n",
    "\n",
    "# Total number of nodes (each orbital has two spin states)\n",
    "N_sites = N_orbitals  \n",
    "\n",
    "edges = []\n",
    "\n",
    "# Add horizontal edges (ladder rungs connecting spin-up and spin-down of same orbital)\n",
    "for i in range(N_orbitals):\n",
    "    edges.append((i, i + N_orbitals))  # Connect spin-up (i) to spin-down (i + N_orbitals)\n",
    "\n",
    "# Add vertical edges (along spin-up and spin-down chains separately)\n",
    "for i in range(N_orbitals - 1):\n",
    "    edges.append((i, i + 1))  # Spin-up chain\n",
    "    edges.append((i + N_orbitals, i + 1 + N_orbitals))  # Spin-down chain\n",
    "\n",
    "# Create a ladder graph\n",
    "graph = nk.graph.Graph(edges=edges)\n",
    "g = nk.graph.Chain(ha_natorb.hilbert.n_orbitals, pbc=False)\n",
    "exchange_graph = nk.graph.disjoint_union(g, g)"
   ]
  },
  {
   "cell_type": "code",
   "execution_count": 11,
   "metadata": {},
   "outputs": [
    {
     "data": {
      "text/plain": [
       "14400"
      ]
     },
     "execution_count": 11,
     "metadata": {},
     "output_type": "execute_result"
    }
   ],
   "source": [
    "ha_natorb.hilbert.n_states"
   ]
  },
  {
   "cell_type": "code",
   "execution_count": 12,
   "metadata": {},
   "outputs": [],
   "source": [
    "from netket.vqs import FullSumState\n",
    "import copy\n",
    "import netket.jax as nkjax\n",
    "def compute_snr_callback(step, logdata, driver, fs_state:FullSumState):\n",
    "    # estimate local grad\n",
    "    if step % 10 == 0:\n",
    "        # fs_state = FullSumState(hilbert = driver.state.hilbert, model = driver.state.model, chunk_size=None, seed=0)\n",
    "        fs_state.variables = copy.deepcopy(driver.state.variables)\n",
    "        pdf = fs_state.probability_distribution()\n",
    "        vstate_arr = fs_state.to_array()\n",
    "        H_sp = driver._ham.to_sparse()\n",
    "        Hloc = H_sp @ vstate_arr / vstate_arr\n",
    "        Hloc_c = (Hloc - jnp.sum(Hloc*pdf))\n",
    "        mode = \"complex\"\n",
    "        # uncentered jacobian\n",
    "        jacobian_orig = nkjax.jacobian(\n",
    "            fs_state._apply_fun,\n",
    "            fs_state.parameters,\n",
    "            fs_state.hilbert.all_states(), #in MC state, this is vstate.samples\n",
    "            fs_state.model_state,\n",
    "            pdf=pdf,\n",
    "            mode=mode,\n",
    "            dense=True,\n",
    "            center=False,\n",
    "            chunk_size=10,\n",
    "            _sqrt_rescale=False, #(not) rescaled by sqrt[π(x)], but in MC this rescales by 1/sqrt[N_mc]\n",
    "        )\n",
    "\n",
    "        # (#ns, 2) -> (#ns*2)\n",
    "        Hloc_2 = jnp.stack([jnp.real(Hloc_c), jnp.imag(Hloc_c)], axis=-1)\n",
    "        Hloc_c = jax.lax.collapse(Hloc_2, 0, 2)\n",
    "        jacobian_orig_c = jacobian_orig - jnp.sum(jacobian_orig*jnp.expand_dims(pdf, range(len(jacobian_orig.shape))[1:]),axis=0)\n",
    "        jacobian_orig_c = jax.lax.collapse(jacobian_orig_c, 0, 2)\n",
    "        loc_grad_v = jacobian_orig_c.T * Hloc_c\n",
    "        loc_grad_v = loc_grad_v[:, ::2] + loc_grad_v[:, 1::2]\n",
    "        \n",
    "        # print(loc_grad_v.shape)\n",
    "        # n_p = loc_grad_v.shape[0]//2\n",
    "        # print(loc_grad_v_holo - (loc_grad_v[:n_p,:] + 1j* loc_grad_v[n_p:,:]))\n",
    "\n",
    "\n",
    "        mean_grad_unc = jnp.sum(jnp.abs(pdf * loc_grad_v), axis=0) / jnp.sum(jnp.abs(pdf * loc_grad_v))\n",
    "        \n",
    "        def unnorm_pdf(alpha):\n",
    "            return (jnp.abs(vstate_arr)**alpha)\n",
    "        \n",
    "        def compute_snr(q):\n",
    "            q_pdf = q / jnp.sum(q)\n",
    "            w_mean = jnp.sum(q_pdf * unnorm_pdf(2.0)/q)**2\n",
    "            v = jnp.sum(q_pdf * (unnorm_pdf(2.0)/q)**2 * jnp.abs(loc_grad_v - jnp.sum(pdf * loc_grad_v, axis=1)[:, None])**2, axis=1)/w_mean\n",
    "            return jnp.mean(jnp.abs(jnp.sum(pdf * loc_grad_v, axis = 1)) / jnp.sqrt(v))\n",
    "        \n",
    "        a_vals = jnp.linspace(0,2,50)\n",
    "        snr_a = jnp.array([compute_snr(unnorm_pdf(a)) for a in a_vals])\n",
    "        argmax_index = jnp.argmax(snr_a)\n",
    "        argmax_a = a_vals[argmax_index]\n",
    "        # print(jnp.mean(unnorm_pdf(2.0) * jnp.abs(loc_grad_v), axis=0).shape)\n",
    "        snr_grad = compute_snr(jnp.mean(unnorm_pdf(2.0) * jnp.abs(loc_grad_v), axis=0))\n",
    "        \n",
    "        logdata['snr_a'] = snr_a\n",
    "        logdata['snr_grad'] = snr_grad\n",
    "        logdata['max_snr_a'] = max(snr_a)\n",
    "        logdata['argmax_snr_a'] = argmax_a\n",
    "        logdata['snr_psi_sq'] = compute_snr(unnorm_pdf(2.0))\n",
    "        # logdata['snr_hpsi'] = compute_snr(jnp.abs(driver._ham @ vstate_arr))\n",
    "        logdata['grad_mag'] = jnp.mean(jnp.abs(loc_grad_v), axis=0)\n",
    "    return True\n",
    "        "
   ]
  },
  {
   "cell_type": "code",
   "execution_count": 13,
   "metadata": {},
   "outputs": [],
   "source": [
    "class MLP(nn.Module):\n",
    "    n_layers: int\n",
    "    n_features: int\n",
    "    n_out: int\n",
    "    param_dtype: DType = float\n",
    "    hidden_activation: nn.activation = nn.gelu\n",
    "    out_activation: nn.activation = nn.tanh\n",
    "    kernel_init: Any = default_kernel_init\n",
    "\n",
    "    @nn.compact\n",
    "    def __call__(self, x):\n",
    "        for _ in range(self.n_layers):\n",
    "            x = nn.Dense(self.n_features, param_dtype=self.param_dtype, kernel_init=self.kernel_init)(x)\n",
    "            x = self.hidden_activation(x)\n",
    "        x = nn.Dense(self.n_out, param_dtype=self.param_dtype, kernel_init=self.kernel_init)(x)\n",
    "        # x = nn.tanh(x)\n",
    "        return x"
   ]
  },
  {
   "cell_type": "code",
   "execution_count": 14,
   "metadata": {},
   "outputs": [
    {
     "name": "stderr",
     "output_type": "stream",
     "text": [
      "/mnt/beegfs/workdir/antoine.misery/mambaforge/envs/netket/lib/python3.11/site-packages/netket/vqs/full_summ/state.py:261: UserWarning: For performance reasons, we suggest to use a power-of-two chunk size.\n",
      "  warnings.warn(\n"
     ]
    }
   ],
   "source": [
    "# Create a Neural Jastrow Slater wave function \n",
    "# import auto_importance as advd\n",
    "import advanced_drivers as advd\n",
    "import optax\n",
    "from grad_sample.utils.utils import save_rel_err_fs\n",
    "from functools import partial\n",
    "from netket_fermions.models import Backflow_noMF\n",
    "model = LogNeuralBackflow(ha_natorb.hilbert, hidden_units=16)\n",
    "hidden_units=32\n",
    "param_dtype=jnp.float32\n",
    "hilbert = ha_natorb.hilbert\n",
    "\n",
    "model = Backflow_noMF(model = MLP(n_layers=2,\n",
    "                                  n_features = hilbert.size,\n",
    "                                  hidden_activation= nn.relu,\n",
    "                                  n_out = hilbert.n_orbitals * hilbert.n_fermions,\n",
    "                                    ),\n",
    "                      hilbert = hilbert,\n",
    "                      enforce_spin_flip=True)\n",
    "\n",
    "# Define a Metropolis exchange sampler\n",
    "sa = nk.sampler.MetropolisFermionHop(ha_natorb.hilbert, graph=exchange_graph)\n",
    "lr_schedule = optax.cosine_decay_schedule(\n",
    "                                        init_value=0.1,\n",
    "                                        decay_steps=300,\n",
    "                                        alpha=0.1\n",
    "                                        )\n",
    "opt = nk.optimizer.Sgd(learning_rate=lr_schedule)\n",
    "opt = optax.inject_hyperparams(optax.sgd)(learning_rate=0.05)\n",
    "# Create a variational state\n",
    "sa_exact = nk.sampler.ExactSampler(ha_natorb.hilbert)\n",
    "vstate = nk.vqs.MCState(sa_exact, model, n_samples=2**9, chunk_size=2**12)\n",
    "is_distrib = advd.driver.overdispersed_distribution(0.75)\n",
    "diag_shift_sch = optax.linear_schedule(\n",
    "                                    init_value=1e-2,\n",
    "                                    transition_steps=300,\n",
    "                                    end_value=1e-4\n",
    "                                    )\n",
    "gs = advd.driver.VMC_NG(ha_natorb.to_jax_operator(),\n",
    "            opt,\n",
    "            sampling_distribution=is_distrib,\n",
    "            variational_state=vstate,\n",
    "            diag_shift=1e-4,\n",
    "            use_ntk=True,\n",
    "            on_the_fly=False)\n",
    "\n",
    "autodiagshift = advd.callbacks.PI_controller_diagshift(diag_shift_max=0.01, diag_shift_min=1e-6, safety_fac=1.0, clip_min=0.99, clip_max=1.01)\n",
    "        \n",
    "diag_shift_sch = optax.linear_schedule(\n",
    "                                    init_value=1e-4,\n",
    "                                    transition_steps=400,\n",
    "                                    end_value=1e-6\n",
    "                                    )\n",
    "\n",
    "sr = nk.optimizer.SR(qgt=nk.optimizer.qgt.QGTJacobianDense, \n",
    "                            solver=nk.optimizer.solver.cholesky, \n",
    "                            diag_shift=diag_shift_sch, \n",
    "                            holomorphic = False,\n",
    "                            )\n",
    "\n",
    "vstate_fs = nk.vqs.FullSumState(hilbert = ha_natorb.hilbert, model=model, chunk_size=600)\n",
    "\n",
    "save_rel_err_cb = partial(save_rel_err_fs, \n",
    "                                           e_gs = E0, \n",
    "                                           fs_state = vstate_fs, \n",
    "                                           save_every=10, \n",
    "                            )\n",
    "snr_cb = partial(compute_snr_callback, fs_state=vstate_fs)\n",
    "\n",
    "gs_fs = nk.driver.VMC(ha_pyscf.to_jax_operator(),\n",
    "                      opt,\n",
    "                      variational_state=vstate_fs,\n",
    "                      preconditioner=sr)\n",
    "# Construct the logger to visualize the data later on\n",
    "nj_log_adapt=nk.logging.RuntimeLog()\n",
    "\n",
    "# Run the optimization for 500 iterations\n",
    "# gs_fs.run(n_iter=300, out=nj_log_adapt, \n",
    "#           callback = (snr_cb,)\n",
    "#           )\n",
    "# gs.run(n_iter=500, out=nj_log_adapt, \n",
    "#     #    callback = (snr_cb, save_rel_err_cb)\n",
    "#        )"
   ]
  },
  {
   "cell_type": "code",
   "execution_count": null,
   "metadata": {},
   "outputs": [
    {
     "name": "stderr",
     "output_type": "stream",
     "text": [
      "  0%|       | 0/500 [00:00<?, ?it/s]"
     ]
    },
    {
     "name": "stdout",
     "output_type": "stream",
     "text": [
      "ρ is out of bounds. The current value is -3.479602104911216. The bounds are [0.1,3]. \n",
      "\n",
      "ρ is out of bounds. The current value is -4.695088111336407. The bounds are [0.1,3]. \n",
      "\n",
      "ρ is out of bounds. The current value is -3.719170884797641. The bounds are [0.1,3]. \n",
      "\n",
      "ρ is out of bounds. The current value is -3.96289010008363. The bounds are [0.1,3]. \n",
      "\n",
      "ρ is out of bounds. The current value is -3.296318937773882. The bounds are [0.1,3]. \n",
      "\n",
      "ρ is out of bounds. The current value is -2.5806987133791384. The bounds are [0.1,3]. \n",
      "\n",
      "ρ is out of bounds. The current value is -4.054370628258596. The bounds are [0.1,3]. \n",
      "\n"
     ]
    },
    {
     "name": "stderr",
     "output_type": "stream",
     "text": [
      "  0%|       | 0/500 [00:03<?, ?it/s]"
     ]
    },
    {
     "name": "stdout",
     "output_type": "stream",
     "text": [
      "Stopped by user.\n"
     ]
    },
    {
     "name": "stderr",
     "output_type": "stream",
     "text": [
      "\n"
     ]
    },
    {
     "data": {
      "text/plain": [
       "(RuntimeLog():\n",
       "  keys = [],)"
      ]
     },
     "execution_count": 17,
     "metadata": {},
     "output_type": "execute_result"
    }
   ],
   "source": [
    "gs.run(n_iter=500, out=nj_log_adapt, \n",
    "       # callback = (snr_cb, save_rel_err_cb)\n",
    "       callback=(autodiagshift)\n",
    "       )"
   ]
  },
  {
   "cell_type": "code",
   "execution_count": 16,
   "metadata": {},
   "outputs": [
    {
     "ename": "KeyError",
     "evalue": "'Energy'",
     "output_type": "error",
     "traceback": [
      "\u001b[0;31m---------------------------------------------------------------------------\u001b[0m",
      "\u001b[0;31mKeyError\u001b[0m                                  Traceback (most recent call last)",
      "Cell \u001b[0;32mIn[16], line 2\u001b[0m\n\u001b[1;32m      1\u001b[0m \u001b[38;5;66;03m# plt.plot(out['rel_err']['value'])\u001b[39;00m\n\u001b[0;32m----> 2\u001b[0m \u001b[38;5;28mprint\u001b[39m(\u001b[38;5;28mmin\u001b[39m(\u001b[43mnj_log_adapt\u001b[49m\u001b[43m[\u001b[49m\u001b[38;5;124;43m'\u001b[39;49m\u001b[38;5;124;43mEnergy\u001b[39;49m\u001b[38;5;124;43m'\u001b[39;49m\u001b[43m]\u001b[49m[\u001b[38;5;124m'\u001b[39m\u001b[38;5;124mMean\u001b[39m\u001b[38;5;124m'\u001b[39m]\u001b[38;5;241m.\u001b[39mreal))\n\u001b[1;32m      3\u001b[0m plt\u001b[38;5;241m.\u001b[39mplot(nj_log_adapt[\u001b[38;5;124m'\u001b[39m\u001b[38;5;124mEnergy\u001b[39m\u001b[38;5;124m'\u001b[39m][\u001b[38;5;124m'\u001b[39m\u001b[38;5;124mMean\u001b[39m\u001b[38;5;124m'\u001b[39m]\u001b[38;5;241m.\u001b[39mreal \u001b[38;5;241m-\u001b[39m E0)\n\u001b[1;32m      4\u001b[0m plt\u001b[38;5;241m.\u001b[39mylabel(\u001b[38;5;124mr\u001b[39m\u001b[38;5;124m'\u001b[39m\u001b[38;5;124m$E_\u001b[39m\u001b[38;5;132;01m{MC}\u001b[39;00m\u001b[38;5;124m - E_\u001b[39m\u001b[38;5;132;01m{FCI}\u001b[39;00m\u001b[38;5;124m$\u001b[39m\u001b[38;5;124m'\u001b[39m)\n",
      "File \u001b[0;32m/mnt/beegfs/workdir/antoine.misery/mambaforge/envs/netket/lib/python3.11/site-packages/netket/logging/runtime_log.py:67\u001b[0m, in \u001b[0;36mRuntimeLog.__getitem__\u001b[0;34m(self, key)\u001b[0m\n\u001b[1;32m     66\u001b[0m \u001b[38;5;28;01mdef\u001b[39;00m \u001b[38;5;21m__getitem__\u001b[39m(\u001b[38;5;28mself\u001b[39m, key: \u001b[38;5;28mstr\u001b[39m) \u001b[38;5;241m-\u001b[39m\u001b[38;5;241m>\u001b[39m Any:\n\u001b[0;32m---> 67\u001b[0m     \u001b[38;5;28;01mreturn\u001b[39;00m \u001b[38;5;28;43mself\u001b[39;49m\u001b[38;5;241;43m.\u001b[39;49m\u001b[43mdata\u001b[49m\u001b[43m[\u001b[49m\u001b[43mkey\u001b[49m\u001b[43m]\u001b[49m\n",
      "File \u001b[0;32m/mnt/beegfs/workdir/antoine.misery/mambaforge/envs/netket/lib/python3.11/site-packages/netket/utils/history/history_dict.py:72\u001b[0m, in \u001b[0;36mHistoryDict.__getitem__\u001b[0;34m(self, key, wrap_dicts)\u001b[0m\n\u001b[1;32m     71\u001b[0m \u001b[38;5;28;01mdef\u001b[39;00m \u001b[38;5;21m__getitem__\u001b[39m(\u001b[38;5;28mself\u001b[39m, key: \u001b[38;5;28mstr\u001b[39m, \u001b[38;5;241m*\u001b[39m, wrap_dicts\u001b[38;5;241m=\u001b[39m\u001b[38;5;28;01mTrue\u001b[39;00m) \u001b[38;5;241m-\u001b[39m\u001b[38;5;241m>\u001b[39m History \u001b[38;5;241m|\u001b[39m Self:\n\u001b[0;32m---> 72\u001b[0m     val \u001b[38;5;241m=\u001b[39m \u001b[38;5;28;43mself\u001b[39;49m\u001b[38;5;241;43m.\u001b[39;49m\u001b[43m_data\u001b[49m\u001b[43m[\u001b[49m\u001b[43mkey\u001b[49m\u001b[43m]\u001b[49m\n\u001b[1;32m     73\u001b[0m     \u001b[38;5;28;01mif\u001b[39;00m wrap_dicts \u001b[38;5;129;01mand\u001b[39;00m \u001b[38;5;28misinstance\u001b[39m(val, \u001b[38;5;28mdict\u001b[39m):\n\u001b[1;32m     74\u001b[0m         \u001b[38;5;28;01mreturn\u001b[39;00m HistoryDict(val)\n",
      "\u001b[0;31mKeyError\u001b[0m: 'Energy'"
     ]
    }
   ],
   "source": [
    "# plt.plot(out['rel_err']['value'])\n",
    "print(min(nj_log_adapt['Energy']['Mean'].real))\n",
    "plt.plot(nj_log_adapt['Energy']['Mean'].real - E0)\n",
    "plt.ylabel(r'$E_{MC} - E_{FCI}$')\n",
    "plt.xlabel(r'iteration')\n",
    "plt.yscale('log')"
   ]
  },
  {
   "cell_type": "code",
   "execution_count": 20,
   "metadata": {},
   "outputs": [],
   "source": [
    "# Set matplotlib parameters\n",
    "plt.rcParams.update({\n",
    "\n",
    "    'text.usetex': False,\n",
    "    'text.latex.preamble': r'\\usepackage{physics}'\n",
    "})"
   ]
  },
  {
   "cell_type": "code",
   "execution_count": 39,
   "metadata": {},
   "outputs": [
    {
     "data": {
      "text/plain": [
       "Text(0.5, 1.0, 'SNR and optimal overdispersion coefficient over training on the $N_2$ molecule, NNBF')"
      ]
     },
     "execution_count": 39,
     "metadata": {},
     "output_type": "execute_result"
    },
    {
     "data": {
      "image/png": "[encoded data removed]",
      "text/plain": [
       "<Figure size 1000x600 with 2 Axes>"
      ]
     },
     "metadata": {},
     "output_type": "display_data"
    }
   ],
   "source": [
    "fig, ax = plt.subplots()\n",
    "out = nj_log_adapt\n",
    "rel_err_vals = jnp.array(jnp.abs(nj_log_adapt['Energy']['Mean'].real -E0)/jnp.abs(E0))[nj_log_adapt['argmax_snr_a']['iters']]\n",
    "rel_err_vals = out['rel_err']['value']\n",
    "idx_sort = jnp.flip(jnp.argsort(rel_err_vals))\n",
    "\n",
    "rel_err_vals_s = rel_err_vals[idx_sort]\n",
    "# ax.plot(rel_err_vals_s, jnp.array(out['snr_grad']['value'])[idx_sort], label=r'gradient SNR with $\\frac{1}{N_p}\\sum_i p(x)|F_i^{loc}(x)|$')\n",
    "ax.plot(rel_err_vals_s, jnp.array(out['max_snr_a']['value'])[idx_sort], label='SNR with best overdispersed coeff.')\n",
    "ax.plot(rel_err_vals_s, jnp.array(out['snr_psi_sq']['value'])[idx_sort], label=r'SNR, $|\\psi|^2$')\n",
    "# ax.plot(rel_err_vals_s, jnp.array(out['snr_hpsi']['value'])[idx_sort], label=r'SNR, $|\\bra{x}H\\ket{\\psi}|$')\n",
    "# ax.plot(rel_err_vals_s, jnp.array(out['info']['snr']['value'])[good_vals][idx_sort], label='SNR with best overdispersed coeff.')\n",
    "ax1 = ax.twinx()\n",
    "\n",
    "ax1.plot(rel_err_vals_s, jnp.array(out['argmax_snr_a']['value'])[idx_sort], color='black', label=r\"optimal $\\alpha$ throughout training\")\n",
    "# ax1.plot(rel_err_vals_s, jnp.array(out['alpha']['value'])[good_vals][idx_sort], color='red', label=r'automatically tuned $\\alpha$')\n",
    "ax1.set_xscale('log')\n",
    "ax.set_xlabel(\"Relative error to exact ground state\")\n",
    "ax.set_ylabel('SNR')\n",
    "ax1.set_ylabel(r\"$\\alpha$\")\n",
    "ax.set_yscale('log')\n",
    "ax.set_xscale('log')\n",
    "# Retrieve and combine legends\n",
    "handles_ax, labels_ax = ax.get_legend_handles_labels()\n",
    "handles_ax1, labels_ax1 = ax1.get_legend_handles_labels()\n",
    "ax.legend(handles_ax + handles_ax1, labels_ax + labels_ax1, bbox_to_anchor=(1.1, 1))\n",
    "# plt.legend()\n",
    "plt.title(r\"SNR and optimal overdispersion coefficient over training on the $N_2$ molecule, NNBF\")"
   ]
  },
  {
   "cell_type": "code",
   "execution_count": 40,
   "metadata": {},
   "outputs": [
    {
     "data": {
      "text/plain": [
       "HistoryDict with 8 elements:\n",
       "\t'Energy' -> History(keys=['Mean', 'Variance', 'Sigma', 'R_hat', 'TauCorr'], n_iters=500)\n",
       "\t'argmax_snr_a' -> History(keys=['value'], n_iters=50)\n",
       "\t'grad_mag' -> History(keys=['value'], n_iters=50)\n",
       "\t'max_snr_a' -> History(keys=['value'], n_iters=50)\n",
       "\t'rel_err' -> History(keys=['value'], n_iters=50)\n",
       "\t'snr_a' -> History(keys=['value'], n_iters=50)\n",
       "\t'snr_grad' -> History(keys=['value'], n_iters=50)\n",
       "\t'snr_psi_sq' -> History(keys=['value'], n_iters=50)"
      ]
     },
     "execution_count": 40,
     "metadata": {},
     "output_type": "execute_result"
    }
   ],
   "source": [
    "nj_log_adapt.data"
   ]
  },
  {
   "cell_type": "code",
   "execution_count": 41,
   "metadata": {},
   "outputs": [
    {
     "ename": "AttributeError",
     "evalue": "module 'netket.utils' has no attribute 'HistoryDict'",
     "output_type": "error",
     "traceback": [
      "\u001b[0;31m---------------------------------------------------------------------------\u001b[0m",
      "\u001b[0;31mAttributeError\u001b[0m                            Traceback (most recent call last)",
      "Cell \u001b[0;32mIn[41], line 18\u001b[0m\n\u001b[1;32m     16\u001b[0m \u001b[38;5;66;03m# Convert and save to JSON\u001b[39;00m\n\u001b[1;32m     17\u001b[0m \u001b[38;5;28;01mwith\u001b[39;00m \u001b[38;5;28mopen\u001b[39m(\u001b[38;5;124m\"\u001b[39m\u001b[38;5;124mruntime_log.json\u001b[39m\u001b[38;5;124m\"\u001b[39m, \u001b[38;5;124m\"\u001b[39m\u001b[38;5;124mw\u001b[39m\u001b[38;5;124m\"\u001b[39m) \u001b[38;5;28;01mas\u001b[39;00m f:\n\u001b[0;32m---> 18\u001b[0m     json\u001b[38;5;241m.\u001b[39mdump(\u001b[43mconvert_to_serializable\u001b[49m\u001b[43m(\u001b[49m\u001b[43mnj_log_adapt\u001b[49m\u001b[38;5;241;43m.\u001b[39;49m\u001b[43mdata\u001b[49m\u001b[43m)\u001b[49m, f, indent\u001b[38;5;241m=\u001b[39m\u001b[38;5;241m4\u001b[39m)\n",
      "Cell \u001b[0;32mIn[41], line 5\u001b[0m, in \u001b[0;36mconvert_to_serializable\u001b[0;34m(obj)\u001b[0m\n\u001b[1;32m      3\u001b[0m \u001b[38;5;28;01mdef\u001b[39;00m\u001b[38;5;250m \u001b[39m\u001b[38;5;21mconvert_to_serializable\u001b[39m(obj):\n\u001b[1;32m      4\u001b[0m \u001b[38;5;250m    \u001b[39m\u001b[38;5;124;03m\"\"\"Recursively converts HistoryDict or numpy objects into JSON serializable formats.\"\"\"\u001b[39;00m\n\u001b[0;32m----> 5\u001b[0m     \u001b[38;5;28;01mif\u001b[39;00m \u001b[38;5;28misinstance\u001b[39m(obj, \u001b[43mnk\u001b[49m\u001b[38;5;241;43m.\u001b[39;49m\u001b[43mutils\u001b[49m\u001b[38;5;241;43m.\u001b[39;49m\u001b[43mHistoryDict\u001b[49m):\n\u001b[1;32m      6\u001b[0m         \u001b[38;5;28;01mreturn\u001b[39;00m {k: convert_to_serializable(v) \u001b[38;5;28;01mfor\u001b[39;00m k, v \u001b[38;5;129;01min\u001b[39;00m obj\u001b[38;5;241m.\u001b[39mitems()}\n\u001b[1;32m      7\u001b[0m     \u001b[38;5;28;01melif\u001b[39;00m \u001b[38;5;28misinstance\u001b[39m(obj, \u001b[38;5;28mdict\u001b[39m):\n",
      "\u001b[0;31mAttributeError\u001b[0m: module 'netket.utils' has no attribute 'HistoryDict'"
     ]
    }
   ],
   "source": [
    "import json\n",
    "# Convert HistoryDict to a serializable format\n",
    "def convert_to_serializable(obj):\n",
    "    \"\"\"Recursively converts HistoryDict or numpy objects into JSON serializable formats.\"\"\"\n",
    "    if isinstance(obj, nk.utils.HistoryDict):\n",
    "        return {k: convert_to_serializable(v) for k, v in obj.items()}\n",
    "    elif isinstance(obj, dict):\n",
    "        return {k: convert_to_serializable(v) for k, v in obj.items()}\n",
    "    elif isinstance(obj, list):\n",
    "        return [convert_to_serializable(v) for v in obj]\n",
    "    elif hasattr(obj, \"tolist\"):  # Convert numpy arrays to lists\n",
    "        return obj.tolist()\n",
    "    else:\n",
    "        return obj  # Assume it's already serializable\n",
    "\n",
    "# Convert and save to JSON\n",
    "with open(\"runtime_log.json\", \"w\") as f:\n",
    "    json.dump(convert_to_serializable(nj_log_adapt.data), f, indent=4)"
   ]
  },
  {
   "cell_type": "code",
   "execution_count": 1,
   "metadata": {},
   "outputs": [
    {
     "ename": "NameError",
     "evalue": "name 'jnp' is not defined",
     "output_type": "error",
     "traceback": [
      "\u001b[0;31m---------------------------------------------------------------------------\u001b[0m",
      "\u001b[0;31mNameError\u001b[0m                                 Traceback (most recent call last)",
      "Cell \u001b[0;32mIn[1], line 1\u001b[0m\n\u001b[0;32m----> 1\u001b[0m \u001b[43mjnp\u001b[49m\u001b[38;5;241m.\u001b[39msavez(\u001b[38;5;124m\"\u001b[39m\u001b[38;5;124mlog_nnbf_snr.npz\u001b[39m\u001b[38;5;124m\"\u001b[39m, nj_log_adapt\u001b[38;5;241m.\u001b[39mdata)\n",
      "\u001b[0;31mNameError\u001b[0m: name 'jnp' is not defined"
     ]
    }
   ],
   "source": [
    "jnp.savez(\"log_nnbf_snr.npz\", nj_log_adapt.data)"
   ]
  },
  {
   "cell_type": "code",
   "execution_count": 44,
   "metadata": {},
   "outputs": [
    {
     "data": {
      "text/plain": [
       "array(['Energy', 'snr_a', 'snr_grad', 'max_snr_a', 'argmax_snr_a',\n",
       "       'snr_psi_sq', 'grad_mag', 'rel_err'], dtype='<U12')"
      ]
     },
     "execution_count": 44,
     "metadata": {},
     "output_type": "execute_result"
    }
   ],
   "source": [
    "jnp.load(\"log_nnbf_snr.npz\", allow_pickle=True)['arr_0']"
   ]
  },
  {
   "cell_type": "code",
   "execution_count": 23,
   "metadata": {},
   "outputs": [
    {
     "ename": "TypeError",
     "evalue": "'VMC_NG' object is not subscriptable",
     "output_type": "error",
     "traceback": [
      "\u001b[0;31m---------------------------------------------------------------------------\u001b[0m",
      "\u001b[0;31mTypeError\u001b[0m                                 Traceback (most recent call last)",
      "Cell \u001b[0;32mIn[23], line 2\u001b[0m\n\u001b[1;32m      1\u001b[0m fig, axes \u001b[38;5;241m=\u001b[39m plt\u001b[38;5;241m.\u001b[39msubplots(\u001b[38;5;241m1\u001b[39m,\u001b[38;5;241m2\u001b[39m)\n\u001b[0;32m----> 2\u001b[0m sorted_gs \u001b[38;5;241m=\u001b[39m \u001b[38;5;28msorted\u001b[39m(jnp\u001b[38;5;241m.\u001b[39mabs(\u001b[43mgs\u001b[49m\u001b[43m[\u001b[49m\u001b[43m:\u001b[49m\u001b[43m,\u001b[49m\u001b[38;5;241;43m0\u001b[39;49m\u001b[43m]\u001b[49m))[::\u001b[38;5;241m-\u001b[39m\u001b[38;5;241m1\u001b[39m]\n\u001b[1;32m      3\u001b[0m sorted_gs \u001b[38;5;241m=\u001b[39m jnp\u001b[38;5;241m.\u001b[39marray(sorted_gs)\n\u001b[1;32m      4\u001b[0m ipr(sorted_gs)\n",
      "\u001b[0;31mTypeError\u001b[0m: 'VMC_NG' object is not subscriptable"
     ]
    },
    {
     "data": {
      "image/png": "[encoded data removed]",
      "text/plain": [
       "<Figure size 1000x600 with 2 Axes>"
      ]
     },
     "metadata": {},
     "output_type": "display_data"
    },
    {
     "ename": "",
     "evalue": "",
     "output_type": "error",
     "traceback": [
      "\u001b[1;31mnotebook controller is DISPOSED. \n",
      "\u001b[1;31mView Jupyter <a href='command:jupyter.viewOutput'>log</a> for further details."
     ]
    },
    {
     "ename": "",
     "evalue": "",
     "output_type": "error",
     "traceback": [
      "\u001b[1;31mnotebook controller is DISPOSED. \n",
      "\u001b[1;31mView Jupyter <a href='command:jupyter.viewOutput'>log</a> for further details."
     ]
    },
    {
     "ename": "",
     "evalue": "",
     "output_type": "error",
     "traceback": [
      "\u001b[1;31mnotebook controller is DISPOSED. \n",
      "\u001b[1;31mView Jupyter <a href='command:jupyter.viewOutput'>log</a> for further details."
     ]
    },
    {
     "ename": "",
     "evalue": "",
     "output_type": "error",
     "traceback": [
      "\u001b[1;31mnotebook controller is DISPOSED. \n",
      "\u001b[1;31mView Jupyter <a href='command:jupyter.viewOutput'>log</a> for further details."
     ]
    }
   ],
   "source": [
    "fig, axes = plt.subplots(1,2)\n",
    "sorted_gs = sorted(jnp.abs(gs[:,0]))[::-1]\n",
    "sorted_gs = jnp.array(sorted_gs)\n",
    "ipr(sorted_gs)\n",
    "axes[0].plot(sorted_gs)\n",
    "sorted_gs_nat = sorted(jnp.abs(gsnat[:,0]))[::-1]\n",
    "sorted_gs = jnp.array(sorted_gs)\n",
    "ipr(sorted_gs)\n",
    "axes[1].plot(sorted_gs_nat)\n",
    "plt.yscale('log')"
   ]
  },
  {
   "cell_type": "code",
   "execution_count": null,
   "metadata": {},
   "outputs": [
    {
     "ename": "",
     "evalue": "",
     "output_type": "error",
     "traceback": [
      "\u001b[1;31mnotebook controller is DISPOSED. \n",
      "\u001b[1;31mView Jupyter <a href='command:jupyter.viewOutput'>log</a> for further details."
     ]
    },
    {
     "ename": "",
     "evalue": "",
     "output_type": "error",
     "traceback": [
      "\u001b[1;31mnotebook controller is DISPOSED. \n",
      "\u001b[1;31mView Jupyter <a href='command:jupyter.viewOutput'>log</a> for further details."
     ]
    },
    {
     "ename": "",
     "evalue": "",
     "output_type": "error",
     "traceback": [
      "\u001b[1;31mnotebook controller is DISPOSED. \n",
      "\u001b[1;31mView Jupyter <a href='command:jupyter.viewOutput'>log</a> for further details."
     ]
    },
    {
     "ename": "",
     "evalue": "",
     "output_type": "error",
     "traceback": [
      "\u001b[1;31mnotebook controller is DISPOSED. \n",
      "\u001b[1;31mView Jupyter <a href='command:jupyter.viewOutput'>log</a> for further details."
     ]
    },
    {
     "ename": "",
     "evalue": "",
     "output_type": "error",
     "traceback": [
      "\u001b[1;31mnotebook controller is DISPOSED. \n",
      "\u001b[1;31mView Jupyter <a href='command:jupyter.viewOutput'>log</a> for further details."
     ]
    },
    {
     "ename": "",
     "evalue": "",
     "output_type": "error",
     "traceback": [
      "\u001b[1;31mnotebook controller is DISPOSED. \n",
      "\u001b[1;31mView Jupyter <a href='command:jupyter.viewOutput'>log</a> for further details."
     ]
    }
   ],
   "source": [
    "# from matplotlib.cm import viridis, seismic, coolwarm, Spectral\n",
    "\n",
    "# colors = viridis(jnp.linspace(0, 1,10))\n",
    "# for idx, alpha in enumerate(jnp.linspace(0.1,1,10)):\n",
    "#     plt.plot(sorted_gs**alpha/jnp.sum(sorted_gs**alpha), label=r\"$\\alpha=%.2f$\"%alpha, color=colors[idx])\n",
    "# plt.legend()\n",
    "# plt.plot(sorted_gs**2)\n",
    "# plt.yscale('log')\n",
    "# plt.ylim(bottom=1e-10)\n",
    "# plt.yscale('log')\n",
    "# plt.ylim(bottom=1e-10)"
   ]
  },
  {
   "cell_type": "code",
   "execution_count": 3,
   "metadata": {},
   "outputs": [
    {
     "ename": "",
     "evalue": "",
     "output_type": "error",
     "traceback": [
      "\u001b[1;31mnotebook controller is DISPOSED. \n",
      "\u001b[1;31mView Jupyter <a href='command:jupyter.viewOutput'>log</a> for further details."
     ]
    },
    {
     "ename": "",
     "evalue": "",
     "output_type": "error",
     "traceback": [
      "\u001b[1;31mnotebook controller is DISPOSED. \n",
      "\u001b[1;31mView Jupyter <a href='command:jupyter.viewOutput'>log</a> for further details."
     ]
    },
    {
     "ename": "",
     "evalue": "",
     "output_type": "error",
     "traceback": [
      "\u001b[1;31mnotebook controller is DISPOSED. \n",
      "\u001b[1;31mView Jupyter <a href='command:jupyter.viewOutput'>log</a> for further details."
     ]
    },
    {
     "ename": "",
     "evalue": "",
     "output_type": "error",
     "traceback": [
      "\u001b[1;31mnotebook controller is DISPOSED. \n",
      "\u001b[1;31mView Jupyter <a href='command:jupyter.viewOutput'>log</a> for further details."
     ]
    }
   ],
   "source": [
    "H_xxz_l = [XXZ(L=16, J=h).hamiltonian.to_sparse() for h in [4,5,6,7,8]]\n",
    "H_xxz = XXZ(L=16)"
   ]
  },
  {
   "cell_type": "code",
   "execution_count": 4,
   "metadata": {},
   "outputs": [
    {
     "ename": "",
     "evalue": "",
     "output_type": "error",
     "traceback": [
      "\u001b[1;31mnotebook controller is DISPOSED. \n",
      "\u001b[1;31mView Jupyter <a href='command:jupyter.viewOutput'>log</a> for further details."
     ]
    },
    {
     "ename": "",
     "evalue": "",
     "output_type": "error",
     "traceback": [
      "\u001b[1;31mnotebook controller is DISPOSED. \n",
      "\u001b[1;31mView Jupyter <a href='command:jupyter.viewOutput'>log</a> for further details."
     ]
    },
    {
     "ename": "",
     "evalue": "",
     "output_type": "error",
     "traceback": [
      "\u001b[1;31mnotebook controller is DISPOSED. \n",
      "\u001b[1;31mView Jupyter <a href='command:jupyter.viewOutput'>log</a> for further details."
     ]
    },
    {
     "ename": "",
     "evalue": "",
     "output_type": "error",
     "traceback": [
      "\u001b[1;31mnotebook controller is DISPOSED. \n",
      "\u001b[1;31mView Jupyter <a href='command:jupyter.viewOutput'>log</a> for further details."
     ]
    }
   ],
   "source": [
    "def get_gs(H_sp):\n",
    "    eig_vals, eig_vecs = eigsh(\n",
    "            H_sp, k=2, which=\"SA\"\n",
    "        )  # k is the number of eigenvalues desired,\n",
    "    E_gs = eig_vals[0]  # \"SA\" selects the ones with smallest absolute value\n",
    "    gs = eig_vecs[:,0]\n",
    "    return jnp.sort(jnp.abs(jnp.array(gs)))"
   ]
  },
  {
   "cell_type": "code",
   "execution_count": 12,
   "metadata": {},
   "outputs": [
    {
     "ename": "",
     "evalue": "",
     "output_type": "error",
     "traceback": [
      "\u001b[1;31mnotebook controller is DISPOSED. \n",
      "\u001b[1;31mView Jupyter <a href='command:jupyter.viewOutput'>log</a> for further details."
     ]
    },
    {
     "ename": "",
     "evalue": "",
     "output_type": "error",
     "traceback": [
      "\u001b[1;31mnotebook controller is DISPOSED. \n",
      "\u001b[1;31mView Jupyter <a href='command:jupyter.viewOutput'>log</a> for further details."
     ]
    },
    {
     "ename": "",
     "evalue": "",
     "output_type": "error",
     "traceback": [
      "\u001b[1;31mnotebook controller is DISPOSED. \n",
      "\u001b[1;31mView Jupyter <a href='command:jupyter.viewOutput'>log</a> for further details."
     ]
    },
    {
     "ename": "",
     "evalue": "",
     "output_type": "error",
     "traceback": [
      "\u001b[1;31mnotebook controller is DISPOSED. \n",
      "\u001b[1;31mView Jupyter <a href='command:jupyter.viewOutput'>log</a> for further details."
     ]
    },
    {
     "ename": "",
     "evalue": "",
     "output_type": "error",
     "traceback": [
      "\u001b[1;31mnotebook controller is DISPOSED. \n",
      "\u001b[1;31mView Jupyter <a href='command:jupyter.viewOutput'>log</a> for further details."
     ]
    },
    {
     "ename": "",
     "evalue": "",
     "output_type": "error",
     "traceback": [
      "\u001b[1;31mnotebook controller is DISPOSED. \n",
      "\u001b[1;31mView Jupyter <a href='command:jupyter.viewOutput'>log</a> for further details."
     ]
    }
   ],
   "source": [
    "heisenberg_gs = get_gs(H_heisenberg)"
   ]
  },
  {
   "cell_type": "code",
   "execution_count": 13,
   "metadata": {},
   "outputs": [
    {
     "ename": "",
     "evalue": "",
     "output_type": "error",
     "traceback": [
      "\u001b[1;31mnotebook controller is DISPOSED. \n",
      "\u001b[1;31mView Jupyter <a href='command:jupyter.viewOutput'>log</a> for further details."
     ]
    },
    {
     "ename": "",
     "evalue": "",
     "output_type": "error",
     "traceback": [
      "\u001b[1;31mnotebook controller is DISPOSED. \n",
      "\u001b[1;31mView Jupyter <a href='command:jupyter.viewOutput'>log</a> for further details."
     ]
    },
    {
     "ename": "",
     "evalue": "",
     "output_type": "error",
     "traceback": [
      "\u001b[1;31mnotebook controller is DISPOSED. \n",
      "\u001b[1;31mView Jupyter <a href='command:jupyter.viewOutput'>log</a> for further details."
     ]
    },
    {
     "ename": "",
     "evalue": "",
     "output_type": "error",
     "traceback": [
      "\u001b[1;31mnotebook controller is DISPOSED. \n",
      "\u001b[1;31mView Jupyter <a href='command:jupyter.viewOutput'>log</a> for further details."
     ]
    },
    {
     "ename": "",
     "evalue": "",
     "output_type": "error",
     "traceback": [
      "\u001b[1;31mnotebook controller is DISPOSED. \n",
      "\u001b[1;31mView Jupyter <a href='command:jupyter.viewOutput'>log</a> for further details."
     ]
    },
    {
     "ename": "",
     "evalue": "",
     "output_type": "error",
     "traceback": [
      "\u001b[1;31mnotebook controller is DISPOSED. \n",
      "\u001b[1;31mView Jupyter <a href='command:jupyter.viewOutput'>log</a> for further details."
     ]
    }
   ],
   "source": [
    "gs_j1j2 = get_gs(H_j1j2(0.5))"
   ]
  },
  {
   "cell_type": "code",
   "execution_count": 14,
   "metadata": {},
   "outputs": [
    {
     "ename": "",
     "evalue": "",
     "output_type": "error",
     "traceback": [
      "\u001b[1;31mnotebook controller is DISPOSED. \n",
      "\u001b[1;31mView Jupyter <a href='command:jupyter.viewOutput'>log</a> for further details."
     ]
    },
    {
     "ename": "",
     "evalue": "",
     "output_type": "error",
     "traceback": [
      "\u001b[1;31mnotebook controller is DISPOSED. \n",
      "\u001b[1;31mView Jupyter <a href='command:jupyter.viewOutput'>log</a> for further details."
     ]
    },
    {
     "ename": "",
     "evalue": "",
     "output_type": "error",
     "traceback": [
      "\u001b[1;31mnotebook controller is DISPOSED. \n",
      "\u001b[1;31mView Jupyter <a href='command:jupyter.viewOutput'>log</a> for further details."
     ]
    },
    {
     "ename": "",
     "evalue": "",
     "output_type": "error",
     "traceback": [
      "\u001b[1;31mnotebook controller is DISPOSED. \n",
      "\u001b[1;31mView Jupyter <a href='command:jupyter.viewOutput'>log</a> for further details."
     ]
    },
    {
     "ename": "",
     "evalue": "",
     "output_type": "error",
     "traceback": [
      "\u001b[1;31mnotebook controller is DISPOSED. \n",
      "\u001b[1;31mView Jupyter <a href='command:jupyter.viewOutput'>log</a> for further details."
     ]
    },
    {
     "ename": "",
     "evalue": "",
     "output_type": "error",
     "traceback": [
      "\u001b[1;31mnotebook controller is DISPOSED. \n",
      "\u001b[1;31mView Jupyter <a href='command:jupyter.viewOutput'>log</a> for further details."
     ]
    }
   ],
   "source": [
    "gs_j1j2_1 = get_gs(H_j1j2(1.0))"
   ]
  },
  {
   "cell_type": "code",
   "execution_count": 15,
   "metadata": {},
   "outputs": [
    {
     "ename": "",
     "evalue": "",
     "output_type": "error",
     "traceback": [
      "\u001b[1;31mnotebook controller is DISPOSED. \n",
      "\u001b[1;31mView Jupyter <a href='command:jupyter.viewOutput'>log</a> for further details."
     ]
    },
    {
     "ename": "",
     "evalue": "",
     "output_type": "error",
     "traceback": [
      "\u001b[1;31mnotebook controller is DISPOSED. \n",
      "\u001b[1;31mView Jupyter <a href='command:jupyter.viewOutput'>log</a> for further details."
     ]
    },
    {
     "ename": "",
     "evalue": "",
     "output_type": "error",
     "traceback": [
      "\u001b[1;31mnotebook controller is DISPOSED. \n",
      "\u001b[1;31mView Jupyter <a href='command:jupyter.viewOutput'>log</a> for further details."
     ]
    },
    {
     "ename": "",
     "evalue": "",
     "output_type": "error",
     "traceback": [
      "\u001b[1;31mnotebook controller is DISPOSED. \n",
      "\u001b[1;31mView Jupyter <a href='command:jupyter.viewOutput'>log</a> for further details."
     ]
    },
    {
     "ename": "",
     "evalue": "",
     "output_type": "error",
     "traceback": [
      "\u001b[1;31mnotebook controller is DISPOSED. \n",
      "\u001b[1;31mView Jupyter <a href='command:jupyter.viewOutput'>log</a> for further details."
     ]
    },
    {
     "ename": "",
     "evalue": "",
     "output_type": "error",
     "traceback": [
      "\u001b[1;31mnotebook controller is DISPOSED. \n",
      "\u001b[1;31mView Jupyter <a href='command:jupyter.viewOutput'>log</a> for further details."
     ]
    }
   ],
   "source": [
    "gs_xxz = get_gs(H_xxz)"
   ]
  },
  {
   "cell_type": "code",
   "execution_count": 5,
   "metadata": {},
   "outputs": [
    {
     "ename": "",
     "evalue": "",
     "output_type": "error",
     "traceback": [
      "\u001b[1;31mnotebook controller is DISPOSED. \n",
      "\u001b[1;31mView Jupyter <a href='command:jupyter.viewOutput'>log</a> for further details."
     ]
    },
    {
     "ename": "",
     "evalue": "",
     "output_type": "error",
     "traceback": [
      "\u001b[1;31mnotebook controller is DISPOSED. \n",
      "\u001b[1;31mView Jupyter <a href='command:jupyter.viewOutput'>log</a> for further details."
     ]
    },
    {
     "ename": "",
     "evalue": "",
     "output_type": "error",
     "traceback": [
      "\u001b[1;31mnotebook controller is DISPOSED. \n",
      "\u001b[1;31mView Jupyter <a href='command:jupyter.viewOutput'>log</a> for further details."
     ]
    },
    {
     "ename": "",
     "evalue": "",
     "output_type": "error",
     "traceback": [
      "\u001b[1;31mnotebook controller is DISPOSED. \n",
      "\u001b[1;31mView Jupyter <a href='command:jupyter.viewOutput'>log</a> for further details."
     ]
    }
   ],
   "source": [
    "gs_xxz_l = [get_gs(H) for H in H_xxz_l]"
   ]
  },
  {
   "cell_type": "code",
   "execution_count": 6,
   "metadata": {},
   "outputs": [
    {
     "data": {
      "text/plain": [
       "[<matplotlib.lines.Line2D at 0x7ffaa4159590>]"
      ]
     },
     "execution_count": 6,
     "metadata": {},
     "output_type": "execute_result"
    },
    {
     "data": {
      "image/png": "[encoded data removed]",
      "text/plain": [
       "<Figure size 1000x600 with 1 Axes>"
      ]
     },
     "metadata": {},
     "output_type": "display_data"
    },
    {
     "ename": "",
     "evalue": "",
     "output_type": "error",
     "traceback": [
      "\u001b[1;31mnotebook controller is DISPOSED. \n",
      "\u001b[1;31mView Jupyter <a href='command:jupyter.viewOutput'>log</a> for further details."
     ]
    },
    {
     "ename": "",
     "evalue": "",
     "output_type": "error",
     "traceback": [
      "\u001b[1;31mnotebook controller is DISPOSED. \n",
      "\u001b[1;31mView Jupyter <a href='command:jupyter.viewOutput'>log</a> for further details."
     ]
    },
    {
     "ename": "",
     "evalue": "",
     "output_type": "error",
     "traceback": [
      "\u001b[1;31mnotebook controller is DISPOSED. \n",
      "\u001b[1;31mView Jupyter <a href='command:jupyter.viewOutput'>log</a> for further details."
     ]
    },
    {
     "ename": "",
     "evalue": "",
     "output_type": "error",
     "traceback": [
      "\u001b[1;31mnotebook controller is DISPOSED. \n",
      "\u001b[1;31mView Jupyter <a href='command:jupyter.viewOutput'>log</a> for further details."
     ]
    }
   ],
   "source": [
    "plt.plot([jnp.sum(gs**4) for gs in gs_xxz_l])"
   ]
  },
  {
   "cell_type": "code",
   "execution_count": 8,
   "metadata": {},
   "outputs": [
    {
     "data": {
      "text/plain": [
       "(1e-10, np.float64(35.98191461101676))"
      ]
     },
     "execution_count": 8,
     "metadata": {},
     "output_type": "execute_result"
    },
    {
     "data": {
      "image/png": "[encoded data removed]",
      "text/plain": [
       "<Figure size 1000x600 with 1 Axes>"
      ]
     },
     "metadata": {},
     "output_type": "display_data"
    },
    {
     "ename": "",
     "evalue": "",
     "output_type": "error",
     "traceback": [
      "\u001b[1;31mnotebook controller is DISPOSED. \n",
      "\u001b[1;31mView Jupyter <a href='command:jupyter.viewOutput'>log</a> for further details."
     ]
    },
    {
     "ename": "",
     "evalue": "",
     "output_type": "error",
     "traceback": [
      "\u001b[1;31mnotebook controller is DISPOSED. \n",
      "\u001b[1;31mView Jupyter <a href='command:jupyter.viewOutput'>log</a> for further details."
     ]
    },
    {
     "ename": "",
     "evalue": "",
     "output_type": "error",
     "traceback": [
      "\u001b[1;31mnotebook controller is DISPOSED. \n",
      "\u001b[1;31mView Jupyter <a href='command:jupyter.viewOutput'>log</a> for further details."
     ]
    },
    {
     "ename": "",
     "evalue": "",
     "output_type": "error",
     "traceback": [
      "\u001b[1;31mnotebook controller is DISPOSED. \n",
      "\u001b[1;31mView Jupyter <a href='command:jupyter.viewOutput'>log</a> for further details."
     ]
    }
   ],
   "source": [
    "plt.plot(jnp.array(gs_xxz_l).T**2, label = [4,5,6,7,8])\n",
    "plt.yscale('log')\n",
    "plt.legend()\n",
    "plt.ylim(bottom=1e-10)"
   ]
  },
  {
   "cell_type": "code",
   "execution_count": 19,
   "metadata": {},
   "outputs": [
    {
     "name": "stdout",
     "output_type": "stream",
     "text": [
      "0.020238550527017514\n",
      "0.0030399735148109105\n",
      "0.007497759747610655\n",
      "0.014529147808521615\n"
     ]
    },
    {
     "ename": "",
     "evalue": "",
     "output_type": "error",
     "traceback": [
      "\u001b[1;31mnotebook controller is DISPOSED. \n",
      "\u001b[1;31mView Jupyter <a href='command:jupyter.viewOutput'>log</a> for further details."
     ]
    },
    {
     "ename": "",
     "evalue": "",
     "output_type": "error",
     "traceback": [
      "\u001b[1;31mnotebook controller is DISPOSED. \n",
      "\u001b[1;31mView Jupyter <a href='command:jupyter.viewOutput'>log</a> for further details."
     ]
    },
    {
     "ename": "",
     "evalue": "",
     "output_type": "error",
     "traceback": [
      "\u001b[1;31mnotebook controller is DISPOSED. \n",
      "\u001b[1;31mView Jupyter <a href='command:jupyter.viewOutput'>log</a> for further details."
     ]
    },
    {
     "ename": "",
     "evalue": "",
     "output_type": "error",
     "traceback": [
      "\u001b[1;31mnotebook controller is DISPOSED. \n",
      "\u001b[1;31mView Jupyter <a href='command:jupyter.viewOutput'>log</a> for further details."
     ]
    },
    {
     "ename": "",
     "evalue": "",
     "output_type": "error",
     "traceback": [
      "\u001b[1;31mnotebook controller is DISPOSED. \n",
      "\u001b[1;31mView Jupyter <a href='command:jupyter.viewOutput'>log</a> for further details."
     ]
    },
    {
     "ename": "",
     "evalue": "",
     "output_type": "error",
     "traceback": [
      "\u001b[1;31mnotebook controller is DISPOSED. \n",
      "\u001b[1;31mView Jupyter <a href='command:jupyter.viewOutput'>log</a> for further details."
     ]
    }
   ],
   "source": [
    "print(ipr(gs_xxz))\n",
    "print(ipr(gs_j1j2))\n",
    "print(ipr(gs_j1j2_1))\n",
    "print(ipr(heisenberg_gs))"
   ]
  },
  {
   "cell_type": "code",
   "execution_count": 27,
   "metadata": {},
   "outputs": [
    {
     "data": {
      "text/plain": [
       "(1e-11, np.float64(0.7518266873768118))"
      ]
     },
     "execution_count": 27,
     "metadata": {},
     "output_type": "execute_result"
    },
    {
     "data": {
      "image/png": "[encoded data removed]",
      "text/plain": [
       "<Figure size 1000x600 with 1 Axes>"
      ]
     },
     "metadata": {},
     "output_type": "display_data"
    },
    {
     "ename": "",
     "evalue": "",
     "output_type": "error",
     "traceback": [
      "\u001b[1;31mnotebook controller is DISPOSED. \n",
      "\u001b[1;31mView Jupyter <a href='command:jupyter.viewOutput'>log</a> for further details."
     ]
    },
    {
     "ename": "",
     "evalue": "",
     "output_type": "error",
     "traceback": [
      "\u001b[1;31mnotebook controller is DISPOSED. \n",
      "\u001b[1;31mView Jupyter <a href='command:jupyter.viewOutput'>log</a> for further details."
     ]
    },
    {
     "ename": "",
     "evalue": "",
     "output_type": "error",
     "traceback": [
      "\u001b[1;31mnotebook controller is DISPOSED. \n",
      "\u001b[1;31mView Jupyter <a href='command:jupyter.viewOutput'>log</a> for further details."
     ]
    },
    {
     "ename": "",
     "evalue": "",
     "output_type": "error",
     "traceback": [
      "\u001b[1;31mnotebook controller is DISPOSED. \n",
      "\u001b[1;31mView Jupyter <a href='command:jupyter.viewOutput'>log</a> for further details."
     ]
    },
    {
     "ename": "",
     "evalue": "",
     "output_type": "error",
     "traceback": [
      "\u001b[1;31mnotebook controller is DISPOSED. \n",
      "\u001b[1;31mView Jupyter <a href='command:jupyter.viewOutput'>log</a> for further details."
     ]
    },
    {
     "ename": "",
     "evalue": "",
     "output_type": "error",
     "traceback": [
      "\u001b[1;31mnotebook controller is DISPOSED. \n",
      "\u001b[1;31mView Jupyter <a href='command:jupyter.viewOutput'>log</a> for further details."
     ]
    }
   ],
   "source": [
    "plt.plot(heisenberg_gs[::-1]**2, label= r\"4x4 Heisenberg\")\n",
    "plt.plot(gs_j1j2[::-1]**2, label = r\"4x4 $J1$-$J2$, $J2=0.5$\")\n",
    "plt.plot(gs_j1j2_1[::-1]**2, label = r\"4x4 $J1$-$J2$, $J2=1.0$\")\n",
    "plt.plot(gs_xxz[::-1]**2, label= 'XXZ chain')\n",
    "plt.legend()\n",
    "plt.title('Exact ground state amplitudes for several models')\n",
    "plt.xlabel('Basis configuration index')\n",
    "plt.ylabel(\"Ground state Born Amplitude\")\n",
    "plt.yscale('log')\n",
    "plt.ylim(bottom=1e-11)"
   ]
  },
  {
   "cell_type": "code",
   "execution_count": 55,
   "metadata": {},
   "outputs": [
    {
     "data": {
      "text/plain": [
       "(1e-11, np.float64(0.17136710302684224))"
      ]
     },
     "execution_count": 55,
     "metadata": {},
     "output_type": "execute_result"
    },
    {
     "data": {
      "image/png": "[encoded data removed]",
      "text/plain": [
       "<Figure size 1000x600 with 1 Axes>"
      ]
     },
     "metadata": {},
     "output_type": "display_data"
    },
    {
     "ename": "",
     "evalue": "",
     "output_type": "error",
     "traceback": [
      "\u001b[1;31mnotebook controller is DISPOSED. \n",
      "\u001b[1;31mView Jupyter <a href='command:jupyter.viewOutput'>log</a> for further details."
     ]
    },
    {
     "ename": "",
     "evalue": "",
     "output_type": "error",
     "traceback": [
      "\u001b[1;31mnotebook controller is DISPOSED. \n",
      "\u001b[1;31mView Jupyter <a href='command:jupyter.viewOutput'>log</a> for further details."
     ]
    },
    {
     "ename": "",
     "evalue": "",
     "output_type": "error",
     "traceback": [
      "\u001b[1;31mnotebook controller is DISPOSED. \n",
      "\u001b[1;31mView Jupyter <a href='command:jupyter.viewOutput'>log</a> for further details."
     ]
    },
    {
     "ename": "",
     "evalue": "",
     "output_type": "error",
     "traceback": [
      "\u001b[1;31mnotebook controller is DISPOSED. \n",
      "\u001b[1;31mView Jupyter <a href='command:jupyter.viewOutput'>log</a> for further details."
     ]
    },
    {
     "ename": "",
     "evalue": "",
     "output_type": "error",
     "traceback": [
      "\u001b[1;31mnotebook controller is DISPOSED. \n",
      "\u001b[1;31mView Jupyter <a href='command:jupyter.viewOutput'>log</a> for further details."
     ]
    },
    {
     "ename": "",
     "evalue": "",
     "output_type": "error",
     "traceback": [
      "\u001b[1;31mnotebook controller is DISPOSED. \n",
      "\u001b[1;31mView Jupyter <a href='command:jupyter.viewOutput'>log</a> for further details."
     ]
    }
   ],
   "source": [
    "plt.plot(jnp.array(heisenberg_gs[::-1])**1.9/jnp.sum(jnp.array(heisenberg_gs[::-1])**1.9), label= r\"$|\\psi|^{1.9}$, 4x4 Heisenberg\")\n",
    "plt.plot(jnp.array(gs_j1j2[::-1])/jnp.sum(jnp.array(gs_j1j2[::-1])), label = r\"$|\\psi|$, 4x4 $J_1$-$J_2$, $J_2=0.5$\")\n",
    "plt.plot(jnp.array(gs_j1j2_1[::-1])**1.9/jnp.sum(jnp.array(gs_j1j2_1[::-1])**1.9), label = r\"$|\\psi|^{1.9}$, 4x4 $J_1$-$J_2$, $J_2=1.0$\")\n",
    "plt.plot(jnp.array(gs_xxz[::-1])**0.8/jnp.sum(jnp.array(gs_xxz[::-1])**0.8), label= r'$|\\psi|^{0.8}$, XXZ chain')\n",
    "plt.legend()\n",
    "plt.title('Near-optimal IS distribution for several models')\n",
    "plt.xlabel('Basis configuration index')\n",
    "plt.ylabel(\"Normalized IS amplitude\")\n",
    "plt.yscale('log')\n",
    "plt.ylim(bottom=1e-11)"
   ]
  }
 ],
 "metadata": {
  "kernelspec": {
   "display_name": "Python 3 (ipykernel)",
   "language": "python",
   "name": "python3"
  },
  "language_info": {
   "codemirror_mode": {
    "name": "ipython",
    "version": 3
   },
   "file_extension": ".py",
   "mimetype": "text/x-python",
   "name": "python",
   "nbconvert_exporter": "python",
   "pygments_lexer": "ipython3",
   "version": "3.11.11"
  }
 },
 "nbformat": 4,
 "nbformat_minor": 2
}
