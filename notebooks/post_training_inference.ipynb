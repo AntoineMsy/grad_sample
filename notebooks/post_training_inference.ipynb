{
 "cells": [
  {
   "cell_type": "code",
   "execution_count": 1,
   "metadata": {},
   "outputs": [
    {
     "name": "stdout",
     "output_type": "stream",
     "text": [
      "{'_target_': 'grad_sample.tasks.fullsum_train.Trainer'}\n"
     ]
    },
    {
     "name": "stderr",
     "output_type": "stream",
     "text": [
      "2025-04-11 11:59:41.635010: W external/xla/xla/service/gpu/ir_emitter_unnested.cc:1171] Unable to parse backend config for custom call: Could not convert JSON string to proto: : Root element must be a message.\n",
      "Fall back to parse the raw backend config str.\n",
      "2025-04-11 11:59:41.635084: W external/xla/xla/service/gpu/ir_emitter_unnested.cc:1171] Unable to parse backend config for custom call: Could not convert JSON string to proto: : Root element must be a message.\n",
      "Fall back to parse the raw backend config str.\n"
     ]
    },
    {
     "name": "stdout",
     "output_type": "stream",
     "text": [
      "scratch folder not specified in env variables\n",
      "Nparams = 832\n"
     ]
    },
    {
     "name": "stderr",
     "output_type": "stream",
     "text": [
      "/mnt/beegfs/workdir/antoine.misery/mambaforge/envs/netket/lib/python3.11/site-packages/netket/vqs/mc/mc_state/state.py:322: UserWarning: An exact sampler does not need to discard samples. Setting n_discard_per_chain to 0.\n",
      "  self.n_discard_per_chain = n_discard_per_chain  # type: ignore[assignment]\n"
     ]
    },
    {
     "name": "stdout",
     "output_type": "stream",
     "text": [
      "MC state loaded, num samples 2048\n",
      "/mnt/beegfs/workdir/antoine.misery/test_stats//xxz_1.5/L16/RBM/3/MC_11_[1.]/0.0022_0.0001/run_2\n"
     ]
    },
    {
     "name": "stderr",
     "output_type": "stream",
     "text": [
      "2025-04-11 12:00:02.901407: W external/xla/xla/service/gpu/ir_emitter_unnested.cc:1171] Unable to parse backend config for custom call: Could not convert JSON string to proto: : Root element must be a message.\n",
      "Fall back to parse the raw backend config str.\n",
      "2025-04-11 12:00:02.901472: W external/xla/xla/service/gpu/ir_emitter_unnested.cc:1171] Unable to parse backend config for custom call: Could not convert JSON string to proto: : Root element must be a message.\n",
      "Fall back to parse the raw backend config str.\n",
      "2025-04-11 12:00:02.927050: W external/xla/xla/service/gpu/ir_emitter_unnested.cc:1171] Unable to parse backend config for custom call: Could not convert JSON string to proto: : Root element must be a message.\n",
      "Fall back to parse the raw backend config str.\n",
      "2025-04-11 12:00:02.927102: W external/xla/xla/service/gpu/ir_emitter_unnested.cc:1171] Unable to parse backend config for custom call: Could not convert JSON string to proto: : Root element must be a message.\n",
      "Fall back to parse the raw backend config str.\n"
     ]
    },
    {
     "name": "stdout",
     "output_type": "stream",
     "text": [
      "The ground state energy is: -33.71105604086468\n",
      "creating driver\n",
      "finished creating driver\n"
     ]
    }
   ],
   "source": [
    "from hydra import compose, initialize\n",
    "from omegaconf import OmegaConf\n",
    "from hydra.core.global_hydra import GlobalHydra\n",
    "from hydra.utils import instantiate\n",
    "from grad_sample.tasks.fullsum_train import Trainer\n",
    "import jax.numpy as jnp\n",
    "if GlobalHydra().is_initialized():\n",
    "    GlobalHydra().clear()\n",
    "\n",
    "with initialize(version_base=None, config_path=\"./grad_sample/conf\"):\n",
    "    cfg = compose(config_name=\"train_is\")\n",
    "    OmegaConf.set_struct(cfg, True)\n",
    "    print(cfg.task)\n",
    "trainer = Trainer(cfg)"
   ]
  },
  {
   "cell_type": "code",
   "execution_count": 2,
   "metadata": {},
   "outputs": [
    {
     "name": "stderr",
     "output_type": "stream",
     "text": [
      "2025-04-11 12:00:08.820247: W external/xla/xla/service/gpu/ir_emitter_unnested.cc:1171] Unable to parse backend config for custom call: Could not convert JSON string to proto: : Root element must be a message.\n",
      "Fall back to parse the raw backend config str.\n",
      "2025-04-11 12:00:08.820314: W external/xla/xla/service/gpu/ir_emitter_unnested.cc:1171] Unable to parse backend config for custom call: Could not convert JSON string to proto: : Root element must be a message.\n",
      "Fall back to parse the raw backend config str.\n"
     ]
    },
    {
     "data": {
      "text/plain": [
       "15.483+0.000j ± 0.040 [σ²=4.030]"
      ]
     },
     "execution_count": 2,
     "metadata": {},
     "output_type": "execute_result"
    }
   ],
   "source": [
    "trainer.gs.state.expect(trainer.model.hamiltonian.to_jax_operator())"
   ]
  },
  {
   "cell_type": "code",
   "execution_count": 3,
   "metadata": {},
   "outputs": [
    {
     "name": "stderr",
     "output_type": "stream",
     "text": [
      "  0%|                                                                       | 0/2000 [00:00<?, ?it/s]2025-04-11 12:00:13.162902: W external/xla/xla/service/gpu/ir_emitter_unnested.cc:1171] Unable to parse backend config for custom call: Could not convert JSON string to proto: : Root element must be a message.\n",
      "Fall back to parse the raw backend config str.\n",
      "2025-04-11 12:00:13.162969: W external/xla/xla/service/gpu/ir_emitter_unnested.cc:1171] Unable to parse backend config for custom call: Could not convert JSON string to proto: : Root element must be a message.\n",
      "Fall back to parse the raw backend config str.\n",
      "2025-04-11 12:00:14.683612: W external/xla/xla/service/gpu/ir_emitter_unnested.cc:1171] Unable to parse backend config for custom call: Could not convert JSON string to proto: : Root element must be a message.\n",
      "Fall back to parse the raw backend config str.\n",
      "2025-04-11 12:00:14.683677: W external/xla/xla/service/gpu/ir_emitter_unnested.cc:1171] Unable to parse backend config for custom call: Could not convert JSON string to proto: : Root element must be a message.\n",
      "Fall back to parse the raw backend config str.\n"
     ]
    },
    {
     "name": "stdout",
     "output_type": "stream",
     "text": [
      "Traced<ShapedArray(float64[])>with<DynamicJaxprTrace>\n"
     ]
    },
    {
     "name": "stderr",
     "output_type": "stream",
     "text": [
      "2025-04-11 12:00:19.871827: W external/xla/xla/service/gpu/ir_emitter_unnested.cc:1171] Unable to parse backend config for custom call: Could not convert JSON string to proto: : Root element must be a message.\n",
      "Fall back to parse the raw backend config str.\n",
      "2025-04-11 12:00:19.871893: W external/xla/xla/service/gpu/ir_emitter_unnested.cc:1171] Unable to parse backend config for custom call: Could not convert JSON string to proto: : Root element must be a message.\n",
      "Fall back to parse the raw backend config str.\n",
      "2025-04-11 12:00:21.245585: W external/xla/xla/service/gpu/ir_emitter_unnested.cc:1171] Unable to parse backend config for custom call: Could not convert JSON string to proto: : Root element must be a message.\n",
      "Fall back to parse the raw backend config str.\n",
      "2025-04-11 12:00:21.245652: W external/xla/xla/service/gpu/ir_emitter_unnested.cc:1171] Unable to parse backend config for custom call: Could not convert JSON string to proto: : Root element must be a message.\n",
      "Fall back to parse the raw backend config str.\n"
     ]
    },
    {
     "name": "stdout",
     "output_type": "stream",
     "text": [
      "Traced<ShapedArray(float64[])>with<DynamicJaxprTrace>\n",
      "0.010963673100376749\n"
     ]
    },
    {
     "name": "stderr",
     "output_type": "stream",
     "text": [
      "  0%|                              | 0/2000 [00:12<?, ?it/s, Energy=15.363+0.002j ± 0.055 [σ²=4.037]]2025-04-11 12:00:25.240481: W external/xla/xla/service/gpu/ir_emitter_unnested.cc:1171] Unable to parse backend config for custom call: Could not convert JSON string to proto: : Root element must be a message.\n",
      "Fall back to parse the raw backend config str.\n",
      "2025-04-11 12:00:25.240550: W external/xla/xla/service/gpu/ir_emitter_unnested.cc:1171] Unable to parse backend config for custom call: Could not convert JSON string to proto: : Root element must be a message.\n",
      "Fall back to parse the raw backend config str.\n",
      "  1%|▏                    | 14/2000 [00:14<02:36, 12.70it/s, Energy=14.709+0.000j ± 0.062 [σ²=9.919]]"
     ]
    },
    {
     "name": "stdout",
     "output_type": "stream",
     "text": [
      "0.013065957588144533\n"
     ]
    },
    {
     "name": "stderr",
     "output_type": "stream",
     "text": [
      "  1%|▏                   | 24/2000 [00:14<02:00, 16.41it/s, Energy=13.664+0.008j ± 0.075 [σ²=26.995]]"
     ]
    },
    {
     "name": "stdout",
     "output_type": "stream",
     "text": [
      "0.02091828163332785\n"
     ]
    },
    {
     "name": "stderr",
     "output_type": "stream",
     "text": [
      "  2%|▍                       | 34/2000 [00:15<01:52, 17.41it/s, Energy=11.08-0.01j ± 0.16 [σ²=90.79]]"
     ]
    },
    {
     "name": "stdout",
     "output_type": "stream",
     "text": [
      "0.026218915104277898\n"
     ]
    },
    {
     "name": "stderr",
     "output_type": "stream",
     "text": [
      "  2%|▌                       | 44/2000 [00:15<01:55, 16.96it/s, Energy=4.07-0.01j ± 0.20 [σ²=372.48]]"
     ]
    },
    {
     "name": "stdout",
     "output_type": "stream",
     "text": [
      "0.04266856756629501\n"
     ]
    },
    {
     "name": "stderr",
     "output_type": "stream",
     "text": [
      "  3%|▌                      | 54/2000 [00:16<01:46, 18.22it/s, Energy=-6.21+0.01j ± 1.00 [σ²=792.20]]"
     ]
    },
    {
     "name": "stdout",
     "output_type": "stream",
     "text": [
      "0.07703440598207409\n"
     ]
    },
    {
     "name": "stderr",
     "output_type": "stream",
     "text": [
      "  3%|▊                         | 64/2000 [00:16<01:45, 18.36it/s, Energy=-18.8-0.1j ± 1.2 [σ²=238.6]]"
     ]
    },
    {
     "name": "stdout",
     "output_type": "stream",
     "text": [
      "0.3114365638789314\n"
     ]
    },
    {
     "name": "stderr",
     "output_type": "stream",
     "text": [
      "  4%|▊                      | 74/2000 [00:17<01:49, 17.57it/s, Energy=-27.42-0.01j ± 0.66 [σ²=33.87]]"
     ]
    },
    {
     "name": "stdout",
     "output_type": "stream",
     "text": [
      "0.2977309567870313\n"
     ]
    },
    {
     "name": "stderr",
     "output_type": "stream",
     "text": [
      "  4%|▉                      | 84/2000 [00:17<01:43, 18.56it/s, Energy=-30.50+0.01j ± 0.98 [σ²=21.65]]"
     ]
    },
    {
     "name": "stdout",
     "output_type": "stream",
     "text": [
      "0.2861173107426832\n"
     ]
    },
    {
     "name": "stderr",
     "output_type": "stream",
     "text": [
      "  5%|█                      | 94/2000 [00:18<01:42, 18.55it/s, Energy=-31.62+0.00j ± 0.53 [σ²=15.16]]"
     ]
    },
    {
     "name": "stdout",
     "output_type": "stream",
     "text": [
      "0.1685577726838443\n"
     ]
    },
    {
     "name": "stderr",
     "output_type": "stream",
     "text": [
      "  5%|█▏                     | 104/2000 [00:18<01:49, 17.36it/s, Energy=-32.08+0.00j ± 0.49 [σ²=7.53]]"
     ]
    },
    {
     "name": "stdout",
     "output_type": "stream",
     "text": [
      "0.22211549817591625\n"
     ]
    },
    {
     "name": "stderr",
     "output_type": "stream",
     "text": [
      "  6%|█▎                     | 114/2000 [00:19<01:44, 18.05it/s, Energy=-32.37-0.00j ± 0.47 [σ²=5.12]]"
     ]
    },
    {
     "name": "stdout",
     "output_type": "stream",
     "text": [
      "0.2144928818171163\n"
     ]
    },
    {
     "name": "stderr",
     "output_type": "stream",
     "text": [
      "  6%|█▍                     | 124/2000 [00:20<01:45, 17.86it/s, Energy=-32.63-0.01j ± 0.36 [σ²=3.64]]"
     ]
    },
    {
     "name": "stdout",
     "output_type": "stream",
     "text": [
      "0.1387849556089114\n"
     ]
    },
    {
     "name": "stderr",
     "output_type": "stream",
     "text": [
      "  7%|█▌                     | 134/2000 [00:20<01:50, 16.96it/s, Energy=-32.82-0.01j ± 0.43 [σ²=2.47]]"
     ]
    },
    {
     "name": "stdout",
     "output_type": "stream",
     "text": [
      "0.13405322231168312\n"
     ]
    },
    {
     "name": "stderr",
     "output_type": "stream",
     "text": [
      "  7%|█▋                     | 144/2000 [00:21<01:42, 18.16it/s, Energy=-32.93+0.00j ± 0.45 [σ²=1.71]]"
     ]
    },
    {
     "name": "stdout",
     "output_type": "stream",
     "text": [
      "0.09548665773147784\n"
     ]
    },
    {
     "name": "stderr",
     "output_type": "stream",
     "text": [
      "  8%|█▊                     | 154/2000 [00:21<01:41, 18.13it/s, Energy=-33.06+0.01j ± 0.59 [σ²=1.52]]"
     ]
    },
    {
     "name": "stdout",
     "output_type": "stream",
     "text": [
      "0.11453967422772474\n"
     ]
    },
    {
     "name": "stderr",
     "output_type": "stream",
     "text": [
      "  8%|█▉                     | 164/2000 [00:22<01:46, 17.23it/s, Energy=-33.20-0.00j ± 0.39 [σ²=1.25]]"
     ]
    },
    {
     "name": "stdout",
     "output_type": "stream",
     "text": [
      "0.08273536452704658\n"
     ]
    },
    {
     "name": "stderr",
     "output_type": "stream",
     "text": [
      "  9%|██                     | 174/2000 [00:22<01:39, 18.38it/s, Energy=-33.31+0.01j ± 0.27 [σ²=1.10]]"
     ]
    },
    {
     "name": "stdout",
     "output_type": "stream",
     "text": [
      "0.07342828733939434\n"
     ]
    },
    {
     "name": "stderr",
     "output_type": "stream",
     "text": [
      "  9%|██                     | 184/2000 [00:23<01:38, 18.47it/s, Energy=-33.39-0.00j ± 0.41 [σ²=1.19]]"
     ]
    },
    {
     "name": "stdout",
     "output_type": "stream",
     "text": [
      "0.07450927653335533\n"
     ]
    },
    {
     "name": "stderr",
     "output_type": "stream",
     "text": [
      " 10%|██▏                    | 194/2000 [00:23<01:42, 17.64it/s, Energy=-33.46-0.00j ± 0.26 [σ²=1.05]]"
     ]
    },
    {
     "name": "stdout",
     "output_type": "stream",
     "text": [
      "0.04714647775786481\n"
     ]
    },
    {
     "name": "stderr",
     "output_type": "stream",
     "text": [
      " 10%|██▎                    | 204/2000 [00:24<01:36, 18.59it/s, Energy=-33.50-0.00j ± 0.26 [σ²=0.87]]"
     ]
    },
    {
     "name": "stdout",
     "output_type": "stream",
     "text": [
      "0.054144295448952794\n"
     ]
    },
    {
     "name": "stderr",
     "output_type": "stream",
     "text": [
      " 11%|██▍                    | 214/2000 [00:24<01:37, 18.30it/s, Energy=-33.57+0.00j ± 0.19 [σ²=0.79]]"
     ]
    },
    {
     "name": "stdout",
     "output_type": "stream",
     "text": [
      "0.04142828220228658\n"
     ]
    },
    {
     "name": "stderr",
     "output_type": "stream",
     "text": [
      " 11%|██▌                    | 224/2000 [00:25<01:44, 17.07it/s, Energy=-33.60+0.01j ± 0.11 [σ²=0.64]]"
     ]
    },
    {
     "name": "stdout",
     "output_type": "stream",
     "text": [
      "0.044123667101851914\n"
     ]
    },
    {
     "name": "stderr",
     "output_type": "stream",
     "text": [
      " 12%|██▋                    | 234/2000 [00:26<01:38, 17.98it/s, Energy=-33.61-0.01j ± 0.11 [σ²=0.51]]"
     ]
    },
    {
     "name": "stdout",
     "output_type": "stream",
     "text": [
      "0.03553982700023904\n"
     ]
    },
    {
     "name": "stderr",
     "output_type": "stream",
     "text": [
      " 12%|██▊                    | 244/2000 [00:26<01:36, 18.19it/s, Energy=-33.67+0.00j ± 0.15 [σ²=0.45]]"
     ]
    },
    {
     "name": "stdout",
     "output_type": "stream",
     "text": [
      "0.03483028067509021\n"
     ]
    },
    {
     "name": "stderr",
     "output_type": "stream",
     "text": [
      " 13%|██▍                | 254/2000 [00:27<01:40, 17.39it/s, Energy=-33.660-0.003j ± 0.070 [σ²=0.321]]"
     ]
    },
    {
     "name": "stdout",
     "output_type": "stream",
     "text": [
      "0.03319543521617502\n"
     ]
    },
    {
     "name": "stderr",
     "output_type": "stream",
     "text": [
      " 13%|██▌                | 264/2000 [00:27<01:34, 18.37it/s, Energy=-33.689+0.001j ± 0.097 [σ²=0.273]]"
     ]
    },
    {
     "name": "stdout",
     "output_type": "stream",
     "text": [
      "0.028538700434370415\n"
     ]
    },
    {
     "name": "stderr",
     "output_type": "stream",
     "text": [
      " 14%|███▏                   | 274/2000 [00:28<01:36, 17.95it/s, Energy=-33.68+0.00j ± 0.13 [σ²=0.19]]"
     ]
    },
    {
     "name": "stdout",
     "output_type": "stream",
     "text": [
      "0.025067205631354207\n"
     ]
    },
    {
     "name": "stderr",
     "output_type": "stream",
     "text": [
      " 14%|██▋                | 284/2000 [00:28<01:40, 17.11it/s, Energy=-33.696-0.003j ± 0.072 [σ²=0.159]]"
     ]
    },
    {
     "name": "stdout",
     "output_type": "stream",
     "text": [
      "0.017332765061879907\n"
     ]
    },
    {
     "name": "stderr",
     "output_type": "stream",
     "text": [
      " 15%|██▊                | 294/2000 [00:29<01:33, 18.32it/s, Energy=-33.685+0.002j ± 0.068 [σ²=0.106]]"
     ]
    },
    {
     "name": "stdout",
     "output_type": "stream",
     "text": [
      "0.01577074159073686\n"
     ]
    },
    {
     "name": "stderr",
     "output_type": "stream",
     "text": [
      " 15%|██▉                | 304/2000 [00:29<01:32, 18.40it/s, Energy=-33.703-0.003j ± 0.042 [σ²=0.085]]"
     ]
    },
    {
     "name": "stdout",
     "output_type": "stream",
     "text": [
      "0.015289602478979232\n"
     ]
    },
    {
     "name": "stderr",
     "output_type": "stream",
     "text": [
      " 16%|██▉                | 314/2000 [00:30<01:36, 17.54it/s, Energy=-33.699-0.002j ± 0.063 [σ²=0.072]]"
     ]
    },
    {
     "name": "stdout",
     "output_type": "stream",
     "text": [
      "0.012940717882627866\n"
     ]
    },
    {
     "name": "stderr",
     "output_type": "stream",
     "text": [
      " 16%|███                | 324/2000 [00:30<01:30, 18.47it/s, Energy=-33.700-0.001j ± 0.053 [σ²=0.055]]"
     ]
    },
    {
     "name": "stdout",
     "output_type": "stream",
     "text": [
      "0.011830655268900649\n"
     ]
    },
    {
     "name": "stderr",
     "output_type": "stream",
     "text": [
      " 17%|███▏               | 334/2000 [00:31<01:30, 18.45it/s, Energy=-33.698-0.000j ± 0.026 [σ²=0.038]]"
     ]
    },
    {
     "name": "stdout",
     "output_type": "stream",
     "text": [
      "0.010044968811706651\n"
     ]
    },
    {
     "name": "stderr",
     "output_type": "stream",
     "text": [
      " 17%|███▎               | 344/2000 [00:32<01:33, 17.64it/s, Energy=-33.704+0.001j ± 0.042 [σ²=0.036]]"
     ]
    },
    {
     "name": "stdout",
     "output_type": "stream",
     "text": [
      "0.012003967574864435\n"
     ]
    },
    {
     "name": "stderr",
     "output_type": "stream",
     "text": [
      " 18%|███▎               | 354/2000 [00:32<01:28, 18.62it/s, Energy=-33.707-0.001j ± 0.038 [σ²=0.025]]"
     ]
    },
    {
     "name": "stdout",
     "output_type": "stream",
     "text": [
      "0.016145145616442633\n"
     ]
    },
    {
     "name": "stderr",
     "output_type": "stream",
     "text": [
      " 18%|███▍               | 364/2000 [00:33<01:28, 18.56it/s, Energy=-33.704+0.001j ± 0.024 [σ²=0.020]]"
     ]
    },
    {
     "name": "stdout",
     "output_type": "stream",
     "text": [
      "0.011884415745351415\n"
     ]
    },
    {
     "name": "stderr",
     "output_type": "stream",
     "text": [
      " 19%|███▌               | 374/2000 [00:33<01:33, 17.41it/s, Energy=-33.707+0.000j ± 0.030 [σ²=0.019]]"
     ]
    },
    {
     "name": "stdout",
     "output_type": "stream",
     "text": [
      "0.013466413796689261\n"
     ]
    },
    {
     "name": "stderr",
     "output_type": "stream",
     "text": [
      " 19%|███▋               | 384/2000 [00:34<01:29, 18.03it/s, Energy=-33.711-0.001j ± 0.029 [σ²=0.016]]"
     ]
    },
    {
     "name": "stdout",
     "output_type": "stream",
     "text": [
      "0.013755854585872196\n"
     ]
    },
    {
     "name": "stderr",
     "output_type": "stream",
     "text": [
      " 20%|███▋               | 394/2000 [00:34<01:29, 17.94it/s, Energy=-33.705+0.002j ± 0.043 [σ²=0.013]]"
     ]
    },
    {
     "name": "stdout",
     "output_type": "stream",
     "text": [
      "0.014877960569210702\n"
     ]
    },
    {
     "name": "stderr",
     "output_type": "stream",
     "text": [
      " 20%|██        | 404/2000 [00:35<01:33, 17.00it/s, Energy=-3.371e+01-1.604e-03j ± nan [σ²=1.283e-02]]"
     ]
    },
    {
     "name": "stdout",
     "output_type": "stream",
     "text": [
      "0.00769418346891251\n"
     ]
    },
    {
     "name": "stderr",
     "output_type": "stream",
     "text": [
      " 21%|███▉               | 414/2000 [00:35<01:27, 18.11it/s, Energy=-33.708+0.000j ± 0.022 [σ²=0.012]]"
     ]
    },
    {
     "name": "stdout",
     "output_type": "stream",
     "text": [
      "0.00958549085792034\n"
     ]
    },
    {
     "name": "stderr",
     "output_type": "stream",
     "text": [
      " 21%|████               | 424/2000 [00:36<01:26, 18.14it/s, Energy=-33.710-0.000j ± 0.027 [σ²=0.010]]"
     ]
    },
    {
     "name": "stdout",
     "output_type": "stream",
     "text": [
      "0.0091510824198629\n"
     ]
    },
    {
     "name": "stderr",
     "output_type": "stream",
     "text": [
      " 22%|████               | 434/2000 [00:36<01:30, 17.26it/s, Energy=-33.710-0.000j ± 0.047 [σ²=0.009]]"
     ]
    },
    {
     "name": "stdout",
     "output_type": "stream",
     "text": [
      "0.00826779599927791\n"
     ]
    },
    {
     "name": "stderr",
     "output_type": "stream",
     "text": [
      " 22%|████▏              | 444/2000 [00:37<01:25, 18.29it/s, Energy=-33.711-0.000j ± 0.017 [σ²=0.009]]"
     ]
    },
    {
     "name": "stdout",
     "output_type": "stream",
     "text": [
      "0.007646947744423573\n"
     ]
    },
    {
     "name": "stderr",
     "output_type": "stream",
     "text": [
      " 23%|████▎              | 454/2000 [00:38<01:23, 18.49it/s, Energy=-33.707-0.000j ± 0.022 [σ²=0.008]]"
     ]
    },
    {
     "name": "stdout",
     "output_type": "stream",
     "text": [
      "0.007380854704465497\n"
     ]
    },
    {
     "name": "stderr",
     "output_type": "stream",
     "text": [
      " 23%|████▍              | 464/2000 [00:38<01:26, 17.66it/s, Energy=-33.709-0.000j ± 0.045 [σ²=0.007]]"
     ]
    },
    {
     "name": "stdout",
     "output_type": "stream",
     "text": [
      "0.008130036995796291\n"
     ]
    },
    {
     "name": "stderr",
     "output_type": "stream",
     "text": [
      " 24%|████▌              | 474/2000 [00:39<01:21, 18.63it/s, Energy=-33.709+0.000j ± 0.019 [σ²=0.007]]"
     ]
    },
    {
     "name": "stdout",
     "output_type": "stream",
     "text": [
      "0.006598636263929523\n"
     ]
    },
    {
     "name": "stderr",
     "output_type": "stream",
     "text": [
      " 24%|████▌              | 484/2000 [00:39<01:22, 18.33it/s, Energy=-33.709+0.002j ± 0.035 [σ²=0.008]]"
     ]
    },
    {
     "name": "stdout",
     "output_type": "stream",
     "text": [
      "0.007137826183787564\n"
     ]
    },
    {
     "name": "stderr",
     "output_type": "stream",
     "text": [
      " 25%|████▋              | 494/2000 [00:40<01:28, 17.05it/s, Energy=-33.710+0.000j ± 0.035 [σ²=0.007]]"
     ]
    },
    {
     "name": "stdout",
     "output_type": "stream",
     "text": [
      "0.007189040532184191\n"
     ]
    },
    {
     "name": "stderr",
     "output_type": "stream",
     "text": [
      " 25%|██▌       | 504/2000 [00:40<01:24, 17.67it/s, Energy=-3.371e+01-1.508e-03j ± nan [σ²=6.522e-03]]"
     ]
    },
    {
     "name": "stdout",
     "output_type": "stream",
     "text": [
      "0.007022667665216938\n"
     ]
    },
    {
     "name": "stderr",
     "output_type": "stream",
     "text": [
      " 26%|████▉              | 514/2000 [00:41<01:26, 17.15it/s, Energy=-33.712+0.000j ± 0.018 [σ²=0.006]]"
     ]
    },
    {
     "name": "stdout",
     "output_type": "stream",
     "text": [
      "0.005092174905279474\n"
     ]
    },
    {
     "name": "stderr",
     "output_type": "stream",
     "text": [
      " 26%|████▉              | 524/2000 [00:41<01:20, 18.29it/s, Energy=-33.710+0.000j ± 0.017 [σ²=0.006]]"
     ]
    },
    {
     "name": "stdout",
     "output_type": "stream",
     "text": [
      "0.00575287922564617\n"
     ]
    },
    {
     "name": "stderr",
     "output_type": "stream",
     "text": [
      " 27%|█████              | 534/2000 [00:42<01:20, 18.16it/s, Energy=-33.712-0.002j ± 0.022 [σ²=0.006]]"
     ]
    },
    {
     "name": "stdout",
     "output_type": "stream",
     "text": [
      "0.008192069960993049\n"
     ]
    },
    {
     "name": "stderr",
     "output_type": "stream",
     "text": [
      " 27%|█████▏             | 544/2000 [00:42<01:25, 16.94it/s, Energy=-33.712-0.000j ± 0.037 [σ²=0.006]]"
     ]
    },
    {
     "name": "stdout",
     "output_type": "stream",
     "text": [
      "0.005962934157489732\n"
     ]
    },
    {
     "name": "stderr",
     "output_type": "stream",
     "text": [
      " 28%|█████▎             | 554/2000 [00:43<01:19, 18.14it/s, Energy=-33.712-0.001j ± 0.011 [σ²=0.006]]"
     ]
    },
    {
     "name": "stdout",
     "output_type": "stream",
     "text": [
      "0.006393530361353113\n"
     ]
    },
    {
     "name": "stderr",
     "output_type": "stream",
     "text": [
      " 28%|█████▎             | 564/2000 [00:44<01:19, 18.09it/s, Energy=-33.713+0.001j ± 0.018 [σ²=0.006]]"
     ]
    },
    {
     "name": "stdout",
     "output_type": "stream",
     "text": [
      "0.0062759609962893155\n"
     ]
    },
    {
     "name": "stderr",
     "output_type": "stream",
     "text": [
      " 29%|██▊       | 574/2000 [00:44<01:21, 17.42it/s, Energy=-3.371e+01+4.242e-04j ± nan [σ²=5.033e-03]]"
     ]
    },
    {
     "name": "stdout",
     "output_type": "stream",
     "text": [
      "0.0060509481092235985\n"
     ]
    },
    {
     "name": "stderr",
     "output_type": "stream",
     "text": [
      " 29%|█████▌             | 584/2000 [00:45<01:16, 18.59it/s, Energy=-33.707-0.001j ± 0.016 [σ²=0.005]]"
     ]
    },
    {
     "name": "stdout",
     "output_type": "stream",
     "text": [
      "0.005879715651766843\n"
     ]
    },
    {
     "name": "stderr",
     "output_type": "stream",
     "text": [
      " 30%|█████▋             | 594/2000 [00:45<01:15, 18.62it/s, Energy=-33.708-0.000j ± 0.020 [σ²=0.005]]"
     ]
    },
    {
     "name": "stdout",
     "output_type": "stream",
     "text": [
      "0.0075943237688012545\n"
     ]
    },
    {
     "name": "stderr",
     "output_type": "stream",
     "text": [
      " 30%|█████▋             | 604/2000 [00:46<01:19, 17.66it/s, Energy=-33.713+0.001j ± 0.013 [σ²=0.005]]"
     ]
    },
    {
     "name": "stdout",
     "output_type": "stream",
     "text": [
      "0.005022577078729491\n"
     ]
    },
    {
     "name": "stderr",
     "output_type": "stream",
     "text": [
      " 31%|█████▊             | 614/2000 [00:46<01:15, 18.35it/s, Energy=-33.708-0.000j ± 0.026 [σ²=0.005]]"
     ]
    },
    {
     "name": "stdout",
     "output_type": "stream",
     "text": [
      "0.005231438367647271\n"
     ]
    },
    {
     "name": "stderr",
     "output_type": "stream",
     "text": [
      " 31%|█████▉             | 624/2000 [00:47<01:16, 18.08it/s, Energy=-33.711+0.000j ± 0.032 [σ²=0.004]]"
     ]
    },
    {
     "name": "stdout",
     "output_type": "stream",
     "text": [
      "0.006801205126078682\n"
     ]
    },
    {
     "name": "stderr",
     "output_type": "stream",
     "text": [
      " 32%|██████             | 634/2000 [00:47<01:18, 17.38it/s, Energy=-33.710-0.001j ± 0.016 [σ²=0.004]]"
     ]
    },
    {
     "name": "stdout",
     "output_type": "stream",
     "text": [
      "0.0052110240529251615\n"
     ]
    },
    {
     "name": "stderr",
     "output_type": "stream",
     "text": [
      " 32%|██████             | 644/2000 [00:48<01:14, 18.18it/s, Energy=-33.711-0.000j ± 0.026 [σ²=0.004]]"
     ]
    },
    {
     "name": "stdout",
     "output_type": "stream",
     "text": [
      "0.004308892037927179\n"
     ]
    },
    {
     "name": "stderr",
     "output_type": "stream",
     "text": [
      " 33%|██████▏            | 654/2000 [00:48<01:14, 18.17it/s, Energy=-33.708-0.000j ± 0.016 [σ²=0.004]]"
     ]
    },
    {
     "name": "stdout",
     "output_type": "stream",
     "text": [
      "0.004462893407286889\n"
     ]
    },
    {
     "name": "stderr",
     "output_type": "stream",
     "text": [
      " 33%|██████▎            | 664/2000 [00:49<01:16, 17.53it/s, Energy=-33.712+0.001j ± 0.018 [σ²=0.004]]"
     ]
    },
    {
     "name": "stdout",
     "output_type": "stream",
     "text": [
      "0.004953683655097171\n"
     ]
    },
    {
     "name": "stderr",
     "output_type": "stream",
     "text": [
      " 34%|██████▍            | 674/2000 [00:49<01:11, 18.61it/s, Energy=-33.709-0.001j ± 0.016 [σ²=0.004]]"
     ]
    },
    {
     "name": "stdout",
     "output_type": "stream",
     "text": [
      "0.006143662970130558\n"
     ]
    },
    {
     "name": "stderr",
     "output_type": "stream",
     "text": [
      " 34%|██████▍            | 684/2000 [00:50<01:10, 18.76it/s, Energy=-33.711+0.001j ± 0.013 [σ²=0.004]]"
     ]
    },
    {
     "name": "stdout",
     "output_type": "stream",
     "text": [
      "0.006813807348556659\n"
     ]
    },
    {
     "name": "stderr",
     "output_type": "stream",
     "text": [
      " 35%|██████▌            | 694/2000 [00:51<01:14, 17.54it/s, Energy=-33.709+0.001j ± 0.015 [σ²=0.004]]"
     ]
    },
    {
     "name": "stdout",
     "output_type": "stream",
     "text": [
      "0.004829975142144687\n"
     ]
    },
    {
     "name": "stderr",
     "output_type": "stream",
     "text": [
      " 35%|██████▋            | 704/2000 [00:51<01:10, 18.29it/s, Energy=-33.711+0.000j ± 0.023 [σ²=0.003]]"
     ]
    },
    {
     "name": "stdout",
     "output_type": "stream",
     "text": [
      "0.006172347426855571\n"
     ]
    },
    {
     "name": "stderr",
     "output_type": "stream",
     "text": [
      " 36%|██████▊            | 714/2000 [00:52<01:11, 18.09it/s, Energy=-33.712+0.000j ± 0.020 [σ²=0.004]]"
     ]
    },
    {
     "name": "stdout",
     "output_type": "stream",
     "text": [
      "0.006506042198697074\n"
     ]
    },
    {
     "name": "stderr",
     "output_type": "stream",
     "text": [
      " 36%|██████▉            | 724/2000 [00:52<01:14, 17.21it/s, Energy=-33.713+0.001j ± 0.036 [σ²=0.004]]"
     ]
    },
    {
     "name": "stdout",
     "output_type": "stream",
     "text": [
      "0.006533998598678208\n"
     ]
    },
    {
     "name": "stderr",
     "output_type": "stream",
     "text": [
      " 37%|██████▉            | 734/2000 [00:53<01:09, 18.14it/s, Energy=-33.708+0.001j ± 0.020 [σ²=0.004]]"
     ]
    },
    {
     "name": "stdout",
     "output_type": "stream",
     "text": [
      "0.004878997626904753\n"
     ]
    },
    {
     "name": "stderr",
     "output_type": "stream",
     "text": [
      " 37%|███████            | 744/2000 [00:53<01:10, 17.83it/s, Energy=-33.712+0.000j ± 0.026 [σ²=0.003]]"
     ]
    },
    {
     "name": "stdout",
     "output_type": "stream",
     "text": [
      "0.00741620540386816\n"
     ]
    },
    {
     "name": "stderr",
     "output_type": "stream",
     "text": [
      " 38%|███████▏           | 754/2000 [00:54<01:12, 17.16it/s, Energy=-33.710-0.001j ± 0.014 [σ²=0.004]]"
     ]
    },
    {
     "name": "stdout",
     "output_type": "stream",
     "text": [
      "0.006368252523875999\n"
     ]
    },
    {
     "name": "stderr",
     "output_type": "stream",
     "text": [
      " 38%|███▊      | 764/2000 [00:54<01:07, 18.33it/s, Energy=-3.371e+01-9.723e-04j ± nan [σ²=3.497e-03]]"
     ]
    },
    {
     "name": "stdout",
     "output_type": "stream",
     "text": [
      "0.006602213728133992\n"
     ]
    },
    {
     "name": "stderr",
     "output_type": "stream",
     "text": [
      " 39%|███████▎           | 774/2000 [00:55<01:06, 18.44it/s, Energy=-33.711-0.000j ± 0.013 [σ²=0.003]]"
     ]
    },
    {
     "name": "stdout",
     "output_type": "stream",
     "text": [
      "0.005323129264576578\n"
     ]
    },
    {
     "name": "stderr",
     "output_type": "stream",
     "text": [
      " 39%|███████▍           | 784/2000 [00:55<01:09, 17.62it/s, Energy=-33.710-0.000j ± 0.015 [σ²=0.003]]"
     ]
    },
    {
     "name": "stdout",
     "output_type": "stream",
     "text": [
      "0.00697614763322331\n"
     ]
    },
    {
     "name": "stderr",
     "output_type": "stream",
     "text": [
      " 40%|███████▌           | 794/2000 [00:56<01:04, 18.65it/s, Energy=-33.711+0.000j ± 0.019 [σ²=0.004]]"
     ]
    },
    {
     "name": "stdout",
     "output_type": "stream",
     "text": [
      "0.005572566920176752\n"
     ]
    },
    {
     "name": "stderr",
     "output_type": "stream",
     "text": [
      " 40%|████      | 804/2000 [00:57<01:04, 18.56it/s, Energy=-3.371e+01+7.761e-04j ± nan [σ²=3.432e-03]]"
     ]
    },
    {
     "name": "stdout",
     "output_type": "stream",
     "text": [
      "0.007203487488503657\n"
     ]
    },
    {
     "name": "stderr",
     "output_type": "stream",
     "text": [
      " 41%|███████▋           | 814/2000 [00:57<01:07, 17.48it/s, Energy=-33.711+0.001j ± 0.019 [σ²=0.003]]"
     ]
    },
    {
     "name": "stdout",
     "output_type": "stream",
     "text": [
      "0.004229868227148726\n"
     ]
    },
    {
     "name": "stderr",
     "output_type": "stream",
     "text": [
      " 41%|███████▊           | 824/2000 [00:58<01:05, 18.07it/s, Energy=-33.710+0.000j ± 0.013 [σ²=0.003]]"
     ]
    },
    {
     "name": "stdout",
     "output_type": "stream",
     "text": [
      "0.009301793085302844\n"
     ]
    },
    {
     "name": "stderr",
     "output_type": "stream",
     "text": [
      " 42%|███████▉           | 834/2000 [00:58<01:04, 18.01it/s, Energy=-33.710+0.001j ± 0.017 [σ²=0.004]]"
     ]
    },
    {
     "name": "stdout",
     "output_type": "stream",
     "text": [
      "0.00417848335051885\n"
     ]
    },
    {
     "name": "stderr",
     "output_type": "stream",
     "text": [
      " 42%|████████           | 844/2000 [00:59<01:07, 17.13it/s, Energy=-33.712-0.001j ± 0.013 [σ²=0.003]]"
     ]
    },
    {
     "name": "stdout",
     "output_type": "stream",
     "text": [
      "0.004122639027359973\n"
     ]
    },
    {
     "name": "stderr",
     "output_type": "stream",
     "text": [
      " 43%|████▎     | 854/2000 [00:59<01:02, 18.27it/s, Energy=-3.371e+01-6.797e-04j ± nan [σ²=3.067e-03]]"
     ]
    },
    {
     "name": "stdout",
     "output_type": "stream",
     "text": [
      "0.004619483549798436\n"
     ]
    },
    {
     "name": "stderr",
     "output_type": "stream",
     "text": [
      " 43%|████████▏          | 864/2000 [01:00<01:02, 18.12it/s, Energy=-33.709+0.000j ± 0.017 [σ²=0.003]]"
     ]
    },
    {
     "name": "stdout",
     "output_type": "stream",
     "text": [
      "0.008145574218612619\n"
     ]
    },
    {
     "name": "stderr",
     "output_type": "stream",
     "text": [
      " 44%|████████▎          | 874/2000 [01:00<01:04, 17.50it/s, Energy=-33.709-0.000j ± 0.019 [σ²=0.003]]"
     ]
    },
    {
     "name": "stdout",
     "output_type": "stream",
     "text": [
      "0.008342543603182938\n"
     ]
    },
    {
     "name": "stderr",
     "output_type": "stream",
     "text": [
      " 44%|████████▍          | 884/2000 [01:01<01:00, 18.55it/s, Energy=-33.710-0.000j ± 0.019 [σ²=0.003]]"
     ]
    },
    {
     "name": "stdout",
     "output_type": "stream",
     "text": [
      "0.005558952771874601\n"
     ]
    },
    {
     "name": "stderr",
     "output_type": "stream",
     "text": [
      " 45%|████████▍          | 894/2000 [01:01<00:59, 18.52it/s, Energy=-33.711-0.000j ± 0.016 [σ²=0.003]]"
     ]
    },
    {
     "name": "stdout",
     "output_type": "stream",
     "text": [
      "0.008141527081360879\n"
     ]
    },
    {
     "name": "stderr",
     "output_type": "stream",
     "text": [
      " 45%|████████▌          | 904/2000 [01:02<01:02, 17.62it/s, Energy=-33.710-0.000j ± 0.018 [σ²=0.003]]"
     ]
    },
    {
     "name": "stdout",
     "output_type": "stream",
     "text": [
      "0.00461834348821189\n"
     ]
    },
    {
     "name": "stderr",
     "output_type": "stream",
     "text": [
      " 46%|████████▋          | 914/2000 [01:03<00:59, 18.38it/s, Energy=-33.710-0.000j ± 0.016 [σ²=0.003]]"
     ]
    },
    {
     "name": "stdout",
     "output_type": "stream",
     "text": [
      "0.004511023113136888\n"
     ]
    },
    {
     "name": "stderr",
     "output_type": "stream",
     "text": [
      " 46%|████████▊          | 924/2000 [01:03<00:59, 17.99it/s, Energy=-33.710-0.000j ± 0.013 [σ²=0.003]]"
     ]
    },
    {
     "name": "stdout",
     "output_type": "stream",
     "text": [
      "0.009103913209324348\n"
     ]
    },
    {
     "name": "stderr",
     "output_type": "stream",
     "text": [
      " 47%|████████▊          | 934/2000 [01:04<01:01, 17.21it/s, Energy=-33.712-0.001j ± 0.015 [σ²=0.003]]"
     ]
    },
    {
     "name": "stdout",
     "output_type": "stream",
     "text": [
      "0.003784456538486594\n"
     ]
    },
    {
     "name": "stderr",
     "output_type": "stream",
     "text": [
      " 47%|████████▉          | 944/2000 [01:04<00:57, 18.21it/s, Energy=-33.710+0.001j ± 0.013 [σ²=0.003]]"
     ]
    },
    {
     "name": "stdout",
     "output_type": "stream",
     "text": [
      "0.01084639594067313\n"
     ]
    },
    {
     "name": "stderr",
     "output_type": "stream",
     "text": [
      " 48%|█████████          | 954/2000 [01:05<00:57, 18.11it/s, Energy=-33.710+0.000j ± 0.021 [σ²=0.003]]"
     ]
    },
    {
     "name": "stdout",
     "output_type": "stream",
     "text": [
      "0.004173613143145865\n"
     ]
    },
    {
     "name": "stderr",
     "output_type": "stream",
     "text": [
      " 48%|█████████▏         | 964/2000 [01:05<01:00, 17.00it/s, Energy=-33.709+0.000j ± 0.018 [σ²=0.003]]"
     ]
    },
    {
     "name": "stdout",
     "output_type": "stream",
     "text": [
      "0.011691254607665914\n"
     ]
    },
    {
     "name": "stderr",
     "output_type": "stream",
     "text": [
      " 49%|█████████▎         | 974/2000 [01:06<00:56, 18.06it/s, Energy=-33.711-0.000j ± 0.011 [σ²=0.003]]"
     ]
    },
    {
     "name": "stdout",
     "output_type": "stream",
     "text": [
      "0.004718937641227218\n"
     ]
    },
    {
     "name": "stderr",
     "output_type": "stream",
     "text": [
      " 49%|█████████▎         | 984/2000 [01:06<00:56, 17.97it/s, Energy=-33.710+0.000j ± 0.017 [σ²=0.003]]"
     ]
    },
    {
     "name": "stdout",
     "output_type": "stream",
     "text": [
      "0.004151235705327684\n"
     ]
    },
    {
     "name": "stderr",
     "output_type": "stream",
     "text": [
      " 50%|█████████▍         | 994/2000 [01:07<00:58, 17.17it/s, Energy=-33.709-0.001j ± 0.013 [σ²=0.003]]"
     ]
    },
    {
     "name": "stdout",
     "output_type": "stream",
     "text": [
      "0.008068118219411176\n"
     ]
    },
    {
     "name": "stderr",
     "output_type": "stream",
     "text": [
      " 50%|█████████         | 1004/2000 [01:07<00:54, 18.39it/s, Energy=-33.709-0.000j ± 0.011 [σ²=0.003]]"
     ]
    },
    {
     "name": "stdout",
     "output_type": "stream",
     "text": [
      "0.004522078196018619\n"
     ]
    },
    {
     "name": "stderr",
     "output_type": "stream",
     "text": [
      " 51%|█████████▏        | 1014/2000 [01:08<00:53, 18.45it/s, Energy=-33.711-0.000j ± 0.024 [σ²=0.002]]"
     ]
    },
    {
     "name": "stdout",
     "output_type": "stream",
     "text": [
      "0.00491439746709576\n"
     ]
    },
    {
     "name": "stderr",
     "output_type": "stream",
     "text": [
      " 51%|█████████▏        | 1024/2000 [01:09<00:55, 17.59it/s, Energy=-33.710+0.000j ± 0.012 [σ²=0.003]]"
     ]
    },
    {
     "name": "stdout",
     "output_type": "stream",
     "text": [
      "0.004494120702160639\n"
     ]
    },
    {
     "name": "stderr",
     "output_type": "stream",
     "text": [
      " 52%|█████████▎        | 1034/2000 [01:09<00:51, 18.62it/s, Energy=-33.710+0.000j ± 0.010 [σ²=0.003]]"
     ]
    },
    {
     "name": "stdout",
     "output_type": "stream",
     "text": [
      "0.013506549822501851\n"
     ]
    },
    {
     "name": "stderr",
     "output_type": "stream",
     "text": [
      " 52%|█████████▍        | 1044/2000 [01:10<00:51, 18.56it/s, Energy=-33.712+0.001j ± 0.019 [σ²=0.003]]"
     ]
    },
    {
     "name": "stdout",
     "output_type": "stream",
     "text": [
      "0.004770849721212643\n"
     ]
    },
    {
     "name": "stderr",
     "output_type": "stream",
     "text": [
      " 53%|█████████▍        | 1054/2000 [01:10<00:54, 17.49it/s, Energy=-33.710-0.000j ± 0.013 [σ²=0.003]]"
     ]
    },
    {
     "name": "stdout",
     "output_type": "stream",
     "text": [
      "0.0038671446285293374\n"
     ]
    },
    {
     "name": "stderr",
     "output_type": "stream",
     "text": [
      " 53%|█████████▌        | 1064/2000 [01:11<00:51, 18.14it/s, Energy=-33.711-0.001j ± 0.012 [σ²=0.002]]"
     ]
    },
    {
     "name": "stdout",
     "output_type": "stream",
     "text": [
      "0.004188809210127743\n"
     ]
    },
    {
     "name": "stderr",
     "output_type": "stream",
     "text": [
      " 54%|█████████▋        | 1074/2000 [01:11<00:50, 18.16it/s, Energy=-33.711-0.000j ± 0.011 [σ²=0.003]]"
     ]
    },
    {
     "name": "stdout",
     "output_type": "stream",
     "text": [
      "0.004670225929133514\n"
     ]
    },
    {
     "name": "stderr",
     "output_type": "stream",
     "text": [
      " 54%|█████████▊        | 1084/2000 [01:12<00:52, 17.31it/s, Energy=-33.711-0.001j ± 0.017 [σ²=0.002]]"
     ]
    },
    {
     "name": "stdout",
     "output_type": "stream",
     "text": [
      "0.004754458384131229\n"
     ]
    },
    {
     "name": "stderr",
     "output_type": "stream",
     "text": [
      " 55%|█████████▊        | 1094/2000 [01:12<00:48, 18.57it/s, Energy=-33.711+0.000j ± 0.017 [σ²=0.002]]"
     ]
    },
    {
     "name": "stdout",
     "output_type": "stream",
     "text": [
      "0.0036768075511995064\n"
     ]
    },
    {
     "name": "stderr",
     "output_type": "stream",
     "text": [
      " 55%|█████████▉        | 1104/2000 [01:13<00:48, 18.51it/s, Energy=-33.709-0.000j ± 0.017 [σ²=0.002]]"
     ]
    },
    {
     "name": "stdout",
     "output_type": "stream",
     "text": [
      "0.012625673577049551\n"
     ]
    },
    {
     "name": "stderr",
     "output_type": "stream",
     "text": [
      " 56%|██████████        | 1114/2000 [01:13<00:50, 17.67it/s, Energy=-33.712-0.000j ± 0.014 [σ²=0.002]]"
     ]
    },
    {
     "name": "stdout",
     "output_type": "stream",
     "text": [
      "0.004765707495995712\n"
     ]
    },
    {
     "name": "stderr",
     "output_type": "stream",
     "text": [
      " 56%|██████████        | 1124/2000 [01:14<00:47, 18.38it/s, Energy=-33.709-0.000j ± 0.014 [σ²=0.002]]"
     ]
    },
    {
     "name": "stdout",
     "output_type": "stream",
     "text": [
      "0.0052844599706628\n"
     ]
    },
    {
     "name": "stderr",
     "output_type": "stream",
     "text": [
      " 57%|██████████▏       | 1134/2000 [01:14<00:47, 18.16it/s, Energy=-33.709+0.000j ± 0.016 [σ²=0.002]]"
     ]
    },
    {
     "name": "stdout",
     "output_type": "stream",
     "text": [
      "0.003600767499859478\n"
     ]
    },
    {
     "name": "stderr",
     "output_type": "stream",
     "text": [
      " 57%|██████████▎       | 1144/2000 [01:15<00:50, 16.97it/s, Energy=-33.711+0.001j ± 0.016 [σ²=0.003]]"
     ]
    },
    {
     "name": "stdout",
     "output_type": "stream",
     "text": [
      "0.005078425556897577\n"
     ]
    },
    {
     "name": "stderr",
     "output_type": "stream",
     "text": [
      " 58%|██████████▍       | 1154/2000 [01:16<00:47, 17.72it/s, Energy=-33.709+0.000j ± 0.012 [σ²=0.003]]"
     ]
    },
    {
     "name": "stdout",
     "output_type": "stream",
     "text": [
      "0.013454120668535905\n"
     ]
    },
    {
     "name": "stderr",
     "output_type": "stream",
     "text": [
      " 58%|██████████▍       | 1164/2000 [01:16<00:49, 17.02it/s, Energy=-33.709-0.000j ± 0.011 [σ²=0.002]]"
     ]
    },
    {
     "name": "stdout",
     "output_type": "stream",
     "text": [
      "0.003610729456173157\n"
     ]
    },
    {
     "name": "stderr",
     "output_type": "stream",
     "text": [
      " 59%|██████████▌       | 1174/2000 [01:17<00:45, 18.07it/s, Energy=-33.710-0.001j ± 0.023 [σ²=0.002]]"
     ]
    },
    {
     "name": "stdout",
     "output_type": "stream",
     "text": [
      "0.007339661277786968\n"
     ]
    },
    {
     "name": "stderr",
     "output_type": "stream",
     "text": [
      " 59%|██████████▋       | 1184/2000 [01:17<00:45, 18.04it/s, Energy=-33.710+0.001j ± 0.019 [σ²=0.003]]"
     ]
    },
    {
     "name": "stdout",
     "output_type": "stream",
     "text": [
      "0.0041732389824733805\n"
     ]
    },
    {
     "name": "stderr",
     "output_type": "stream",
     "text": [
      " 60%|██████████▋       | 1194/2000 [01:18<00:46, 17.18it/s, Energy=-33.710+0.000j ± 0.011 [σ²=0.002]]"
     ]
    },
    {
     "name": "stdout",
     "output_type": "stream",
     "text": [
      "0.008631391406807761\n"
     ]
    },
    {
     "name": "stderr",
     "output_type": "stream",
     "text": [
      " 60%|██████████▊       | 1204/2000 [01:18<00:44, 17.93it/s, Energy=-33.709+0.000j ± 0.012 [σ²=0.002]]"
     ]
    },
    {
     "name": "stdout",
     "output_type": "stream",
     "text": [
      "0.004060310377004012\n"
     ]
    },
    {
     "name": "stderr",
     "output_type": "stream",
     "text": [
      " 61%|██████████▉       | 1214/2000 [01:19<00:44, 17.80it/s, Energy=-33.710-0.000j ± 0.012 [σ²=0.003]]"
     ]
    },
    {
     "name": "stdout",
     "output_type": "stream",
     "text": [
      "0.0030631188650587656\n"
     ]
    },
    {
     "name": "stderr",
     "output_type": "stream",
     "text": [
      " 61%|███████████       | 1224/2000 [01:19<00:45, 17.00it/s, Energy=-33.711-0.000j ± 0.014 [σ²=0.002]]"
     ]
    },
    {
     "name": "stdout",
     "output_type": "stream",
     "text": [
      "0.004047114433146736\n"
     ]
    },
    {
     "name": "stderr",
     "output_type": "stream",
     "text": [
      " 62%|███████████       | 1234/2000 [01:20<00:42, 18.11it/s, Energy=-33.710-0.000j ± 0.013 [σ²=0.002]]"
     ]
    },
    {
     "name": "stdout",
     "output_type": "stream",
     "text": [
      "0.005810301349110122\n"
     ]
    },
    {
     "name": "stderr",
     "output_type": "stream",
     "text": [
      " 62%|███████████▏      | 1244/2000 [01:21<00:41, 18.03it/s, Energy=-33.712+0.001j ± 0.024 [σ²=0.003]]"
     ]
    },
    {
     "name": "stdout",
     "output_type": "stream",
     "text": [
      "0.0067882993881755015\n"
     ]
    },
    {
     "name": "stderr",
     "output_type": "stream",
     "text": [
      " 63%|███████████▎      | 1254/2000 [01:21<00:43, 17.16it/s, Energy=-33.711+0.000j ± 0.015 [σ²=0.002]]"
     ]
    },
    {
     "name": "stdout",
     "output_type": "stream",
     "text": [
      "0.012110705849971573\n"
     ]
    },
    {
     "name": "stderr",
     "output_type": "stream",
     "text": [
      " 63%|███████████▍      | 1264/2000 [01:22<00:41, 17.71it/s, Energy=-33.711-0.000j ± 0.014 [σ²=0.002]]"
     ]
    },
    {
     "name": "stdout",
     "output_type": "stream",
     "text": [
      "0.009229909176202188\n"
     ]
    },
    {
     "name": "stderr",
     "output_type": "stream",
     "text": [
      " 64%|███████████▍      | 1274/2000 [01:22<00:42, 17.05it/s, Energy=-33.710+0.000j ± 0.012 [σ²=0.002]]"
     ]
    },
    {
     "name": "stdout",
     "output_type": "stream",
     "text": [
      "0.004047645804719065\n"
     ]
    },
    {
     "name": "stderr",
     "output_type": "stream",
     "text": [
      " 64%|███████████▌      | 1284/2000 [01:23<00:39, 18.05it/s, Energy=-33.711+0.000j ± 0.013 [σ²=0.003]]"
     ]
    },
    {
     "name": "stdout",
     "output_type": "stream",
     "text": [
      "0.003957536541007652\n"
     ]
    },
    {
     "name": "stderr",
     "output_type": "stream",
     "text": [
      " 65%|███████████▋      | 1294/2000 [01:23<00:39, 18.09it/s, Energy=-33.711+0.001j ± 0.016 [σ²=0.002]]"
     ]
    },
    {
     "name": "stdout",
     "output_type": "stream",
     "text": [
      "0.003995837587260557\n"
     ]
    },
    {
     "name": "stderr",
     "output_type": "stream",
     "text": [
      " 65%|███████████▋      | 1304/2000 [01:24<00:40, 16.98it/s, Energy=-33.710-0.001j ± 0.022 [σ²=0.002]]"
     ]
    },
    {
     "name": "stdout",
     "output_type": "stream",
     "text": [
      "0.003204725850105884\n"
     ]
    },
    {
     "name": "stderr",
     "output_type": "stream",
     "text": [
      " 66%|███████████▊      | 1314/2000 [01:24<00:37, 18.09it/s, Energy=-33.712-0.001j ± 0.013 [σ²=0.002]]"
     ]
    },
    {
     "name": "stdout",
     "output_type": "stream",
     "text": [
      "0.010406682966671361\n"
     ]
    },
    {
     "name": "stderr",
     "output_type": "stream",
     "text": [
      " 66%|███████████▉      | 1324/2000 [01:25<00:37, 18.03it/s, Energy=-33.710+0.000j ± 0.011 [σ²=0.002]]"
     ]
    },
    {
     "name": "stdout",
     "output_type": "stream",
     "text": [
      "0.0038760104193282714\n"
     ]
    },
    {
     "name": "stderr",
     "output_type": "stream",
     "text": [
      " 67%|█████████▎    | 1334/2000 [01:25<00:38, 17.38it/s, Energy=-33.7103-0.0002j ± 0.0084 [σ²=0.0024]]"
     ]
    },
    {
     "name": "stdout",
     "output_type": "stream",
     "text": [
      "0.005763130941167046\n"
     ]
    },
    {
     "name": "stderr",
     "output_type": "stream",
     "text": [
      " 67%|████████████      | 1344/2000 [01:26<00:35, 18.49it/s, Energy=-33.711+0.000j ± 0.018 [σ²=0.002]]"
     ]
    },
    {
     "name": "stdout",
     "output_type": "stream",
     "text": [
      "0.0030111476009615037\n"
     ]
    },
    {
     "name": "stderr",
     "output_type": "stream",
     "text": [
      " 68%|████████████▏     | 1354/2000 [01:27<00:35, 18.41it/s, Energy=-33.711+0.000j ± 0.018 [σ²=0.002]]"
     ]
    },
    {
     "name": "stdout",
     "output_type": "stream",
     "text": [
      "0.0039197887245799425\n"
     ]
    },
    {
     "name": "stderr",
     "output_type": "stream",
     "text": [
      " 68%|████████████▎     | 1364/2000 [01:27<00:36, 17.56it/s, Energy=-33.710+0.000j ± 0.012 [σ²=0.002]]"
     ]
    },
    {
     "name": "stdout",
     "output_type": "stream",
     "text": [
      "0.008028711076237342\n"
     ]
    },
    {
     "name": "stderr",
     "output_type": "stream",
     "text": [
      " 69%|████████████▎     | 1374/2000 [01:28<00:34, 18.31it/s, Energy=-33.711+0.000j ± 0.018 [σ²=0.002]]"
     ]
    },
    {
     "name": "stdout",
     "output_type": "stream",
     "text": [
      "0.006210578218205281\n"
     ]
    },
    {
     "name": "stderr",
     "output_type": "stream",
     "text": [
      " 69%|████████████▍     | 1384/2000 [01:28<00:33, 18.48it/s, Energy=-33.712-0.000j ± 0.012 [σ²=0.002]]"
     ]
    },
    {
     "name": "stdout",
     "output_type": "stream",
     "text": [
      "0.002895287317991325\n"
     ]
    },
    {
     "name": "stderr",
     "output_type": "stream",
     "text": [
      " 70%|████████████▌     | 1394/2000 [01:29<00:34, 17.68it/s, Energy=-33.711+0.000j ± 0.015 [σ²=0.002]]"
     ]
    },
    {
     "name": "stdout",
     "output_type": "stream",
     "text": [
      "0.0040158918275083125\n"
     ]
    },
    {
     "name": "stderr",
     "output_type": "stream",
     "text": [
      " 70%|████████████▋     | 1404/2000 [01:29<00:31, 18.68it/s, Energy=-33.710-0.000j ± 0.022 [σ²=0.002]]"
     ]
    },
    {
     "name": "stdout",
     "output_type": "stream",
     "text": [
      "0.012272314393615582\n"
     ]
    },
    {
     "name": "stderr",
     "output_type": "stream",
     "text": [
      " 71%|████████████▋     | 1414/2000 [01:30<00:32, 18.31it/s, Energy=-33.710-0.000j ± 0.016 [σ²=0.002]]"
     ]
    },
    {
     "name": "stdout",
     "output_type": "stream",
     "text": [
      "0.010630973112273144\n"
     ]
    },
    {
     "name": "stderr",
     "output_type": "stream",
     "text": [
      " 71%|████████████▊     | 1424/2000 [01:30<00:33, 17.16it/s, Energy=-33.711+0.000j ± 0.018 [σ²=0.002]]"
     ]
    },
    {
     "name": "stdout",
     "output_type": "stream",
     "text": [
      "0.005316573098387063\n"
     ]
    },
    {
     "name": "stderr",
     "output_type": "stream",
     "text": [
      " 72%|██████████    | 1434/2000 [01:31<00:31, 17.94it/s, Energy=-33.7098-0.0004j ± 0.0094 [σ²=0.0019]]"
     ]
    },
    {
     "name": "stdout",
     "output_type": "stream",
     "text": [
      "0.012420620464802181\n"
     ]
    },
    {
     "name": "stderr",
     "output_type": "stream",
     "text": [
      " 72%|████████████▉     | 1444/2000 [01:31<00:30, 18.00it/s, Energy=-33.712+0.001j ± 0.021 [σ²=0.002]]"
     ]
    },
    {
     "name": "stdout",
     "output_type": "stream",
     "text": [
      "0.015242996254667077\n"
     ]
    },
    {
     "name": "stderr",
     "output_type": "stream",
     "text": [
      " 73%|█████████████     | 1454/2000 [01:32<00:31, 17.13it/s, Energy=-33.712+0.001j ± 0.015 [σ²=0.002]]"
     ]
    },
    {
     "name": "stdout",
     "output_type": "stream",
     "text": [
      "0.00440756368845927\n"
     ]
    },
    {
     "name": "stderr",
     "output_type": "stream",
     "text": [
      " 73%|█████████████▏    | 1464/2000 [01:33<00:29, 18.11it/s, Energy=-33.711-0.000j ± 0.018 [σ²=0.002]]"
     ]
    },
    {
     "name": "stdout",
     "output_type": "stream",
     "text": [
      "0.007031091359689286\n"
     ]
    },
    {
     "name": "stderr",
     "output_type": "stream",
     "text": [
      " 74%|█████████████▎    | 1474/2000 [01:33<00:29, 18.10it/s, Energy=-33.709+0.000j ± 0.013 [σ²=0.002]]"
     ]
    },
    {
     "name": "stdout",
     "output_type": "stream",
     "text": [
      "0.0033389169682447846\n"
     ]
    },
    {
     "name": "stderr",
     "output_type": "stream",
     "text": [
      " 74%|█████████████▎    | 1484/2000 [01:34<00:30, 16.97it/s, Energy=-33.710-0.000j ± 0.017 [σ²=0.002]]"
     ]
    },
    {
     "name": "stdout",
     "output_type": "stream",
     "text": [
      "0.0062671384207311455\n"
     ]
    },
    {
     "name": "stderr",
     "output_type": "stream",
     "text": [
      " 75%|█████████████▍    | 1494/2000 [01:34<00:27, 18.08it/s, Energy=-33.712-0.000j ± 0.015 [σ²=0.002]]"
     ]
    },
    {
     "name": "stdout",
     "output_type": "stream",
     "text": [
      "0.0134070999893985\n"
     ]
    },
    {
     "name": "stderr",
     "output_type": "stream",
     "text": [
      " 75%|█████████████▌    | 1504/2000 [01:35<00:27, 18.03it/s, Energy=-33.711+0.001j ± 0.015 [σ²=0.002]]"
     ]
    },
    {
     "name": "stdout",
     "output_type": "stream",
     "text": [
      "0.01400795277543914\n"
     ]
    },
    {
     "name": "stderr",
     "output_type": "stream",
     "text": [
      " 76%|█████████████▋    | 1514/2000 [01:35<00:28, 17.24it/s, Energy=-33.711+0.000j ± 0.015 [σ²=0.002]]"
     ]
    },
    {
     "name": "stdout",
     "output_type": "stream",
     "text": [
      "0.018548051730317122\n"
     ]
    },
    {
     "name": "stderr",
     "output_type": "stream",
     "text": [
      " 76%|█████████████▋    | 1524/2000 [01:36<00:26, 18.24it/s, Energy=-33.710+0.000j ± 0.011 [σ²=0.002]]"
     ]
    },
    {
     "name": "stdout",
     "output_type": "stream",
     "text": [
      "0.0039607939916052595\n"
     ]
    },
    {
     "name": "stderr",
     "output_type": "stream",
     "text": [
      " 77%|█████████████▊    | 1534/2000 [01:36<00:25, 18.43it/s, Energy=-33.709+0.000j ± 0.011 [σ²=0.002]]"
     ]
    },
    {
     "name": "stdout",
     "output_type": "stream",
     "text": [
      "0.0033328804912755934\n"
     ]
    },
    {
     "name": "stderr",
     "output_type": "stream",
     "text": [
      " 77%|██████████▊   | 1544/2000 [01:37<00:25, 17.60it/s, Energy=-33.7112-0.0003j ± 0.0094 [σ²=0.0021]]"
     ]
    },
    {
     "name": "stdout",
     "output_type": "stream",
     "text": [
      "0.003789216758398008\n"
     ]
    },
    {
     "name": "stderr",
     "output_type": "stream",
     "text": [
      " 78%|█████████████▉    | 1554/2000 [01:37<00:23, 18.61it/s, Energy=-33.710-0.001j ± 0.013 [σ²=0.002]]"
     ]
    },
    {
     "name": "stdout",
     "output_type": "stream",
     "text": [
      "0.003709995405753072\n"
     ]
    },
    {
     "name": "stderr",
     "output_type": "stream",
     "text": [
      " 78%|██████████████    | 1564/2000 [01:38<00:23, 18.33it/s, Energy=-33.711+0.000j ± 0.011 [σ²=0.002]]"
     ]
    },
    {
     "name": "stdout",
     "output_type": "stream",
     "text": [
      "0.008133302053866611\n"
     ]
    },
    {
     "name": "stderr",
     "output_type": "stream",
     "text": [
      " 79%|██████████████▏   | 1574/2000 [01:39<00:24, 17.18it/s, Energy=-33.710+0.001j ± 0.013 [σ²=0.002]]"
     ]
    },
    {
     "name": "stdout",
     "output_type": "stream",
     "text": [
      "0.003970294025373634\n"
     ]
    },
    {
     "name": "stderr",
     "output_type": "stream",
     "text": [
      " 79%|██████████████▎   | 1584/2000 [01:39<00:22, 18.37it/s, Energy=-33.711+0.001j ± 0.013 [σ²=0.002]]"
     ]
    },
    {
     "name": "stdout",
     "output_type": "stream",
     "text": [
      "0.003773506080184321\n"
     ]
    },
    {
     "name": "stderr",
     "output_type": "stream",
     "text": [
      " 80%|██████████████▎   | 1594/2000 [01:40<00:22, 18.40it/s, Energy=-33.710-0.000j ± 0.011 [σ²=0.002]]"
     ]
    },
    {
     "name": "stdout",
     "output_type": "stream",
     "text": [
      "0.003851108245494712\n"
     ]
    },
    {
     "name": "stderr",
     "output_type": "stream",
     "text": [
      " 80%|██████████████▍   | 1604/2000 [01:40<00:22, 17.49it/s, Energy=-33.711-0.001j ± 0.011 [σ²=0.002]]"
     ]
    },
    {
     "name": "stdout",
     "output_type": "stream",
     "text": [
      "0.0034869611501684764\n"
     ]
    },
    {
     "name": "stderr",
     "output_type": "stream",
     "text": [
      " 81%|██████████████▌   | 1614/2000 [01:41<00:20, 18.54it/s, Energy=-33.711+0.000j ± 0.013 [σ²=0.002]]"
     ]
    },
    {
     "name": "stdout",
     "output_type": "stream",
     "text": [
      "0.008942053570616776\n"
     ]
    },
    {
     "name": "stderr",
     "output_type": "stream",
     "text": [
      " 81%|███████████▎  | 1624/2000 [01:41<00:20, 18.48it/s, Energy=-33.7114-0.0008j ± 0.0089 [σ²=0.0019]]"
     ]
    },
    {
     "name": "stdout",
     "output_type": "stream",
     "text": [
      "0.0038494997748269016\n"
     ]
    },
    {
     "name": "stderr",
     "output_type": "stream",
     "text": [
      " 82%|██████████████▋   | 1634/2000 [01:42<00:20, 17.68it/s, Energy=-33.712-0.000j ± 0.016 [σ²=0.002]]"
     ]
    },
    {
     "name": "stdout",
     "output_type": "stream",
     "text": [
      "0.007547934027644876\n"
     ]
    },
    {
     "name": "stderr",
     "output_type": "stream",
     "text": [
      " 82%|██████████████▊   | 1644/2000 [01:42<00:19, 18.65it/s, Energy=-33.710+0.001j ± 0.014 [σ²=0.002]]"
     ]
    },
    {
     "name": "stdout",
     "output_type": "stream",
     "text": [
      "0.004464006054564322\n"
     ]
    },
    {
     "name": "stderr",
     "output_type": "stream",
     "text": [
      " 83%|██████████████▉   | 1654/2000 [01:43<00:18, 18.55it/s, Energy=-33.712+0.000j ± 0.012 [σ²=0.002]]"
     ]
    },
    {
     "name": "stdout",
     "output_type": "stream",
     "text": [
      "0.003412837159616687\n"
     ]
    },
    {
     "name": "stderr",
     "output_type": "stream",
     "text": [
      " 83%|███████████▋  | 1664/2000 [01:43<00:18, 17.80it/s, Energy=-33.7101+0.0002j ± 0.0100 [σ²=0.0019]]"
     ]
    },
    {
     "name": "stdout",
     "output_type": "stream",
     "text": [
      "0.01482547491340616\n"
     ]
    },
    {
     "name": "stderr",
     "output_type": "stream",
     "text": [
      " 84%|███████████████   | 1674/2000 [01:44<00:17, 18.39it/s, Energy=-33.711+0.000j ± 0.013 [σ²=0.002]]"
     ]
    },
    {
     "name": "stdout",
     "output_type": "stream",
     "text": [
      "0.0033660573906924237\n"
     ]
    },
    {
     "name": "stderr",
     "output_type": "stream",
     "text": [
      " 84%|███████████▊  | 1684/2000 [01:44<00:17, 18.01it/s, Energy=-33.7101-0.0005j ± 0.0099 [σ²=0.0019]]"
     ]
    },
    {
     "name": "stdout",
     "output_type": "stream",
     "text": [
      "0.003712247998362513\n"
     ]
    },
    {
     "name": "stderr",
     "output_type": "stream",
     "text": [
      " 85%|███████████████▏  | 1694/2000 [01:45<00:17, 17.08it/s, Energy=-33.712-0.000j ± 0.013 [σ²=0.002]]"
     ]
    },
    {
     "name": "stdout",
     "output_type": "stream",
     "text": [
      "0.0037902879307875757\n"
     ]
    },
    {
     "name": "stderr",
     "output_type": "stream",
     "text": [
      " 85%|███████████████▎  | 1704/2000 [01:46<00:16, 18.11it/s, Energy=-33.711-0.000j ± 0.014 [σ²=0.002]]"
     ]
    },
    {
     "name": "stdout",
     "output_type": "stream",
     "text": [
      "0.003897837209185491\n"
     ]
    },
    {
     "name": "stderr",
     "output_type": "stream",
     "text": [
      " 86%|███████▋ | 1714/2000 [01:46<00:15, 18.04it/s, Energy=-3.371e+01-2.457e-05j ± nan [σ²=1.985e-03]]"
     ]
    },
    {
     "name": "stdout",
     "output_type": "stream",
     "text": [
      "0.003940093613294019\n"
     ]
    },
    {
     "name": "stderr",
     "output_type": "stream",
     "text": [
      " 86%|███████████████▌  | 1724/2000 [01:47<00:16, 17.09it/s, Energy=-33.710-0.000j ± 0.021 [σ²=0.002]]"
     ]
    },
    {
     "name": "stdout",
     "output_type": "stream",
     "text": [
      "0.003809980861288109\n"
     ]
    },
    {
     "name": "stderr",
     "output_type": "stream",
     "text": [
      " 87%|████████████▏ | 1734/2000 [01:47<00:14, 17.91it/s, Energy=-33.7105+0.0005j ± 0.0082 [σ²=0.0022]]"
     ]
    },
    {
     "name": "stdout",
     "output_type": "stream",
     "text": [
      "0.006667898699524618\n"
     ]
    },
    {
     "name": "stderr",
     "output_type": "stream",
     "text": [
      " 87%|████████████▏ | 1744/2000 [01:48<00:14, 17.88it/s, Energy=-33.7090-0.0005j ± 0.0098 [σ²=0.0016]]"
     ]
    },
    {
     "name": "stdout",
     "output_type": "stream",
     "text": [
      "0.0042162113290017044\n"
     ]
    },
    {
     "name": "stderr",
     "output_type": "stream",
     "text": [
      " 87%|████████████▏ | 1748/2000 [01:48<00:15, 16.12it/s, Energy=-33.7135-0.0012j ± 0.0095 [σ²=0.0020]]\n"
     ]
    },
    {
     "name": "stdout",
     "output_type": "stream",
     "text": [
      "Stopped by user.\n"
     ]
    },
    {
     "data": {
      "text/plain": [
       "()"
      ]
     },
     "execution_count": 3,
     "metadata": {},
     "output_type": "execute_result"
    }
   ],
   "source": [
    "from grad_sample.utils.utils import save_rel_err_large\n",
    "from functools import partial\n",
    "cb = partial(save_rel_err_large, e_ref= trainer.E_gs, save_every=10)\n",
    "trainer.gs.run(n_iter=2000, callback=(cb,))"
   ]
  },
  {
   "cell_type": "code",
   "execution_count": 4,
   "metadata": {},
   "outputs": [],
   "source": [
    "g,l,w = trainer.gs.local_estimators()"
   ]
  },
  {
   "cell_type": "code",
   "execution_count": null,
   "metadata": {},
   "outputs": [
    {
     "name": "stdout",
     "output_type": "stream",
     "text": [
      "(-33.70523164966751+0.003139669796007484j)\n",
      "0.2542877897362194\n",
      "0.5042695605885997\n"
     ]
    },
    {
     "data": {
      "text/plain": [
       "Array(0.01114289, dtype=float64)"
      ]
     },
     "execution_count": 5,
     "metadata": {},
     "output_type": "execute_result"
    }
   ],
   "source": [
    "m = jnp.mean(l*w)\n",
    "var = jnp.mean((w**2.0) * jnp.abs(l-m)**2.0)\n",
    "print(m)\n",
    "print(var)\n",
    "print(jnp.sqrt(var))\n",
    "jnp.sqrt(var/len(l))"
   ]
  },
  {
   "cell_type": "code",
   "execution_count": 6,
   "metadata": {},
   "outputs": [
    {
     "data": {
      "text/plain": [
       "Array(0.00264434, dtype=float64)"
      ]
     },
     "execution_count": 6,
     "metadata": {},
     "output_type": "execute_result"
    }
   ],
   "source": [
    "trainer.gs._loss_stats.error_of_mean"
   ]
  },
  {
   "cell_type": "code",
   "execution_count": null,
   "metadata": {},
   "outputs": [
    {
     "ename": "NameError",
     "evalue": "name 'statistics' is not defined",
     "output_type": "error",
     "traceback": [
      "\u001b[0;31m---------------------------------------------------------------------------\u001b[0m",
      "\u001b[0;31mNameError\u001b[0m                                 Traceback (most recent call last)",
      "Cell \u001b[0;32mIn[7], line 3\u001b[0m\n\u001b[1;32m      1\u001b[0m loss \u001b[38;5;241m=\u001b[39m jnp\u001b[38;5;241m.\u001b[39mones(\u001b[38;5;241m512\u001b[39m)\n\u001b[1;32m      2\u001b[0m weights \u001b[38;5;241m=\u001b[39m \u001b[38;5;241m1\u001b[39m\u001b[38;5;241m/\u001b[39m\u001b[38;5;241m2\u001b[39m \u001b[38;5;241m*\u001b[39m jnp\u001b[38;5;241m.\u001b[39mones(\u001b[38;5;241m512\u001b[39m)\n\u001b[0;32m----> 3\u001b[0m \u001b[43mstatistics\u001b[49m(loss,weights)\n",
      "\u001b[0;31mNameError\u001b[0m: name 'statistics' is not defined"
     ]
    }
   ],
   "source": [
    "loss = jnp.ones(512)\n",
    "weights = 1/2 * jnp.ones(512)\n",
    "statistics(loss,weights)"
   ]
  },
  {
   "cell_type": "code",
   "execution_count": 15,
   "metadata": {},
   "outputs": [],
   "source": [
    "base_dir = '/mnt/beegfs/home/CPHT/antoine.misery/workdir_link/qchem_comp/166630_0/L30/NNBF/256/'\n",
    "\n",
    "ckpt = base_dir + 'MC_12_isauto/schedule_schedule/run_0.mpack'\n",
    "ckpt_sampler = base_dir + 'MC_12_isauto/schedule_schedule/run_0/sampler_state_default.mpack'"
   ]
  },
  {
   "cell_type": "code",
   "execution_count": 38,
   "metadata": {},
   "outputs": [
    {
     "name": "stderr",
     "output_type": "stream",
     "text": [
      "/tmp/ipykernel_25008/4058588234.py:27: UserWarning: Deserializing a MetropolisSamplerState with sharding, but the current setup is not sharded. This might lead to unexpected behavior.\n",
      "  vstate.sampler_states['overdispersed'] = deserialize_MetropolisSamplerState(vstate.sampler_state, state_dict)\n"
     ]
    }
   ],
   "source": [
    "from netket.vqs import FullSumState\n",
    "import netket as nk\n",
    "import flax\n",
    "from netket_checkpoint._src.serializers.metropolis import serialize_MetropolisSamplerState, deserialize_MetropolisSamplerState\n",
    "from advanced_drivers.driver import overdispersed_distribution, VMC_NG\n",
    "n_s = 2**12\n",
    "sampler = instantiate(cfg.sampler, hilbert=trainer.model.hilbert_space, \n",
    "                                                             graph=trainer.model.graph, \n",
    "                                                             sweep_size=2*trainer.model.hilbert_space.size, \n",
    "                                                             n_chains_per_rank=n_s//2,\n",
    "                                                             )\n",
    "vstate = nk.vqs.MCState(sampler= sampler, \n",
    "                                model=trainer.ansatz, \n",
    "                                chunk_size= trainer.chunk_size, \n",
    "                                n_samples= n_s,\n",
    "                                n_discard_per_chain = 2**12\n",
    "                            #  seed=0\n",
    "                            )\n",
    "with open(ckpt, 'rb') as f:\n",
    "    vars = nk.experimental.vqs.variables_from_file(ckpt,\n",
    "                                                   vstate.variables)\n",
    "    # update the variables of vstate with the loaded data.\n",
    "    vstate.variables = vars\n",
    "with open(ckpt_sampler, 'rb') as f:\n",
    "    state_dict = flax.serialization.msgpack_restore(f.read())\n",
    "vstate.sampler_state = deserialize_MetropolisSamplerState(vstate.sampler_state, state_dict)\n",
    "vstate.sampler_states['overdispersed'] = deserialize_MetropolisSamplerState(vstate.sampler_state, state_dict)"
   ]
  },
  {
   "cell_type": "code",
   "execution_count": 39,
   "metadata": {},
   "outputs": [],
   "source": [
    "sampling_distribution = overdispersed_distribution(1.0)\n",
    "driver = VMC_NG(hamiltonian=trainer.model.hamiltonian.to_jax_operator(), \n",
    "        optimizer=trainer.opt, \n",
    "        sampling_distribution=sampling_distribution,\n",
    "        variational_state=vstate, \n",
    "        diag_shift=1, \n",
    "        )"
   ]
  },
  {
   "cell_type": "code",
   "execution_count": 42,
   "metadata": {},
   "outputs": [
    {
     "data": {
      "text/plain": [
       "{'default': MetropolisSamplerState(# accepted = 9594/503562240 (0.0019052262536603222%), rng state=[1036717176 3598342506]),\n",
       " 'overdispersed': MetropolisSamplerState(# accepted = 25517372/503562240 (5.067372009465999%), rng state=[1036717176 3598342506])}"
      ]
     },
     "execution_count": 42,
     "metadata": {},
     "output_type": "execute_result"
    }
   ],
   "source": [
    "driver.state.sampler_states"
   ]
  },
  {
   "cell_type": "code",
   "execution_count": 40,
   "metadata": {},
   "outputs": [],
   "source": [
    "grad, loss, w = driver.local_estimators()"
   ]
  },
  {
   "cell_type": "code",
   "execution_count": 41,
   "metadata": {},
   "outputs": [
    {
     "data": {
      "text/plain": [
       "Array(-87.83072043-3.29707247e-19j, dtype=complex128)"
      ]
     },
     "execution_count": 41,
     "metadata": {},
     "output_type": "execute_result"
    }
   ],
   "source": [
    "jnp.mean(loss * w)"
   ]
  },
  {
   "cell_type": "code",
   "execution_count": null,
   "metadata": {},
   "outputs": [
    {
     "data": {
      "text/plain": [
       "(1656, 30)"
      ]
     },
     "execution_count": 30,
     "metadata": {},
     "output_type": "execute_result"
    }
   ],
   "source": [
    "jnp.unique(samples.reshape(-1,30), axis=0).shape"
   ]
  }
 ],
 "metadata": {
  "kernelspec": {
   "display_name": "Python 3 (ipykernel)",
   "language": "python",
   "name": "python3"
  },
  "language_info": {
   "codemirror_mode": {
    "name": "ipython",
    "version": 3
   },
   "file_extension": ".py",
   "mimetype": "text/x-python",
   "name": "python",
   "nbconvert_exporter": "python",
   "pygments_lexer": "ipython3",
   "version": "3.11.11"
  }
 },
 "nbformat": 4,
 "nbformat_minor": 2
}
