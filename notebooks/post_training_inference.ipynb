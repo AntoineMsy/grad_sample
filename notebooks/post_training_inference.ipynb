{
 "cells": [
  {
   "cell_type": "code",
   "execution_count": 1,
   "metadata": {},
   "outputs": [
    {
     "name": "stdout",
     "output_type": "stream",
     "text": [
      "{'_target_': 'grad_sample.tasks.fullsum_train.Trainer'}\n"
     ]
    }
   ],
   "source": [
    "from hydra import compose, initialize\n",
    "from omegaconf import OmegaConf\n",
    "from hydra.core.global_hydra import GlobalHydra\n",
    "from hydra.utils import instantiate\n",
    "from grad_sample.tasks.fullsum_train import Trainer\n",
    "import jax.numpy as jnp\n",
    "from netket.vqs import FullSumState\n",
    "import netket as nk\n",
    "import flax\n",
    "import optax\n",
    "from netket_checkpoint._src.serializers.metropolis import serialize_MetropolisSamplerState, deserialize_MetropolisSamplerState\n",
    "from advanced_drivers.driver import overdispersed_distribution, VMC_NG, statistics\n",
    "\n",
    "if GlobalHydra().is_initialized():\n",
    "    GlobalHydra().clear()\n",
    "\n",
    "with initialize(version_base=None, config_path=\"./grad_sample/conf\"):\n",
    "    cfg = compose(config_name=\"qchem\")\n",
    "    OmegaConf.set_struct(cfg, True)\n",
    "    print(cfg.task)\n",
    "# trainer = Trainer(cfg)"
   ]
  },
  {
   "cell_type": "code",
   "execution_count": 2,
   "metadata": {},
   "outputs": [],
   "source": [
    "%load_ext autoreload\n",
    "%autoreload 2"
   ]
  },
  {
   "cell_type": "code",
   "execution_count": 3,
   "metadata": {},
   "outputs": [],
   "source": [
    "base_dir = '/mnt/beegfs/home/CPHT/antoine.misery/workdir_link/qchem_comp/166630_0/L30/NNBF/256/'\n",
    "\n",
    "ckpt = base_dir + 'MC_12_isauto/schedule_schedule/run_0.mpack'\n",
    "ckpt_sampler = base_dir + 'MC_12_isauto/schedule_schedule/run_0/sampler_state_default.mpack'\n",
    "\n",
    "ckpt_sampler = '/mnt/beegfs/home/CPHT/antoine.misery/workdir_link/qchem_comp_new/166630_0/L30/NNBF/256/MC_13_0.8/schedule_schedule/run_0/sampler_state_overdispersed.mpack'\n",
    "ckpt = '/mnt/beegfs/home/CPHT/antoine.misery/workdir_link/qchem_comp_new/166630_0/L30/NNBF/256/MC_13_0.8/schedule_schedule/run_0.mpack'"
   ]
  },
  {
   "cell_type": "code",
   "execution_count": 4,
   "metadata": {},
   "outputs": [
    {
     "name": "stdout",
     "output_type": "stream",
     "text": [
      "converged SCF energy = -87.7957664369586\n",
      "E(RCISD) = -87.8839403630959  E_corr = -0.08817392613732344\n",
      "E(CCSD) = -87.88571506849657  E_corr = -0.08994863153799405\n",
      "converged SCF energy = -87.7957664369586\n"
     ]
    },
    {
     "name": "stderr",
     "output_type": "stream",
     "text": [
      "/mnt/beegfs/workdir/antoine.misery/mambaforge/envs/netket/lib/python3.11/site-packages/jax/_src/ops/scatter.py:92: FutureWarning: scatter inputs have incompatible types: cannot safely cast value from dtype=int64 to dtype=bool with jax_numpy_dtype_promotion='standard'. In future JAX releases this will result in an error.\n",
      "  warnings.warn(\n"
     ]
    }
   ],
   "source": [
    "model = instantiate(cfg.model)\n",
    "ansatz = instantiate(cfg.ansatz, hilbert = model.hilbert_space)\n",
    "chunk_size = cfg.get('chunk_size_vstate', None)\n",
    "opt = optax.sgd(learning_rate=1)"
   ]
  },
  {
   "cell_type": "code",
   "execution_count": 20,
   "metadata": {},
   "outputs": [],
   "source": [
    "n_s = 2**13\n",
    "\n",
    "sampler = instantiate(cfg.sampler, hilbert=model.hilbert_space, \n",
    "                                                             graph=model.graph, \n",
    "                                                             sweep_size=model.hilbert_space.size, \n",
    "                                                             n_chains_per_rank=n_s//2,\n",
    "                                                             )\n",
    "\n",
    "vstate = nk.vqs.MCState(sampler= sampler, \n",
    "                                model=ansatz, \n",
    "                                chunk_size=chunk_size, \n",
    "                                n_samples= n_s,\n",
    "                                n_discard_per_chain = 2**6\n",
    "                            #  seed=0\n",
    "                            )\n",
    "with open(ckpt, 'rb') as f:\n",
    "    vars = nk.experimental.vqs.variables_from_file(ckpt,\n",
    "                                                   vstate.variables)\n",
    "    # update the variables of vstate with the loaded data.\n",
    "    vstate.variables = vars\n",
    "with open(ckpt_sampler, 'rb') as f:\n",
    "    state_dict = flax.serialization.msgpack_restore(f.read())\n",
    "# vstate.sampler_state = deserialize_MetropolisSamplerState(vstate.sampler_state, state_dict)\n",
    "# vstate.sampler_states['overdispersed'] = deserialize_MetropolisSamplerState(vstate.sampler_state, state_dict)"
   ]
  },
  {
   "cell_type": "code",
   "execution_count": 21,
   "metadata": {},
   "outputs": [],
   "source": [
    "sampling_distribution = overdispersed_distribution(0.8)\n",
    "driver = VMC_NG(hamiltonian=model.hamiltonian.to_jax_operator(), \n",
    "        optimizer=opt, \n",
    "        sampling_distribution=sampling_distribution,\n",
    "        variational_state=vstate, \n",
    "        diag_shift=1, \n",
    "        )"
   ]
  },
  {
   "cell_type": "code",
   "execution_count": 22,
   "metadata": {},
   "outputs": [],
   "source": [
    "driver.state.n_samples = 2**15\n",
    "driver.state._samples_distributions['overdispersed']=None\n",
    "grad, loss, w = driver.local_estimators()"
   ]
  },
  {
   "cell_type": "code",
   "execution_count": 14,
   "metadata": {},
   "outputs": [
    {
     "data": {
      "text/plain": [
       "{'default': MetropolisSamplerState(# accepted = 58937/8847360 (0.6661535192418981%), rng state=[1133021160 3047394276]),\n",
       " 'overdispersed': MetropolisSamplerState(# accepted = 1967629/8847360 (22.2397302698206%), rng state=[1133021160 3047394276])}"
      ]
     },
     "execution_count": 14,
     "metadata": {},
     "output_type": "execute_result"
    }
   ],
   "source": [
    "driver.state.sampler_states"
   ]
  },
  {
   "cell_type": "code",
   "execution_count": 23,
   "metadata": {},
   "outputs": [],
   "source": [
    "stats = statistics(loss, w)"
   ]
  },
  {
   "cell_type": "code",
   "execution_count": 24,
   "metadata": {},
   "outputs": [
    {
     "name": "stdout",
     "output_type": "stream",
     "text": [
      "-87.89265362925502 -87.89265559142254\n",
      "nan\n"
     ]
    }
   ],
   "source": [
    "print(stats.mean.real + stats.error_of_mean, stats.mean.real - stats.error_of_mean)"
   ]
  },
  {
   "cell_type": "code",
   "execution_count": 11,
   "metadata": {},
   "outputs": [],
   "source": [
    "err = stats.variance*stats.tau_corr_max"
   ]
  },
  {
   "cell_type": "code",
   "execution_count": 12,
   "metadata": {},
   "outputs": [
    {
     "data": {
      "text/plain": [
       "Array(1.46460856e-06, dtype=float64)"
      ]
     },
     "execution_count": 12,
     "metadata": {},
     "output_type": "execute_result"
    }
   ],
   "source": [
    "err"
   ]
  }
 ],
 "metadata": {
  "kernelspec": {
   "display_name": "Python 3 (ipykernel)",
   "language": "python",
   "name": "python3"
  }
 },
 "nbformat": 4,
 "nbformat_minor": 2
}
