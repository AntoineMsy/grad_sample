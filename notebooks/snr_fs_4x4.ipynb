{
 "cells": [
  {
   "cell_type": "code",
   "execution_count": 1,
   "metadata": {},
   "outputs": [
    {
     "name": "stdout",
     "output_type": "stream",
     "text": [
      "{'_target_': 'grad_sample.tasks.fullsum_train.Trainer'}\n",
      "scratch folder not specified in env variables\n",
      "Nparams = 3056\n",
      "/mnt/beegfs/workdir/antoine.misery/j1j12_fs//J1J2_0.5/L16/ViT2D/2_16_4/0.001_1e-05/run_0\n"
     ]
    },
    {
     "name": "stderr",
     "output_type": "stream",
     "text": [
      "2025-04-23 16:25:33.989630: W external/xla/xla/service/gpu/ir_emitter_unnested.cc:1171] Unable to parse backend config for custom call: Could not convert JSON string to proto: : Root element must be a message.\n",
      "Fall back to parse the raw backend config str.\n",
      "2025-04-23 16:25:33.989711: W external/xla/xla/service/gpu/ir_emitter_unnested.cc:1171] Unable to parse backend config for custom call: Could not convert JSON string to proto: : Root element must be a message.\n",
      "Fall back to parse the raw backend config str.\n",
      "2025-04-23 16:25:34.014816: W external/xla/xla/service/gpu/ir_emitter_unnested.cc:1171] Unable to parse backend config for custom call: Could not convert JSON string to proto: : Root element must be a message.\n",
      "Fall back to parse the raw backend config str.\n",
      "2025-04-23 16:25:34.014862: W external/xla/xla/service/gpu/ir_emitter_unnested.cc:1171] Unable to parse backend config for custom call: Could not convert JSON string to proto: : Root element must be a message.\n",
      "Fall back to parse the raw backend config str.\n"
     ]
    },
    {
     "name": "stdout",
     "output_type": "stream",
     "text": [
      "The ground state energy is: -33.831693405579436\n",
      "creating driver\n",
      "finished creating driver\n"
     ]
    }
   ],
   "source": [
    "from hydra import compose, initialize\n",
    "from omegaconf import OmegaConf\n",
    "from hydra.core.global_hydra import GlobalHydra\n",
    "from hydra.utils import instantiate\n",
    "from grad_sample.tasks.fullsum_train import Trainer\n",
    "import jax.numpy as jnp\n",
    "from netket.vqs import FullSumState\n",
    "import netket as nk\n",
    "import flax\n",
    "import optax\n",
    "from netket_checkpoint._src.serializers.metropolis import serialize_MetropolisSamplerState, deserialize_MetropolisSamplerState\n",
    "from advanced_drivers.driver import overdispersed_distribution, VMC_NG, statistics\n",
    "if GlobalHydra().is_initialized():\n",
    "    GlobalHydra().clear()\n",
    "\n",
    "with initialize(version_base=None, config_path=\"./grad_sample/conf\"):\n",
    "    cfg = compose(config_name=\"j1j2_fs\")\n",
    "    OmegaConf.set_struct(cfg, True)\n",
    "    print(cfg.task)\n",
    "trainer = Trainer(cfg)"
   ]
  },
  {
   "cell_type": "code",
   "execution_count": 2,
   "metadata": {},
   "outputs": [],
   "source": [
    "%load_ext autoreload\n",
    "%autoreload "
   ]
  },
  {
   "cell_type": "code",
   "execution_count": 3,
   "metadata": {},
   "outputs": [],
   "source": [
    "diag_shift = optax.linear_schedule(\n",
    "                init_value = 1e-2,\n",
    "                end_value = 1e-4,\n",
    "                transition_steps = 300\n",
    "            ) "
   ]
  },
  {
   "cell_type": "markdown",
   "metadata": {},
   "source": []
  },
  {
   "cell_type": "code",
   "execution_count": 4,
   "metadata": {},
   "outputs": [],
   "source": [
    "sr = nk.optimizer.SR(\n",
    "                    solver=trainer.solver_fn,\n",
    "                    # solver=nk.optimizer.solver.pinv_smooth,\n",
    "                    diag_shift=diag_shift, \n",
    "                    holomorphic= False)"
   ]
  },
  {
   "cell_type": "code",
   "execution_count": 5,
   "metadata": {},
   "outputs": [],
   "source": [
    "gs = nk.VMC(hamiltonian=trainer.model.hamiltonian.to_jax_operator(), \n",
    "                             optimizer=trainer.opt, \n",
    "                             variational_state=trainer.vstate, \n",
    "                             preconditioner=sr)\n",
    "        "
   ]
  },
  {
   "cell_type": "code",
   "execution_count": 6,
   "metadata": {},
   "outputs": [
    {
     "data": {
      "application/vnd.jupyter.widget-view+json": {
       "model_id": "49ccdbda784f47ed81e188767db27023",
       "version_major": 2,
       "version_minor": 0
      },
      "text/plain": [
       "  0%|                           | 0/1500 [00:00<?, ?it/s]"
      ]
     },
     "metadata": {},
     "output_type": "display_data"
    },
    {
     "name": "stderr",
     "output_type": "stream",
     "text": [
      "2025-04-23 16:25:38.338860: W external/xla/xla/service/gpu/ir_emitter_unnested.cc:1171] Unable to parse backend config for custom call: Could not convert JSON string to proto: : Root element must be a message.\n",
      "Fall back to parse the raw backend config str.\n",
      "2025-04-23 16:25:38.338918: W external/xla/xla/service/gpu/ir_emitter_unnested.cc:1171] Unable to parse backend config for custom call: Could not convert JSON string to proto: : Root element must be a message.\n",
      "Fall back to parse the raw backend config str.\n",
      "2025-04-23 16:25:38.365080: W external/xla/xla/service/gpu/ir_emitter_unnested.cc:1171] Unable to parse backend config for custom call: Could not convert JSON string to proto: : Root element must be a message.\n",
      "Fall back to parse the raw backend config str.\n",
      "2025-04-23 16:25:38.365124: W external/xla/xla/service/gpu/ir_emitter_unnested.cc:1171] Unable to parse backend config for custom call: Could not convert JSON string to proto: : Root element must be a message.\n",
      "Fall back to parse the raw backend config str.\n"
     ]
    },
    {
     "data": {
      "text/plain": [
       "()"
      ]
     },
     "execution_count": 6,
     "metadata": {},
     "output_type": "execute_result"
    }
   ],
   "source": [
    "gs.run(n_iter=1500)"
   ]
  },
  {
   "cell_type": "code",
   "execution_count": 7,
   "metadata": {},
   "outputs": [
    {
     "data": {
      "text/plain": [
       "Array(0.80308111, dtype=float64)"
      ]
     },
     "execution_count": 7,
     "metadata": {},
     "output_type": "execute_result"
    }
   ],
   "source": [
    "jnp.abs((gs.state.expect(trainer.model.hamiltonian).mean.real + 33.831693405579436))/jnp.abs(33.831693405579436)"
   ]
  },
  {
   "cell_type": "code",
   "execution_count": 8,
   "metadata": {},
   "outputs": [],
   "source": [
    "base_dir = '/mnt/beegfs/home/CPHT/antoine.misery/workdir_link/qchem_comp/166630_0/L30/NNBF/256/'\n",
    "\n",
    "ckpt = base_dir + 'MC_12_isauto/schedule_schedule/run_0.mpack'\n",
    "ckpt_sampler = base_dir + 'MC_12_isauto/schedule_schedule/run_0/sampler_state_default.mpack'\n",
    "\n",
    "ckpt_sampler = '/mnt/beegfs/home/CPHT/antoine.misery/workdir_link/qchem_comp_new/166630_0/L30/NNBF/256/MC_13_0.8/schedule_schedule/run_0/sampler_state_overdispersed.mpack'\n",
    "ckpt = '/mnt/beegfs/home/CPHT/antoine.misery/workdir_link/qchem_comp_new/166630_0/L30/NNBF/256/MC_13_0.8/schedule_schedule/run_0.mpack'"
   ]
  },
  {
   "cell_type": "code",
   "execution_count": 9,
   "metadata": {},
   "outputs": [
    {
     "ename": "InstantiationException",
     "evalue": "Error in call to target 'deepnets.net.wrappers.ViT2D':\nTypeError(\"ViT2D.__init__() got an unexpected keyword argument 'hilbert'\")\nfull_key: ansatz",
     "output_type": "error",
     "traceback": [
      "\u001b[0;31m---------------------------------------------------------------------------\u001b[0m",
      "\u001b[0;31mTypeError\u001b[0m                                 Traceback (most recent call last)",
      "File \u001b[0;32m/mnt/beegfs/workdir/antoine.misery/mambaforge/envs/netket/lib/python3.11/site-packages/hydra/_internal/instantiate/_instantiate2.py:92\u001b[0m, in \u001b[0;36m_call_target\u001b[0;34m(_target_, _partial_, args, kwargs, full_key)\u001b[0m\n\u001b[1;32m     91\u001b[0m \u001b[38;5;28;01mtry\u001b[39;00m:\n\u001b[0;32m---> 92\u001b[0m     \u001b[38;5;28;01mreturn\u001b[39;00m \u001b[43m_target_\u001b[49m\u001b[43m(\u001b[49m\u001b[38;5;241;43m*\u001b[39;49m\u001b[43margs\u001b[49m\u001b[43m,\u001b[49m\u001b[43m \u001b[49m\u001b[38;5;241;43m*\u001b[39;49m\u001b[38;5;241;43m*\u001b[39;49m\u001b[43mkwargs\u001b[49m\u001b[43m)\u001b[49m\n\u001b[1;32m     93\u001b[0m \u001b[38;5;28;01mexcept\u001b[39;00m \u001b[38;5;167;01mException\u001b[39;00m \u001b[38;5;28;01mas\u001b[39;00m e:\n",
      "\u001b[0;31mTypeError\u001b[0m: ViT2D.__init__() got an unexpected keyword argument 'hilbert'",
      "\nThe above exception was the direct cause of the following exception:\n",
      "\u001b[0;31mInstantiationException\u001b[0m                    Traceback (most recent call last)",
      "Cell \u001b[0;32mIn[9], line 2\u001b[0m\n\u001b[1;32m      1\u001b[0m model \u001b[38;5;241m=\u001b[39m instantiate(cfg\u001b[38;5;241m.\u001b[39mmodel)\n\u001b[0;32m----> 2\u001b[0m ansatz \u001b[38;5;241m=\u001b[39m \u001b[43minstantiate\u001b[49m\u001b[43m(\u001b[49m\u001b[43mcfg\u001b[49m\u001b[38;5;241;43m.\u001b[39;49m\u001b[43mansatz\u001b[49m\u001b[43m,\u001b[49m\u001b[43m \u001b[49m\u001b[43mhilbert\u001b[49m\u001b[43m \u001b[49m\u001b[38;5;241;43m=\u001b[39;49m\u001b[43m \u001b[49m\u001b[43mmodel\u001b[49m\u001b[38;5;241;43m.\u001b[39;49m\u001b[43mhilbert_space\u001b[49m\u001b[43m)\u001b[49m\n\u001b[1;32m      3\u001b[0m chunk_size \u001b[38;5;241m=\u001b[39m cfg\u001b[38;5;241m.\u001b[39mget(\u001b[38;5;124m'\u001b[39m\u001b[38;5;124mchunk_size_vstate\u001b[39m\u001b[38;5;124m'\u001b[39m, \u001b[38;5;28;01mNone\u001b[39;00m)\n\u001b[1;32m      4\u001b[0m opt \u001b[38;5;241m=\u001b[39m optax\u001b[38;5;241m.\u001b[39msgd(learning_rate\u001b[38;5;241m=\u001b[39m\u001b[38;5;241m1\u001b[39m)\n",
      "File \u001b[0;32m/mnt/beegfs/workdir/antoine.misery/mambaforge/envs/netket/lib/python3.11/site-packages/hydra/_internal/instantiate/_instantiate2.py:226\u001b[0m, in \u001b[0;36minstantiate\u001b[0;34m(config, *args, **kwargs)\u001b[0m\n\u001b[1;32m    223\u001b[0m     _convert_ \u001b[38;5;241m=\u001b[39m config\u001b[38;5;241m.\u001b[39mpop(_Keys\u001b[38;5;241m.\u001b[39mCONVERT, ConvertMode\u001b[38;5;241m.\u001b[39mNONE)\n\u001b[1;32m    224\u001b[0m     _partial_ \u001b[38;5;241m=\u001b[39m config\u001b[38;5;241m.\u001b[39mpop(_Keys\u001b[38;5;241m.\u001b[39mPARTIAL, \u001b[38;5;28;01mFalse\u001b[39;00m)\n\u001b[0;32m--> 226\u001b[0m     \u001b[38;5;28;01mreturn\u001b[39;00m \u001b[43minstantiate_node\u001b[49m\u001b[43m(\u001b[49m\n\u001b[1;32m    227\u001b[0m \u001b[43m        \u001b[49m\u001b[43mconfig\u001b[49m\u001b[43m,\u001b[49m\u001b[43m \u001b[49m\u001b[38;5;241;43m*\u001b[39;49m\u001b[43margs\u001b[49m\u001b[43m,\u001b[49m\u001b[43m \u001b[49m\u001b[43mrecursive\u001b[49m\u001b[38;5;241;43m=\u001b[39;49m\u001b[43m_recursive_\u001b[49m\u001b[43m,\u001b[49m\u001b[43m \u001b[49m\u001b[43mconvert\u001b[49m\u001b[38;5;241;43m=\u001b[39;49m\u001b[43m_convert_\u001b[49m\u001b[43m,\u001b[49m\u001b[43m \u001b[49m\u001b[43mpartial\u001b[49m\u001b[38;5;241;43m=\u001b[39;49m\u001b[43m_partial_\u001b[49m\n\u001b[1;32m    228\u001b[0m \u001b[43m    \u001b[49m\u001b[43m)\u001b[49m\n\u001b[1;32m    229\u001b[0m \u001b[38;5;28;01melif\u001b[39;00m OmegaConf\u001b[38;5;241m.\u001b[39mis_list(config):\n\u001b[1;32m    230\u001b[0m     \u001b[38;5;66;03m# Finalize config (convert targets to strings, merge with kwargs)\u001b[39;00m\n\u001b[1;32m    231\u001b[0m     config_copy \u001b[38;5;241m=\u001b[39m copy\u001b[38;5;241m.\u001b[39mdeepcopy(config)\n",
      "File \u001b[0;32m/mnt/beegfs/workdir/antoine.misery/mambaforge/envs/netket/lib/python3.11/site-packages/hydra/_internal/instantiate/_instantiate2.py:347\u001b[0m, in \u001b[0;36minstantiate_node\u001b[0;34m(node, convert, recursive, partial, *args)\u001b[0m\n\u001b[1;32m    342\u001b[0m                 value \u001b[38;5;241m=\u001b[39m instantiate_node(\n\u001b[1;32m    343\u001b[0m                     value, convert\u001b[38;5;241m=\u001b[39mconvert, recursive\u001b[38;5;241m=\u001b[39mrecursive\n\u001b[1;32m    344\u001b[0m                 )\n\u001b[1;32m    345\u001b[0m             kwargs[key] \u001b[38;5;241m=\u001b[39m _convert_node(value, convert)\n\u001b[0;32m--> 347\u001b[0m     \u001b[38;5;28;01mreturn\u001b[39;00m \u001b[43m_call_target\u001b[49m\u001b[43m(\u001b[49m\u001b[43m_target_\u001b[49m\u001b[43m,\u001b[49m\u001b[43m \u001b[49m\u001b[43mpartial\u001b[49m\u001b[43m,\u001b[49m\u001b[43m \u001b[49m\u001b[43margs\u001b[49m\u001b[43m,\u001b[49m\u001b[43m \u001b[49m\u001b[43mkwargs\u001b[49m\u001b[43m,\u001b[49m\u001b[43m \u001b[49m\u001b[43mfull_key\u001b[49m\u001b[43m)\u001b[49m\n\u001b[1;32m    348\u001b[0m \u001b[38;5;28;01melse\u001b[39;00m:\n\u001b[1;32m    349\u001b[0m     \u001b[38;5;66;03m# If ALL or PARTIAL non structured or OBJECT non structured,\u001b[39;00m\n\u001b[1;32m    350\u001b[0m     \u001b[38;5;66;03m# instantiate in dict and resolve interpolations eagerly.\u001b[39;00m\n\u001b[1;32m    351\u001b[0m     \u001b[38;5;28;01mif\u001b[39;00m convert \u001b[38;5;241m==\u001b[39m ConvertMode\u001b[38;5;241m.\u001b[39mALL \u001b[38;5;129;01mor\u001b[39;00m (\n\u001b[1;32m    352\u001b[0m         convert \u001b[38;5;129;01min\u001b[39;00m (ConvertMode\u001b[38;5;241m.\u001b[39mPARTIAL, ConvertMode\u001b[38;5;241m.\u001b[39mOBJECT)\n\u001b[1;32m    353\u001b[0m         \u001b[38;5;129;01mand\u001b[39;00m node\u001b[38;5;241m.\u001b[39m_metadata\u001b[38;5;241m.\u001b[39mobject_type \u001b[38;5;129;01min\u001b[39;00m (\u001b[38;5;28;01mNone\u001b[39;00m, \u001b[38;5;28mdict\u001b[39m)\n\u001b[1;32m    354\u001b[0m     ):\n",
      "File \u001b[0;32m/mnt/beegfs/workdir/antoine.misery/mambaforge/envs/netket/lib/python3.11/site-packages/hydra/_internal/instantiate/_instantiate2.py:97\u001b[0m, in \u001b[0;36m_call_target\u001b[0;34m(_target_, _partial_, args, kwargs, full_key)\u001b[0m\n\u001b[1;32m     95\u001b[0m \u001b[38;5;28;01mif\u001b[39;00m full_key:\n\u001b[1;32m     96\u001b[0m     msg \u001b[38;5;241m+\u001b[39m\u001b[38;5;241m=\u001b[39m \u001b[38;5;124mf\u001b[39m\u001b[38;5;124m\"\u001b[39m\u001b[38;5;130;01m\\n\u001b[39;00m\u001b[38;5;124mfull_key: \u001b[39m\u001b[38;5;132;01m{\u001b[39;00mfull_key\u001b[38;5;132;01m}\u001b[39;00m\u001b[38;5;124m\"\u001b[39m\n\u001b[0;32m---> 97\u001b[0m \u001b[38;5;28;01mraise\u001b[39;00m InstantiationException(msg) \u001b[38;5;28;01mfrom\u001b[39;00m \u001b[38;5;21;01me\u001b[39;00m\n",
      "\u001b[0;31mInstantiationException\u001b[0m: Error in call to target 'deepnets.net.wrappers.ViT2D':\nTypeError(\"ViT2D.__init__() got an unexpected keyword argument 'hilbert'\")\nfull_key: ansatz"
     ]
    }
   ],
   "source": [
    "model = instantiate(cfg.model)\n",
    "ansatz = instantiate(cfg.ansatz, hilbert = model.hilbert_space)\n",
    "chunk_size = cfg.get('chunk_size_vstate', None)\n",
    "opt = optax.sgd(learning_rate=1)"
   ]
  },
  {
   "cell_type": "code",
   "execution_count": 20,
   "metadata": {},
   "outputs": [],
   "source": [
    "n_s = 2**13\n",
    "\n",
    "sampler = instantiate(cfg.sampler, hilbert=model.hilbert_space, \n",
    "                                                             graph=model.graph, \n",
    "                                                             sweep_size=model.hilbert_space.size, \n",
    "                                                             n_chains_per_rank=n_s//2,\n",
    "                                                             )\n",
    "\n",
    "vstate = nk.vqs.MCState(sampler= sampler, \n",
    "                                model=ansatz, \n",
    "                                chunk_size=chunk_size, \n",
    "                                n_samples= n_s,\n",
    "                                n_discard_per_chain = 2**6\n",
    "                            #  seed=0\n",
    "                            )\n",
    "with open(ckpt, 'rb') as f:\n",
    "    vars = nk.experimental.vqs.variables_from_file(ckpt,\n",
    "                                                   vstate.variables)\n",
    "    # update the variables of vstate with the loaded data.\n",
    "    vstate.variables = vars\n",
    "with open(ckpt_sampler, 'rb') as f:\n",
    "    state_dict = flax.serialization.msgpack_restore(f.read())\n",
    "# vstate.sampler_state = deserialize_MetropolisSamplerState(vstate.sampler_state, state_dict)\n",
    "# vstate.sampler_states['overdispersed'] = deserialize_MetropolisSamplerState(vstate.sampler_state, state_dict)"
   ]
  },
  {
   "cell_type": "code",
   "execution_count": 21,
   "metadata": {},
   "outputs": [],
   "source": [
    "sampling_distribution = overdispersed_distribution(0.8)\n",
    "driver = VMC_NG(hamiltonian=model.hamiltonian.to_jax_operator(), \n",
    "        optimizer=opt, \n",
    "        sampling_distribution=sampling_distribution,\n",
    "        variational_state=vstate, \n",
    "        diag_shift=1, \n",
    "        )"
   ]
  },
  {
   "cell_type": "code",
   "execution_count": 22,
   "metadata": {},
   "outputs": [],
   "source": [
    "driver.state.n_samples = 2**15\n",
    "driver.state._samples_distributions['overdispersed']=None\n",
    "grad, loss, w = driver.local_estimators()"
   ]
  },
  {
   "cell_type": "code",
   "execution_count": 14,
   "metadata": {},
   "outputs": [
    {
     "data": {
      "text/plain": [
       "{'default': MetropolisSamplerState(# accepted = 58937/8847360 (0.6661535192418981%), rng state=[1133021160 3047394276]),\n",
       " 'overdispersed': MetropolisSamplerState(# accepted = 1967629/8847360 (22.2397302698206%), rng state=[1133021160 3047394276])}"
      ]
     },
     "execution_count": 14,
     "metadata": {},
     "output_type": "execute_result"
    }
   ],
   "source": [
    "driver.state.sampler_states"
   ]
  },
  {
   "cell_type": "code",
   "execution_count": 23,
   "metadata": {},
   "outputs": [],
   "source": [
    "stats = statistics(loss, w)"
   ]
  },
  {
   "cell_type": "code",
   "execution_count": 24,
   "metadata": {},
   "outputs": [
    {
     "name": "stdout",
     "output_type": "stream",
     "text": [
      "-87.89265362925502 -87.89265559142254\n",
      "nan\n"
     ]
    }
   ],
   "source": [
    "print(stats.mean.real + stats.error_of_mean, stats.mean.real - stats.error_of_mean)"
   ]
  },
  {
   "cell_type": "code",
   "execution_count": 11,
   "metadata": {},
   "outputs": [],
   "source": [
    "err = stats.variance*stats.tau_corr_max"
   ]
  },
  {
   "cell_type": "code",
   "execution_count": 12,
   "metadata": {},
   "outputs": [
    {
     "data": {
      "text/plain": [
       "Array(1.46460856e-06, dtype=float64)"
      ]
     },
     "execution_count": 12,
     "metadata": {},
     "output_type": "execute_result"
    }
   ],
   "source": [
    "err"
   ]
  }
 ],
 "metadata": {
  "kernelspec": {
   "display_name": "Python 3 (ipykernel)",
   "language": "python",
   "name": "python3"
  },
  "language_info": {
   "codemirror_mode": {
    "name": "ipython",
    "version": 3
   },
   "file_extension": ".py",
   "mimetype": "text/x-python",
   "name": "python",
   "nbconvert_exporter": "python",
   "pygments_lexer": "ipython3",
   "version": "3.11.11"
  }
 },
 "nbformat": 4,
 "nbformat_minor": 2
}
