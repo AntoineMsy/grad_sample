{
 "cells": [
  {
   "cell_type": "code",
   "execution_count": 1,
   "metadata": {},
   "outputs": [],
   "source": [
    "import jax\n",
    "import jax.numpy as jnp\n",
    "from tqdm import tqdm\n",
    "import netket as nk\n",
    "import netket.jax as nkjax\n",
    "# import netket_pro as nkp\n",
    "import matplotlib.pyplot as plt\n",
    "import os\n",
    "os.environ[\"CUDA_VISIBLE_DEVICES\"] = \"2\"\n",
    "from tqdm import tqdm\n",
    "import jax.numpy as jnp\n",
    "import jax\n",
    "from grad_sample.utils.misc import compute_eloc\n",
    "from grad_sample.utils.distances import curved_dist, fs_dist, param_overlap\n",
    "from hydra import compose, initialize\n",
    "from omegaconf import OmegaConf\n",
    "from hydra.core.global_hydra import GlobalHydra\n",
    "from hydra.utils import instantiate\n",
    "from grad_sample.tasks.fullsum_analysis import FullSumPruning\n",
    "from grad_sample.tasks.fullsum_train import Trainer\n",
    "from grad_sample.utils.is_distrib import *\n",
    "from grad_sample.utils.plotting_setup import *\n",
    "from grad_sample.is_hpsi.expect import *\n",
    "from grad_sample.is_hpsi.qgt import QGTJacobianDenseImportanceSampling\n",
    "from grad_sample.is_hpsi.operator import IS_Operator"
   ]
  },
  {
   "cell_type": "code",
   "execution_count": 2,
   "metadata": {},
   "outputs": [],
   "source": [
    "%load_ext autoreload\n",
    "%autoreload 2"
   ]
  },
  {
   "cell_type": "code",
   "execution_count": 3,
   "metadata": {},
   "outputs": [
    {
     "name": "stdout",
     "output_type": "stream",
     "text": [
      "{'device': '2', 'solver_fn': {'_target_': 'netket.optimizer.solver.cholesky'}, 'lr': 0.005, 'n_iter': 2000, 'chunk_size_vmap': 100, 'save_every': 10, 'sample_size': 16, 'base_path': '/scratch/.amisery/grad_sample/', 'model': {'_target_': 'grad_sample.models.heisenberg.Heisenberg1d', 'J': 1.0, 'L': 14, 'sign_rule': False, 'acting_on_subspace': 0}, 'diag_shift': 0.0001, 'chunk_size_jac': 572, 'ansatz': {'_target_': 'netket.models.RBM', 'alpha': 3, 'param_dtype': 'complex'}, 'task': {'_target_': 'grad_sample.tasks.fullsum_train.Trainer'}}\n",
      "{'_target_': 'grad_sample.tasks.fullsum_train.Trainer'}\n",
      "{'_target_': 'netket.models.RBM', 'alpha': 3, 'param_dtype': 'complex'}\n",
      "MC state loaded, num samples 10304\n",
      "The ground state energy is: -25.054198134188105\n"
     ]
    }
   ],
   "source": [
    "if GlobalHydra().is_initialized():\n",
    "    GlobalHydra().clear()\n",
    "with initialize(version_base=None, config_path=\"config_xxz/.hydra/\"):\n",
    "    cfg = compose(config_name=\"config\")\n",
    "    OmegaConf.set_struct(cfg, True)\n",
    "    print(cfg)\n",
    "    print(cfg.task)\n",
    "    # cfg = OmegaConf.to_yaml(cfg)\n",
    "    # take any task from cfg and run it\n",
    "# analysis = FullSumPruning(cfg)\n",
    "trainer = Trainer(cfg)"
   ]
  },
  {
   "cell_type": "code",
   "execution_count": 4,
   "metadata": {},
   "outputs": [
    {
     "data": {
      "text/plain": [
       "13.9910-0.0023j ± 0.0023 [σ²=0.0550]"
      ]
     },
     "execution_count": 4,
     "metadata": {},
     "output_type": "execute_result"
    }
   ],
   "source": [
    "trainer.vstate.expect(trainer.model.H)"
   ]
  },
  {
   "cell_type": "code",
   "execution_count": 5,
   "metadata": {},
   "outputs": [],
   "source": [
    "H_sq = trainer.model.H @ trainer.model.H"
   ]
  },
  {
   "cell_type": "code",
   "execution_count": 7,
   "metadata": {},
   "outputs": [
    {
     "data": {
      "text/plain": [
       "195.793-0.055j ± 0.051 [σ²=26.124]"
      ]
     },
     "execution_count": 7,
     "metadata": {},
     "output_type": "execute_result"
    }
   ],
   "source": [
    "trainer.vstate.expect(H_sq)"
   ]
  },
  {
   "cell_type": "code",
   "execution_count": 11,
   "metadata": {},
   "outputs": [
    {
     "name": "stdout",
     "output_type": "stream",
     "text": [
      "(10304, 15, 15)\n",
      "(10304, 15)\n",
      "(195.79269124961968-0.055027856627976726j)\n",
      "(0.005104167452068567-5.896381272834455e-07j)\n"
     ]
    }
   ],
   "source": [
    "gamma = trainer.vstate.samples\n",
    "if gamma.ndim >= 3:\n",
    "    # use jit so that we can do it on global shared array\n",
    "    gamma = jax.jit(jax.lax.collapse, static_argnums=(1, 2))(gamma, 0, 2)\n",
    "apply_fun = trainer.vstate.model.apply\n",
    "params = {\"params\" : trainer.vstate.parameters}\n",
    "log_psi_gamma = apply_fun(params, gamma)\n",
    "sig_conn, H_sig_gamma = trainer.model.H.get_conn_padded(gamma)\n",
    "log_psi_sigma = apply_fun(params, sig_conn)\n",
    "\n",
    "eta_conn , H_sig_eta = trainer.model.H.get_conn_padded(sig_conn)\n",
    "print(H_sig_eta.shape)\n",
    "log_psi_eta = apply_fun(params, eta_conn)\n",
    "\n",
    "q_sig_gamma = H_sig_gamma.conj()/jnp.expand_dims(jnp.exp(log_psi_gamma), axis=-1)*jnp.sum(H_sig_eta * jnp.exp(log_psi_eta), axis= -1)\n",
    "\n",
    "A_sig = jnp.sum(H_sig_eta * jnp.exp(log_psi_eta- jnp.expand_dims(log_psi_sigma, axis=-1)), axis=-1)\n",
    "print(A_sig.shape)\n",
    "# Mc estim of energy\n",
    "H_mean = jnp.sum(q_sig_gamma*(1/A_sig.conj()))/gamma.size\n",
    "\n",
    "# H_sq estim:\n",
    "sq_conn , H_sq_mels = H_sq.get_conn_padded(gamma)\n",
    "log_psi_sq_conn = apply_fun(params, sq_conn)\n",
    "H_sq_loc = jnp.sum(H_sq_mels * jnp.exp(log_psi_sq_conn - jnp.expand_dims(log_psi_gamma, axis=-1)), axis=-1)\n",
    "H_sq_mean = jnp.mean(H_sq_loc)\n",
    "print(H_sq_mean)\n",
    "print(H_mean/H_sq_mean)"
   ]
  }
 ],
 "metadata": {
  "kernelspec": {
   "display_name": "netket",
   "language": "python",
   "name": "python3"
  },
  "language_info": {
   "codemirror_mode": {
    "name": "ipython",
    "version": 3
   },
   "file_extension": ".py",
   "mimetype": "text/x-python",
   "name": "python",
   "nbconvert_exporter": "python",
   "pygments_lexer": "ipython3",
   "version": "3.11.2"
  }
 },
 "nbformat": 4,
 "nbformat_minor": 2
}
