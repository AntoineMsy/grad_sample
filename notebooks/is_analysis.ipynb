{
 "cells": [
  {
   "cell_type": "code",
   "execution_count": 1,
   "metadata": {},
   "outputs": [],
   "source": [
    "import jax\n",
    "import jax.numpy as jnp\n",
    "from tqdm import tqdm\n",
    "import netket as nk\n",
    "import netket.jax as nkjax\n",
    "# import netket_pro as nkp\n",
    "import matplotlib.pyplot as plt\n",
    "import os\n",
    "os.environ[\"CUDA_VISIBLE_DEVICES\"] = \"2\"\n",
    "from tqdm import tqdm\n",
    "import jax.numpy as jnp\n",
    "import jax\n",
    "from grad_sample.utils.misc import compute_eloc\n",
    "from grad_sample.utils.distances import curved_dist, fs_dist, param_overlap\n",
    "from hydra import compose, initialize\n",
    "from omegaconf import OmegaConf\n",
    "from hydra.core.global_hydra import GlobalHydra\n",
    "from hydra.utils import instantiate\n",
    "from grad_sample.tasks.fullsum_analysis import FullSumPruning\n",
    "from grad_sample.tasks.fullsum_train import Trainer\n",
    "from grad_sample.utils.is_distrib import *\n",
    "from grad_sample.utils.plotting_setup import *\n",
    "from grad_sample.is_hpsi.expect import *\n",
    "from grad_sample.is_hpsi.qgt import QGTJacobianDenseImportanceSampling\n",
    "from grad_sample.is_hpsi.operator import IS_Operator"
   ]
  },
  {
   "cell_type": "code",
   "execution_count": 2,
   "metadata": {},
   "outputs": [],
   "source": [
    "%load_ext autoreload\n",
    "%autoreload 2"
   ]
  }
 ],
 "metadata": {
  "kernelspec": {
   "display_name": "netket",
   "language": "python",
   "name": "netket"
  },
  "language_info": {
   "codemirror_mode": {
    "name": "ipython",
    "version": 3
   },
   "file_extension": ".py",
   "mimetype": "text/x-python",
   "name": "python",
   "nbconvert_exporter": "python",
   "pygments_lexer": "ipython3",
   "version": "3.11.2"
  }
 },
 "nbformat": 4,
 "nbformat_minor": 2
}
