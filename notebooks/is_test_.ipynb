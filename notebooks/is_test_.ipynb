{
 "cells": [
  {
   "cell_type": "code",
   "execution_count": 27,
   "metadata": {},
   "outputs": [],
   "source": [
    "import jax\n",
    "import jax.numpy as jnp\n",
    "from tqdm import tqdm\n",
    "import netket as nk\n",
    "import netket.jax as nkjax\n",
    "# import netket_pro as nkp\n",
    "import matplotlib.pyplot as plt\n",
    "import os\n",
    "os.environ[\"CUDA_VISIBLE_DEVICES\"] = \"2\"\n",
    "from tqdm import tqdm\n",
    "import jax.numpy as jnp\n",
    "import jax\n",
    "from grad_sample.utils.misc import compute_eloc\n",
    "from grad_sample.utils.distances import curved_dist, fs_dist, param_overlap\n",
    "from hydra import compose, initialize\n",
    "from omegaconf import OmegaConf\n",
    "from hydra.core.global_hydra import GlobalHydra\n",
    "from hydra.utils import instantiate\n",
    "from grad_sample.tasks.fullsum_analysis import FullSumPruning\n",
    "from grad_sample.tasks.fullsum_train import Trainer\n",
    "from grad_sample.utils.is_distrib import *\n",
    "from grad_sample.utils.plotting_setup import *\n",
    "from grad_sample.is_hpsi.expect import *"
   ]
  },
  {
   "cell_type": "code",
   "execution_count": 28,
   "metadata": {},
   "outputs": [
    {
     "name": "stdout",
     "output_type": "stream",
     "text": [
      "The autoreload extension is already loaded. To reload it, use:\n",
      "  %reload_ext autoreload\n"
     ]
    }
   ],
   "source": [
    "%load_ext autoreload\n",
    "%autoreload 2"
   ]
  },
  {
   "cell_type": "code",
   "execution_count": 29,
   "metadata": {},
   "outputs": [
    {
     "name": "stdout",
     "output_type": "stream",
     "text": [
      "{'device': '2', 'solver_fn': {'_target_': 'netket.optimizer.solver.cholesky'}, 'lr': 0.005, 'n_iter': 2000, 'chunk_size_jac': 529, 'chunk_size_vmap': 100, 'save_every': 10, 'sample_size': 1000, 'base_path': '/scratch/.amisery/grad_sample/', 'model': {'_target_': 'grad_sample.models.ising.TFI', 'h': 1.0, 'L': 3}, 'diag_shift': 1e-10, 'ansatz': {'_target_': 'netket.models.RBM', 'alpha': 1, 'param_dtype': 'complex'}, 'task': {'_target_': 'grad_sample.tasks.fullsum_train.Trainer'}}\n",
      "{'_target_': 'grad_sample.tasks.fullsum_train.Trainer'}\n",
      "{'_target_': 'netket.models.RBM', 'alpha': 1, 'param_dtype': 'complex'}\n",
      "MC state loaded, num samples 99000\n",
      "The ground state energy is: -12.019894878851488\n"
     ]
    }
   ],
   "source": [
    "if GlobalHydra().is_initialized():\n",
    "    GlobalHydra().clear()\n",
    "with initialize(version_base=None, config_path=\"config_xxz/.hydra/\"):\n",
    "    cfg = compose(config_name=\"config\")\n",
    "    OmegaConf.set_struct(cfg, True)\n",
    "    print(cfg)\n",
    "    print(cfg.task)\n",
    "    # cfg = OmegaConf.to_yaml(cfg)\n",
    "    # take any task from cfg and run it\n",
    "# analysis = FullSumPruning(cfg)\n",
    "trainer = Trainer(cfg)"
   ]
  },
  {
   "cell_type": "code",
   "execution_count": 30,
   "metadata": {},
   "outputs": [],
   "source": [
    "from grad_sample.is_hpsi.operator import IS_Operator"
   ]
  },
  {
   "cell_type": "code",
   "execution_count": 31,
   "metadata": {},
   "outputs": [],
   "source": [
    "is_op = IS_Operator(operator = trainer.model.H_jax)"
   ]
  },
  {
   "cell_type": "code",
   "execution_count": 32,
   "metadata": {},
   "outputs": [
    {
     "data": {
      "text/plain": [
       "-8.994-0.000j ± 0.013 [σ²=17.995]"
      ]
     },
     "execution_count": 32,
     "metadata": {},
     "output_type": "execute_result"
    }
   ],
   "source": [
    "# no is, calculations done with vstate\n",
    "trainer.vstate.expect(trainer.model.H_jax)"
   ]
  },
  {
   "cell_type": "code",
   "execution_count": 33,
   "metadata": {},
   "outputs": [],
   "source": [
    "opt = nk.optimizer.Sgd(learning_rate=0.05)\n",
    "gs_is = nk.VMC(is_op, opt, variational_state=trainer.vstate)"
   ]
  },
  {
   "cell_type": "code",
   "execution_count": 34,
   "metadata": {},
   "outputs": [
    {
     "name": "stdout",
     "output_type": "stream",
     "text": [
      "calling IS expect function\n"
     ]
    },
    {
     "data": {
      "text/plain": [
       "-9.061+0.000j ± 0.015 [σ²=17.513]"
      ]
     },
     "execution_count": 34,
     "metadata": {},
     "output_type": "execute_result"
    }
   ],
   "source": [
    "gs_is.state.expect(is_op)"
   ]
  },
  {
   "cell_type": "code",
   "execution_count": 35,
   "metadata": {},
   "outputs": [],
   "source": [
    "exp, force_psi = trainer.vstate.expect_and_forces(trainer.model.H_jax);"
   ]
  },
  {
   "cell_type": "code",
   "execution_count": 36,
   "metadata": {},
   "outputs": [],
   "source": [
    "exp, force_hpsi =  gs_is.state.expect_and_forces(is_op)"
   ]
  },
  {
   "cell_type": "code",
   "execution_count": 37,
   "metadata": {},
   "outputs": [],
   "source": [
    "vstate_fs = nk.vqs.FullSumState(hilbert=trainer.model.hi, model=trainer.ansatz, chunk_size=trainer.chunk_size, seed=0)"
   ]
  },
  {
   "cell_type": "code",
   "execution_count": 38,
   "metadata": {},
   "outputs": [],
   "source": [
    "fs_e, force_fs = vstate_fs.expect_and_forces(trainer.model.H_jax)"
   ]
  },
  {
   "cell_type": "code",
   "execution_count": 39,
   "metadata": {},
   "outputs": [
    {
     "data": {
      "text/plain": [
       "-8.999e+00+8.674e-19j ± 0.000e+00 [σ²=1.799e+01]"
      ]
     },
     "execution_count": 39,
     "metadata": {},
     "output_type": "execute_result"
    }
   ],
   "source": [
    "fs_e"
   ]
  },
  {
   "cell_type": "code",
   "execution_count": 40,
   "metadata": {},
   "outputs": [
    {
     "data": {
      "text/plain": [
       "{'Dense': {'bias': Array([0.80200407, 0.71492321, 0.77877045, 0.72721456, 1.39375299,\n",
       "         1.18401654, 0.66050903, 1.37631275, 0.87865644], dtype=float64),\n",
       "  'kernel': Array([[0.98613843, 1.0004671 , 0.99714517, 0.8663101 , 0.99123658,\n",
       "          1.00329971, 0.998728  , 1.0099765 , 0.94008266],\n",
       "         [0.99452459, 1.01849637, 1.0151408 , 1.01237536, 0.94941663,\n",
       "          0.95519367, 0.96369056, 1.00821689, 0.99276784],\n",
       "         [0.99461843, 1.00263253, 1.00849126, 1.01056971, 1.03552404,\n",
       "          1.00415478, 0.96224512, 0.96941046, 1.02204975],\n",
       "         [0.98817727, 0.98867954, 1.06243627, 0.98409622, 1.01084305,\n",
       "          0.999002  , 0.99635892, 0.98127486, 0.91137643],\n",
       "         [1.00083866, 0.97943217, 1.00613207, 1.0183052 , 0.96577039,\n",
       "          0.97998638, 1.08679391, 0.99392406, 1.0197336 ],\n",
       "         [1.00167082, 1.01285716, 1.00265761, 0.98487206, 0.98487132,\n",
       "          1.04312933, 1.01845382, 0.99788264, 1.03529333],\n",
       "         [0.99622686, 0.99414851, 0.9058706 , 0.98321878, 1.02363092,\n",
       "          0.9904337 , 1.00900609, 0.99777636, 1.00270423],\n",
       "         [1.00378368, 0.99958489, 1.00760095, 0.99500058, 0.99902065,\n",
       "          1.00818039, 0.9931169 , 0.9968767 , 1.04118508],\n",
       "         [1.0232623 , 1.02292148, 1.00929573, 1.00515727, 1.09434558,\n",
       "          0.97802357, 1.10283257, 1.00557471, 1.00814326]], dtype=float64)},\n",
       " 'visible_bias': Array([0.32808093, 0.70365571, 0.79802643, 0.79491205, 0.41085414,\n",
       "        1.48295392, 0.80029065, 1.10504479, 0.47239815], dtype=float64)}"
      ]
     },
     "execution_count": 40,
     "metadata": {},
     "output_type": "execute_result"
    }
   ],
   "source": [
    "jax.tree_util.tree_map(lambda x,y: jnp.abs(x/y), force_fs, force_psi)"
   ]
  },
  {
   "cell_type": "code",
   "execution_count": 41,
   "metadata": {},
   "outputs": [
    {
     "data": {
      "text/plain": [
       "{'Dense': {'bias': Array([2.02971367, 0.14530042, 0.55961618, 0.58379928, 0.59781475,\n",
       "         0.93865656, 0.7519104 , 0.3036536 , 0.19896532], dtype=float64),\n",
       "  'kernel': Array([[0.99004084, 0.99607277, 0.96353237, 0.66489415, 1.09936149,\n",
       "          1.09574807, 0.87306474, 1.15670332, 0.93469459],\n",
       "         [1.0028826 , 1.03298743, 0.98477257, 0.99497506, 1.04961052,\n",
       "          1.17537479, 1.00034849, 1.03625132, 1.00851914],\n",
       "         [1.05827409, 1.19441705, 0.95470828, 0.98844495, 0.82317456,\n",
       "          1.03392214, 1.61073845, 1.10819005, 1.00745805],\n",
       "         [1.07812843, 1.05350461, 0.94263376, 1.10600695, 0.91602707,\n",
       "          1.0200935 , 0.96340718, 1.07538043, 1.34716478],\n",
       "         [1.01462202, 0.9989614 , 0.97581719, 1.0107022 , 0.98828183,\n",
       "          1.0601734 , 0.91289388, 0.96875192, 1.01114081],\n",
       "         [0.96336258, 1.05626124, 0.96720576, 1.04344203, 0.96493344,\n",
       "          1.036487  , 1.06161486, 1.03615628, 0.93728672],\n",
       "         [1.0339755 , 1.08054995, 1.94438036, 0.94715659, 1.14655785,\n",
       "          1.03368426, 1.03059063, 1.09431951, 1.00367861],\n",
       "         [1.04526224, 1.06876214, 0.98755314, 1.0136352 , 1.02372295,\n",
       "          1.06659022, 1.12492884, 1.20956613, 1.03948515],\n",
       "         [1.04464673, 0.94676408, 1.04379615, 1.06966109, 1.0489179 ,\n",
       "          1.15395145, 0.73227363, 1.04778074, 1.02612503]], dtype=float64)},\n",
       " 'visible_bias': Array([0.04545585, 0.33010365, 0.29628282, 0.32347608, 0.10925848,\n",
       "        2.23673709, 0.80107   , 0.17375728, 0.23002225], dtype=float64)}"
      ]
     },
     "execution_count": 41,
     "metadata": {},
     "output_type": "execute_result"
    }
   ],
   "source": [
    "jax.tree_util.tree_map(lambda x,y: jnp.abs(x/y), force_fs, force_hpsi)"
   ]
  }
 ],
 "metadata": {
  "kernelspec": {
   "display_name": "netket",
   "language": "python",
   "name": "netket"
  },
  "language_info": {
   "codemirror_mode": {
    "name": "ipython",
    "version": 3
   },
   "file_extension": ".py",
   "mimetype": "text/x-python",
   "name": "python",
   "nbconvert_exporter": "python",
   "pygments_lexer": "ipython3",
   "version": "3.11.2"
  }
 },
 "nbformat": 4,
 "nbformat_minor": 2
}
