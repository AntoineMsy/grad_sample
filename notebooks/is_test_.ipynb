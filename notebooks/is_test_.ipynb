{
 "cells": [
  {
   "cell_type": "code",
   "execution_count": 1,
   "metadata": {},
   "outputs": [],
   "source": [
    "import jax\n",
    "import jax.numpy as jnp\n",
    "from tqdm import tqdm\n",
    "import netket as nk\n",
    "import netket.jax as nkjax\n",
    "# import netket_pro as nkp\n",
    "import matplotlib.pyplot as plt\n",
    "import os\n",
    "os.environ[\"CUDA_VISIBLE_DEVICES\"] = \"2\"\n",
    "from tqdm import tqdm\n",
    "import jax.numpy as jnp\n",
    "import jax\n",
    "from grad_sample.utils.misc import compute_eloc\n",
    "from grad_sample.utils.distances import curved_dist, fs_dist, param_overlap\n",
    "from hydra import compose, initialize\n",
    "from omegaconf import OmegaConf\n",
    "from hydra.core.global_hydra import GlobalHydra\n",
    "from hydra.utils import instantiate\n",
    "from grad_sample.tasks.fullsum_analysis import FullSumPruning\n",
    "from grad_sample.tasks.fullsum_train import Trainer\n",
    "from grad_sample.utils.is_distrib import *\n",
    "from grad_sample.utils.plotting_setup import *\n",
    "from grad_sample.is_hpsi.expect import *\n",
    "from grad_sample.is_hpsi.qgt import QGTJacobianDenseImportanceSampling\n",
    "from grad_sample.is_hpsi.operator import IS_Operator"
   ]
  },
  {
   "cell_type": "code",
   "execution_count": 2,
   "metadata": {},
   "outputs": [],
   "source": [
    "%load_ext autoreload\n",
    "%autoreload 2"
   ]
  },
  {
   "cell_type": "code",
   "execution_count": 3,
   "metadata": {},
   "outputs": [
    {
     "name": "stdout",
     "output_type": "stream",
     "text": [
      "{'device': '2', 'solver_fn': {'_target_': 'netket.optimizer.solver.cholesky'}, 'lr': 0.005, 'n_iter': 2000, 'chunk_size_vmap': 100, 'save_every': 10, 'sample_size': 16, 'base_path': '/scratch/.amisery/grad_sample/', 'model': {'_target_': 'grad_sample.models.heisenberg.Heisenberg1d', 'J': 1.0, 'L': 14, 'sign_rule': False, 'acting_on_subspace': 0}, 'diag_shift': 0.0001, 'chunk_size_jac': 572, 'ansatz': {'_target_': 'netket.models.RBM', 'alpha': 3, 'param_dtype': 'complex'}, 'task': {'_target_': 'grad_sample.tasks.fullsum_train.Trainer'}}\n",
      "{'_target_': 'grad_sample.tasks.fullsum_train.Trainer'}\n",
      "{'_target_': 'netket.models.RBM', 'alpha': 3, 'param_dtype': 'complex'}\n",
      "MC state loaded, num samples 10304\n",
      "The ground state energy is: -25.054198134188105\n"
     ]
    }
   ],
   "source": [
    "if GlobalHydra().is_initialized():\n",
    "    GlobalHydra().clear()\n",
    "with initialize(version_base=None, config_path=\"config_xxz/.hydra/\"):\n",
    "    cfg = compose(config_name=\"config\")\n",
    "    OmegaConf.set_struct(cfg, True)\n",
    "    print(cfg)\n",
    "    print(cfg.task)\n",
    "    # cfg = OmegaConf.to_yaml(cfg)\n",
    "    # take any task from cfg and run it\n",
    "# analysis = FullSumPruning(cfg)\n",
    "trainer = Trainer(cfg)"
   ]
  },
  {
   "cell_type": "code",
   "execution_count": 4,
   "metadata": {},
   "outputs": [],
   "source": [
    "is_op = IS_Operator(operator = trainer.model.H_jax)"
   ]
  },
  {
   "cell_type": "code",
   "execution_count": 5,
   "metadata": {},
   "outputs": [
    {
     "data": {
      "text/plain": [
       "13.9910-0.0023j ± 0.0023 [σ²=0.0550]"
      ]
     },
     "execution_count": 5,
     "metadata": {},
     "output_type": "execute_result"
    }
   ],
   "source": [
    "# no is, calculations done with vstate\n",
    "trainer.vstate.expect(trainer.model.H_jax)"
   ]
  },
  {
   "cell_type": "code",
   "execution_count": 6,
   "metadata": {},
   "outputs": [
    {
     "name": "stderr",
     "output_type": "stream",
     "text": [
      "/scratch/.amisery/netket/lib/python3.11/site-packages/netket/utils/struct/pytree.py:55: UserWarning: Constructing the SR object with `SR(qgt= MyQGTType({'diag_scale', 'diag_shift'}))` can lead to unexpected results and has been deprecated, because the keyword arguments specified in the QGTType are overwritten by those specified by the SR class and its defaults.\n",
      "\n",
      "To fix this, construct SR as  `SR(qgt=MyQGTType, {'diag_scale': None, 'diag_shift': 0.0})` .\n",
      "\n",
      "In the future, this warning will become an error.\n",
      "  obj.__init__(*args, **kwargs)\n"
     ]
    },
    {
     "name": "stdout",
     "output_type": "stream",
     "text": [
      "ED: [-25.05419813]\n"
     ]
    }
   ],
   "source": [
    "qgt1 =QGTJacobianDenseImportanceSampling(\n",
    "    importance_operator=is_op, chunk_size=trainer.chunk_size_jac\n",
    ")\n",
    "sr_is = nk.optimizer.SR(qgt=qgt1, diag_shift=1e-4, solver=nk.optimizer.solver.cholesky, holomorphic=True)\n",
    "\n",
    "print(\"ED:\", nk.exact.lanczos_ed(is_op.operator))\n",
    "\n",
    "log = nk.logging.RuntimeLog()"
   ]
  },
  {
   "cell_type": "code",
   "execution_count": 7,
   "metadata": {},
   "outputs": [
    {
     "data": {
      "application/vnd.jupyter.widget-view+json": {
       "model_id": "35f90fa106db429bb867c30bb40e182c",
       "version_major": 2,
       "version_minor": 0
      },
      "text/plain": [
       "  0%|          | 0/2000 [00:00<?, ?it/s]"
      ]
     },
     "metadata": {},
     "output_type": "display_data"
    },
    {
     "ename": "KeyboardInterrupt",
     "evalue": "",
     "output_type": "error",
     "traceback": [
      "\u001b[0;31m---------------------------------------------------------------------------\u001b[0m",
      "\u001b[0;31mKeyboardInterrupt\u001b[0m                         Traceback (most recent call last)",
      "Cell \u001b[0;32mIn[7], line 5\u001b[0m\n\u001b[1;32m      3\u001b[0m sr \u001b[38;5;241m=\u001b[39m nk\u001b[38;5;241m.\u001b[39moptimizer\u001b[38;5;241m.\u001b[39mSR(solver\u001b[38;5;241m=\u001b[39mnk\u001b[38;5;241m.\u001b[39moptimizer\u001b[38;5;241m.\u001b[39msolver\u001b[38;5;241m.\u001b[39mcholesky, diag_shift\u001b[38;5;241m=\u001b[39m\u001b[38;5;241m1e-4\u001b[39m, holomorphic\u001b[38;5;241m=\u001b[39m \u001b[38;5;28;01mTrue\u001b[39;00m)\n\u001b[1;32m      4\u001b[0m gs_is \u001b[38;5;241m=\u001b[39m nk\u001b[38;5;241m.\u001b[39mVMC(is_op, opt, variational_state\u001b[38;5;241m=\u001b[39mtrainer\u001b[38;5;241m.\u001b[39mvstate, preconditioner\u001b[38;5;241m=\u001b[39msr_is)\n\u001b[0;32m----> 5\u001b[0m \u001b[43mgs_is\u001b[49m\u001b[38;5;241;43m.\u001b[39;49m\u001b[43mrun\u001b[49m\u001b[43m(\u001b[49m\u001b[43mn_iter\u001b[49m\u001b[38;5;241;43m=\u001b[39;49m\u001b[38;5;241;43m2000\u001b[39;49m\u001b[43m)\u001b[49m\n\u001b[1;32m      6\u001b[0m \u001b[38;5;66;03m# trainer.gs.run(n_iter=100)\u001b[39;00m\n",
      "File \u001b[0;32m/scratch/.amisery/netket/lib/python3.11/site-packages/netket/driver/abstract_variational_driver.py:354\u001b[0m, in \u001b[0;36mAbstractVariationalDriver.run\u001b[0;34m(self, n_iter, out, obs, step_size, show_progress, save_params_every, write_every, callback, timeit)\u001b[0m\n\u001b[1;32m    351\u001b[0m \u001b[38;5;66;03m# if the cost-function is defined then report it in the progress bar\u001b[39;00m\n\u001b[1;32m    352\u001b[0m \u001b[38;5;28;01mif\u001b[39;00m \u001b[38;5;28mself\u001b[39m\u001b[38;5;241m.\u001b[39m_loss_stats \u001b[38;5;129;01mis\u001b[39;00m \u001b[38;5;129;01mnot\u001b[39;00m \u001b[38;5;28;01mNone\u001b[39;00m:\n\u001b[1;32m    353\u001b[0m     pbar\u001b[38;5;241m.\u001b[39mset_postfix_str(\n\u001b[0;32m--> 354\u001b[0m         \u001b[38;5;28mself\u001b[39m\u001b[38;5;241m.\u001b[39m_loss_name \u001b[38;5;241m+\u001b[39m \u001b[38;5;124m\"\u001b[39m\u001b[38;5;124m=\u001b[39m\u001b[38;5;124m\"\u001b[39m \u001b[38;5;241m+\u001b[39m \u001b[38;5;28mstr\u001b[39m(\u001b[38;5;28mself\u001b[39m\u001b[38;5;241m.\u001b[39m_loss_stats)\n\u001b[1;32m    355\u001b[0m     )\n\u001b[1;32m    356\u001b[0m     log_data[\u001b[38;5;28mself\u001b[39m\u001b[38;5;241m.\u001b[39m_loss_name] \u001b[38;5;241m=\u001b[39m \u001b[38;5;28mself\u001b[39m\u001b[38;5;241m.\u001b[39m_loss_stats\n\u001b[1;32m    358\u001b[0m \u001b[38;5;66;03m# Execute callbacks before loggers because they can append to log_data\u001b[39;00m\n",
      "File \u001b[0;32m/scratch/.amisery/netket/lib/python3.11/site-packages/netket/stats/mc_stats.py:113\u001b[0m, in \u001b[0;36mStats.__repr__\u001b[0;34m(self)\u001b[0m\n\u001b[1;32m    110\u001b[0m \u001b[38;5;28;01mdef\u001b[39;00m \u001b[38;5;21m__repr__\u001b[39m(\u001b[38;5;28mself\u001b[39m):\n\u001b[1;32m    111\u001b[0m     \u001b[38;5;66;03m# extract adressable data from fully replicated arrays\u001b[39;00m\n\u001b[1;32m    112\u001b[0m     \u001b[38;5;28mself\u001b[39m \u001b[38;5;241m=\u001b[39m extract_replicated(\u001b[38;5;28mself\u001b[39m)\n\u001b[0;32m--> 113\u001b[0m     mean, err, var \u001b[38;5;241m=\u001b[39m \u001b[43m_format_decimal\u001b[49m\u001b[43m(\u001b[49m\u001b[38;5;28;43mself\u001b[39;49m\u001b[38;5;241;43m.\u001b[39;49m\u001b[43mmean\u001b[49m\u001b[43m,\u001b[49m\u001b[43m \u001b[49m\u001b[38;5;28;43mself\u001b[39;49m\u001b[38;5;241;43m.\u001b[39;49m\u001b[43merror_of_mean\u001b[49m\u001b[43m,\u001b[49m\u001b[43m \u001b[49m\u001b[38;5;28;43mself\u001b[39;49m\u001b[38;5;241;43m.\u001b[39;49m\u001b[43mvariance\u001b[49m\u001b[43m)\u001b[49m\n\u001b[1;32m    114\u001b[0m     \u001b[38;5;28;01mif\u001b[39;00m \u001b[38;5;129;01mnot\u001b[39;00m math\u001b[38;5;241m.\u001b[39misnan(\u001b[38;5;28mself\u001b[39m\u001b[38;5;241m.\u001b[39mR_hat):\n\u001b[1;32m    115\u001b[0m         ext \u001b[38;5;241m=\u001b[39m \u001b[38;5;124mf\u001b[39m\u001b[38;5;124m\"\u001b[39m\u001b[38;5;124m, R̂=\u001b[39m\u001b[38;5;132;01m{\u001b[39;00m\u001b[38;5;28mself\u001b[39m\u001b[38;5;241m.\u001b[39mR_hat\u001b[38;5;132;01m:\u001b[39;00m\u001b[38;5;124m.4f\u001b[39m\u001b[38;5;132;01m}\u001b[39;00m\u001b[38;5;124m\"\u001b[39m\n",
      "File \u001b[0;32m/scratch/.amisery/netket/lib/python3.11/site-packages/netket/stats/mc_stats.py:31\u001b[0m, in \u001b[0;36m_format_decimal\u001b[0;34m(value, std, var)\u001b[0m\n\u001b[1;32m     30\u001b[0m \u001b[38;5;28;01mdef\u001b[39;00m \u001b[38;5;21m_format_decimal\u001b[39m(value, std, var):\n\u001b[0;32m---> 31\u001b[0m     \u001b[38;5;28;01mif\u001b[39;00m math\u001b[38;5;241m.\u001b[39misfinite(std) \u001b[38;5;129;01mand\u001b[39;00m std \u001b[38;5;241m>\u001b[39m \u001b[38;5;241m1e-7\u001b[39m:\n\u001b[1;32m     32\u001b[0m         decimals \u001b[38;5;241m=\u001b[39m \u001b[38;5;28mmax\u001b[39m(\u001b[38;5;28mint\u001b[39m(np\u001b[38;5;241m.\u001b[39mceil(\u001b[38;5;241m-\u001b[39mnp\u001b[38;5;241m.\u001b[39mlog10(std))), \u001b[38;5;241m0\u001b[39m)\n\u001b[1;32m     33\u001b[0m         \u001b[38;5;28;01mreturn\u001b[39;00m (\n\u001b[1;32m     34\u001b[0m             \u001b[38;5;124m\"\u001b[39m\u001b[38;5;124m{\u001b[39m\u001b[38;5;124m0:.\u001b[39m\u001b[38;5;132;01m{1}\u001b[39;00m\u001b[38;5;124mf}\u001b[39m\u001b[38;5;124m\"\u001b[39m\u001b[38;5;241m.\u001b[39mformat(value, decimals \u001b[38;5;241m+\u001b[39m \u001b[38;5;241m1\u001b[39m),\n\u001b[1;32m     35\u001b[0m             \u001b[38;5;124m\"\u001b[39m\u001b[38;5;124m{\u001b[39m\u001b[38;5;124m0:.\u001b[39m\u001b[38;5;132;01m{1}\u001b[39;00m\u001b[38;5;124mf}\u001b[39m\u001b[38;5;124m\"\u001b[39m\u001b[38;5;241m.\u001b[39mformat(std, decimals \u001b[38;5;241m+\u001b[39m \u001b[38;5;241m1\u001b[39m),\n\u001b[1;32m     36\u001b[0m             \u001b[38;5;124m\"\u001b[39m\u001b[38;5;124m{\u001b[39m\u001b[38;5;124m0:.\u001b[39m\u001b[38;5;132;01m{1}\u001b[39;00m\u001b[38;5;124mf}\u001b[39m\u001b[38;5;124m\"\u001b[39m\u001b[38;5;241m.\u001b[39mformat(var, decimals \u001b[38;5;241m+\u001b[39m \u001b[38;5;241m1\u001b[39m),\n\u001b[1;32m     37\u001b[0m         )\n",
      "File \u001b[0;32m/scratch/.amisery/netket/lib/python3.11/site-packages/jax/_src/array.py:294\u001b[0m, in \u001b[0;36mArrayImpl.__bool__\u001b[0;34m(self)\u001b[0m\n\u001b[1;32m    292\u001b[0m \u001b[38;5;28;01mdef\u001b[39;00m \u001b[38;5;21m__bool__\u001b[39m(\u001b[38;5;28mself\u001b[39m):\n\u001b[1;32m    293\u001b[0m   core\u001b[38;5;241m.\u001b[39mcheck_bool_conversion(\u001b[38;5;28mself\u001b[39m)\n\u001b[0;32m--> 294\u001b[0m   \u001b[38;5;28;01mreturn\u001b[39;00m \u001b[38;5;28mbool\u001b[39m(\u001b[38;5;28;43mself\u001b[39;49m\u001b[38;5;241;43m.\u001b[39;49m\u001b[43m_value\u001b[49m)\n",
      "File \u001b[0;32m/scratch/.amisery/netket/lib/python3.11/site-packages/jax/_src/profiler.py:333\u001b[0m, in \u001b[0;36mannotate_function.<locals>.wrapper\u001b[0;34m(*args, **kwargs)\u001b[0m\n\u001b[1;32m    330\u001b[0m \u001b[38;5;129m@wraps\u001b[39m(func)\n\u001b[1;32m    331\u001b[0m \u001b[38;5;28;01mdef\u001b[39;00m \u001b[38;5;21mwrapper\u001b[39m(\u001b[38;5;241m*\u001b[39margs, \u001b[38;5;241m*\u001b[39m\u001b[38;5;241m*\u001b[39mkwargs):\n\u001b[1;32m    332\u001b[0m   \u001b[38;5;28;01mwith\u001b[39;00m TraceAnnotation(name, \u001b[38;5;241m*\u001b[39m\u001b[38;5;241m*\u001b[39mdecorator_kwargs):\n\u001b[0;32m--> 333\u001b[0m     \u001b[38;5;28;01mreturn\u001b[39;00m \u001b[43mfunc\u001b[49m\u001b[43m(\u001b[49m\u001b[38;5;241;43m*\u001b[39;49m\u001b[43margs\u001b[49m\u001b[43m,\u001b[49m\u001b[43m \u001b[49m\u001b[38;5;241;43m*\u001b[39;49m\u001b[38;5;241;43m*\u001b[39;49m\u001b[43mkwargs\u001b[49m\u001b[43m)\u001b[49m\n\u001b[1;32m    334\u001b[0m   \u001b[38;5;28;01mreturn\u001b[39;00m wrapper\n",
      "File \u001b[0;32m/scratch/.amisery/netket/lib/python3.11/site-packages/jax/_src/array.py:628\u001b[0m, in \u001b[0;36mArrayImpl._value\u001b[0;34m(self)\u001b[0m\n\u001b[1;32m    626\u001b[0m \u001b[38;5;28;01mif\u001b[39;00m \u001b[38;5;28mself\u001b[39m\u001b[38;5;241m.\u001b[39m_npy_value \u001b[38;5;129;01mis\u001b[39;00m \u001b[38;5;28;01mNone\u001b[39;00m:\n\u001b[1;32m    627\u001b[0m   \u001b[38;5;28;01mif\u001b[39;00m \u001b[38;5;28mself\u001b[39m\u001b[38;5;241m.\u001b[39mis_fully_replicated:\n\u001b[0;32m--> 628\u001b[0m     \u001b[38;5;28mself\u001b[39m\u001b[38;5;241m.\u001b[39m_npy_value \u001b[38;5;241m=\u001b[39m \u001b[38;5;28;43mself\u001b[39;49m\u001b[38;5;241;43m.\u001b[39;49m\u001b[43m_single_device_array_to_np_array\u001b[49m\u001b[43m(\u001b[49m\u001b[43m)\u001b[49m\n\u001b[1;32m    629\u001b[0m     \u001b[38;5;28mself\u001b[39m\u001b[38;5;241m.\u001b[39m_npy_value\u001b[38;5;241m.\u001b[39mflags\u001b[38;5;241m.\u001b[39mwriteable \u001b[38;5;241m=\u001b[39m \u001b[38;5;28;01mFalse\u001b[39;00m\n\u001b[1;32m    630\u001b[0m     \u001b[38;5;28;01mreturn\u001b[39;00m cast(np\u001b[38;5;241m.\u001b[39mndarray, \u001b[38;5;28mself\u001b[39m\u001b[38;5;241m.\u001b[39m_npy_value)\n",
      "\u001b[0;31mKeyboardInterrupt\u001b[0m: "
     ]
    }
   ],
   "source": [
    "opt = nk.optimizer.Sgd(learning_rate=0.005)\n",
    "op = trainer.model.H\n",
    "sr = nk.optimizer.SR(solver=nk.optimizer.solver.cholesky, diag_shift=1e-4, holomorphic= True)\n",
    "gs_is = nk.VMC(is_op, opt, variational_state=trainer.vstate, preconditioner=sr_is)\n",
    "gs_is.run(n_iter=2000)\n",
    "# trainer.gs.run(n_iter=100)"
   ]
  },
  {
   "cell_type": "code",
   "execution_count": null,
   "metadata": {},
   "outputs": [
    {
     "name": "stdout",
     "output_type": "stream",
     "text": [
      "calling IS expect function\n"
     ]
    },
    {
     "data": {
      "text/plain": [
       "-12.0098+0.0010j ± 0.0024 [σ²=0.0880]"
      ]
     },
     "execution_count": 9,
     "metadata": {},
     "output_type": "execute_result"
    }
   ],
   "source": [
    "gs_is.state.expect(is_op)"
   ]
  },
  {
   "cell_type": "code",
   "execution_count": null,
   "metadata": {},
   "outputs": [],
   "source": [
    "exp, force_psi = trainer.vstate.expect_and_forces(trainer.model.H_jax);"
   ]
  },
  {
   "cell_type": "code",
   "execution_count": null,
   "metadata": {},
   "outputs": [],
   "source": [
    "exp, force_hpsi =  gs_is.state.expect_and_forces(is_op)"
   ]
  },
  {
   "cell_type": "code",
   "execution_count": null,
   "metadata": {},
   "outputs": [],
   "source": [
    "vstate_fs = nk.vqs.FullSumState(hilbert=trainer.model.hi, model=trainer.ansatz, chunk_size=trainer.chunk_size, seed=0)"
   ]
  },
  {
   "cell_type": "code",
   "execution_count": null,
   "metadata": {},
   "outputs": [],
   "source": [
    "fs_e, force_fs = vstate_fs.expect_and_forces(trainer.model.H_jax)"
   ]
  },
  {
   "cell_type": "code",
   "execution_count": null,
   "metadata": {},
   "outputs": [
    {
     "data": {
      "text/plain": [
       "-8.999e+00-1.735e-18j ± 0.000e+00 [σ²=1.799e+01]"
      ]
     },
     "execution_count": 14,
     "metadata": {},
     "output_type": "execute_result"
    }
   ],
   "source": [
    "fs_e"
   ]
  },
  {
   "cell_type": "code",
   "execution_count": null,
   "metadata": {},
   "outputs": [
    {
     "data": {
      "text/plain": [
       "{'Dense': {'bias': Array([0.93092402, 0.19469222, 0.60256542, 0.8036909 , 0.34496903,\n",
       "         0.43552084, 0.17513618, 0.64318799, 3.97186977], dtype=float64),\n",
       "  'kernel': Array([[ 14.94007571,   6.90408318,  15.42507549,   2.96411414,\n",
       "           14.23575427,   4.3459032 ,  25.14661862,   7.8418824 ,\n",
       "            7.68163779],\n",
       "         [ 13.89436609,  18.29542463,  10.73803377,  17.07277434,\n",
       "           23.18548465,  11.3972946 ,   9.46632964,  17.70094328,\n",
       "            7.63903291],\n",
       "         [  4.87370661,   4.4401314 ,  18.63329821,  60.03650311,\n",
       "            5.54178775,   8.5246653 ,   8.05146881,   4.54279373,\n",
       "           41.89261462],\n",
       "         [ 12.79485815,  19.60852314,   2.85288104,  17.0839438 ,\n",
       "            3.54469869,   5.41633179,   4.54571301,  23.10802942,\n",
       "            1.34889913],\n",
       "         [ 19.29749448,  10.68603671,  25.43181035,   7.30196509,\n",
       "            7.06289746,  13.45059398,  13.43261433,  24.2749312 ,\n",
       "           10.8381639 ],\n",
       "         [  7.87447127,  11.598522  ,   6.86868562,  10.81785669,\n",
       "            6.63457017,   6.17584726,   7.6981173 ,   8.5944358 ,\n",
       "           26.6942294 ],\n",
       "         [  8.45564279,  13.37067694,   1.56199856,   3.74442506,\n",
       "            9.31865206,  27.61119009,  10.26571595,  56.52446196,\n",
       "           22.63353256],\n",
       "         [543.25738018,  13.56427155,  20.3931229 ,  19.12880222,\n",
       "           31.11740375,   5.63219384,  11.79250211,  12.37112097,\n",
       "           38.81609513],\n",
       "         [ 16.91224592,   7.77527051,  55.99886749,  19.99344734,\n",
       "            3.81386874,  16.07387307,   3.6263789 ,  14.81914316,\n",
       "           47.82907349]], dtype=float64)},\n",
       " 'visible_bias': Array([ 0.76210499,  9.14479393, 16.28505187,  5.12001805,  2.97122484,\n",
       "        20.25250195,  4.19657663,  3.50300776,  5.78959885], dtype=float64)}"
      ]
     },
     "execution_count": 15,
     "metadata": {},
     "output_type": "execute_result"
    }
   ],
   "source": [
    "jax.tree_util.tree_map(lambda x,y: jnp.abs(x/y), force_fs, force_psi)"
   ]
  },
  {
   "cell_type": "code",
   "execution_count": null,
   "metadata": {},
   "outputs": [
    {
     "data": {
      "text/plain": [
       "{'Dense': {'bias': Array([0.88612486, 0.13404208, 0.99371087, 0.84443808, 0.31374175,\n",
       "         0.5260428 , 0.646892  , 0.59339698, 0.70365368], dtype=float64),\n",
       "  'kernel': Array([[24.2962961 ,  8.64068893, 15.49768011, 17.08338936, 10.67443608,\n",
       "           6.19249675,  4.83248955, 13.60913754,  2.91133851],\n",
       "         [23.74601295, 15.53804373, 17.24533432, 16.19886708,  8.9841118 ,\n",
       "           2.50129764,  9.14147717, 27.39917294, 31.73628948],\n",
       "         [ 8.83096568, 17.87887555, 12.14997468, 22.53397512,  6.36807376,\n",
       "          13.37405873,  3.47667187, 35.34127013, 43.8496282 ],\n",
       "         [ 8.17360671, 12.03829636,  3.6821588 , 14.69951997,  3.80583798,\n",
       "           8.56187697,  7.27511624, 11.03965761,  1.28822285],\n",
       "         [20.3140993 ,  8.07311876, 21.15403205,  5.9070311 , 29.27741423,\n",
       "           8.14823679, 16.81618266,  8.12369981, 19.69084503],\n",
       "         [14.38473771, 12.96873877,  7.66741867,  8.99278708,  7.43838629,\n",
       "          11.30984246, 27.4971089 ,  8.31011023,  8.82746784],\n",
       "         [ 8.92956817, 25.02186124,  2.15459126,  5.23131137, 12.97369661,\n",
       "          19.4465037 , 11.30514994,  8.47248684, 17.31008579],\n",
       "         [11.1425807 , 11.98693737, 18.08804644,  4.13910497, 45.90862368,\n",
       "           7.86551047, 58.974058  , 46.46204259, 17.01872029],\n",
       "         [15.38790747, 32.81850338, 18.48370788, 29.76227818,  1.85051328,\n",
       "           4.16736243,  3.30140728, 11.16948921, 32.03285348]],      dtype=float64)},\n",
       " 'visible_bias': Array([ 4.64274761,  8.47092191, 24.65390589, 34.75638032, 15.09948482,\n",
       "        17.63376058,  6.75214277, 27.90829683,  4.71733102], dtype=float64)}"
      ]
     },
     "execution_count": 16,
     "metadata": {},
     "output_type": "execute_result"
    }
   ],
   "source": [
    "jax.tree_util.tree_map(lambda x,y: jnp.abs(x/y), force_fs, force_hpsi)"
   ]
  }
 ],
 "metadata": {
  "kernelspec": {
   "display_name": "netket",
   "language": "python",
   "name": "netket"
  },
  "language_info": {
   "codemirror_mode": {
    "name": "ipython",
    "version": 3
   },
   "file_extension": ".py",
   "mimetype": "text/x-python",
   "name": "python",
   "nbconvert_exporter": "python",
   "pygments_lexer": "ipython3",
   "version": "3.11.2"
  }
 },
 "nbformat": 4,
 "nbformat_minor": 2
}
